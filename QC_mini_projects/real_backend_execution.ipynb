{
 "cells": [
  {
   "cell_type": "markdown",
   "metadata": {},
   "source": [
    "\n",
    "# Running circuits on quantum hardware: compiling circuits\n",
    "\n",
    "---\n",
    "\n",
    "\n",
    "\n",
    "\n",
    "\n",
    "\n"
   ]
  },
  {
   "cell_type": "code",
   "execution_count": 1,
   "metadata": {},
   "outputs": [],
   "source": [
    "from qiskit import IBMQ\n",
    "provider = IBMQ.load_account()"
   ]
  },
  {
   "cell_type": "markdown",
   "metadata": {},
   "source": [
    "The backends we have access to"
   ]
  },
  {
   "cell_type": "code",
   "execution_count": 2,
   "metadata": {},
   "outputs": [
    {
     "data": {
      "text/plain": [
       "[('ibmq_qasm_simulator', 32),\n",
       " ('ibmq_lima', 5),\n",
       " ('ibmq_belem', 5),\n",
       " ('ibmq_quito', 5),\n",
       " ('simulator_statevector', 32),\n",
       " ('simulator_mps', 100),\n",
       " ('simulator_extended_stabilizer', 63),\n",
       " ('simulator_stabilizer', 5000),\n",
       " ('ibmq_manila', 5),\n",
       " ('ibm_nairobi', 7),\n",
       " ('ibm_oslo', 7)]"
      ]
     },
     "execution_count": 2,
     "metadata": {},
     "output_type": "execute_result"
    }
   ],
   "source": [
    "[(b.name(), b.configuration().n_qubits) for b in provider.backends()]"
   ]
  },
  {
   "cell_type": "code",
   "execution_count": 3,
   "metadata": {},
   "outputs": [],
   "source": [
    "# If you have access to more than one hub:\n",
    "#provider = IBMQ.get_provider(\"ibm-q-internal\")                  \n",
    "#[(b.name(), b.configuration().n_qubits) for b in provider.backends()]"
   ]
  },
  {
   "cell_type": "code",
   "execution_count": 4,
   "metadata": {},
   "outputs": [],
   "source": [
    "# from qiskit.tools.jupyter import *\n",
    "# %qiskit_backend_overview\n",
    "# print()"
   ]
  },
  {
   "cell_type": "code",
   "execution_count": 3,
   "metadata": {},
   "outputs": [
    {
     "name": "stdout",
     "output_type": "stream",
     "text": [
      "ibm_nairobi\n"
     ]
    }
   ],
   "source": [
    "from qiskit.providers.ibmq import least_busy\n",
    "\n",
    "backend = least_busy(provider.backends(\n",
    "                simulator=False,\n",
    "                filters=lambda b: b.configuration().n_qubits >= 2))\n",
    "print(backend)"
   ]
  },
  {
   "cell_type": "markdown",
   "metadata": {},
   "source": [
    "Let's go back to Bell state"
   ]
  },
  {
   "cell_type": "code",
   "execution_count": 4,
   "metadata": {},
   "outputs": [
    {
     "data": {
      "text/html": [
       "<pre style=\"word-wrap: normal;white-space: pre;background: #fff0;line-height: 1.1;font-family: &quot;Courier New&quot;,Courier,monospace\">        ┌───┐      ░ ┌─┐   \n",
       "   q_0: ┤ H ├──■───░─┤M├───\n",
       "        └───┘┌─┴─┐ ░ └╥┘┌─┐\n",
       "   q_1: ─────┤ X ├─░──╫─┤M├\n",
       "             └───┘ ░  ║ └╥┘\n",
       "meas_0: ══════════════╩══╬═\n",
       "                         ║ \n",
       "meas_1: ═════════════════╩═\n",
       "                           </pre>"
      ],
      "text/plain": [
       "        ┌───┐      ░ ┌─┐   \n",
       "   q_0: ┤ H ├──■───░─┤M├───\n",
       "        └───┘┌─┴─┐ ░ └╥┘┌─┐\n",
       "   q_1: ─────┤ X ├─░──╫─┤M├\n",
       "             └───┘ ░  ║ └╥┘\n",
       "meas_0: ══════════════╩══╬═\n",
       "                         ║ \n",
       "meas_1: ═════════════════╩═\n",
       "                           "
      ]
     },
     "execution_count": 4,
     "metadata": {},
     "output_type": "execute_result"
    }
   ],
   "source": [
    "from qiskit import QuantumCircuit\n",
    "circuit = QuantumCircuit(2)\n",
    "circuit.h(0)\n",
    "circuit.cx(0, 1)\n",
    "circuit.measure_all()\n",
    "circuit.draw()"
   ]
  },
  {
   "cell_type": "markdown",
   "metadata": {},
   "source": [
    "Remember how to run it in a simulator?"
   ]
  },
  {
   "cell_type": "code",
   "execution_count": 5,
   "metadata": {},
   "outputs": [
    {
     "data": {
      "text/html": [
       "<pre style=\"word-wrap: normal;white-space: pre;background: #fff0;line-height: 1.1;font-family: &quot;Courier New&quot;,Courier,monospace\">global phase: π/4\n",
       "               ┌─────────┐┌────┐┌─────────┐      ░ ┌─┐   \n",
       "      q_0 -> 0 ┤ Rz(π/2) ├┤ √X ├┤ Rz(π/2) ├──■───░─┤M├───\n",
       "               └─────────┘└────┘└─────────┘┌─┴─┐ ░ └╥┘┌─┐\n",
       "      q_1 -> 1 ────────────────────────────┤ X ├─░──╫─┤M├\n",
       "                                           └───┘ ░  ║ └╥┘\n",
       "ancilla_0 -> 2 ─────────────────────────────────────╫──╫─\n",
       "                                                    ║  ║ \n",
       "ancilla_1 -> 3 ─────────────────────────────────────╫──╫─\n",
       "                                                    ║  ║ \n",
       "ancilla_2 -> 4 ─────────────────────────────────────╫──╫─\n",
       "                                                    ║  ║ \n",
       "ancilla_3 -> 5 ─────────────────────────────────────╫──╫─\n",
       "                                                    ║  ║ \n",
       "ancilla_4 -> 6 ─────────────────────────────────────╫──╫─\n",
       "                                                    ║  ║ \n",
       "       meas_0: ═════════════════════════════════════╩══╬═\n",
       "                                                       ║ \n",
       "       meas_1: ════════════════════════════════════════╩═\n",
       "                                                         </pre>"
      ],
      "text/plain": [
       "global phase: π/4\n",
       "               ┌─────────┐┌────┐┌─────────┐      ░ ┌─┐   \n",
       "      q_0 -> 0 ┤ Rz(π/2) ├┤ √X ├┤ Rz(π/2) ├──■───░─┤M├───\n",
       "               └─────────┘└────┘└─────────┘┌─┴─┐ ░ └╥┘┌─┐\n",
       "      q_1 -> 1 ────────────────────────────┤ X ├─░──╫─┤M├\n",
       "                                           └───┘ ░  ║ └╥┘\n",
       "ancilla_0 -> 2 ─────────────────────────────────────╫──╫─\n",
       "                                                    ║  ║ \n",
       "ancilla_1 -> 3 ─────────────────────────────────────╫──╫─\n",
       "                                                    ║  ║ \n",
       "ancilla_2 -> 4 ─────────────────────────────────────╫──╫─\n",
       "                                                    ║  ║ \n",
       "ancilla_3 -> 5 ─────────────────────────────────────╫──╫─\n",
       "                                                    ║  ║ \n",
       "ancilla_4 -> 6 ─────────────────────────────────────╫──╫─\n",
       "                                                    ║  ║ \n",
       "       meas_0: ═════════════════════════════════════╩══╬═\n",
       "                                                       ║ \n",
       "       meas_1: ════════════════════════════════════════╩═\n",
       "                                                         "
      ]
     },
     "execution_count": 5,
     "metadata": {},
     "output_type": "execute_result"
    }
   ],
   "source": [
    "from qiskit import transpile\n",
    "\n",
    "transpiled_circuit = transpile(circuit, backend)\n",
    "transpiled_circuit.draw()"
   ]
  },
  {
   "cell_type": "code",
   "execution_count": 6,
   "metadata": {},
   "outputs": [],
   "source": [
    "job = backend.run(transpiled_circuit)"
   ]
  },
  {
   "cell_type": "code",
   "execution_count": 7,
   "metadata": {},
   "outputs": [
    {
     "name": "stdout",
     "output_type": "stream",
     "text": [
      "JobStatus.QUEUED\n",
      "JobStatus.QUEUED\n",
      "JobStatus.QUEUED\n",
      "JobStatus.QUEUED\n",
      "JobStatus.QUEUED\n",
      "JobStatus.QUEUED\n",
      "JobStatus.QUEUED\n",
      "JobStatus.QUEUED\n",
      "JobStatus.QUEUED\n",
      "JobStatus.QUEUED\n",
      "JobStatus.QUEUED\n",
      "JobStatus.QUEUED\n",
      "JobStatus.QUEUED\n",
      "JobStatus.QUEUED\n",
      "JobStatus.QUEUED\n",
      "JobStatus.QUEUED\n",
      "JobStatus.QUEUED\n",
      "JobStatus.QUEUED\n",
      "JobStatus.QUEUED\n",
      "JobStatus.QUEUED\n",
      "JobStatus.QUEUED\n",
      "JobStatus.QUEUED\n",
      "JobStatus.QUEUED\n",
      "JobStatus.QUEUED\n",
      "JobStatus.QUEUED\n",
      "JobStatus.QUEUED\n",
      "JobStatus.QUEUED\n",
      "JobStatus.QUEUED\n",
      "JobStatus.QUEUED\n",
      "JobStatus.QUEUED\n",
      "JobStatus.QUEUED\n",
      "JobStatus.QUEUED\n",
      "JobStatus.QUEUED\n",
      "JobStatus.QUEUED\n",
      "JobStatus.QUEUED\n",
      "JobStatus.QUEUED\n",
      "JobStatus.QUEUED\n",
      "JobStatus.QUEUED\n",
      "JobStatus.QUEUED\n",
      "JobStatus.QUEUED\n",
      "JobStatus.QUEUED\n",
      "JobStatus.QUEUED\n",
      "JobStatus.QUEUED\n",
      "JobStatus.QUEUED\n",
      "JobStatus.QUEUED\n",
      "JobStatus.QUEUED\n",
      "JobStatus.QUEUED\n",
      "JobStatus.QUEUED\n",
      "JobStatus.QUEUED\n",
      "JobStatus.QUEUED\n",
      "JobStatus.QUEUED\n",
      "JobStatus.QUEUED\n",
      "JobStatus.QUEUED\n",
      "JobStatus.QUEUED\n",
      "JobStatus.QUEUED\n",
      "JobStatus.QUEUED\n",
      "JobStatus.QUEUED\n",
      "JobStatus.QUEUED\n",
      "JobStatus.QUEUED\n",
      "JobStatus.QUEUED\n",
      "JobStatus.QUEUED\n",
      "JobStatus.QUEUED\n",
      "JobStatus.QUEUED\n",
      "JobStatus.QUEUED\n",
      "JobStatus.QUEUED\n",
      "JobStatus.QUEUED\n",
      "JobStatus.QUEUED\n",
      "JobStatus.QUEUED\n",
      "JobStatus.QUEUED\n",
      "JobStatus.QUEUED\n",
      "JobStatus.QUEUED\n",
      "JobStatus.QUEUED\n",
      "JobStatus.QUEUED\n",
      "JobStatus.QUEUED\n",
      "JobStatus.QUEUED\n",
      "JobStatus.QUEUED\n",
      "JobStatus.QUEUED\n",
      "JobStatus.QUEUED\n",
      "JobStatus.QUEUED\n",
      "JobStatus.QUEUED\n",
      "JobStatus.QUEUED\n"
     ]
    }
   ],
   "source": [
    "from time import sleep\n",
    "\n",
    "while True:\n",
    "    sleep(5)\n",
    "    print(job.status())"
   ]
  },
  {
   "cell_type": "code",
   "execution_count": null,
   "metadata": {},
   "outputs": [
    {
     "data": {
      "image/png": "[encoded data removed]",
      "text/plain": [
       "<Figure size 700x500 with 1 Axes>"
      ]
     },
     "execution_count": 15,
     "metadata": {},
     "output_type": "execute_result"
    }
   ],
   "source": [
    "result = job.result()\n",
    "counts = result.get_counts()\n",
    "plot_histogram(counts)"
   ]
  },
  {
   "cell_type": "code",
   "execution_count": null,
   "metadata": {},
   "outputs": [
    {
     "data": {
      "text/html": [
       "<pre style=\"word-wrap: normal;white-space: pre;background: #fff0;line-height: 1.1;font-family: &quot;Courier New&quot;,Courier,monospace\">global phase: π/4\n",
       "         ┌─────────┐┌────┐┌─────────┐      ░ ┌─┐   \n",
       "q_0 -> 0 ┤ Rz(π/2) ├┤ √X ├┤ Rz(π/2) ├──■───░─┤M├───\n",
       "         └─────────┘└────┘└─────────┘┌─┴─┐ ░ └╥┘┌─┐\n",
       "q_1 -> 1 ────────────────────────────┤ X ├─░──╫─┤M├\n",
       "                                     └───┘ ░  ║ └╥┘\n",
       " meas_0: ═════════════════════════════════════╩══╬═\n",
       "                                                 ║ \n",
       " meas_1: ════════════════════════════════════════╩═\n",
       "                                                   </pre>"
      ],
      "text/plain": [
       "global phase: π/4\n",
       "         ┌─────────┐┌────┐┌─────────┐      ░ ┌─┐   \n",
       "q_0 -> 0 ┤ Rz(π/2) ├┤ √X ├┤ Rz(π/2) ├──■───░─┤M├───\n",
       "         └─────────┘└────┘└─────────┘┌─┴─┐ ░ └╥┘┌─┐\n",
       "q_1 -> 1 ────────────────────────────┤ X ├─░──╫─┤M├\n",
       "                                     └───┘ ░  ║ └╥┘\n",
       " meas_0: ═════════════════════════════════════╩══╬═\n",
       "                                                 ║ \n",
       " meas_1: ════════════════════════════════════════╩═\n",
       "                                                   "
      ]
     },
     "metadata": {},
     "output_type": "display_data"
    },
    {
     "data": {
      "image/png": "[encoded data removed]",
      "text/plain": [
       "<Figure size 500x500 with 1 Axes>"
      ]
     },
     "metadata": {},
     "output_type": "display_data"
    },
    {
     "data": {
      "image/png": "[encoded data removed]",
      "text/plain": [
       "<Figure size 500x500 with 1 Axes>"
      ]
     },
     "execution_count": 16,
     "metadata": {},
     "output_type": "execute_result"
    }
   ],
   "source": [
    "from qiskit.visualization import plot_circuit_layout, plot_gate_map\n",
    "\n",
    "display(transpiled_circuit.draw(idle_wires=False))\n",
    "display(plot_gate_map(backend))\n",
    "plot_circuit_layout(transpiled_circuit, backend)"
   ]
  },
  {
   "cell_type": "code",
   "execution_count": null,
   "metadata": {},
   "outputs": [
    {
     "data": {
      "text/html": [
       "<pre style=\"word-wrap: normal;white-space: pre;background: #fff0;line-height: 1.1;font-family: &quot;Courier New&quot;,Courier,monospace\">        ┌───┐     ┌───┐     ┌───┐ ░ ┌─┐      \n",
       "   q_0: ┤ H ├──■──┤ H ├──■──┤ H ├─░─┤M├──────\n",
       "        ├───┤  │  ├───┤┌─┴─┐├───┤ ░ └╥┘┌─┐   \n",
       "   q_1: ┤ H ├──■──┤ H ├┤ X ├┤ H ├─░──╫─┤M├───\n",
       "        ├───┤┌─┴─┐├───┤└─┬─┘├───┤ ░  ║ └╥┘┌─┐\n",
       "   q_2: ┤ H ├┤ X ├┤ H ├──■──┤ H ├─░──╫──╫─┤M├\n",
       "        └───┘└───┘└───┘     └───┘ ░  ║  ║ └╥┘\n",
       "meas_0: ═════════════════════════════╩══╬══╬═\n",
       "                                        ║  ║ \n",
       "meas_1: ════════════════════════════════╩══╬═\n",
       "                                           ║ \n",
       "meas_2: ═══════════════════════════════════╩═\n",
       "                                             </pre>"
      ],
      "text/plain": [
       "        ┌───┐     ┌───┐     ┌───┐ ░ ┌─┐      \n",
       "   q_0: ┤ H ├──■──┤ H ├──■──┤ H ├─░─┤M├──────\n",
       "        ├───┤  │  ├───┤┌─┴─┐├───┤ ░ └╥┘┌─┐   \n",
       "   q_1: ┤ H ├──■──┤ H ├┤ X ├┤ H ├─░──╫─┤M├───\n",
       "        ├───┤┌─┴─┐├───┤└─┬─┘├───┤ ░  ║ └╥┘┌─┐\n",
       "   q_2: ┤ H ├┤ X ├┤ H ├──■──┤ H ├─░──╫──╫─┤M├\n",
       "        └───┘└───┘└───┘     └───┘ ░  ║  ║ └╥┘\n",
       "meas_0: ═════════════════════════════╩══╬══╬═\n",
       "                                        ║  ║ \n",
       "meas_1: ════════════════════════════════╩══╬═\n",
       "                                           ║ \n",
       "meas_2: ═══════════════════════════════════╩═\n",
       "                                             "
      ]
     },
     "execution_count": 17,
     "metadata": {},
     "output_type": "execute_result"
    }
   ],
   "source": [
    "# a slightly more interesting example:\n",
    "circuit = QuantumCircuit(3)\n",
    "circuit.h([0,1,2])\n",
    "circuit.ccx(0, 1, 2)\n",
    "circuit.h([0,1,2])\n",
    "circuit.ccx(2, 0, 1)\n",
    "circuit.h([0,1,2])\n",
    "circuit.measure_all()\n",
    "circuit.draw()"
   ]
  },
  {
   "cell_type": "code",
   "execution_count": null,
   "metadata": {},
   "outputs": [
    {
     "data": {
      "text/html": [
       "<pre style=\"word-wrap: normal;white-space: pre;background: #fff0;line-height: 1.1;font-family: &quot;Courier New&quot;,Courier,monospace\">global phase: 3π/2\n",
       "                                                                                                                                                                                                                                                                                                                  ░          \n",
       "ancilla_0 -> 0 ───────────────────────────────────────────────────────────────────────────────────────────────────────────────────────────────────────────────────────────────────────────────────────────────────────────────────────────────────────────────────────────────────────────────────────────────────░──────────\n",
       "                                                                                                                                                                                                                                                                                                                  ░          \n",
       "ancilla_1 -> 1 ───────────────────────────────────────────────────────────────────────────────────────────────────────────────────────────────────────────────────────────────────────────────────────────────────────────────────────────────────────────────────────────────────────────────────────────────────░──────────\n",
       "               ┌─────────┐┌────┐┌─────────┐                                      ┌─────────┐                      ┌───┐                                                                                                                         ┌───┐     ┌───┐                                                   ░    ┌─┐   \n",
       "      q_1 -> 2 ┤ Rz(π/2) ├┤ √X ├┤ Rz(π/2) ├──■────────────────────────────────■──┤ Rz(π/4) ├───────────────────■──┤ X ├──■───────────────────────────────────────────────────────────────────────■────────────────────────────────■─────────────┤ X ├──■──┤ X ├───────────────────────────────────────────────────░────┤M├───\n",
       "               └─────────┘└────┘└─────────┘┌─┴─┐┌──────────┐┌───┐┌─────────┐┌─┴─┐├─────────┴┐┌───┐┌─────────┐┌─┴─┐└─┬─┘┌─┴─┐┌───┐┌──────────┐┌───┐                            ┌───┐┌──────────┐┌─┴─┐┌─────────┐┌───┐┌──────────┐┌─┴─┐┌─────────┐└─┬─┘┌─┴─┐└─┬─┘     ┌─────────┐      ┌─────────┐┌────┐┌─────────┐ ░    └╥┘┌─┐\n",
       "      q_2 -> 3 ────────────────────────────┤ X ├┤ Rz(-π/4) ├┤ X ├┤ Rz(π/4) ├┤ X ├┤ Rz(-π/4) ├┤ X ├┤ Rz(π/4) ├┤ X ├──■──┤ X ├┤ X ├┤ Rz(-π/4) ├┤ X ├────────────────────────────┤ X ├┤ Rz(-π/4) ├┤ X ├┤ Rz(π/4) ├┤ X ├┤ Rz(-π/4) ├┤ X ├┤ Rz(π/4) ├──■──┤ X ├──■────■──┤ Rz(π/4) ├───■──┤ Rz(π/2) ├┤ √X ├┤ Rz(π/2) ├─░─────╫─┤M├\n",
       "               ┌─────────┐┌────┐┌─────────┐└───┘└──────────┘└─┬─┘└─────────┘└───┘└──────────┘└─┬─┘└─────────┘└───┘     └───┘└─┬─┘├─────────┬┘└─┬─┘┌─────────┐┌────┐┌─────────┐└─┬─┘└──────────┘└───┘└─────────┘└─┬─┘├─────────┬┘└───┘└─────────┘     └───┘     ┌─┴─┐├─────────┴┐┌─┴─┐├─────────┤├────┤├─────────┤ ░ ┌─┐ ║ └╥┘\n",
       "      q_0 -> 4 ┤ Rz(π/2) ├┤ √X ├┤ Rz(π/2) ├───────────────────■────────────────────────────────■──────────────────────────────■──┤ Rz(π/4) ├───■──┤ Rz(π/2) ├┤ √X ├┤ Rz(π/2) ├──■────────────────────────────────■──┤ Rz(π/4) ├────────────────────────────────┤ X ├┤ Rz(-π/4) ├┤ X ├┤ Rz(π/2) ├┤ √X ├┤ Rz(π/2) ├─░─┤M├─╫──╫─\n",
       "               └─────────┘└────┘└─────────┘                                                                                      └─────────┘      └─────────┘└────┘└─────────┘                                      └─────────┘                                └───┘└──────────┘└───┘└─────────┘└────┘└─────────┘ ░ └╥┘ ║  ║ \n",
       "       meas_0: ══════════════════════════════════════════════════════════════════════════════════════════════════════════════════════════════════════════════════════════════════════════════════════════════════════════════════════════════════════════════════════════════════════════════════════════════════════╩══╬══╬═\n",
       "                                                                                                                                                                                                                                                                                                                        ║  ║ \n",
       "       meas_1: ═════════════════════════════════════════════════════════════════════════════════════════════════════════════════════════════════════════════════════════════════════════════════════════════════════════════════════════════════════════════════════════════════════════════════════════════════════════╩══╬═\n",
       "                                                                                                                                                                                                                                                                                                                           ║ \n",
       "       meas_2: ════════════════════════════════════════════════════════════════════════════════════════════════════════════════════════════════════════════════════════════════════════════════════════════════════════════════════════════════════════════════════════════════════════════════════════════════════════════╩═\n",
       "                                                                                                                                                                                                                                                                                                                             </pre>"
      ],
      "text/plain": [
       "global phase: 3π/2\n",
       "                                                                                                                                                                                                                                                                                                                  ░          \n",
       "ancilla_0 -> 0 ───────────────────────────────────────────────────────────────────────────────────────────────────────────────────────────────────────────────────────────────────────────────────────────────────────────────────────────────────────────────────────────────────────────────────────────────────░──────────\n",
       "                                                                                                                                                                                                                                                                                                                  ░          \n",
       "ancilla_1 -> 1 ───────────────────────────────────────────────────────────────────────────────────────────────────────────────────────────────────────────────────────────────────────────────────────────────────────────────────────────────────────────────────────────────────────────────────────────────────░──────────\n",
       "               ┌─────────┐┌────┐┌─────────┐                                      ┌─────────┐                      ┌───┐                                                                                                                         ┌───┐     ┌───┐                                                   ░    ┌─┐   \n",
       "      q_1 -> 2 ┤ Rz(π/2) ├┤ √X ├┤ Rz(π/2) ├──■────────────────────────────────■──┤ Rz(π/4) ├───────────────────■──┤ X ├──■───────────────────────────────────────────────────────────────────────■────────────────────────────────■─────────────┤ X ├──■──┤ X ├───────────────────────────────────────────────────░────┤M├───\n",
       "               └─────────┘└────┘└─────────┘┌─┴─┐┌──────────┐┌───┐┌─────────┐┌─┴─┐├─────────┴┐┌───┐┌─────────┐┌─┴─┐└─┬─┘┌─┴─┐┌───┐┌──────────┐┌───┐                            ┌───┐┌──────────┐┌─┴─┐┌─────────┐┌───┐┌──────────┐┌─┴─┐┌─────────┐└─┬─┘┌─┴─┐└─┬─┘     ┌─────────┐      ┌─────────┐┌────┐┌─────────┐ ░    └╥┘┌─┐\n",
       "      q_2 -> 3 ────────────────────────────┤ X ├┤ Rz(-π/4) ├┤ X ├┤ Rz(π/4) ├┤ X ├┤ Rz(-π/4) ├┤ X ├┤ Rz(π/4) ├┤ X ├──■──┤ X ├┤ X ├┤ Rz(-π/4) ├┤ X ├────────────────────────────┤ X ├┤ Rz(-π/4) ├┤ X ├┤ Rz(π/4) ├┤ X ├┤ Rz(-π/4) ├┤ X ├┤ Rz(π/4) ├──■──┤ X ├──■────■──┤ Rz(π/4) ├───■──┤ Rz(π/2) ├┤ √X ├┤ Rz(π/2) ├─░─────╫─┤M├\n",
       "               ┌─────────┐┌────┐┌─────────┐└───┘└──────────┘└─┬─┘└─────────┘└───┘└──────────┘└─┬─┘└─────────┘└───┘     └───┘└─┬─┘├─────────┬┘└─┬─┘┌─────────┐┌────┐┌─────────┐└─┬─┘└──────────┘└───┘└─────────┘└─┬─┘├─────────┬┘└───┘└─────────┘     └───┘     ┌─┴─┐├─────────┴┐┌─┴─┐├─────────┤├────┤├─────────┤ ░ ┌─┐ ║ └╥┘\n",
       "      q_0 -> 4 ┤ Rz(π/2) ├┤ √X ├┤ Rz(π/2) ├───────────────────■────────────────────────────────■──────────────────────────────■──┤ Rz(π/4) ├───■──┤ Rz(π/2) ├┤ √X ├┤ Rz(π/2) ├──■────────────────────────────────■──┤ Rz(π/4) ├────────────────────────────────┤ X ├┤ Rz(-π/4) ├┤ X ├┤ Rz(π/2) ├┤ √X ├┤ Rz(π/2) ├─░─┤M├─╫──╫─\n",
       "               └─────────┘└────┘└─────────┘                                                                                      └─────────┘      └─────────┘└────┘└─────────┘                                      └─────────┘                                └───┘└──────────┘└───┘└─────────┘└────┘└─────────┘ ░ └╥┘ ║  ║ \n",
       "       meas_0: ══════════════════════════════════════════════════════════════════════════════════════════════════════════════════════════════════════════════════════════════════════════════════════════════════════════════════════════════════════════════════════════════════════════════════════════════════════╩══╬══╬═\n",
       "                                                                                                                                                                                                                                                                                                                        ║  ║ \n",
       "       meas_1: ═════════════════════════════════════════════════════════════════════════════════════════════════════════════════════════════════════════════════════════════════════════════════════════════════════════════════════════════════════════════════════════════════════════════════════════════════════════╩══╬═\n",
       "                                                                                                                                                                                                                                                                                                                           ║ \n",
       "       meas_2: ════════════════════════════════════════════════════════════════════════════════════════════════════════════════════════════════════════════════════════════════════════════════════════════════════════════════════════════════════════════════════════════════════════════════════════════════════════════╩═\n",
       "                                                                                                                                                                                                                                                                                                                             "
      ]
     },
     "execution_count": 18,
     "metadata": {},
     "output_type": "execute_result"
    }
   ],
   "source": [
    "transpiled = transpile(circuit, backend)\n",
    "transpiled.draw(fold=-1)"
   ]
  },
  {
   "cell_type": "markdown",
   "metadata": {},
   "source": [
    "Initial layout"
   ]
  },
  {
   "cell_type": "code",
   "execution_count": null,
   "metadata": {},
   "outputs": [
    {
     "data": {
      "image/png": "[encoded data removed]",
      "text/plain": [
       "<Figure size 500x500 with 1 Axes>"
      ]
     },
     "metadata": {},
     "output_type": "display_data"
    },
    {
     "data": {
      "image/png": "[encoded data removed]",
      "text/plain": [
       "<Figure size 500x500 with 1 Axes>"
      ]
     },
     "execution_count": 19,
     "metadata": {},
     "output_type": "execute_result"
    }
   ],
   "source": [
    "transpiled = transpile(circuit, backend, initial_layout=[0, 2, 3])\n",
    "display(plot_circuit_layout(transpiled, backend))\n",
    "plot_gate_map(backend)"
   ]
  },
  {
   "cell_type": "code",
   "execution_count": null,
   "metadata": {},
   "outputs": [
    {
     "data": {
      "text/html": [
       "<pre style=\"word-wrap: normal;white-space: pre;background: #fff0;line-height: 1.1;font-family: &quot;Courier New&quot;,Courier,monospace\">global phase: 3π/2\n",
       "               ┌─────────┐┌────┐┌─────────┐        ┌───┐                                                                                                                                                                                                                                                                                                  ░          \n",
       "      q_0 -> 0 ┤ Rz(π/2) ├┤ √X ├┤ Rz(π/2) ├──■─────┤ X ├──────■───────────────────────────────────────────────────────────────────────────────────────────────────────────────────────────────────────────────────────────────────────────────────────────────────────────────────────────────────────────────────────────────────────────────────────────░──────────\n",
       "               └─────────┘└────┘└─────────┘┌─┴─┐   └─┬─┘    ┌─┴─┐     ┌───┐             ┌───┐        ┌───┐                      ┌───┐             ┌───┐   ┌──────────┐┌───┐                            ┌───┐┌──────────┐          ┌───┐┌─────────┐          ┌───┐┌──────────┐               ┌───┐┌─────────┐                                              ░    ┌─┐   \n",
       "ancilla_0 -> 1 ────────────────────────────┤ X ├─────■──────┤ X ├──■──┤ X ├──■──────────┤ X ├─────■──┤ X ├───────────────────■──┤ X ├──■──────────┤ X ├───┤ Rz(-π/4) ├┤ X ├────────────────────────────┤ X ├┤ Rz(-π/4) ├──────────┤ X ├┤ Rz(π/4) ├──────────┤ X ├┤ Rz(-π/4) ├───────────────┤ X ├┤ Rz(π/4) ├──────────────────────────────────────────────░────┤M├───\n",
       "               ┌─────────┐┌────┐┌─────────┐└───┘            └───┘┌─┴─┐└─┬─┘┌─┴─┐        └─┬─┘   ┌─┴─┐└─┬─┘     ┌─────────┐ ┌─┴─┐└─┬─┘┌─┴─┐        └─┬─┘   ├─────────┬┘└─┬─┘┌─────────┐┌────┐┌─────────┐└─┬─┘└──────────┘┌───┐     └─┬─┘└──┬───┬──┘     ┌───┐└─┬─┘├─────────┬┘     ┌───┐     └─┬─┘└─────────┘┌─────────┐      ┌─────────┐┌────┐┌─────────┐ ░    └╥┘┌─┐\n",
       "      q_1 -> 2 ┤ Rz(π/2) ├┤ √X ├┤ Rz(π/2) ├──■───────────────────┤ X ├──■──┤ X ├──■───────■─────┤ X ├──■────■──┤ Rz(π/4) ├─┤ X ├──■──┤ X ├──■───────■─────┤ Rz(π/4) ├───■──┤ Rz(π/2) ├┤ √X ├┤ Rz(π/2) ├──■───────■──────┤ X ├──■────■─────┤ X ├─────■──┤ X ├──■──┤ Rz(π/4) ├───■──┤ X ├──■────■───────■─────┤ Rz(π/4) ├───■──┤ Rz(π/2) ├┤ √X ├┤ Rz(π/2) ├─░─────╫─┤M├\n",
       "               └─────────┘└────┘└─────────┘┌─┴─┐┌──────────┐     └───┘     └───┘┌─┴─┐┌─────────┐└───┘     ┌─┴─┐├─────────┴┐└───┘     └───┘┌─┴─┐┌─────────┐└─────────┘      └─────────┘└────┘└─────────┘        ┌─┴─┐    └─┬─┘┌─┴─┐        └─┬─┘   ┌─┴─┐└─┬─┘     └─────────┘ ┌─┴─┐└─┬─┘┌─┴─┐        ┌─┴─┐   ├─────────┴┐┌─┴─┐├─────────┤├────┤├─────────┤ ░ ┌─┐ ║ └╥┘\n",
       "      q_2 -> 3 ────────────────────────────┤ X ├┤ Rz(-π/4) ├────────────────────┤ X ├┤ Rz(π/4) ├──────────┤ X ├┤ Rz(-π/4) ├───────────────┤ X ├┤ Rz(π/4) ├─────────────────────────────────────────────────────┤ X ├──────■──┤ X ├──────────■─────┤ X ├──■───────────────────┤ X ├──■──┤ X ├────────┤ X ├───┤ Rz(-π/4) ├┤ X ├┤ Rz(π/2) ├┤ √X ├┤ Rz(π/2) ├─░─┤M├─╫──╫─\n",
       "                                           └───┘└──────────┘                    └───┘└─────────┘          └───┘└──────────┘               └───┘└─────────┘                                                     └───┘         └───┘                └───┘                      └───┘     └───┘        └───┘   └──────────┘└───┘└─────────┘└────┘└─────────┘ ░ └╥┘ ║  ║ \n",
       "ancilla_1 -> 4 ───────────────────────────────────────────────────────────────────────────────────────────────────────────────────────────────────────────────────────────────────────────────────────────────────────────────────────────────────────────────────────────────────────────────────────────────────────────────────────────────────────────░──╫──╫──╫─\n",
       "                                                                                                                                                                                                                                                                                                                                                          ░  ║  ║  ║ \n",
       "       meas_0: ══════════════════════════════════════════════════════════════════════════════════════════════════════════════════════════════════════════════════════════════════════════════════════════════════════════════════════════════════════════════════════════════════════════════════════════════════════════════════════════════════════════════╩══╬══╬═\n",
       "                                                                                                                                                                                                                                                                                                                                                                ║  ║ \n",
       "       meas_1: ═════════════════════════════════════════════════════════════════════════════════════════════════════════════════════════════════════════════════════════════════════════════════════════════════════════════════════════════════════════════════════════════════════════════════════════════════════════════════════════════════════════════════╩══╬═\n",
       "                                                                                                                                                                                                                                                                                                                                                                   ║ \n",
       "       meas_2: ════════════════════════════════════════════════════════════════════════════════════════════════════════════════════════════════════════════════════════════════════════════════════════════════════════════════════════════════════════════════════════════════════════════════════════════════════════════════════════════════════════════════════╩═\n",
       "                                                                                                                                                                                                                                                                                                                                                                     </pre>"
      ],
      "text/plain": [
       "global phase: 3π/2\n",
       "               ┌─────────┐┌────┐┌─────────┐        ┌───┐                                                                                                                                                                                                                                                                                                  ░          \n",
       "      q_0 -> 0 ┤ Rz(π/2) ├┤ √X ├┤ Rz(π/2) ├──■─────┤ X ├──────■───────────────────────────────────────────────────────────────────────────────────────────────────────────────────────────────────────────────────────────────────────────────────────────────────────────────────────────────────────────────────────────────────────────────────────────░──────────\n",
       "               └─────────┘└────┘└─────────┘┌─┴─┐   └─┬─┘    ┌─┴─┐     ┌───┐             ┌───┐        ┌───┐                      ┌───┐             ┌───┐   ┌──────────┐┌───┐                            ┌───┐┌──────────┐          ┌───┐┌─────────┐          ┌───┐┌──────────┐               ┌───┐┌─────────┐                                              ░    ┌─┐   \n",
       "ancilla_0 -> 1 ────────────────────────────┤ X ├─────■──────┤ X ├──■──┤ X ├──■──────────┤ X ├─────■──┤ X ├───────────────────■──┤ X ├──■──────────┤ X ├───┤ Rz(-π/4) ├┤ X ├────────────────────────────┤ X ├┤ Rz(-π/4) ├──────────┤ X ├┤ Rz(π/4) ├──────────┤ X ├┤ Rz(-π/4) ├───────────────┤ X ├┤ Rz(π/4) ├──────────────────────────────────────────────░────┤M├───\n",
       "               ┌─────────┐┌────┐┌─────────┐└───┘            └───┘┌─┴─┐└─┬─┘┌─┴─┐        └─┬─┘   ┌─┴─┐└─┬─┘     ┌─────────┐ ┌─┴─┐└─┬─┘┌─┴─┐        └─┬─┘   ├─────────┬┘└─┬─┘┌─────────┐┌────┐┌─────────┐└─┬─┘└──────────┘┌───┐     └─┬─┘└──┬───┬──┘     ┌───┐└─┬─┘├─────────┬┘     ┌───┐     └─┬─┘└─────────┘┌─────────┐      ┌─────────┐┌────┐┌─────────┐ ░    └╥┘┌─┐\n",
       "      q_1 -> 2 ┤ Rz(π/2) ├┤ √X ├┤ Rz(π/2) ├──■───────────────────┤ X ├──■──┤ X ├──■───────■─────┤ X ├──■────■──┤ Rz(π/4) ├─┤ X ├──■──┤ X ├──■───────■─────┤ Rz(π/4) ├───■──┤ Rz(π/2) ├┤ √X ├┤ Rz(π/2) ├──■───────■──────┤ X ├──■────■─────┤ X ├─────■──┤ X ├──■──┤ Rz(π/4) ├───■──┤ X ├──■────■───────■─────┤ Rz(π/4) ├───■──┤ Rz(π/2) ├┤ √X ├┤ Rz(π/2) ├─░─────╫─┤M├\n",
       "               └─────────┘└────┘└─────────┘┌─┴─┐┌──────────┐     └───┘     └───┘┌─┴─┐┌─────────┐└───┘     ┌─┴─┐├─────────┴┐└───┘     └───┘┌─┴─┐┌─────────┐└─────────┘      └─────────┘└────┘└─────────┘        ┌─┴─┐    └─┬─┘┌─┴─┐        └─┬─┘   ┌─┴─┐└─┬─┘     └─────────┘ ┌─┴─┐└─┬─┘┌─┴─┐        ┌─┴─┐   ├─────────┴┐┌─┴─┐├─────────┤├────┤├─────────┤ ░ ┌─┐ ║ └╥┘\n",
       "      q_2 -> 3 ────────────────────────────┤ X ├┤ Rz(-π/4) ├────────────────────┤ X ├┤ Rz(π/4) ├──────────┤ X ├┤ Rz(-π/4) ├───────────────┤ X ├┤ Rz(π/4) ├─────────────────────────────────────────────────────┤ X ├──────■──┤ X ├──────────■─────┤ X ├──■───────────────────┤ X ├──■──┤ X ├────────┤ X ├───┤ Rz(-π/4) ├┤ X ├┤ Rz(π/2) ├┤ √X ├┤ Rz(π/2) ├─░─┤M├─╫──╫─\n",
       "                                           └───┘└──────────┘                    └───┘└─────────┘          └───┘└──────────┘               └───┘└─────────┘                                                     └───┘         └───┘                └───┘                      └───┘     └───┘        └───┘   └──────────┘└───┘└─────────┘└────┘└─────────┘ ░ └╥┘ ║  ║ \n",
       "ancilla_1 -> 4 ───────────────────────────────────────────────────────────────────────────────────────────────────────────────────────────────────────────────────────────────────────────────────────────────────────────────────────────────────────────────────────────────────────────────────────────────────────────────────────────────────────────░──╫──╫──╫─\n",
       "                                                                                                                                                                                                                                                                                                                                                          ░  ║  ║  ║ \n",
       "       meas_0: ══════════════════════════════════════════════════════════════════════════════════════════════════════════════════════════════════════════════════════════════════════════════════════════════════════════════════════════════════════════════════════════════════════════════════════════════════════════════════════════════════════════════╩══╬══╬═\n",
       "                                                                                                                                                                                                                                                                                                                                                                ║  ║ \n",
       "       meas_1: ═════════════════════════════════════════════════════════════════════════════════════════════════════════════════════════════════════════════════════════════════════════════════════════════════════════════════════════════════════════════════════════════════════════════════════════════════════════════════════════════════════════════════╩══╬═\n",
       "                                                                                                                                                                                                                                                                                                                                                                   ║ \n",
       "       meas_2: ════════════════════════════════════════════════════════════════════════════════════════════════════════════════════════════════════════════════════════════════════════════════════════════════════════════════════════════════════════════════════════════════════════════════════════════════════════════════════════════════════════════════════╩═\n",
       "                                                                                                                                                                                                                                                                                                                                                                     "
      ]
     },
     "execution_count": 20,
     "metadata": {},
     "output_type": "execute_result"
    }
   ],
   "source": [
    "transpiled.draw(fold=-1)"
   ]
  },
  {
   "cell_type": "markdown",
   "metadata": {},
   "source": [
    "### Optimization level\n",
    "\n",
    "Higher levels generate more optimized circuits, at the expense of longer transpilation time.\n",
    "\n",
    " * 0: no explicit optimization other than mapping to backend\n",
    " * 1: light optimization by simple adjacent gate collapsing.(default)\n",
    " * 2: medium optimization by noise adaptive qubit mapping and gate cancellation using commutativity rules.\n",
    " * 3: heavy optimization by noise adaptive qubit mapping and gate cancellation using commutativity rules and unitary synthesis."
   ]
  },
  {
   "cell_type": "code",
   "execution_count": null,
   "metadata": {},
   "outputs": [
    {
     "data": {
      "text/html": [
       "<pre style=\"word-wrap: normal;white-space: pre;background: #fff0;line-height: 1.1;font-family: &quot;Courier New&quot;,Courier,monospace\">        ┌───┐                ░ ┌─┐      \n",
       "   q_0: ┤ H ├──■─────────■───░─┤M├──────\n",
       "        └───┘┌─┴─┐       │   ░ └╥┘┌─┐   \n",
       "   q_1: ─────┤ X ├──■────┼───░──╫─┤M├───\n",
       "             └───┘┌─┴─┐┌─┴─┐ ░  ║ └╥┘┌─┐\n",
       "   q_2: ──────────┤ X ├┤ X ├─░──╫──╫─┤M├\n",
       "                  └───┘└───┘ ░  ║  ║ └╥┘\n",
       "meas_0: ════════════════════════╩══╬══╬═\n",
       "                                   ║  ║ \n",
       "meas_1: ═══════════════════════════╩══╬═\n",
       "                                      ║ \n",
       "meas_2: ══════════════════════════════╩═\n",
       "                                        </pre>"
      ],
      "text/plain": [
       "        ┌───┐                ░ ┌─┐      \n",
       "   q_0: ┤ H ├──■─────────■───░─┤M├──────\n",
       "        └───┘┌─┴─┐       │   ░ └╥┘┌─┐   \n",
       "   q_1: ─────┤ X ├──■────┼───░──╫─┤M├───\n",
       "             └───┘┌─┴─┐┌─┴─┐ ░  ║ └╥┘┌─┐\n",
       "   q_2: ──────────┤ X ├┤ X ├─░──╫──╫─┤M├\n",
       "                  └───┘└───┘ ░  ║  ║ └╥┘\n",
       "meas_0: ════════════════════════╩══╬══╬═\n",
       "                                   ║  ║ \n",
       "meas_1: ═══════════════════════════╩══╬═\n",
       "                                      ║ \n",
       "meas_2: ══════════════════════════════╩═\n",
       "                                        "
      ]
     },
     "execution_count": 21,
     "metadata": {},
     "output_type": "execute_result"
    }
   ],
   "source": [
    "circuit = QuantumCircuit(3)\n",
    "circuit.h(0)\n",
    "circuit.cx(0, 1)\n",
    "circuit.cx(1,2)\n",
    "circuit.cx(0,2)\n",
    "circuit.measure_all()\n",
    "circuit.draw()"
   ]
  },
  {
   "cell_type": "code",
   "execution_count": null,
   "metadata": {},
   "outputs": [],
   "source": [
    "level0 = transpile(circuit, backend, optimization_level=0)\n",
    "level1 = transpile(circuit, backend, optimization_level=1)\n",
    "level2 = transpile(circuit, backend, optimization_level=2)\n",
    "level3 = transpile(circuit, backend, optimization_level=3)"
   ]
  },
  {
   "cell_type": "code",
   "execution_count": null,
   "metadata": {},
   "outputs": [
    {
     "name": "stdout",
     "output_type": "stream",
     "text": [
      "6 10\n",
      "6 10\n",
      "4 8\n",
      "4 8\n"
     ]
    }
   ],
   "source": [
    "for level in [level0, level1, level2, level3]:\n",
    "    print(level.count_ops()['cx'], level.depth())"
   ]
  },
  {
   "cell_type": "markdown",
   "metadata": {},
   "source": [
    "Transpiling is a stochastic process"
   ]
  },
  {
   "cell_type": "code",
   "execution_count": null,
   "metadata": {},
   "outputs": [
    {
     "data": {
      "text/plain": [
       "10"
      ]
     },
     "execution_count": 24,
     "metadata": {},
     "output_type": "execute_result"
    }
   ],
   "source": [
    "transpiled = transpile(circuit, backend, optimization_level=2, seed_transpiler=0)\n",
    "transpiled.depth()"
   ]
  },
  {
   "cell_type": "code",
   "execution_count": null,
   "metadata": {},
   "outputs": [
    {
     "data": {
      "text/plain": [
       "8"
      ]
     },
     "execution_count": 25,
     "metadata": {},
     "output_type": "execute_result"
    }
   ],
   "source": [
    "transpiled = transpile(circuit, backend, optimization_level=2, seed_transpiler=1)\n",
    "transpiled.depth()"
   ]
  },
  {
   "cell_type": "markdown",
   "metadata": {},
   "source": [
    "Playing with other transpiler options (without a backend)"
   ]
  },
  {
   "cell_type": "code",
   "execution_count": null,
   "metadata": {},
   "outputs": [
    {
     "data": {
      "text/html": [
       "<pre style=\"word-wrap: normal;white-space: pre;background: #fff0;line-height: 1.1;font-family: &quot;Courier New&quot;,Courier,monospace\">        ┌───┐                ░ ┌─┐      \n",
       "   q_0: ┤ H ├──■─────────■───░─┤M├──────\n",
       "        └───┘┌─┴─┐       │   ░ └╥┘┌─┐   \n",
       "   q_1: ─────┤ X ├──■────┼───░──╫─┤M├───\n",
       "             └───┘┌─┴─┐┌─┴─┐ ░  ║ └╥┘┌─┐\n",
       "   q_2: ──────────┤ X ├┤ X ├─░──╫──╫─┤M├\n",
       "                  └───┘└───┘ ░  ║  ║ └╥┘\n",
       "meas_0: ════════════════════════╩══╬══╬═\n",
       "                                   ║  ║ \n",
       "meas_1: ═══════════════════════════╩══╬═\n",
       "                                      ║ \n",
       "meas_2: ══════════════════════════════╩═\n",
       "                                        </pre>"
      ],
      "text/plain": [
       "        ┌───┐                ░ ┌─┐      \n",
       "   q_0: ┤ H ├──■─────────■───░─┤M├──────\n",
       "        └───┘┌─┴─┐       │   ░ └╥┘┌─┐   \n",
       "   q_1: ─────┤ X ├──■────┼───░──╫─┤M├───\n",
       "             └───┘┌─┴─┐┌─┴─┐ ░  ║ └╥┘┌─┐\n",
       "   q_2: ──────────┤ X ├┤ X ├─░──╫──╫─┤M├\n",
       "                  └───┘└───┘ ░  ║  ║ └╥┘\n",
       "meas_0: ════════════════════════╩══╬══╬═\n",
       "                                   ║  ║ \n",
       "meas_1: ═══════════════════════════╩══╬═\n",
       "                                      ║ \n",
       "meas_2: ══════════════════════════════╩═\n",
       "                                        "
      ]
     },
     "execution_count": 26,
     "metadata": {},
     "output_type": "execute_result"
    }
   ],
   "source": [
    "transpiled = transpile(circuit)\n",
    "transpiled.draw(fold=-1)"
   ]
  },
  {
   "cell_type": "markdown",
   "metadata": {},
   "source": [
    "Set a basis gates"
   ]
  },
  {
   "cell_type": "code",
   "execution_count": null,
   "metadata": {},
   "outputs": [
    {
     "data": {
      "text/plain": [
       "['id', 'rz', 'sx', 'x', 'cx', 'reset']"
      ]
     },
     "execution_count": 27,
     "metadata": {},
     "output_type": "execute_result"
    }
   ],
   "source": [
    "backend.configuration().basis_gates"
   ]
  },
  {
   "cell_type": "code",
   "execution_count": null,
   "metadata": {},
   "outputs": [
    {
     "data": {
      "text/html": [
       "<pre style=\"word-wrap: normal;white-space: pre;background: #fff0;line-height: 1.1;font-family: &quot;Courier New&quot;,Courier,monospace\">        ┌───┐                ░ ┌─┐      \n",
       "   q_0: ┤ H ├──■─────────■───░─┤M├──────\n",
       "        └───┘┌─┴─┐       │   ░ └╥┘┌─┐   \n",
       "   q_1: ─────┤ X ├──■────┼───░──╫─┤M├───\n",
       "             └───┘┌─┴─┐┌─┴─┐ ░  ║ └╥┘┌─┐\n",
       "   q_2: ──────────┤ X ├┤ X ├─░──╫──╫─┤M├\n",
       "                  └───┘└───┘ ░  ║  ║ └╥┘\n",
       "meas_0: ════════════════════════╩══╬══╬═\n",
       "                                   ║  ║ \n",
       "meas_1: ═══════════════════════════╩══╬═\n",
       "                                      ║ \n",
       "meas_2: ══════════════════════════════╩═\n",
       "                                        </pre>"
      ],
      "text/plain": [
       "        ┌───┐                ░ ┌─┐      \n",
       "   q_0: ┤ H ├──■─────────■───░─┤M├──────\n",
       "        └───┘┌─┴─┐       │   ░ └╥┘┌─┐   \n",
       "   q_1: ─────┤ X ├──■────┼───░──╫─┤M├───\n",
       "             └───┘┌─┴─┐┌─┴─┐ ░  ║ └╥┘┌─┐\n",
       "   q_2: ──────────┤ X ├┤ X ├─░──╫──╫─┤M├\n",
       "                  └───┘└───┘ ░  ║  ║ └╥┘\n",
       "meas_0: ════════════════════════╩══╬══╬═\n",
       "                                   ║  ║ \n",
       "meas_1: ═══════════════════════════╩══╬═\n",
       "                                      ║ \n",
       "meas_2: ══════════════════════════════╩═\n",
       "                                        "
      ]
     },
     "execution_count": 28,
     "metadata": {},
     "output_type": "execute_result"
    }
   ],
   "source": [
    "transpiled = transpile(circuit, basis_gates=['x', 'cx', 'h', 'p'])\n",
    "transpiled.draw(fold=-1)"
   ]
  },
  {
   "cell_type": "markdown",
   "metadata": {},
   "source": [
    "Set a coupling map"
   ]
  },
  {
   "cell_type": "code",
   "execution_count": null,
   "metadata": {},
   "outputs": [
    {
     "data": {
      "text/plain": [
       "[[0, 1], [1, 0], [1, 2], [2, 1], [2, 3], [3, 2], [3, 4], [4, 3]]"
      ]
     },
     "execution_count": 29,
     "metadata": {},
     "output_type": "execute_result"
    }
   ],
   "source": [
    "backend.configuration().coupling_map"
   ]
  },
  {
   "cell_type": "code",
   "execution_count": null,
   "metadata": {},
   "outputs": [
    {
     "data": {
      "text/html": [
       "<pre style=\"word-wrap: normal;white-space: pre;background: #fff0;line-height: 1.1;font-family: &quot;Courier New&quot;,Courier,monospace\">         ┌───┐                   ░ ┌─┐      \n",
       "q_0 -> 0 ┤ H ├──■────────────■───░─┤M├──────\n",
       "         └───┘┌─┴─┐        ┌─┴─┐ ░ └╥┘   ┌─┐\n",
       "q_1 -> 1 ─────┤ X ├──■───X─┤ X ├─░──╫────┤M├\n",
       "              └───┘┌─┴─┐ │ └───┘ ░  ║ ┌─┐└╥┘\n",
       "q_2 -> 2 ──────────┤ X ├─X───────░──╫─┤M├─╫─\n",
       "                   └───┘         ░  ║ └╥┘ ║ \n",
       " meas_0: ═══════════════════════════╩══╬══╬═\n",
       "                                       ║  ║ \n",
       " meas_1: ══════════════════════════════╩══╬═\n",
       "                                          ║ \n",
       " meas_2: ═════════════════════════════════╩═\n",
       "                                            </pre>"
      ],
      "text/plain": [
       "         ┌───┐                   ░ ┌─┐      \n",
       "q_0 -> 0 ┤ H ├──■────────────■───░─┤M├──────\n",
       "         └───┘┌─┴─┐        ┌─┴─┐ ░ └╥┘   ┌─┐\n",
       "q_1 -> 1 ─────┤ X ├──■───X─┤ X ├─░──╫────┤M├\n",
       "              └───┘┌─┴─┐ │ └───┘ ░  ║ ┌─┐└╥┘\n",
       "q_2 -> 2 ──────────┤ X ├─X───────░──╫─┤M├─╫─\n",
       "                   └───┘         ░  ║ └╥┘ ║ \n",
       " meas_0: ═══════════════════════════╩══╬══╬═\n",
       "                                       ║  ║ \n",
       " meas_1: ══════════════════════════════╩══╬═\n",
       "                                          ║ \n",
       " meas_2: ═════════════════════════════════╩═\n",
       "                                            "
      ]
     },
     "execution_count": 30,
     "metadata": {},
     "output_type": "execute_result"
    }
   ],
   "source": [
    "from qiskit.transpiler import CouplingMap\n",
    "\n",
    "transpiled = transpile(circuit, coupling_map=CouplingMap([(0,1),(1,2)]))\n",
    "transpiled.draw(fold=-1)"
   ]
  },
  {
   "cell_type": "markdown",
   "metadata": {},
   "source": [
    "Set an initial layout in a coupling map"
   ]
  },
  {
   "cell_type": "code",
   "execution_count": null,
   "metadata": {},
   "outputs": [
    {
     "data": {
      "text/html": [
       "<pre style=\"word-wrap: normal;white-space: pre;background: #fff0;line-height: 1.1;font-family: &quot;Courier New&quot;,Courier,monospace\">         ┌───┐          ┌───┐                        ░    ┌─┐   \n",
       "q_1 -> 0 ┤ H ├───────■──┤ H ├─────■──────────────────░────┤M├───\n",
       "         ├───┤┌───┐┌─┴─┐├───┤   ┌─┴─┐┌───┐     ┌───┐ ░    └╥┘┌─┐\n",
       "q_0 -> 1 ┤ H ├┤ H ├┤ X ├┤ H ├─X─┤ X ├┤ H ├──■──┤ H ├─░─────╫─┤M├\n",
       "         └───┘└───┘└───┘└───┘ │ ├───┤└───┘┌─┴─┐├───┤ ░ ┌─┐ ║ └╥┘\n",
       "q_2 -> 2 ─────────────────────X─┤ H ├─────┤ X ├┤ H ├─░─┤M├─╫──╫─\n",
       "                                └───┘     └───┘└───┘ ░ └╥┘ ║  ║ \n",
       " meas_0: ═══════════════════════════════════════════════╩══╬══╬═\n",
       "                                                           ║  ║ \n",
       " meas_1: ══════════════════════════════════════════════════╩══╬═\n",
       "                                                              ║ \n",
       " meas_2: ═════════════════════════════════════════════════════╩═\n",
       "                                                                </pre>"
      ],
      "text/plain": [
       "         ┌───┐          ┌───┐                        ░    ┌─┐   \n",
       "q_1 -> 0 ┤ H ├───────■──┤ H ├─────■──────────────────░────┤M├───\n",
       "         ├───┤┌───┐┌─┴─┐├───┤   ┌─┴─┐┌───┐     ┌───┐ ░    └╥┘┌─┐\n",
       "q_0 -> 1 ┤ H ├┤ H ├┤ X ├┤ H ├─X─┤ X ├┤ H ├──■──┤ H ├─░─────╫─┤M├\n",
       "         └───┘└───┘└───┘└───┘ │ ├───┤└───┘┌─┴─┐├───┤ ░ ┌─┐ ║ └╥┘\n",
       "q_2 -> 2 ─────────────────────X─┤ H ├─────┤ X ├┤ H ├─░─┤M├─╫──╫─\n",
       "                                └───┘     └───┘└───┘ ░ └╥┘ ║  ║ \n",
       " meas_0: ═══════════════════════════════════════════════╩══╬══╬═\n",
       "                                                           ║  ║ \n",
       " meas_1: ══════════════════════════════════════════════════╩══╬═\n",
       "                                                              ║ \n",
       " meas_2: ═════════════════════════════════════════════════════╩═\n",
       "                                                                "
      ]
     },
     "execution_count": 31,
     "metadata": {},
     "output_type": "execute_result"
    }
   ],
   "source": [
    "transpiled = transpile(circuit,\n",
    "                       coupling_map=CouplingMap([(0,1),(1,2)]),\n",
    "                       initial_layout=[1, 0, 2])\n",
    "transpiled.draw(fold=-1)"
   ]
  },
  {
   "cell_type": "markdown",
   "metadata": {},
   "source": [
    "Set an initial_layout in the coupling map with basis gates"
   ]
  },
  {
   "cell_type": "code",
   "execution_count": null,
   "metadata": {},
   "outputs": [
    {
     "data": {
      "text/html": [
       "<pre style=\"word-wrap: normal;white-space: pre;background: #fff0;line-height: 1.1;font-family: &quot;Courier New&quot;,Courier,monospace\">         ┌───┐          ┌───┐                                              ░    ┌─┐   \n",
       "q_1 -> 0 ┤ H ├───────■──┤ H ├───────────────────────────■──────────────────░────┤M├───\n",
       "         ├───┤┌───┐┌─┴─┐├───┤     ┌───┐     ┌───┐     ┌─┴─┐┌───┐     ┌───┐ ░    └╥┘┌─┐\n",
       "q_0 -> 1 ┤ H ├┤ H ├┤ X ├┤ H ├──■──┤ H ├──■──┤ H ├──■──┤ X ├┤ H ├──■──┤ H ├─░─────╫─┤M├\n",
       "         └───┘└───┘└───┘└───┘┌─┴─┐├───┤┌─┴─┐├───┤┌─┴─┐├───┤└───┘┌─┴─┐├───┤ ░ ┌─┐ ║ └╥┘\n",
       "q_2 -> 2 ────────────────────┤ X ├┤ H ├┤ X ├┤ H ├┤ X ├┤ H ├─────┤ X ├┤ H ├─░─┤M├─╫──╫─\n",
       "                             └───┘└───┘└───┘└───┘└───┘└───┘     └───┘└───┘ ░ └╥┘ ║  ║ \n",
       " meas_0: ═════════════════════════════════════════════════════════════════════╩══╬══╬═\n",
       "                                                                                 ║  ║ \n",
       " meas_1: ════════════════════════════════════════════════════════════════════════╩══╬═\n",
       "                                                                                    ║ \n",
       " meas_2: ═══════════════════════════════════════════════════════════════════════════╩═\n",
       "                                                                                      </pre>"
      ],
      "text/plain": [
       "         ┌───┐          ┌───┐                                              ░    ┌─┐   \n",
       "q_1 -> 0 ┤ H ├───────■──┤ H ├───────────────────────────■──────────────────░────┤M├───\n",
       "         ├───┤┌───┐┌─┴─┐├───┤     ┌───┐     ┌───┐     ┌─┴─┐┌───┐     ┌───┐ ░    └╥┘┌─┐\n",
       "q_0 -> 1 ┤ H ├┤ H ├┤ X ├┤ H ├──■──┤ H ├──■──┤ H ├──■──┤ X ├┤ H ├──■──┤ H ├─░─────╫─┤M├\n",
       "         └───┘└───┘└───┘└───┘┌─┴─┐├───┤┌─┴─┐├───┤┌─┴─┐├───┤└───┘┌─┴─┐├───┤ ░ ┌─┐ ║ └╥┘\n",
       "q_2 -> 2 ────────────────────┤ X ├┤ H ├┤ X ├┤ H ├┤ X ├┤ H ├─────┤ X ├┤ H ├─░─┤M├─╫──╫─\n",
       "                             └───┘└───┘└───┘└───┘└───┘└───┘     └───┘└───┘ ░ └╥┘ ║  ║ \n",
       " meas_0: ═════════════════════════════════════════════════════════════════════╩══╬══╬═\n",
       "                                                                                 ║  ║ \n",
       " meas_1: ════════════════════════════════════════════════════════════════════════╩══╬═\n",
       "                                                                                    ║ \n",
       " meas_2: ═══════════════════════════════════════════════════════════════════════════╩═\n",
       "                                                                                      "
      ]
     },
     "execution_count": 32,
     "metadata": {},
     "output_type": "execute_result"
    }
   ],
   "source": [
    "transpiled = transpile(circuit,\n",
    "                       coupling_map=CouplingMap([(0,1),(1,2)]),\n",
    "                       initial_layout=[1, 0, 2],\n",
    "                       basis_gates=['x', 'cx', 'h', 'p']\n",
    "                      )\n",
    "transpiled.draw(fold=-1)"
   ]
  },
  {
   "cell_type": "code",
   "execution_count": null,
   "metadata": {},
   "outputs": [
    {
     "data": {
      "text/plain": [
       "6"
      ]
     },
     "execution_count": 33,
     "metadata": {},
     "output_type": "execute_result"
    }
   ],
   "source": [
    "transpiled.count_ops()['cx']"
   ]
  },
  {
   "cell_type": "markdown",
   "metadata": {},
   "source": [
    "Plus optimization level"
   ]
  },
  {
   "cell_type": "code",
   "execution_count": null,
   "metadata": {},
   "outputs": [
    {
     "data": {
      "text/html": [
       "<pre style=\"word-wrap: normal;white-space: pre;background: #fff0;line-height: 1.1;font-family: &quot;Courier New&quot;,Courier,monospace\">         ┌───┐     ┌───┐                                              ░    ┌─┐   \n",
       "q_1 -> 0 ┤ H ├──■──┤ H ├───────────────────────────■──────────────────░────┤M├───\n",
       "         └───┘┌─┴─┐├───┤     ┌───┐     ┌───┐     ┌─┴─┐┌───┐     ┌───┐ ░    └╥┘┌─┐\n",
       "q_0 -> 1 ─────┤ X ├┤ H ├──■──┤ H ├──■──┤ H ├──■──┤ X ├┤ H ├──■──┤ H ├─░─────╫─┤M├\n",
       "              └───┘└───┘┌─┴─┐├───┤┌─┴─┐├───┤┌─┴─┐├───┤└───┘┌─┴─┐├───┤ ░ ┌─┐ ║ └╥┘\n",
       "q_2 -> 2 ───────────────┤ X ├┤ H ├┤ X ├┤ H ├┤ X ├┤ H ├─────┤ X ├┤ H ├─░─┤M├─╫──╫─\n",
       "                        └───┘└───┘└───┘└───┘└───┘└───┘     └───┘└───┘ ░ └╥┘ ║  ║ \n",
       " meas_0: ════════════════════════════════════════════════════════════════╩══╬══╬═\n",
       "                                                                            ║  ║ \n",
       " meas_1: ═══════════════════════════════════════════════════════════════════╩══╬═\n",
       "                                                                               ║ \n",
       " meas_2: ══════════════════════════════════════════════════════════════════════╩═\n",
       "                                                                                 </pre>"
      ],
      "text/plain": [
       "         ┌───┐     ┌───┐                                              ░    ┌─┐   \n",
       "q_1 -> 0 ┤ H ├──■──┤ H ├───────────────────────────■──────────────────░────┤M├───\n",
       "         └───┘┌─┴─┐├───┤     ┌───┐     ┌───┐     ┌─┴─┐┌───┐     ┌───┐ ░    └╥┘┌─┐\n",
       "q_0 -> 1 ─────┤ X ├┤ H ├──■──┤ H ├──■──┤ H ├──■──┤ X ├┤ H ├──■──┤ H ├─░─────╫─┤M├\n",
       "              └───┘└───┘┌─┴─┐├───┤┌─┴─┐├───┤┌─┴─┐├───┤└───┘┌─┴─┐├───┤ ░ ┌─┐ ║ └╥┘\n",
       "q_2 -> 2 ───────────────┤ X ├┤ H ├┤ X ├┤ H ├┤ X ├┤ H ├─────┤ X ├┤ H ├─░─┤M├─╫──╫─\n",
       "                        └───┘└───┘└───┘└───┘└───┘└───┘     └───┘└───┘ ░ └╥┘ ║  ║ \n",
       " meas_0: ════════════════════════════════════════════════════════════════╩══╬══╬═\n",
       "                                                                            ║  ║ \n",
       " meas_1: ═══════════════════════════════════════════════════════════════════╩══╬═\n",
       "                                                                               ║ \n",
       " meas_2: ══════════════════════════════════════════════════════════════════════╩═\n",
       "                                                                                 "
      ]
     },
     "execution_count": 35,
     "metadata": {},
     "output_type": "execute_result"
    }
   ],
   "source": [
    "transpiled = transpile(circuit,\n",
    "                       coupling_map=CouplingMap([(0,1),(1,2)]),\n",
    "                       initial_layout=[1, 0, 2],\n",
    "                       basis_gates=['x', 'cx', 'h', 'p'],\n",
    "                       optimization_level=3\n",
    "                      )\n",
    "transpiled.draw(fold=-1)"
   ]
  },
  {
   "cell_type": "code",
   "execution_count": null,
   "metadata": {},
   "outputs": [
    {
     "data": {
      "text/plain": [
       "6"
      ]
     },
     "execution_count": 35,
     "metadata": {},
     "output_type": "execute_result"
    }
   ],
   "source": [
    "transpiled.count_ops()['cx']"
   ]
  },
  {
   "cell_type": "markdown",
   "metadata": {},
   "source": [
    "Last parameter, approximation degree"
   ]
  },
  {
   "cell_type": "code",
   "execution_count": null,
   "metadata": {},
   "outputs": [
    {
     "data": {
      "text/html": [
       "<pre style=\"word-wrap: normal;white-space: pre;background: #fff0;line-height: 1.1;font-family: &quot;Courier New&quot;,Courier,monospace\">         ┌───┐     ┌───┐                                              ░    ┌─┐   \n",
       "q_1 -> 0 ┤ H ├──■──┤ H ├───────────────────────────■──────────────────░────┤M├───\n",
       "         └───┘┌─┴─┐├───┤     ┌───┐     ┌───┐     ┌─┴─┐┌───┐     ┌───┐ ░    └╥┘┌─┐\n",
       "q_0 -> 1 ─────┤ X ├┤ H ├──■──┤ H ├──■──┤ H ├──■──┤ X ├┤ H ├──■──┤ H ├─░─────╫─┤M├\n",
       "              └───┘└───┘┌─┴─┐├───┤┌─┴─┐├───┤┌─┴─┐├───┤└───┘┌─┴─┐├───┤ ░ ┌─┐ ║ └╥┘\n",
       "q_2 -> 2 ───────────────┤ X ├┤ H ├┤ X ├┤ H ├┤ X ├┤ H ├─────┤ X ├┤ H ├─░─┤M├─╫──╫─\n",
       "                        └───┘└───┘└───┘└───┘└───┘└───┘     └───┘└───┘ ░ └╥┘ ║  ║ \n",
       " meas_0: ════════════════════════════════════════════════════════════════╩══╬══╬═\n",
       "                                                                            ║  ║ \n",
       " meas_1: ═══════════════════════════════════════════════════════════════════╩══╬═\n",
       "                                                                               ║ \n",
       " meas_2: ══════════════════════════════════════════════════════════════════════╩═\n",
       "                                                                                 </pre>"
      ],
      "text/plain": [
       "         ┌───┐     ┌───┐                                              ░    ┌─┐   \n",
       "q_1 -> 0 ┤ H ├──■──┤ H ├───────────────────────────■──────────────────░────┤M├───\n",
       "         └───┘┌─┴─┐├───┤     ┌───┐     ┌───┐     ┌─┴─┐┌───┐     ┌───┐ ░    └╥┘┌─┐\n",
       "q_0 -> 1 ─────┤ X ├┤ H ├──■──┤ H ├──■──┤ H ├──■──┤ X ├┤ H ├──■──┤ H ├─░─────╫─┤M├\n",
       "              └───┘└───┘┌─┴─┐├───┤┌─┴─┐├───┤┌─┴─┐├───┤└───┘┌─┴─┐├───┤ ░ ┌─┐ ║ └╥┘\n",
       "q_2 -> 2 ───────────────┤ X ├┤ H ├┤ X ├┤ H ├┤ X ├┤ H ├─────┤ X ├┤ H ├─░─┤M├─╫──╫─\n",
       "                        └───┘└───┘└───┘└───┘└───┘└───┘     └───┘└───┘ ░ └╥┘ ║  ║ \n",
       " meas_0: ════════════════════════════════════════════════════════════════╩══╬══╬═\n",
       "                                                                            ║  ║ \n",
       " meas_1: ═══════════════════════════════════════════════════════════════════╩══╬═\n",
       "                                                                               ║ \n",
       " meas_2: ══════════════════════════════════════════════════════════════════════╩═\n",
       "                                                                                 "
      ]
     },
     "execution_count": 36,
     "metadata": {},
     "output_type": "execute_result"
    }
   ],
   "source": [
    "transpiled = transpile(circuit,\n",
    "                       coupling_map=CouplingMap([(0,1),(1,2)]),\n",
    "                       initial_layout=[1, 0, 2],\n",
    "                       basis_gates=['x', 'cx', 'h', 'p'],\n",
    "                       approximation_degree=0.99,\n",
    "                       optimization_level=3\n",
    "                      )\n",
    "transpiled.draw(fold=-1)"
   ]
  },
  {
   "cell_type": "code",
   "execution_count": null,
   "metadata": {},
   "outputs": [
    {
     "data": {
      "text/plain": [
       "13"
      ]
     },
     "execution_count": 37,
     "metadata": {},
     "output_type": "execute_result"
    }
   ],
   "source": [
    "transpiled.depth()"
   ]
  },
  {
   "cell_type": "code",
   "execution_count": null,
   "metadata": {},
   "outputs": [
    {
     "data": {
      "text/html": [
       "<pre style=\"word-wrap: normal;white-space: pre;background: #fff0;line-height: 1.1;font-family: &quot;Courier New&quot;,Courier,monospace\">         ┌───┐     ┌───┐                                              ░    ┌─┐   \n",
       "q_1 -> 0 ┤ H ├──■──┤ H ├───────────────────────────■──────────────────░────┤M├───\n",
       "         └───┘┌─┴─┐├───┤     ┌───┐     ┌───┐     ┌─┴─┐┌───┐     ┌───┐ ░    └╥┘┌─┐\n",
       "q_0 -> 1 ─────┤ X ├┤ H ├──■──┤ H ├──■──┤ H ├──■──┤ X ├┤ H ├──■──┤ H ├─░─────╫─┤M├\n",
       "              └───┘└───┘┌─┴─┐├───┤┌─┴─┐├───┤┌─┴─┐├───┤└───┘┌─┴─┐├───┤ ░ ┌─┐ ║ └╥┘\n",
       "q_2 -> 2 ───────────────┤ X ├┤ H ├┤ X ├┤ H ├┤ X ├┤ H ├─────┤ X ├┤ H ├─░─┤M├─╫──╫─\n",
       "                        └───┘└───┘└───┘└───┘└───┘└───┘     └───┘└───┘ ░ └╥┘ ║  ║ \n",
       " meas_0: ════════════════════════════════════════════════════════════════╩══╬══╬═\n",
       "                                                                            ║  ║ \n",
       " meas_1: ═══════════════════════════════════════════════════════════════════╩══╬═\n",
       "                                                                               ║ \n",
       " meas_2: ══════════════════════════════════════════════════════════════════════╩═\n",
       "                                                                                 </pre>"
      ],
      "text/plain": [
       "         ┌───┐     ┌───┐                                              ░    ┌─┐   \n",
       "q_1 -> 0 ┤ H ├──■──┤ H ├───────────────────────────■──────────────────░────┤M├───\n",
       "         └───┘┌─┴─┐├───┤     ┌───┐     ┌───┐     ┌─┴─┐┌───┐     ┌───┐ ░    └╥┘┌─┐\n",
       "q_0 -> 1 ─────┤ X ├┤ H ├──■──┤ H ├──■──┤ H ├──■──┤ X ├┤ H ├──■──┤ H ├─░─────╫─┤M├\n",
       "              └───┘└───┘┌─┴─┐├───┤┌─┴─┐├───┤┌─┴─┐├───┤└───┘┌─┴─┐├───┤ ░ ┌─┐ ║ └╥┘\n",
       "q_2 -> 2 ───────────────┤ X ├┤ H ├┤ X ├┤ H ├┤ X ├┤ H ├─────┤ X ├┤ H ├─░─┤M├─╫──╫─\n",
       "                        └───┘└───┘└───┘└───┘└───┘└───┘     └───┘└───┘ ░ └╥┘ ║  ║ \n",
       " meas_0: ════════════════════════════════════════════════════════════════╩══╬══╬═\n",
       "                                                                            ║  ║ \n",
       " meas_1: ═══════════════════════════════════════════════════════════════════╩══╬═\n",
       "                                                                               ║ \n",
       " meas_2: ══════════════════════════════════════════════════════════════════════╩═\n",
       "                                                                                 "
      ]
     },
     "execution_count": 38,
     "metadata": {},
     "output_type": "execute_result"
    }
   ],
   "source": [
    "transpiled = transpile(circuit,\n",
    "                       coupling_map=CouplingMap([(0,1),(1,2)]),\n",
    "                       initial_layout=[1, 0, 2],\n",
    "                       basis_gates=['x', 'cx', 'h', 'p'],\n",
    "                       approximation_degree=0.01,\n",
    "                       optimization_level=3\n",
    "                      )\n",
    "transpiled.draw(fold=-1)"
   ]
  },
  {
   "cell_type": "code",
   "execution_count": null,
   "metadata": {},
   "outputs": [
    {
     "data": {
      "text/plain": [
       "13"
      ]
     },
     "execution_count": 39,
     "metadata": {},
     "output_type": "execute_result"
    }
   ],
   "source": [
    "transpiled.depth()"
   ]
  }
 ],
 "metadata": {
  "colab": {
   "collapsed_sections": [
    "7d_uf8JI12oJ",
    "Li9fj6uVzyFR",
    "9PBnSGwum9ZJ",
    "s0UwnaaJQkqa",
    "YqAqumfLri_P",
    "yWcE6S_Qp61P",
    "yhGcFXBa4aEM",
    "ZocPglAL6zRm",
    "58JawO_lFBGY",
    "iTzbCQzm67Uw",
    "EQ8dJq6v7NW-"
   ],
   "name": "Workshop.ipynb",
   "provenance": []
  },
  "kernelspec": {
   "display_name": "Python 3.10.7 64-bit",
   "language": "python",
   "name": "python3"
  },
  "language_info": {
   "codemirror_mode": {
    "name": "ipython",
    "version": 3
   },
   "file_extension": ".py",
   "mimetype": "text/x-python",
   "name": "python",
   "nbconvert_exporter": "python",
   "pygments_lexer": "ipython3",
   "version": "3.10.7"
  },
  "vscode": {
   "interpreter": {
    "hash": "31f2aee4e71d21fbe5cf8b01ff0e069b9275f58929596ceb00d14d90e3e16cd6"
   }
  },
  "widgets": {
   "application/vnd.jupyter.widget-state+json": {
    "state": {
     "00a399becd49431eb36bcd70e4083442": {
      "model_module": "@jupyter-widgets/controls",
      "model_module_version": "1.5.0",
      "model_name": "DescriptionStyleModel",
      "state": {
       "description_width": ""
      }
     },
     "00e3fce733cc48a8b6d82e702b3dee6e": {
      "model_module": "@jupyter-widgets/base",
      "model_module_version": "1.2.0",
      "model_name": "LayoutModel",
      "state": {
       "justify_content": "center",
       "max_width": "250px",
       "min_width": "250px"
      }
     },
     "010547c45ee5452ea763e2684d528ef2": {
      "model_module": "@jupyter-widgets/controls",
      "model_module_version": "1.5.0",
      "model_name": "HTMLModel",
      "state": {
       "layout": "IPY_MODEL_3c36bdce94be439fa3c1e6651562acd5",
       "style": "IPY_MODEL_94003f457d88409297a90134b2b62de1",
       "value": "<h5>66.0 / 90.1 us</h5>"
      }
     },
     "010f769e3fb748609c9c9c62dc68bf4c": {
      "model_module": "@jupyter-widgets/base",
      "model_module_version": "1.2.0",
      "model_name": "LayoutModel",
      "state": {}
     },
     "0147c12c59844cd8be24740209dcfbbd": {
      "model_module": "@jupyter-widgets/base",
      "model_module_version": "1.2.0",
      "model_name": "LayoutModel",
      "state": {}
     },
     "017150ca7c194549924f003b3335d891": {
      "model_module": "@jupyter-widgets/base",
      "model_module_version": "1.2.0",
      "model_name": "LayoutModel",
      "state": {
       "align_items": "center",
       "justify_content": "center",
       "margin": "0px 0px 0px 0px",
       "max_height": "250px",
       "max_width": "250px",
       "min_height": "250px",
       "min_width": "250px"
      }
     },
     "0175590e45f94a0f9f8502fd5df195d2": {
      "model_module": "@jupyter-widgets/controls",
      "model_module_version": "1.5.0",
      "model_name": "DescriptionStyleModel",
      "state": {
       "description_width": ""
      }
     },
     "018298f7ec6748a496de4388f30ac4d1": {
      "model_module": "@jupyter-widgets/base",
      "model_module_version": "1.2.0",
      "model_name": "LayoutModel",
      "state": {}
     },
     "01a0ab7938d54a69bf93d5de319e927a": {
      "model_module": "@jupyter-widgets/output",
      "model_module_version": "1.0.0",
      "model_name": "OutputModel",
      "state": {
       "layout": "IPY_MODEL_9250de62057646e8a27af5dbc4a64d48",
       "outputs": [
        {
         "data": {
          "image/png": "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\n",
          "text/plain": "<Figure size 360x360 with 1 Axes>"
         },
         "metadata": {},
         "output_type": "display_data"
        }
       ]
      }
     },
     "01b9d13ea6464c2d9380aa128f6e5f7c": {
      "model_module": "@jupyter-widgets/controls",
      "model_module_version": "1.5.0",
      "model_name": "HTMLModel",
      "state": {
       "layout": "IPY_MODEL_78645e2710cf4a429f43ae8d715d1ae9",
       "style": "IPY_MODEL_df90c0010fd844bea08d71dd6b4455b4",
       "value": "62a1b1bf6caa77a09f4ebbab"
      }
     },
     "0205d590569f4f918fa0ae2912834ea1": {
      "model_module": "@jupyter-widgets/base",
      "model_module_version": "1.2.0",
      "model_name": "LayoutModel",
      "state": {
       "align_items": "center",
       "display": "inline-flex",
       "flex_flow": "column"
      }
     },
     "0256bd2aed0f4ee2b32e6089c105009c": {
      "model_module": "@jupyter-widgets/controls",
      "model_module_version": "1.5.0",
      "model_name": "DescriptionStyleModel",
      "state": {
       "description_width": ""
      }
     },
     "026027fc66d14ce4ba5a9baa25d99747": {
      "model_module": "@jupyter-widgets/controls",
      "model_module_version": "1.5.0",
      "model_name": "DescriptionStyleModel",
      "state": {
       "description_width": ""
      }
     },
     "02aff6e1a12d4e3ca90be40b243ca08f": {
      "model_module": "@jupyter-widgets/controls",
      "model_module_version": "1.5.0",
      "model_name": "HTMLModel",
      "state": {
       "layout": "IPY_MODEL_d17b6fe439074198bcab11109f073d68",
       "style": "IPY_MODEL_318f7c4c6f4d4debbf4eb7f9993aef30",
       "value": "<h5>1</h5>"
      }
     },
     "03a7c51580a842e5926d6ebe746af4fe": {
      "model_module": "@jupyter-widgets/controls",
      "model_module_version": "1.5.0",
      "model_name": "DescriptionStyleModel",
      "state": {
       "description_width": ""
      }
     },
     "03c6755440564025a3236687df484526": {
      "model_module": "@jupyter-widgets/controls",
      "model_module_version": "1.5.0",
      "model_name": "LabelModel",
      "state": {
       "layout": "IPY_MODEL_2afffde264c24ee8bfe0920f7fed4899",
       "style": "IPY_MODEL_848b2d3ee57a4f23a9942b93c82f1113",
       "value": "230"
      }
     },
     "03cf9917df074906930692b42602fc1c": {
      "model_module": "@jupyter-widgets/base",
      "model_module_version": "1.2.0",
      "model_name": "LayoutModel",
      "state": {
       "max_height": "620px"
      }
     },
     "03f3c14c6dca4cfba9602727d01f93fa": {
      "model_module": "@jupyter-widgets/controls",
      "model_module_version": "1.5.0",
      "model_name": "DescriptionStyleModel",
      "state": {
       "description_width": ""
      }
     },
     "04293b1e066d42ea91db62fd7f3838a4": {
      "model_module": "@jupyter-widgets/controls",
      "model_module_version": "1.5.0",
      "model_name": "HTMLModel",
      "state": {
       "layout": "IPY_MODEL_2f968f99d02d488da38cc13fcb50fb9f",
       "style": "IPY_MODEL_19ae15ae389a4b999f40bbaaa8432728",
       "value": "job has successfully run"
      }
     },
     "049d92e1294545f186d95425341692e3": {
      "model_module": "@jupyter-widgets/controls",
      "model_module_version": "1.5.0",
      "model_name": "LabelModel",
      "state": {
       "layout": "IPY_MODEL_7ef7238cea1c40e5b962243c257bd372",
       "style": "IPY_MODEL_03f3c14c6dca4cfba9602727d01f93fa",
       "value": "50"
      }
     },
     "04e1ab9a049f4ff0b8e4508c7ae274d8": {
      "model_module": "@jupyter-widgets/controls",
      "model_module_version": "1.5.0",
      "model_name": "LabelModel",
      "state": {
       "layout": "IPY_MODEL_4cbd681423fa46318b5590ee18976119",
       "style": "IPY_MODEL_16bff1b91f2d4e9ca70b40ef671d3df6",
       "value": "1"
      }
     },
     "04fe330affcd48ad8d0c0c9d71001345": {
      "model_module": "@jupyter-widgets/controls",
      "model_module_version": "1.5.0",
      "model_name": "DescriptionStyleModel",
      "state": {
       "description_width": ""
      }
     },
     "050cb6edd92e47d891192d84cafb0d96": {
      "model_module": "@jupyter-widgets/base",
      "model_module_version": "1.2.0",
      "model_name": "LayoutModel",
      "state": {
       "align_items": "center",
       "display": "inline-flex",
       "flex_flow": "column"
      }
     },
     "05ad37b6c23f4410b831e3ab78d6dab4": {
      "model_module": "@jupyter-widgets/controls",
      "model_module_version": "1.5.0",
      "model_name": "VBoxModel",
      "state": {
       "children": [
        "IPY_MODEL_48b184f809c5423185578783fc4ea42f",
        "IPY_MODEL_805fa3897db24592adfbd1261c227b0d"
       ],
       "layout": "IPY_MODEL_d13da3864ef241cda4de959a43e03015"
      }
     },
     "05ae861b57e3432eaea248af7db45f1a": {
      "model_module": "@jupyter-widgets/controls",
      "model_module_version": "1.5.0",
      "model_name": "HTMLModel",
      "state": {
       "layout": "IPY_MODEL_0d46e2a562e54e7b85bffa24d1df5fbe",
       "style": "IPY_MODEL_a80218237354454fb656a45770e5c5b9",
       "value": "job incurred error"
      }
     },
     "060a17a5377d46018d484130c62a4c1b": {
      "model_module": "@jupyter-widgets/base",
      "model_module_version": "1.2.0",
      "model_name": "LayoutModel",
      "state": {
       "justify_content": "center"
      }
     },
     "061c1ad3007f42e1ad294924295e9ece": {
      "model_module": "@jupyter-widgets/controls",
      "model_module_version": "1.5.0",
      "model_name": "DescriptionStyleModel",
      "state": {
       "description_width": ""
      }
     },
     "069ec6d9370743ccb739b5c197fd3499": {
      "model_module": "@jupyter-widgets/controls",
      "model_module_version": "1.5.0",
      "model_name": "LabelModel",
      "state": {
       "layout": "IPY_MODEL_ff7f1e60a1c3476ca87514f48909edfc",
       "style": "IPY_MODEL_4f536482a8f4492f90a957cecb1e6505",
       "value": "12"
      }
     },
     "06f962612e1a4d9b88c0b7c5ffbbe9a8": {
      "model_module": "@jupyter-widgets/controls",
      "model_module_version": "1.5.0",
      "model_name": "HBoxModel",
      "state": {
       "children": [
        "IPY_MODEL_322f7be644d046308884e120565cab49",
        "IPY_MODEL_2e2593766b7f4fbca0d2acde6b73486d",
        "IPY_MODEL_9e7e3fa1f86241299bebf03404c2d844"
       ],
       "layout": "IPY_MODEL_725a39cef59e4b5b8c28f0a3d3524f30"
      }
     },
     "07723c951d5447a3b78621890ba827ab": {
      "model_module": "@jupyter-widgets/base",
      "model_module_version": "1.2.0",
      "model_name": "LayoutModel",
      "state": {
       "max_width": "180px"
      }
     },
     "07e75cb2dda047a5a574cf533d2068f3": {
      "model_module": "@jupyter-widgets/base",
      "model_module_version": "1.2.0",
      "model_name": "LayoutModel",
      "state": {}
     },
     "083cdae31eac4df388e8891d2e5a5954": {
      "model_module": "@jupyter-widgets/controls",
      "model_module_version": "1.5.0",
      "model_name": "HTMLModel",
      "state": {
       "layout": "IPY_MODEL_90879ea8dbb949e79ef7bfa8d3cc3b35",
       "style": "IPY_MODEL_25799e9534644a7a99b1aab81b51d9c0",
       "value": "<h5>92.5 / 127.1 us</h5>"
      }
     },
     "085f7f4b0e114c8c9e744bc20530f751": {
      "model_module": "@jupyter-widgets/base",
      "model_module_version": "1.2.0",
      "model_name": "LayoutModel",
      "state": {
       "width": "70px"
      }
     },
     "086d00da3a32466298fa47ab0f11cbd3": {
      "model_module": "@jupyter-widgets/base",
      "model_module_version": "1.2.0",
      "model_name": "LayoutModel",
      "state": {
       "justify_content": "center"
      }
     },
     "0881c85a5bf64c78bffe7a6630875d43": {
      "model_module": "@jupyter-widgets/base",
      "model_module_version": "1.2.0",
      "model_name": "LayoutModel",
      "state": {}
     },
     "090dcc65d1aa437b96621f0d0a610346": {
      "model_module": "@jupyter-widgets/base",
      "model_module_version": "1.2.0",
      "model_name": "LayoutModel",
      "state": {
       "justify_content": "center"
      }
     },
     "0986f85909974451a2790ad8436b7fb8": {
      "model_module": "@jupyter-widgets/controls",
      "model_module_version": "1.5.0",
      "model_name": "DescriptionStyleModel",
      "state": {
       "description_width": ""
      }
     },
     "098fabc6d9424b66a0534e464cea5453": {
      "model_module": "@jupyter-widgets/controls",
      "model_module_version": "1.5.0",
      "model_name": "DescriptionStyleModel",
      "state": {
       "description_width": ""
      }
     },
     "09a77e17b6fb41d4a1da3c89d12edc22": {
      "model_module": "@jupyter-widgets/base",
      "model_module_version": "1.2.0",
      "model_name": "LayoutModel",
      "state": {
       "max_width": "180px"
      }
     },
     "09b56c74a9694956bdaf7842959de63d": {
      "model_module": "@jupyter-widgets/controls",
      "model_module_version": "1.5.0",
      "model_name": "VBoxModel",
      "state": {
       "children": [
        "IPY_MODEL_cb351cd447a74c03b305679c4b2d8e51",
        "IPY_MODEL_ed231069f3454defa00f3fbb0afe226a",
        "IPY_MODEL_efa8c8797b194624a26c94874eefe99f",
        "IPY_MODEL_b004dd2e944d41d39902834468e0ea43",
        "IPY_MODEL_0bdd0291ddff422b8f55e2a34f80a28c",
        "IPY_MODEL_0f1f1c4293a940dab2de702cc860e609",
        "IPY_MODEL_20e9f9fb908b4f7c97b2196d784a6e54",
        "IPY_MODEL_083cdae31eac4df388e8891d2e5a5954",
        "IPY_MODEL_55a4e615fb5c467bb7d3010710d5df25",
        "IPY_MODEL_195a22b6527940baac2148983526b270"
       ],
       "layout": "IPY_MODEL_6b79d4bfb1ae44f58253e1c4e08abe71"
      }
     },
     "0a02016d75714d7ea66adf5b64e448f4": {
      "model_module": "@jupyter-widgets/base",
      "model_module_version": "1.2.0",
      "model_name": "LayoutModel",
      "state": {
       "grid_area": "top"
      }
     },
     "0a6dc39c3f9348d0bab8150a8c5965bf": {
      "model_module": "@jupyter-widgets/controls",
      "model_module_version": "1.5.0",
      "model_name": "DescriptionStyleModel",
      "state": {
       "description_width": ""
      }
     },
     "0b17eeffb15a4fd7824ac6aef8e308d5": {
      "model_module": "@jupyter-widgets/controls",
      "model_module_version": "1.5.0",
      "model_name": "LabelModel",
      "state": {
       "layout": "IPY_MODEL_13503a1a2f564c47bccedf1bcf333eca",
       "style": "IPY_MODEL_0ee084cda9d94664a4b3297e92cb5804",
       "value": "50"
      }
     },
     "0b1e86526490451b80a04269e7f44ae9": {
      "model_module": "@jupyter-widgets/controls",
      "model_module_version": "1.5.0",
      "model_name": "DescriptionStyleModel",
      "state": {
       "description_width": ""
      }
     },
     "0b2e0b1f29024b1db097eb37e7b16ca7": {
      "model_module": "@jupyter-widgets/base",
      "model_module_version": "1.2.0",
      "model_name": "LayoutModel",
      "state": {
       "justify_content": "center"
      }
     },
     "0b3623f5cf2e4136a11bbf42898cb91f": {
      "model_module": "@jupyter-widgets/base",
      "model_module_version": "1.2.0",
      "model_name": "LayoutModel",
      "state": {
       "align_items": "center",
       "display": "flex-inline"
      }
     },
     "0b3b86b9d5b744e5876712751466e705": {
      "model_module": "@jupyter-widgets/controls",
      "model_module_version": "1.5.0",
      "model_name": "DescriptionStyleModel",
      "state": {
       "description_width": ""
      }
     },
     "0b8f87af2fd0478989f8892641e747ab": {
      "model_module": "@jupyter-widgets/controls",
      "model_module_version": "1.5.0",
      "model_name": "DescriptionStyleModel",
      "state": {
       "description_width": ""
      }
     },
     "0ba098a9b69440369d6f0841b691234c": {
      "model_module": "@jupyter-widgets/controls",
      "model_module_version": "1.5.0",
      "model_name": "DescriptionStyleModel",
      "state": {
       "description_width": ""
      }
     },
     "0bdd0291ddff422b8f55e2a34f80a28c": {
      "model_module": "@jupyter-widgets/controls",
      "model_module_version": "1.5.0",
      "model_name": "HBoxModel",
      "state": {
       "children": [
        "IPY_MODEL_a1f25e1bdf2540fb9d66f3c729b65b28",
        "IPY_MODEL_70cebc1ec5934f5b9ea6ffaa56cca1a0",
        "IPY_MODEL_654ffc0f226346b69a7bd3889e09b401"
       ],
       "layout": "IPY_MODEL_a8ea65be1d5c46cab55957eb83666149"
      }
     },
     "0be189bbdd7043138ae6dce2c80c2ad3": {
      "model_module": "@jupyter-widgets/base",
      "model_module_version": "1.2.0",
      "model_name": "LayoutModel",
      "state": {
       "max_width": "180px"
      }
     },
     "0beb6d5bb3964922873b13f14d9e66d4": {
      "model_module": "@jupyter-widgets/base",
      "model_module_version": "1.2.0",
      "model_name": "LayoutModel",
      "state": {
       "align_items": "center",
       "justify_content": "center",
       "margin": "0px 0px 0px 0px",
       "max_height": "250px",
       "max_width": "250px",
       "min_height": "250px",
       "min_width": "250px"
      }
     },
     "0c18b4669a8d47e2ab6b9fe0f34a402e": {
      "model_module": "@jupyter-widgets/base",
      "model_module_version": "1.2.0",
      "model_name": "LayoutModel",
      "state": {
       "min_width": "auto"
      }
     },
     "0c6bbe6eb0824c10855da1ca53664f6c": {
      "model_module": "@jupyter-widgets/base",
      "model_module_version": "1.2.0",
      "model_name": "LayoutModel",
      "state": {
       "overflow_x": "scroll"
      }
     },
     "0c79c74c8f4f4598b0264d4da067f170": {
      "model_module": "@jupyter-widgets/controls",
      "model_module_version": "1.5.0",
      "model_name": "DescriptionStyleModel",
      "state": {
       "description_width": ""
      }
     },
     "0cc8ae73c387483ba05db4dba15ccd98": {
      "model_module": "@jupyter-widgets/controls",
      "model_module_version": "1.5.0",
      "model_name": "DescriptionStyleModel",
      "state": {
       "description_width": ""
      }
     },
     "0d39c6fdc1d7448fb8fb2f864f6c588e": {
      "model_module": "@jupyter-widgets/controls",
      "model_module_version": "1.5.0",
      "model_name": "DescriptionStyleModel",
      "state": {
       "description_width": ""
      }
     },
     "0d46e2a562e54e7b85bffa24d1df5fbe": {
      "model_module": "@jupyter-widgets/base",
      "model_module_version": "1.2.0",
      "model_name": "LayoutModel",
      "state": {
       "overflow_x": "scroll"
      }
     },
     "0d4cd2e2578b48a683d54d1d0ea3722e": {
      "model_module": "@jupyter-widgets/controls",
      "model_module_version": "1.5.0",
      "model_name": "LabelModel",
      "state": {
       "layout": "IPY_MODEL_ada56718db4b454fa3117398e597f965",
       "style": "IPY_MODEL_5aa6f7e038d743e39566e29684c81c03",
       "value": "Pending Jobs"
      }
     },
     "0d52fb2d7ef04f6ebe46f24c34fe5642": {
      "model_module": "@jupyter-widgets/controls",
      "model_module_version": "1.5.0",
      "model_name": "DescriptionStyleModel",
      "state": {
       "description_width": ""
      }
     },
     "0d596ef80549441599716d306e789c67": {
      "model_module": "@jupyter-widgets/controls",
      "model_module_version": "1.5.0",
      "model_name": "HTMLModel",
      "state": {
       "layout": "IPY_MODEL_92877ddf0f234e83a5249beb7852e960",
       "style": "IPY_MODEL_ae3c053c2f7f43229a32d9a530ce519c",
       "value": "<h4>ibmq_quito</h4>"
      }
     },
     "0d745c1b700d434b88d10bf263c36259": {
      "model_module": "@jupyter-widgets/controls",
      "model_module_version": "1.5.0",
      "model_name": "GridBoxModel",
      "state": {
       "children": [
        "IPY_MODEL_8ef94de4e1fc4f258186250a446960ec",
        "IPY_MODEL_60ef035220754eac86341905cb081712",
        "IPY_MODEL_32e94fb350934b24b7b3c10ac6cf3f4f"
       ],
       "layout": "IPY_MODEL_586064c8c8b148fdb0dc9ad2cf74893c"
      }
     },
     "0d92b4efa66244f18c761b683a0efcc8": {
      "model_module": "@jupyter-widgets/controls",
      "model_module_version": "1.5.0",
      "model_name": "DescriptionStyleModel",
      "state": {
       "description_width": ""
      }
     },
     "0d9ffab12cc549c8a17b4452497d597a": {
      "model_module": "@jupyter-widgets/base",
      "model_module_version": "1.2.0",
      "model_name": "LayoutModel",
      "state": {
       "justify_content": "center"
      }
     },
     "0dd88a1526ae4c67875660d781469d62": {
      "model_module": "@jupyter-widgets/controls",
      "model_module_version": "1.5.0",
      "model_name": "LabelModel",
      "state": {
       "layout": "IPY_MODEL_6137abd4f2944606abd29b70e7b0bd08",
       "style": "IPY_MODEL_4aed05607d224f95a0701e995eba56d3",
       "value": "Avg. Meas. Err."
      }
     },
     "0e2183b320bd4ed9959272f9d5ff4467": {
      "model_module": "@jupyter-widgets/controls",
      "model_module_version": "1.5.0",
      "model_name": "IntProgressModel",
      "state": {
       "layout": "IPY_MODEL_95c4675ecad8406fba42bb38ee8b17a5",
       "max": 50,
       "style": "IPY_MODEL_18f0353bca324d87bb22c523822eb206"
      }
     },
     "0e42b43ebef2430f8b8e0d818cbcde34": {
      "model_module": "@jupyter-widgets/controls",
      "model_module_version": "1.5.0",
      "model_name": "HBoxModel",
      "state": {
       "children": [
        "IPY_MODEL_03c6755440564025a3236687df484526",
        "IPY_MODEL_1dec9c589dd9408d8d7c879563ec7f44",
        "IPY_MODEL_dd4e5783053949fe9c766df45abb142d"
       ],
       "layout": "IPY_MODEL_514dcff51e464a27b3139cdbe371c3f8"
      }
     },
     "0e933799d4124589a2480c30067f299d": {
      "model_module": "@jupyter-widgets/controls",
      "model_module_version": "1.5.0",
      "model_name": "DescriptionStyleModel",
      "state": {
       "description_width": ""
      }
     },
     "0ea93cbe33be4ae5bca6ce635056c9d9": {
      "model_module": "@jupyter-widgets/controls",
      "model_module_version": "1.5.0",
      "model_name": "TabModel",
      "state": {
       "layout": "IPY_MODEL_03cf9917df074906930692b42602fc1c"
      }
     },
     "0ee084cda9d94664a4b3297e92cb5804": {
      "model_module": "@jupyter-widgets/controls",
      "model_module_version": "1.5.0",
      "model_name": "DescriptionStyleModel",
      "state": {
       "description_width": ""
      }
     },
     "0ef11122bb164ddcb4ded86498cfe0e2": {
      "model_module": "@jupyter-widgets/controls",
      "model_module_version": "1.5.0",
      "model_name": "DescriptionStyleModel",
      "state": {
       "description_width": ""
      }
     },
     "0ef1c10381744ee0a6b5e307404c64ba": {
      "model_module": "@jupyter-widgets/controls",
      "model_module_version": "1.5.0",
      "model_name": "DescriptionStyleModel",
      "state": {
       "description_width": ""
      }
     },
     "0f01677465d6478a9daa713949c55872": {
      "model_module": "@jupyter-widgets/controls",
      "model_module_version": "1.5.0",
      "model_name": "DescriptionStyleModel",
      "state": {
       "description_width": ""
      }
     },
     "0f1f1c4293a940dab2de702cc860e609": {
      "model_module": "@jupyter-widgets/controls",
      "model_module_version": "1.5.0",
      "model_name": "HTMLModel",
      "state": {
       "layout": "IPY_MODEL_d5634c2790674b5782e9f483761add2c",
       "style": "IPY_MODEL_e1c582ed192245558b4977adcc9064bd",
       "value": "<h5 style='color:#34bc6e'>True</h5>"
      }
     },
     "0f479f87cad4403aaf09a17cc2358d02": {
      "model_module": "@jupyter-widgets/base",
      "model_module_version": "1.2.0",
      "model_name": "LayoutModel",
      "state": {}
     },
     "0f590fffb2324710a7b19030736d9843": {
      "model_module": "@jupyter-widgets/base",
      "model_module_version": "1.2.0",
      "model_name": "LayoutModel",
      "state": {
       "align_items": "center",
       "display": "inline-flex",
       "flex_flow": "column"
      }
     },
     "0f5c29606ce74448937c21604c512708": {
      "model_module": "@jupyter-widgets/controls",
      "model_module_version": "1.5.0",
      "model_name": "DescriptionStyleModel",
      "state": {
       "description_width": ""
      }
     },
     "0f91736a842a449185ba53d54cac4cf2": {
      "model_module": "@jupyter-widgets/controls",
      "model_module_version": "1.5.0",
      "model_name": "DescriptionStyleModel",
      "state": {
       "description_width": ""
      }
     },
     "0fb5c183c7914026b4f574c32e942d5c": {
      "model_module": "@jupyter-widgets/controls",
      "model_module_version": "1.5.0",
      "model_name": "HTMLModel",
      "state": {
       "layout": "IPY_MODEL_c258b5ff02d843c9afe5ced15cb29554",
       "style": "IPY_MODEL_0b3b86b9d5b744e5876712751466e705",
       "value": "<h5>178.8 / 273.2 us</h5>"
      }
     },
     "0fb916d21cc940f890c8a3c6a1399e72": {
      "model_module": "@jupyter-widgets/base",
      "model_module_version": "1.2.0",
      "model_name": "LayoutModel",
      "state": {
       "align_items": "center",
       "justify_content": "center",
       "margin": "0px 0px 0px 0px",
       "max_height": "250px",
       "max_width": "250px",
       "min_height": "250px",
       "min_width": "250px"
      }
     },
     "0fcd8fdac8bd4a229a4f69bf9c2da0e5": {
      "model_module": "@jupyter-widgets/base",
      "model_module_version": "1.2.0",
      "model_name": "LayoutModel",
      "state": {
       "width": "70px"
      }
     },
     "103638e0f45243108b85728f9de92db1": {
      "model_module": "@jupyter-widgets/controls",
      "model_module_version": "1.5.0",
      "model_name": "HTMLModel",
      "state": {
       "layout": "IPY_MODEL_fc88a80f2eca4dbe9a0c7da0ee79370c",
       "style": "IPY_MODEL_6c151a8322664212b1e5ab9e67173ca7",
       "value": "<h5 style='color:#dc267f'>False</h5>"
      }
     },
     "1036e98564c4413ca9354f46ce865e9a": {
      "model_module": "@jupyter-widgets/controls",
      "model_module_version": "1.5.0",
      "model_name": "DescriptionStyleModel",
      "state": {
       "description_width": ""
      }
     },
     "1046249335fa42db87135c915f667905": {
      "model_module": "@jupyter-widgets/base",
      "model_module_version": "1.2.0",
      "model_name": "LayoutModel",
      "state": {
       "justify_content": "center"
      }
     },
     "106ec722481d4c358a0c80ef7e433e0c": {
      "model_module": "@jupyter-widgets/controls",
      "model_module_version": "1.5.0",
      "model_name": "VBoxModel",
      "state": {
       "children": [
        "IPY_MODEL_805809b3cd694e6e95d00faf39e0320d",
        "IPY_MODEL_674a838ea8734ff992e063bfc4c798dd"
       ],
       "layout": "IPY_MODEL_d4b0b942a0bb4a41a82b6e70a7c660a3"
      }
     },
     "108be37e85a64886bc8fa77589aefc9f": {
      "model_module": "@jupyter-widgets/controls",
      "model_module_version": "1.5.0",
      "model_name": "DescriptionStyleModel",
      "state": {
       "description_width": ""
      }
     },
     "10a3aa0f59954c76a0107a9abd0a7b86": {
      "model_module": "@jupyter-widgets/controls",
      "model_module_version": "1.5.0",
      "model_name": "ProgressStyleModel",
      "state": {
       "bar_color": "#71cddd",
       "description_width": ""
      }
     },
     "110e6c81abe7443db8cbcfb6a9763f4b": {
      "model_module": "@jupyter-widgets/controls",
      "model_module_version": "1.5.0",
      "model_name": "DescriptionStyleModel",
      "state": {
       "description_width": ""
      }
     },
     "110f7266012340cab0a30b4048b648ec": {
      "model_module": "@jupyter-widgets/base",
      "model_module_version": "1.2.0",
      "model_name": "LayoutModel",
      "state": {
       "min_width": "auto"
      }
     },
     "11a714ff601b46f9a56de5a0db9145fe": {
      "model_module": "@jupyter-widgets/base",
      "model_module_version": "1.2.0",
      "model_name": "LayoutModel",
      "state": {}
     },
     "11b7b5dd6edb4e0cb292b8fbd2318eef": {
      "model_module": "@jupyter-widgets/base",
      "model_module_version": "1.2.0",
      "model_name": "LayoutModel",
      "state": {
       "justify_content": "center"
      }
     },
     "11d3d83e97fc420eb69a8ef28cf588e3": {
      "model_module": "@jupyter-widgets/output",
      "model_module_version": "1.0.0",
      "model_name": "OutputModel",
      "state": {
       "layout": "IPY_MODEL_ac764eb94b8545a3b234aeee3455795e",
       "outputs": [
        {
         "data": {
          "image/png": "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\n",
          "text/plain": "<Figure size 360x360 with 1 Axes>"
         },
         "metadata": {},
         "output_type": "display_data"
        }
       ]
      }
     },
     "126607ecb4f643229db5368fd5e800d0": {
      "model_module": "@jupyter-widgets/base",
      "model_module_version": "1.2.0",
      "model_name": "LayoutModel",
      "state": {
       "width": "95px"
      }
     },
     "1288950027854af6b7c078d1d9e5f76c": {
      "model_module": "@jupyter-widgets/base",
      "model_module_version": "1.2.0",
      "model_name": "LayoutModel",
      "state": {}
     },
     "129708e767434f83ba419905064b7ace": {
      "model_module": "@jupyter-widgets/controls",
      "model_module_version": "1.5.0",
      "model_name": "DescriptionStyleModel",
      "state": {
       "description_width": ""
      }
     },
     "12c905e4dc464e9b9bb2e7a11a92cba7": {
      "model_module": "@jupyter-widgets/controls",
      "model_module_version": "1.5.0",
      "model_name": "DescriptionStyleModel",
      "state": {
       "description_width": ""
      }
     },
     "12dc120ab809453b8092544defd8c4c8": {
      "model_module": "@jupyter-widgets/controls",
      "model_module_version": "1.5.0",
      "model_name": "DescriptionStyleModel",
      "state": {
       "description_width": ""
      }
     },
     "13503a1a2f564c47bccedf1bcf333eca": {
      "model_module": "@jupyter-widgets/base",
      "model_module_version": "1.2.0",
      "model_name": "LayoutModel",
      "state": {
       "min_width": "auto"
      }
     },
     "1372f50fee1b449aaf3bbdd146ed42e0": {
      "model_module": "@jupyter-widgets/controls",
      "model_module_version": "1.5.0",
      "model_name": "HBoxModel",
      "state": {
       "children": [
        "IPY_MODEL_fc24127e631b4085915ff5ec46e9d126",
        "IPY_MODEL_dd2e46bd71e742b3ad800b21ef1c3351",
        "IPY_MODEL_049d92e1294545f186d95425341692e3"
       ],
       "layout": "IPY_MODEL_b3442d9f42194940beaf728611aad88f"
      }
     },
     "140929815c694157b0d20ef752d50d9f": {
      "model_module": "@jupyter-widgets/base",
      "model_module_version": "1.2.0",
      "model_name": "LayoutModel",
      "state": {
       "min_width": "auto"
      }
     },
     "14269540ae6944f894e722bccb865352": {
      "model_module": "@jupyter-widgets/controls",
      "model_module_version": "1.5.0",
      "model_name": "HTMLModel",
      "state": {
       "layout": "IPY_MODEL_9b0f6abf0876409eac92c6da1b854740",
       "style": "IPY_MODEL_2812c34efc4948daa7bd42f6abe476c6",
       "value": "<h5 style='color:#34bc6e'>True</h5>"
      }
     },
     "144bd7199dd14a88bf59f88683ee52d4": {
      "model_module": "@jupyter-widgets/base",
      "model_module_version": "1.2.0",
      "model_name": "LayoutModel",
      "state": {
       "justify_content": "center"
      }
     },
     "149784935466413ba1566329eb0b513c": {
      "model_module": "@jupyter-widgets/controls",
      "model_module_version": "1.5.0",
      "model_name": "HTMLModel",
      "state": {
       "layout": "IPY_MODEL_cdd9ae3c6a7b47afb24e79cc50893e2c",
       "style": "IPY_MODEL_fc13df7c47a84e64ad9da243c76d97e8",
       "value": "<h4>ibmq_bogota</h4>"
      }
     },
     "14a089e8d7d84a30a979af390f8a9b6a": {
      "model_module": "@jupyter-widgets/controls",
      "model_module_version": "1.5.0",
      "model_name": "VBoxModel",
      "state": {
       "children": [
        "IPY_MODEL_5ebd575396d14d6699e3013d59c080a2",
        "IPY_MODEL_f6b06bb967c142fb93d6316c9dd6dd0e",
        "IPY_MODEL_dda51aa798fa46a683c34d4b702f211e",
        "IPY_MODEL_99216acb725c4a23a98f56a6228f7fe4",
        "IPY_MODEL_18d7ce574ed946b3a0e3c7703e62116b",
        "IPY_MODEL_8c93dd17414a4880b5b4891ac28499f8",
        "IPY_MODEL_be4c3280250444ab846da574f67bda86",
        "IPY_MODEL_74d06631acd0453db4caeb81db73b519"
       ],
       "layout": "IPY_MODEL_94cb27ce6dcb4e30ba0aadf629b8e69d"
      }
     },
     "14e3da6908604510b787a4b85232b170": {
      "model_module": "@jupyter-widgets/controls",
      "model_module_version": "1.5.0",
      "model_name": "DescriptionStyleModel",
      "state": {
       "description_width": ""
      }
     },
     "156416f0e4bf4ec2b80b5e250899e78d": {
      "model_module": "@jupyter-widgets/controls",
      "model_module_version": "1.5.0",
      "model_name": "DescriptionStyleModel",
      "state": {
       "description_width": ""
      }
     },
     "15a5855fbec04ced93018351cafb6512": {
      "model_module": "@jupyter-widgets/output",
      "model_module_version": "1.0.0",
      "model_name": "OutputModel",
      "state": {
       "layout": "IPY_MODEL_bc78ffb1dd9d4b798a8aaafbcd3e3eef",
       "outputs": [
        {
         "data": {
          "image/png": "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\n",
          "text/plain": "<Figure size 360x360 with 1 Axes>"
         },
         "metadata": {},
         "output_type": "display_data"
        }
       ]
      }
     },
     "15d5f09aa06c494f988a649330fce251": {
      "model_module": "@jupyter-widgets/controls",
      "model_module_version": "1.5.0",
      "model_name": "DescriptionStyleModel",
      "state": {
       "description_width": ""
      }
     },
     "15dd16834912401fb07c9ee385c7755d": {
      "model_module": "@jupyter-widgets/controls",
      "model_module_version": "1.5.0",
      "model_name": "HTMLModel",
      "state": {
       "layout": "IPY_MODEL_bc3c75587a474132918aa462b505d9ca",
       "style": "IPY_MODEL_4b2f6d504d4047c09d817fa779e17875",
       "value": "<h1 style='color:#ffffff;background-color:#000000;padding-top: 1%;padding-bottom: 1%;padding-left: 1%; margin-top: 0px'>ibmq_belem</h1>"
      }
     },
     "15f4ee41932747a1832d83ad15f4ce08": {
      "model_module": "@jupyter-widgets/controls",
      "model_module_version": "1.5.0",
      "model_name": "DescriptionStyleModel",
      "state": {
       "description_width": ""
      }
     },
     "1603b25ebf32499ab69cc4bf897730f4": {
      "model_module": "@jupyter-widgets/controls",
      "model_module_version": "1.5.0",
      "model_name": "HTMLModel",
      "state": {
       "layout": "IPY_MODEL_d3ce894aee8645ec80a9935060136624",
       "style": "IPY_MODEL_d888afa96b314d2881d6cecf849e96ae",
       "value": "-"
      }
     },
     "16163303dd4b469cb1773e591de0d820": {
      "model_module": "@jupyter-widgets/controls",
      "model_module_version": "1.5.0",
      "model_name": "LabelModel",
      "state": {
       "layout": "IPY_MODEL_d9e2f41d3263405cb70e9da68493cd24",
       "style": "IPY_MODEL_156416f0e4bf4ec2b80b5e250899e78d",
       "value": "2"
      }
     },
     "1658bddd18fe4e4e8c3a4911b2980324": {
      "model_module": "@jupyter-widgets/controls",
      "model_module_version": "1.5.0",
      "model_name": "HTMLModel",
      "state": {
       "layout": "IPY_MODEL_548fc19b2f244074a9c24a27db9f33f1",
       "style": "IPY_MODEL_e621a6b4afa64765bbe518c601711f48",
       "value": "<h5><b>5</b></h5>"
      }
     },
     "167891c82fd04f36b625838c8c2cf722": {
      "model_module": "@jupyter-widgets/controls",
      "model_module_version": "1.5.0",
      "model_name": "HTMLModel",
      "state": {
       "layout": "IPY_MODEL_5bd664b90a8d458abdf8414d32dcd8ee",
       "style": "IPY_MODEL_2687b4fb33314e1d9634973d1497d7f7",
       "value": "<h4>ibmq_quito</h4>"
      }
     },
     "168f8bc2978f487c91c150ae5ed0b5f9": {
      "model_module": "@jupyter-widgets/controls",
      "model_module_version": "1.5.0",
      "model_name": "HTMLModel",
      "state": {
       "layout": "IPY_MODEL_3cf9360545ff4097a2e4372435e3e9e2",
       "style": "IPY_MODEL_ba57804ebdba41d9bc36f47ec494bc27",
       "value": "<h5 style='color:#34bc6e'>True</h5>"
      }
     },
     "16bff1b91f2d4e9ca70b40ef671d3df6": {
      "model_module": "@jupyter-widgets/controls",
      "model_module_version": "1.5.0",
      "model_name": "DescriptionStyleModel",
      "state": {
       "description_width": ""
      }
     },
     "17339307abec448d93d8da2e63a2a5f4": {
      "model_module": "@jupyter-widgets/controls",
      "model_module_version": "1.5.0",
      "model_name": "LabelModel",
      "state": {
       "layout": "IPY_MODEL_cac515fbb34e422f87d6d3f673e38b33",
       "style": "IPY_MODEL_0e933799d4124589a2480c30067f299d",
       "value": "50"
      }
     },
     "174531e996424f5895f5cb286bb272d6": {
      "model_module": "@jupyter-widgets/controls",
      "model_module_version": "1.5.0",
      "model_name": "HTMLModel",
      "state": {
       "layout": "IPY_MODEL_626d7ed4a8dc4c008295ffb5ae289524",
       "style": "IPY_MODEL_9d98a6ddce3c45d5b812b3eab422171e",
       "value": "<h5>0.0393</h5>"
      }
     },
     "17a9875a686c44b59b44b1bb8bbc4559": {
      "model_module": "@jupyter-widgets/controls",
      "model_module_version": "1.5.0",
      "model_name": "HTMLModel",
      "state": {
       "layout": "IPY_MODEL_f0795e25d2fd49c3b98ef0157d69ba68",
       "style": "IPY_MODEL_cce2e56ff9724c4988cf3bf0b45de631",
       "value": "<h5>178.8 / 273.2 us</h5>"
      }
     },
     "17e470342c44402abc1e037b9fd67913": {
      "model_module": "@jupyter-widgets/controls",
      "model_module_version": "1.5.0",
      "model_name": "DescriptionStyleModel",
      "state": {
       "description_width": ""
      }
     },
     "17f5c5169ac947a2889f01f1804c3b8a": {
      "model_module": "@jupyter-widgets/controls",
      "model_module_version": "1.5.0",
      "model_name": "VBoxModel",
      "state": {
       "children": [
        "IPY_MODEL_398428239cb64b5baec9ce447b67c811",
        "IPY_MODEL_52abaf66dece4290962f556cac1e00c8"
       ],
       "layout": "IPY_MODEL_018298f7ec6748a496de4388f30ac4d1"
      }
     },
     "1810ab4a31314156a1839b57fc287e04": {
      "model_module": "@jupyter-widgets/controls",
      "model_module_version": "1.5.0",
      "model_name": "HTMLModel",
      "state": {
       "layout": "IPY_MODEL_7119b292cabf459b8d265c39159eab9e",
       "style": "IPY_MODEL_ab53f72eea1e4bb488e05a5af95d72ef",
       "value": "<h4>ibmq_bogota</h4>"
      }
     },
     "186548fd74db48e2a322c85710a4ff39": {
      "model_module": "@jupyter-widgets/controls",
      "model_module_version": "1.5.0",
      "model_name": "HTMLModel",
      "state": {
       "layout": "IPY_MODEL_f9b4712764f4423fae9f090b0494a85f",
       "style": "IPY_MODEL_51413b21674a425e8f66acccfa488c9a",
       "value": "<h5 style='color:#34bc6e'>True</h5>"
      }
     },
     "18d7ce574ed946b3a0e3c7703e62116b": {
      "model_module": "@jupyter-widgets/controls",
      "model_module_version": "1.5.0",
      "model_name": "LabelModel",
      "state": {
       "layout": "IPY_MODEL_5a14e642ed0d47779325cc0ba2c8e1f4",
       "style": "IPY_MODEL_afe6db8d9f0e46a0bd4779b49fbf6103",
       "value": "Least Busy"
      }
     },
     "18f0353bca324d87bb22c523822eb206": {
      "model_module": "@jupyter-widgets/controls",
      "model_module_version": "1.5.0",
      "model_name": "ProgressStyleModel",
      "state": {
       "bar_color": "#71cddd",
       "description_width": ""
      }
     },
     "193f8b4d35f54bf088ca00ce9ff5dedc": {
      "model_module": "@jupyter-widgets/controls",
      "model_module_version": "1.5.0",
      "model_name": "HBoxModel",
      "state": {
       "children": [
        "IPY_MODEL_7bf41d88c45744ef9f51620cf45e829b",
        "IPY_MODEL_d38ad854368047129d58484b5cab1bb6",
        "IPY_MODEL_49179e6fa6d745b397e8c58d86c3adf5",
        "IPY_MODEL_c9c6de37ff684829b75fc8840541628d",
        "IPY_MODEL_b7310bf4459a4e2f9f646b34aa8f5d54",
        "IPY_MODEL_6514811ee5fb438e92a0b1eab291241d"
       ],
       "layout": "IPY_MODEL_f8a5c176b36f434c9781522f351fd30e"
      }
     },
     "195a22b6527940baac2148983526b270": {
      "model_module": "@jupyter-widgets/controls",
      "model_module_version": "1.5.0",
      "model_name": "HTMLModel",
      "state": {
       "layout": "IPY_MODEL_ad4f4c58caac45a1a80a6fed1b362b74",
       "style": "IPY_MODEL_cc408083d8d6425593a10431dd41f79f",
       "value": "<h5>0.0678</h5>"
      }
     },
     "1984726b52514c1ebf31df77ab78f0c1": {
      "model_module": "@jupyter-widgets/base",
      "model_module_version": "1.2.0",
      "model_name": "LayoutModel",
      "state": {}
     },
     "19ae15ae389a4b999f40bbaaa8432728": {
      "model_module": "@jupyter-widgets/controls",
      "model_module_version": "1.5.0",
      "model_name": "DescriptionStyleModel",
      "state": {
       "description_width": ""
      }
     },
     "19d8c70c042d41e6960a281973b1106d": {
      "model_module": "@jupyter-widgets/controls",
      "model_module_version": "1.5.0",
      "model_name": "HTMLModel",
      "state": {
       "layout": "IPY_MODEL_86c93b4c963b46858198a5a45240fd24",
       "style": "IPY_MODEL_3ba1483baa214643a9a52c34ff1aaad3",
       "value": "<h5>0.0121</h5>"
      }
     },
     "19e626b1a763423ca2aec660b2c6d617": {
      "model_module": "@jupyter-widgets/base",
      "model_module_version": "1.2.0",
      "model_name": "LayoutModel",
      "state": {
       "align_items": "center",
       "display": "inline-flex",
       "flex_flow": "column"
      }
     },
     "1b365a7f057049b29edb283bfa766670": {
      "model_module": "@jupyter-widgets/controls",
      "model_module_version": "1.5.0",
      "model_name": "ProgressStyleModel",
      "state": {
       "bar_color": "#71cddd",
       "description_width": ""
      }
     },
     "1b8b2b8cb5224299b0e077b9ad6ad846": {
      "model_module": "@jupyter-widgets/controls",
      "model_module_version": "1.5.0",
      "model_name": "HBoxModel",
      "state": {
       "children": [
        "IPY_MODEL_fa0179e471ad41f2ada44f650293384f",
        "IPY_MODEL_a5e3d80eafbe4aad8e0d9d2e6b14ddc1",
        "IPY_MODEL_1dc1b8a2f85e4584b76a63aa7015f632"
       ],
       "layout": "IPY_MODEL_a1a207db9a4946778da01bc54053a179"
      }
     },
     "1bbe73be8c6545fda601e394216b3654": {
      "model_module": "@jupyter-widgets/controls",
      "model_module_version": "1.5.0",
      "model_name": "DescriptionStyleModel",
      "state": {
       "description_width": ""
      }
     },
     "1bc012ebb49d4a698b96398aabbd2d87": {
      "model_module": "@jupyter-widgets/controls",
      "model_module_version": "1.5.0",
      "model_name": "HTMLModel",
      "state": {
       "layout": "IPY_MODEL_e2cb42170f3b4821a9ea29af7b8b21e1",
       "style": "IPY_MODEL_e41b4b5335bf4bdcb23467659979491e",
       "value": "<h5 style='color:#34bc6e'>True</h5>"
      }
     },
     "1bdd455cf9fd4dff8d5688b79d2bb083": {
      "model_module": "@jupyter-widgets/base",
      "model_module_version": "1.2.0",
      "model_name": "LayoutModel",
      "state": {
       "align_items": "center",
       "display": "inline-flex",
       "flex_flow": "column"
      }
     },
     "1bec5e166b2147b18735cdff94610cff": {
      "model_module": "@jupyter-widgets/controls",
      "model_module_version": "1.5.0",
      "model_name": "HTMLModel",
      "state": {
       "layout": "IPY_MODEL_7a74d98deec34d1db179faea1579e90e",
       "style": "IPY_MODEL_c6e303d26a5c4b21adb1631145bc6c6f",
       "value": "<h2 style ='color:#ffffff; background-color:#000000;padding-top: 1%; padding-bottom: 1%;padding-left: 1%;margin-top: 0px'>Backend Overview</h2>"
      }
     },
     "1c53a32991f6465bbf2313bd02c230f6": {
      "model_module": "@jupyter-widgets/controls",
      "model_module_version": "1.5.0",
      "model_name": "DescriptionStyleModel",
      "state": {
       "description_width": ""
      }
     },
     "1c5d356698d44d59b57fc6b7dd083759": {
      "model_module": "@jupyter-widgets/controls",
      "model_module_version": "1.5.0",
      "model_name": "DescriptionStyleModel",
      "state": {
       "description_width": ""
      }
     },
     "1c5d7aad0d2c41bda105edf05746e923": {
      "model_module": "@jupyter-widgets/base",
      "model_module_version": "1.2.0",
      "model_name": "LayoutModel",
      "state": {
       "min_width": "auto"
      }
     },
     "1c881485b04f4e92a852af11998d260b": {
      "model_module": "@jupyter-widgets/base",
      "model_module_version": "1.2.0",
      "model_name": "LayoutModel",
      "state": {}
     },
     "1d1374173b124b6b81548037bff37049": {
      "model_module": "@jupyter-widgets/controls",
      "model_module_version": "1.5.0",
      "model_name": "DescriptionStyleModel",
      "state": {
       "description_width": ""
      }
     },
     "1dc1b8a2f85e4584b76a63aa7015f632": {
      "model_module": "@jupyter-widgets/controls",
      "model_module_version": "1.5.0",
      "model_name": "LabelModel",
      "state": {
       "layout": "IPY_MODEL_140929815c694157b0d20ef752d50d9f",
       "style": "IPY_MODEL_1e631bcb61b647e28af9d76ca00a3920",
       "value": "121"
      }
     },
     "1de0c8dbd1444c94bac41206d0652456": {
      "model_module": "@jupyter-widgets/controls",
      "model_module_version": "1.5.0",
      "model_name": "DescriptionStyleModel",
      "state": {
       "description_width": ""
      }
     },
     "1dec9c589dd9408d8d7c879563ec7f44": {
      "model_module": "@jupyter-widgets/controls",
      "model_module_version": "1.5.0",
      "model_name": "IntProgressModel",
      "state": {
       "layout": "IPY_MODEL_2e6ee56e6ab242d5a1f4cd0813ae9e33",
       "max": 242,
       "style": "IPY_MODEL_1f569ab7a9134e81af08329dcc360d62",
       "value": 230
      }
     },
     "1e17e064e4c345af8cbf43a95f758ba5": {
      "model_module": "@jupyter-widgets/controls",
      "model_module_version": "1.5.0",
      "model_name": "ButtonStyleModel",
      "state": {
       "button_color": "white"
      }
     },
     "1e517d8f6d714118bdcd2e00db95c385": {
      "model_module": "@jupyter-widgets/controls",
      "model_module_version": "1.5.0",
      "model_name": "ButtonStyleModel",
      "state": {
       "button_color": "white"
      }
     },
     "1e631bcb61b647e28af9d76ca00a3920": {
      "model_module": "@jupyter-widgets/controls",
      "model_module_version": "1.5.0",
      "model_name": "DescriptionStyleModel",
      "state": {
       "description_width": ""
      }
     },
     "1ef561acc7c548969ea78b18794baa99": {
      "model_module": "@jupyter-widgets/controls",
      "model_module_version": "1.5.0",
      "model_name": "HTMLModel",
      "state": {
       "layout": "IPY_MODEL_9112e4fe5f914e43bc92986c35e42afc",
       "style": "IPY_MODEL_026027fc66d14ce4ba5a9baa25d99747",
       "value": "<h5 style='color:#34bc6e'>True</h5>"
      }
     },
     "1f32561c170c4d17859821e1a35c7ba0": {
      "model_module": "@jupyter-widgets/base",
      "model_module_version": "1.2.0",
      "model_name": "LayoutModel",
      "state": {
       "grid_area": "left",
       "width": "100%"
      }
     },
     "1f569ab7a9134e81af08329dcc360d62": {
      "model_module": "@jupyter-widgets/controls",
      "model_module_version": "1.5.0",
      "model_name": "ProgressStyleModel",
      "state": {
       "bar_color": "#71cddd",
       "description_width": ""
      }
     },
     "1f59bb7ff9ac48629c6d458b3016d640": {
      "model_module": "@jupyter-widgets/base",
      "model_module_version": "1.2.0",
      "model_name": "LayoutModel",
      "state": {
       "width": "145px"
      }
     },
     "201e9672db574d748529fc7bd0a2dd49": {
      "model_module": "@jupyter-widgets/controls",
      "model_module_version": "1.5.0",
      "model_name": "HTMLModel",
      "state": {
       "layout": "IPY_MODEL_51b63817aabc46b08287571e40f5f058",
       "style": "IPY_MODEL_55b989a0fe5c4b4bb75997bcc2533127",
       "value": "<h5><b>5</b></h5>"
      }
     },
     "20476e40a5134eea9778c0b24f5260e3": {
      "model_module": "@jupyter-widgets/base",
      "model_module_version": "1.2.0",
      "model_name": "LayoutModel",
      "state": {
       "margin": "0px 0px 0px 0px"
      }
     },
     "2066837011a148bc977f006dabaa3fd8": {
      "model_module": "@jupyter-widgets/controls",
      "model_module_version": "1.5.0",
      "model_name": "DescriptionStyleModel",
      "state": {
       "description_width": ""
      }
     },
     "20e9f9fb908b4f7c97b2196d784a6e54": {
      "model_module": "@jupyter-widgets/controls",
      "model_module_version": "1.5.0",
      "model_name": "HTMLModel",
      "state": {
       "layout": "IPY_MODEL_47865133fce2461fbc189d468764044b",
       "style": "IPY_MODEL_ddae0afddea74190b56497120310e62a",
       "value": "<h5 style='color:#dc267f'>False</h5>"
      }
     },
     "20f76ef4c8734437aeed119733bc593f": {
      "model_module": "@jupyter-widgets/controls",
      "model_module_version": "1.5.0",
      "model_name": "DescriptionStyleModel",
      "state": {
       "description_width": ""
      }
     },
     "21653f1cb3234f6b9c9780149d9f1f44": {
      "model_module": "@jupyter-widgets/controls",
      "model_module_version": "1.5.0",
      "model_name": "HTMLModel",
      "state": {
       "layout": "IPY_MODEL_0a02016d75714d7ea66adf5b64e448f4",
       "style": "IPY_MODEL_00a399becd49431eb36bcd70e4083442",
       "value": "<div><font style='font-weight:bold'>last_update_date</font>: 2022-06-09 05:22:27+00:00</div>"
      }
     },
     "21e65ec1dab446b1b45081d56d302daf": {
      "model_module": "@jupyter-widgets/controls",
      "model_module_version": "1.5.0",
      "model_name": "ButtonStyleModel",
      "state": {
       "button_color": "white"
      }
     },
     "225e736b23ca44cd82ba82167cd1781f": {
      "model_module": "@jupyter-widgets/controls",
      "model_module_version": "1.5.0",
      "model_name": "HBoxModel",
      "state": {
       "children": [
        "IPY_MODEL_6447bebab385446ea1eb0c930bc6db61",
        "IPY_MODEL_5a7acf0609f5427c99bd0718c6f102f1",
        "IPY_MODEL_97985bd3d1604bf69eccff9a38c37089",
        "IPY_MODEL_2d44402ca0b347cfa5df1e964e00714d",
        "IPY_MODEL_a44a1f1d9ca2466baacacc3f02c8185b",
        "IPY_MODEL_04293b1e066d42ea91db62fd7f3838a4"
       ],
       "layout": "IPY_MODEL_dd64c58b89064bfb889206dc5e629422"
      }
     },
     "229b555d80254f6cb339f551b735c2e3": {
      "model_module": "@jupyter-widgets/controls",
      "model_module_version": "1.5.0",
      "model_name": "DescriptionStyleModel",
      "state": {
       "description_width": ""
      }
     },
     "22d58a33687a496c98f67bea1feba668": {
      "model_module": "@jupyter-widgets/controls",
      "model_module_version": "1.5.0",
      "model_name": "HBoxModel",
      "state": {
       "children": [
        "IPY_MODEL_a37aa23d612548d7b8b6cf6aef36efad",
        "IPY_MODEL_424c94b889a84ddcb2ba149b3df0d577"
       ],
       "layout": "IPY_MODEL_e58b65f0ce7047e5a3c1d590a4426a56"
      }
     },
     "233df4021129499489b3291718592dee": {
      "model_module": "@jupyter-widgets/controls",
      "model_module_version": "1.5.0",
      "model_name": "HTMLModel",
      "state": {
       "layout": "IPY_MODEL_8ae0cec513624689ba3de7f886bcf688",
       "style": "IPY_MODEL_e5ad56a704254512a256a3af4810f944",
       "value": "<h4>ibmq_santiago</h4>"
      }
     },
     "234d300dd77249a5b577c5bad9df2232": {
      "model_module": "@jupyter-widgets/base",
      "model_module_version": "1.2.0",
      "model_name": "LayoutModel",
      "state": {
       "margin": "0px 5px 0px 0px",
       "width": "32px"
      }
     },
     "23a3959da71b443c9027dcd279a54563": {
      "model_module": "@jupyter-widgets/base",
      "model_module_version": "1.2.0",
      "model_name": "LayoutModel",
      "state": {
       "margin": "10px 0px 0px 0px"
      }
     },
     "23dfcc0ff75644e298427bb603ff0539": {
      "model_module": "@jupyter-widgets/controls",
      "model_module_version": "1.5.0",
      "model_name": "LabelModel",
      "state": {
       "layout": "IPY_MODEL_9ae62c130d2c4cfb8b0b1a87b042244b",
       "style": "IPY_MODEL_8c03535e3f6b4875a93f94b3d80a491b",
       "value": "230"
      }
     },
     "243e15d26c444543847ec31f4961c2f3": {
      "model_module": "@jupyter-widgets/base",
      "model_module_version": "1.2.0",
      "model_name": "LayoutModel",
      "state": {
       "grid_area": "left"
      }
     },
     "2484ff89500745e998cf69224c8d40c6": {
      "model_module": "@jupyter-widgets/base",
      "model_module_version": "1.2.0",
      "model_name": "LayoutModel",
      "state": {
       "max_width": "180px"
      }
     },
     "24a3a725126f40eaad5fbb2947450459": {
      "model_module": "@jupyter-widgets/controls",
      "model_module_version": "1.5.0",
      "model_name": "LabelModel",
      "state": {
       "layout": "IPY_MODEL_3e14fa2224dc4794ac69ce1199e8371a",
       "style": "IPY_MODEL_286c2096d7214123b192c997a3812496",
       "value": "Avg. CX Err."
      }
     },
     "24ab0dad88f340b388b663db9dfc01b0": {
      "model_module": "@jupyter-widgets/controls",
      "model_module_version": "1.5.0",
      "model_name": "IntProgressModel",
      "state": {
       "layout": "IPY_MODEL_3ac7f1f849b74d74931fcfbfa19c606a",
       "max": 50,
       "style": "IPY_MODEL_5109e53b057c418680ae1300eb74bdaf",
       "value": 2
      }
     },
     "24b4e18180a14c19b5c1ed19a30b0327": {
      "model_module": "@jupyter-widgets/controls",
      "model_module_version": "1.5.0",
      "model_name": "HTMLModel",
      "state": {
       "layout": "IPY_MODEL_611792fedaef4e76aea840e63f13b77c",
       "style": "IPY_MODEL_db2af6b113604933b259f872343578e9",
       "value": "<h5><b>5</b></h5>"
      }
     },
     "25737ba7ddc5434396f6b9b8f7d01397": {
      "model_module": "@jupyter-widgets/controls",
      "model_module_version": "1.5.0",
      "model_name": "HTMLModel",
      "state": {
       "layout": "IPY_MODEL_829d26a4ad254449b699cb5923aca4bc",
       "style": "IPY_MODEL_3eb0431693744cac9393504f390fa47d",
       "value": "<h5><b>5</b></h5>"
      }
     },
     "25799e9534644a7a99b1aab81b51d9c0": {
      "model_module": "@jupyter-widgets/controls",
      "model_module_version": "1.5.0",
      "model_name": "DescriptionStyleModel",
      "state": {
       "description_width": ""
      }
     },
     "2687b4fb33314e1d9634973d1497d7f7": {
      "model_module": "@jupyter-widgets/controls",
      "model_module_version": "1.5.0",
      "model_name": "DescriptionStyleModel",
      "state": {
       "description_width": ""
      }
     },
     "26b77c311b9c4f17bb27df30c2ddebd5": {
      "model_module": "@jupyter-widgets/base",
      "model_module_version": "1.2.0",
      "model_name": "LayoutModel",
      "state": {
       "margin": "10px 0px 0px 0px"
      }
     },
     "26cdb1329f3947dba5b09c36c40c8917": {
      "model_module": "@jupyter-widgets/base",
      "model_module_version": "1.2.0",
      "model_name": "LayoutModel",
      "state": {
       "align_items": "center",
       "display": "inline-flex",
       "flex_flow": "column"
      }
     },
     "26fff1dfe04d4ebd90f63b4c3802f5ae": {
      "model_module": "@jupyter-widgets/output",
      "model_module_version": "1.0.0",
      "model_name": "OutputModel",
      "state": {
       "layout": "IPY_MODEL_5dff554ad29c49ee8258b3cd35c4e020",
       "outputs": [
        {
         "data": {
          "image/png": "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\n",
          "text/plain": "<Figure size 360x360 with 1 Axes>"
         },
         "metadata": {},
         "output_type": "display_data"
        }
       ]
      }
     },
     "272809cd72da445daddc284810ead8d8": {
      "model_module": "@jupyter-widgets/controls",
      "model_module_version": "1.5.0",
      "model_name": "HTMLMathModel",
      "state": {
       "layout": "IPY_MODEL_f12274a9db9c4429a7069195b5a7b78b",
       "style": "IPY_MODEL_4bbd9989d3b24adcb9ad4df645f65aea",
       "value": "<table><style>\ntable {\n    border-collapse: collapse;\n    width: auto;\n}\n\nth, td {\n    text-align: left;\n    padding: 8px;\n}\n\ntr:nth-child(even) {background-color: #f6f6f6;}\n</style><tr><th></th><th></th></tr><tr><td>local</td><td>False</td></tr><tr><td>measure_esp_enabled</td><td>False</td></tr><tr><td>simulator</td><td>False</td></tr><tr><td>clops</td><td>2506</td></tr><tr><td>memory</td><td>True</td></tr><tr><td>multi_meas_enabled</td><td>True</td></tr><tr><td>rep_times</td><td>[1000.0]</td></tr><tr><td>description</td><td>5 qubit device Quito</td></tr><tr><td>acquisition_latency</td><td>[]</td></tr><tr><td>allow_q_object</td><td>True</td></tr><tr><td>credits_required</td><td>True</td></tr><tr><td>meas_lo_range</td><td>[[6.807868157000001, 7.807868157000001], [6.7292695270000005, 7.7292695270000005], [6.991060108, 7.991060108], [6.8547510460000005, 7.8547510460000005], [6.904365522000001, 7.904365522000001]]</td></tr><tr><td>url</td><td>None</td></tr><tr><td>dynamic_reprate_enabled</td><td>True</td></tr><tr><td>default_rep_delay</td><td>250.0</td></tr><tr><td>n_registers</td><td>1</td></tr><tr><td>channels</td><td>{'acquire0': {'operates': {'qubits': [0]}, 'purpose': 'acquire', 'type': 'acquire'}, 'acquire1': {'operates': {'qubits': [1]}, 'purpose': 'acquire', 'type': 'acquire'}, 'acquire2': {'operates': {'qubits': [2]}, 'purpose': 'acquire', 'type': 'acquire'}, 'acquire3': {'operates': {'qubits': [3]}, 'purpose': 'acquire', 'type': 'acquire'}, 'acquire4': {'operates': {'qubits': [4]}, 'purpose': 'acquire', 'type': 'acquire'}, 'd0': {'operates': {'qubits': [0]}, 'purpose': 'drive', 'type': 'drive'}, 'd1': {'operates': {'qubits': [1]}, 'purpose': 'drive', 'type': 'drive'}, 'd2': {'operates': {'qubits': [2]}, 'purpose': 'drive', 'type': 'drive'}, 'd3': {'operates': {'qubits': [3]}, 'purpose': 'drive', 'type': 'drive'}, 'd4': {'operates': {'qubits': [4]}, 'purpose': 'drive', 'type': 'drive'}, 'm0': {'operates': {'qubits': [0]}, 'purpose': 'measure', 'type': 'measure'}, 'm1': {'operates': {'qubits': [1]}, 'purpose': 'measure', 'type': 'measure'}, 'm2': {'operates': {'qubits': [2]}, 'purpose': 'measure', 'type': 'measure'}, 'm3': {'operates': {'qubits': [3]}, 'purpose': 'measure', 'type': 'measure'}, 'm4': {'operates': {'qubits': [4]}, 'purpose': 'measure', 'type': 'measure'}, 'u0': {'operates': {'qubits': [0, 1]}, 'purpose': 'cross-resonance', 'type': 'control'}, 'u1': {'operates': {'qubits': [1, 0]}, 'purpose': 'cross-resonance', 'type': 'control'}, 'u2': {'operates': {'qubits': [1, 2]}, 'purpose': 'cross-resonance', 'type': 'control'}, 'u3': {'operates': {'qubits': [1, 3]}, 'purpose': 'cross-resonance', 'type': 'control'}, 'u4': {'operates': {'qubits': [2, 1]}, 'purpose': 'cross-resonance', 'type': 'control'}, 'u5': {'operates': {'qubits': [3, 1]}, 'purpose': 'cross-resonance', 'type': 'control'}, 'u6': {'operates': {'qubits': [3, 4]}, 'purpose': 'cross-resonance', 'type': 'control'}, 'u7': {'operates': {'qubits': [4, 3]}, 'purpose': 'cross-resonance', 'type': 'control'}}</td></tr><tr><td>dt</td><td>0.2222222222222222</td></tr><tr><td>u_channel_lo</td><td>[[{'q': 1, 'scale': (1+0j)}], [{'q': 0, 'scale': (1+0j)}], [{'q': 2, 'scale': (1+0j)}], [{'q': 3, 'scale': (1+0j)}], [{'q': 1, 'scale': (1+0j)}], [{'q': 1, 'scale': (1+0j)}], [{'q': 4, 'scale': (1+0j)}], [{'q': 3, 'scale': (1+0j)}]]</td></tr><tr><td>online_date</td><td>2021-01-08 05:00:00+00:00</td></tr><tr><td>hamiltonian</td><td>$$\\begin{align} \\mathcal{H}/\\hbar = & \\sum_{i=0}^{4}\\left(\\frac{\\omega_{q,i}}{2}(\\mathbb{I}-\\sigma_i^{z})+\\frac{\\Delta_{i}}{2}(O_i^2-O_i)+\\Omega_{d,i}D_i(t)\\sigma_i^{X}\\right) \\\\ & + J_{0,1}(\\sigma_{0}^{+}\\sigma_{1}^{-}+\\sigma_{0}^{-}\\sigma_{1}^{+}) + J_{1,2}(\\sigma_{1}^{+}\\sigma_{2}^{-}+\\sigma_{1}^{-}\\sigma_{2}^{+}) + J_{1,3}(\\sigma_{1}^{+}\\sigma_{3}^{-}+\\sigma_{1}^{-}\\sigma_{3}^{+}) + J_{3,4}(\\sigma_{3}^{+}\\sigma_{4}^{-}+\\sigma_{3}^{-}\\sigma_{4}^{+}) \\\\ & + \\Omega_{d,0}(U_{0}^{(0,1)}(t))\\sigma_{0}^{X} + \\Omega_{d,1}(U_{1}^{(1,0)}(t)+U_{3}^{(1,3)}(t)+U_{2}^{(1,2)}(t))\\sigma_{1}^{X} \\\\ & + \\Omega_{d,2}(U_{4}^{(2,1)}(t))\\sigma_{2}^{X} + \\Omega_{d,3}(U_{6}^{(3,4)}(t)+U_{5}^{(3,1)}(t))\\sigma_{3}^{X} \\\\ & + \\Omega_{d,4}(U_{7}^{(4,3)}(t))\\sigma_{4}^{X} \\\\ \\end{align}$$</td></tr><tr><td>conditional</td><td>False</td></tr><tr><td>coupling_map</td><td>[[0, 1], [1, 0], [1, 2], [1, 3], [2, 1], [3, 1], [3, 4], [4, 3]]</td></tr><tr><td>discriminators</td><td>['hw_centroid', 'quadratic_discriminator', 'linear_discriminator']</td></tr><tr><td>rep_delay_range</td><td>[0.0, 500.0]</td></tr><tr><td>qubit_channel_mapping</td><td>[['u1', 'd0', 'u0', 'm0'], ['u0', 'm1', 'u4', 'u3', 'u5', 'u2', 'd1', 'u1'], ['m2', 'u4', 'u2', 'd2'], ['m3', 'u7', 'u3', 'u5', 'u6', 'd3'], ['u7', 'u6', 'd4', 'm4']]</td></tr><tr><td>qubit_lo_range</td><td>[[4.800541040012398, 5.800541040012398], [4.580580828765353, 5.580580828765353], [4.822189923881474, 5.822189923881474], [4.6636068164653475, 5.6636068164653475], [4.552327895072668, 5.552327895072668]]</td></tr><tr><td>timing_constraints</td><td>{'acquire_alignment': 16, 'granularity': 16, 'min_length': 64, 'pulse_alignment': 1}</td></tr><tr><td>supported_features</td><td>['qobj']</td></tr><tr><td>sample_name</td><td>family: Falcon, revision: 4, segment: T</td></tr><tr><td>open_pulse</td><td>False</td></tr><tr><td>n_uchannels</td><td>8</td></tr><tr><td>processor_type</td><td>{'family': 'Falcon', 'revision': 4, 'segment': 'T'}</td></tr><tr><td>uchannels_enabled</td><td>True</td></tr><tr><td>conditional_latency</td><td>[]</td></tr><tr><td>supported_instructions</td><td>['reset', 'x', 'setf', 'play', 'shiftf', 'rz', 'measure', 'u3', 'cx', 'acquire', 'sx', 'u2', 'u1', 'delay', 'id']</td></tr><tr><td>input_allowed</td><td>['job', 'runtime']</td></tr><tr><td>allow_object_storage</td><td>True</td></tr><tr><td>live_data</td><td>False</td></tr><tr><td>meas_levels</td><td>[1, 2]</td></tr><tr><td>pulse_num_qubits</td><td>3</td></tr><tr><td>meas_kernels</td><td>['hw_boxcar']</td></tr><tr><td>dtm</td><td>0.2222222222222222</td></tr><tr><td>backend_name</td><td>ibmq_quito</td></tr><tr><td>pulse_num_channels</td><td>9</td></tr><tr><td>meas_map</td><td>[[0, 1, 2, 3, 4]]</td></tr><tr><td>parametric_pulses</td><td>['gaussian', 'gaussian_square', 'drag', 'constant']</td></tr></table>"
      }
     },
     "2769d76ac6d54574a1096af99ffd334e": {
      "model_module": "@jupyter-widgets/controls",
      "model_module_version": "1.5.0",
      "model_name": "DescriptionStyleModel",
      "state": {
       "description_width": ""
      }
     },
     "278cb28b4bfa4615802490ab4137ae92": {
      "model_module": "@jupyter-widgets/base",
      "model_module_version": "1.2.0",
      "model_name": "LayoutModel",
      "state": {
       "justify_content": "center"
      }
     },
     "27b460adbbaf4be396014e630830ba19": {
      "model_module": "@jupyter-widgets/controls",
      "model_module_version": "1.5.0",
      "model_name": "DescriptionStyleModel",
      "state": {
       "description_width": ""
      }
     },
     "27e9274879a74486a14d4938b6090abc": {
      "model_module": "@jupyter-widgets/base",
      "model_module_version": "1.2.0",
      "model_name": "LayoutModel",
      "state": {
       "width": "70px"
      }
     },
     "280267bb73944b3498725bb919228559": {
      "model_module": "@jupyter-widgets/base",
      "model_module_version": "1.2.0",
      "model_name": "LayoutModel",
      "state": {
       "justify_content": "center",
       "max_width": "250px",
       "min_width": "250px"
      }
     },
     "2812c34efc4948daa7bd42f6abe476c6": {
      "model_module": "@jupyter-widgets/controls",
      "model_module_version": "1.5.0",
      "model_name": "DescriptionStyleModel",
      "state": {
       "description_width": ""
      }
     },
     "2850419524f24446bfd332dfbbde2800": {
      "model_module": "@jupyter-widgets/base",
      "model_module_version": "1.2.0",
      "model_name": "LayoutModel",
      "state": {
       "max_width": "180px"
      }
     },
     "285162842ff342668783e2aac63a53be": {
      "model_module": "@jupyter-widgets/controls",
      "model_module_version": "1.5.0",
      "model_name": "DescriptionStyleModel",
      "state": {
       "description_width": ""
      }
     },
     "286c2096d7214123b192c997a3812496": {
      "model_module": "@jupyter-widgets/controls",
      "model_module_version": "1.5.0",
      "model_name": "DescriptionStyleModel",
      "state": {
       "description_width": ""
      }
     },
     "2874077e3e5a496fbda5194c6f677791": {
      "model_module": "@jupyter-widgets/controls",
      "model_module_version": "1.5.0",
      "model_name": "HTMLModel",
      "state": {
       "layout": "IPY_MODEL_d2c754f30c164db9b93c4564b95e18fe",
       "style": "IPY_MODEL_e1f3286b3d5e462c905546f5589bf433",
       "value": "<h5 style='color:#dc267f'>False</h5>"
      }
     },
     "28c746d1ef7347d19268121ad84a9e59": {
      "model_module": "@jupyter-widgets/base",
      "model_module_version": "1.2.0",
      "model_name": "LayoutModel",
      "state": {}
     },
     "28db86801a90461bac59acbb84260511": {
      "model_module": "@jupyter-widgets/base",
      "model_module_version": "1.2.0",
      "model_name": "LayoutModel",
      "state": {
       "justify_content": "center"
      }
     },
     "29495d80a0f94d78b1e2a2cab90d2a0e": {
      "model_module": "@jupyter-widgets/controls",
      "model_module_version": "1.5.0",
      "model_name": "DescriptionStyleModel",
      "state": {
       "description_width": ""
      }
     },
     "296d5b46bc554d3b8af7acc4bd477f95": {
      "model_module": "@jupyter-widgets/controls",
      "model_module_version": "1.5.0",
      "model_name": "HTMLModel",
      "state": {
       "layout": "IPY_MODEL_28c746d1ef7347d19268121ad84a9e59",
       "style": "IPY_MODEL_c9a5a91ebf17446482208e398bba2036",
       "value": "<h5>0.0496</h5>"
      }
     },
     "29b20734b6b2437caf30a2a9870f4b4b": {
      "model_module": "@jupyter-widgets/controls",
      "model_module_version": "1.5.0",
      "model_name": "DescriptionStyleModel",
      "state": {
       "description_width": ""
      }
     },
     "2a07b8135c3b4a809006c2ebe3fc58aa": {
      "model_module": "@jupyter-widgets/controls",
      "model_module_version": "1.5.0",
      "model_name": "DescriptionStyleModel",
      "state": {
       "description_width": ""
      }
     },
     "2a43934c57cc45b0a35e5a66633262a8": {
      "model_module": "@jupyter-widgets/base",
      "model_module_version": "1.2.0",
      "model_name": "LayoutModel",
      "state": {
       "grid_area": "middle"
      }
     },
     "2a56d050daec4568b2dad1630552ad76": {
      "model_module": "@jupyter-widgets/base",
      "model_module_version": "1.2.0",
      "model_name": "LayoutModel",
      "state": {
       "margin": "295px 0px 0px 0px",
       "min_width": "100px"
      }
     },
     "2a764a8645c143d59f005355057b6d2e": {
      "model_module": "@jupyter-widgets/base",
      "model_module_version": "1.2.0",
      "model_name": "LayoutModel",
      "state": {
       "justify_content": "center"
      }
     },
     "2a9b900597fc464581e88d2f4f3bd18f": {
      "model_module": "@jupyter-widgets/base",
      "model_module_version": "1.2.0",
      "model_name": "LayoutModel",
      "state": {}
     },
     "2aa382288101483c9fce3efa888e5a5d": {
      "model_module": "@jupyter-widgets/controls",
      "model_module_version": "1.5.0",
      "model_name": "DescriptionStyleModel",
      "state": {
       "description_width": ""
      }
     },
     "2afffde264c24ee8bfe0920f7fed4899": {
      "model_module": "@jupyter-widgets/base",
      "model_module_version": "1.2.0",
      "model_name": "LayoutModel",
      "state": {
       "min_width": "auto"
      }
     },
     "2b06dd7ff116401d90b66847164f9e0a": {
      "model_module": "@jupyter-widgets/base",
      "model_module_version": "1.2.0",
      "model_name": "LayoutModel",
      "state": {}
     },
     "2b078bbc0b6743a094bd6e1b767676de": {
      "model_module": "@jupyter-widgets/base",
      "model_module_version": "1.2.0",
      "model_name": "LayoutModel",
      "state": {
       "justify_content": "center",
       "max_width": "250px",
       "min_width": "250px"
      }
     },
     "2b34ea15db8b4336b4c4c06e4e225f72": {
      "model_module": "@jupyter-widgets/controls",
      "model_module_version": "1.5.0",
      "model_name": "DescriptionStyleModel",
      "state": {
       "description_width": ""
      }
     },
     "2b7395549ca74989b168f4ded76cf626": {
      "model_module": "@jupyter-widgets/controls",
      "model_module_version": "1.5.0",
      "model_name": "HTMLModel",
      "state": {
       "layout": "IPY_MODEL_8258c24775994e79bd805f8032911e9d",
       "style": "IPY_MODEL_a833fdd7570e46f894a07044b535e4e6",
       "value": "ibmq_quito"
      }
     },
     "2b85139b78b1491584d3a35147165338": {
      "model_module": "@jupyter-widgets/controls",
      "model_module_version": "1.5.0",
      "model_name": "LabelModel",
      "state": {
       "layout": "IPY_MODEL_8b47bf5b5b734712b50e452daab54b6f",
       "style": "IPY_MODEL_ac0e505a3d1b42fda2cdf3852f400652",
       "value": "111"
      }
     },
     "2bbc178b14e5494a980f0345f1ece23c": {
      "model_module": "@jupyter-widgets/base",
      "model_module_version": "1.2.0",
      "model_name": "LayoutModel",
      "state": {
       "min_width": "auto"
      }
     },
     "2bc637051d28464ba6dd04a5c9e85887": {
      "model_module": "@jupyter-widgets/base",
      "model_module_version": "1.2.0",
      "model_name": "LayoutModel",
      "state": {
       "grid_area": "right"
      }
     },
     "2c9f8be38e694be68e5b8448c63d5609": {
      "model_module": "@jupyter-widgets/controls",
      "model_module_version": "1.5.0",
      "model_name": "HTMLModel",
      "state": {
       "layout": "IPY_MODEL_9d110ff22d264b71b7e596ffda0b67a0",
       "style": "IPY_MODEL_88cfdbf14dbc4d70a55e8fc06c71ddd1",
       "value": "<h5><b>5</b></h5>"
      }
     },
     "2d3b99d9515b4051a4b8b6c96fad9950": {
      "model_module": "@jupyter-widgets/controls",
      "model_module_version": "1.5.0",
      "model_name": "DescriptionStyleModel",
      "state": {
       "description_width": ""
      }
     },
     "2d44402ca0b347cfa5df1e964e00714d": {
      "model_module": "@jupyter-widgets/controls",
      "model_module_version": "1.5.0",
      "model_name": "HTMLModel",
      "state": {
       "layout": "IPY_MODEL_c8a6b39f3d784fcfbb4f5d4a1bcc2c87",
       "style": "IPY_MODEL_68b23cbcd2374a99bdab86f15c905cf4",
       "value": "<font style='color:#34BC6E'>DONE</font>"
      }
     },
     "2d5b44302f8d4ab3bce1a012320cbf38": {
      "model_module": "@jupyter-widgets/controls",
      "model_module_version": "1.5.0",
      "model_name": "DescriptionStyleModel",
      "state": {
       "description_width": ""
      }
     },
     "2d6651588569422da9ad9a2d132b86ea": {
      "model_module": "@jupyter-widgets/controls",
      "model_module_version": "1.5.0",
      "model_name": "DescriptionStyleModel",
      "state": {
       "description_width": ""
      }
     },
     "2d72d0d8426a40a9b2bffc4f80814b2f": {
      "model_module": "@jupyter-widgets/controls",
      "model_module_version": "1.5.0",
      "model_name": "VBoxModel",
      "state": {
       "children": [
        "IPY_MODEL_76282a2185b04a69a4592e39c369b2a5",
        "IPY_MODEL_3226d9e1ec574f7f963a43fefae6b5ec"
       ],
       "layout": "IPY_MODEL_51a56abb9cf44edabd897fa8aafe4f3b"
      }
     },
     "2d81c9c555884d59a4104d12bb8232d4": {
      "model_module": "@jupyter-widgets/base",
      "model_module_version": "1.2.0",
      "model_name": "LayoutModel",
      "state": {
       "width": "70px"
      }
     },
     "2d89488cab8d4a22ab7b51474e281245": {
      "model_module": "@jupyter-widgets/base",
      "model_module_version": "1.2.0",
      "model_name": "LayoutModel",
      "state": {
       "align_items": "center",
       "justify_content": "center",
       "margin": "0px 0px 0px 0px",
       "max_height": "250px",
       "max_width": "250px",
       "min_height": "250px",
       "min_width": "250px"
      }
     },
     "2dd03be683184adc848bb9577ebf1c0c": {
      "model_module": "@jupyter-widgets/controls",
      "model_module_version": "1.5.0",
      "model_name": "DescriptionStyleModel",
      "state": {
       "description_width": ""
      }
     },
     "2de2cd7f6524414a8a917466dc71e3f7": {
      "model_module": "@jupyter-widgets/base",
      "model_module_version": "1.2.0",
      "model_name": "LayoutModel",
      "state": {
       "justify_content": "center",
       "max_width": "250px",
       "min_width": "250px"
      }
     },
     "2e2593766b7f4fbca0d2acde6b73486d": {
      "model_module": "@jupyter-widgets/controls",
      "model_module_version": "1.5.0",
      "model_name": "IntProgressModel",
      "state": {
       "layout": "IPY_MODEL_8e17e41731bf4fa7903ba54db7fac901",
       "max": 384,
       "style": "IPY_MODEL_c9eb1c6bcdbd45a8b763a70cab2e4cf0",
       "value": 316
      }
     },
     "2e5c808679f14e81ae59da11d0d49b49": {
      "model_module": "@jupyter-widgets/controls",
      "model_module_version": "1.5.0",
      "model_name": "HTMLModel",
      "state": {
       "layout": "IPY_MODEL_f3f1b474d63840efbef1cfbbf3994f8e",
       "style": "IPY_MODEL_686634f7ea4d40aa9a1a7934c187140f",
       "value": "<h5><b>5</b></h5>"
      }
     },
     "2e6ee56e6ab242d5a1f4cd0813ae9e33": {
      "model_module": "@jupyter-widgets/base",
      "model_module_version": "1.2.0",
      "model_name": "LayoutModel",
      "state": {
       "max_width": "180px"
      }
     },
     "2edb322317ae46ca8b865ae964b6f03a": {
      "model_module": "@jupyter-widgets/controls",
      "model_module_version": "1.5.0",
      "model_name": "DescriptionStyleModel",
      "state": {
       "description_width": ""
      }
     },
     "2f3a5383975946d291e9c2f98ace68cd": {
      "model_module": "@jupyter-widgets/controls",
      "model_module_version": "1.5.0",
      "model_name": "HTMLModel",
      "state": {
       "layout": "IPY_MODEL_72dba464854549d59dfcd0b5738bfc33",
       "style": "IPY_MODEL_b43299160f62408abae1f89cc9e063c3",
       "value": "<h5>0.0284</h5>"
      }
     },
     "2f8379c2d2db4f94badd0dc66423973d": {
      "model_module": "@jupyter-widgets/base",
      "model_module_version": "1.2.0",
      "model_name": "LayoutModel",
      "state": {
       "justify_content": "center"
      }
     },
     "2f968f99d02d488da38cc13fcb50fb9f": {
      "model_module": "@jupyter-widgets/base",
      "model_module_version": "1.2.0",
      "model_name": "LayoutModel",
      "state": {
       "overflow_x": "scroll"
      }
     },
     "2ff207c8576c43a8b53100e5beae17bf": {
      "model_module": "@jupyter-widgets/base",
      "model_module_version": "1.2.0",
      "model_name": "LayoutModel",
      "state": {
       "margin": "0px 5px 0px 0px",
       "width": "32px"
      }
     },
     "30e6004064e544a0a98f9ae20b6441bc": {
      "model_module": "@jupyter-widgets/controls",
      "model_module_version": "1.5.0",
      "model_name": "LabelModel",
      "state": {
       "layout": "IPY_MODEL_fe5dc0a364ba47938fe4bc05e89036f6",
       "style": "IPY_MODEL_d1ccb5ac64994266b84eb434afd6836e",
       "value": "2"
      }
     },
     "315cd4a77e08429f81c7b5031f50f3d2": {
      "model_module": "@jupyter-widgets/base",
      "model_module_version": "1.2.0",
      "model_name": "LayoutModel",
      "state": {
       "width": "190px"
      }
     },
     "31725fdba40e4e908be035d04c543d9a": {
      "model_module": "@jupyter-widgets/controls",
      "model_module_version": "1.5.0",
      "model_name": "HBoxModel",
      "state": {
       "children": [
        "IPY_MODEL_5d193539d640400dad421e78a324c480",
        "IPY_MODEL_a5ce2b77ec824401896e6b42796c02aa",
        "IPY_MODEL_51c890183b9e4ebaafc3ce78a6cfa28b"
       ],
       "layout": "IPY_MODEL_7a1472ac83734036b479d3d2a05b1856"
      }
     },
     "318f7c4c6f4d4debbf4eb7f9993aef30": {
      "model_module": "@jupyter-widgets/controls",
      "model_module_version": "1.5.0",
      "model_name": "DescriptionStyleModel",
      "state": {
       "description_width": ""
      }
     },
     "319f1650d03649919903a16c0b1e6859": {
      "model_module": "@jupyter-widgets/controls",
      "model_module_version": "1.5.0",
      "model_name": "IntProgressModel",
      "state": {
       "layout": "IPY_MODEL_5e3cd10b259b4c8586c066c193fb337b",
       "max": 50,
       "style": "IPY_MODEL_9c98a5e3e6984a9bb3e805a035287c31",
       "value": 2
      }
     },
     "32175afb8027435799907f7ca0a39441": {
      "model_module": "@jupyter-widgets/controls",
      "model_module_version": "1.5.0",
      "model_name": "IntProgressModel",
      "state": {
       "layout": "IPY_MODEL_9e57a2a633154059ab7bb276bfaf6ec9",
       "max": 129,
       "style": "IPY_MODEL_61ec898f132142e79b7937da69d1c2a8",
       "value": 111
      }
     },
     "3226d9e1ec574f7f963a43fefae6b5ec": {
      "model_module": "@jupyter-widgets/controls",
      "model_module_version": "1.5.0",
      "model_name": "HBoxModel",
      "state": {
       "children": [
        "IPY_MODEL_14a089e8d7d84a30a979af390f8a9b6a",
        "IPY_MODEL_f627f55859eb4f508583df7bbf0c3541"
       ],
       "layout": "IPY_MODEL_e18a29a0b345443a9a2dda410526dd67"
      }
     },
     "322f7be644d046308884e120565cab49": {
      "model_module": "@jupyter-widgets/controls",
      "model_module_version": "1.5.0",
      "model_name": "LabelModel",
      "state": {
       "layout": "IPY_MODEL_e5cf130587fc4cfea1697c98034cf8f8",
       "style": "IPY_MODEL_628aee39a4e64966852cde6ed1cd2607",
       "value": "316"
      }
     },
     "3243f657a837406a9e73e718f6aac2c1": {
      "model_module": "@jupyter-widgets/base",
      "model_module_version": "1.2.0",
      "model_name": "LayoutModel",
      "state": {
       "justify_content": "center",
       "max_width": "250px",
       "min_width": "250px"
      }
     },
     "32581a925a0f4284a0b88eeda58830ff": {
      "model_module": "@jupyter-widgets/base",
      "model_module_version": "1.2.0",
      "model_name": "LayoutModel",
      "state": {
       "justify_content": "center"
      }
     },
     "325e009f00484e79a6ebc8f4bf6b758c": {
      "model_module": "@jupyter-widgets/base",
      "model_module_version": "1.2.0",
      "model_name": "LayoutModel",
      "state": {
       "justify_content": "center"
      }
     },
     "32b3de84c5ad43d7a04e8fb3b31eca21": {
      "model_module": "@jupyter-widgets/output",
      "model_module_version": "1.0.0",
      "model_name": "OutputModel",
      "state": {
       "layout": "IPY_MODEL_57fb63ddf9994c9ca96c01aecbce37c3",
       "outputs": [
        {
         "data": {
          "image/png": "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\n",
          "text/plain": "<Figure size 360x360 with 1 Axes>"
         },
         "metadata": {},
         "output_type": "display_data"
        }
       ]
      }
     },
     "32e94fb350934b24b7b3c10ac6cf3f4f": {
      "model_module": "@jupyter-widgets/controls",
      "model_module_version": "1.5.0",
      "model_name": "HTMLMathModel",
      "state": {
       "layout": "IPY_MODEL_3e9546f1bb674cdeacb6ef390991be2b",
       "style": "IPY_MODEL_f78da227947145748698cdbe42cca795",
       "value": "<table><style>\ntable {\n    border-collapse: collapse;\n    width: auto;\n}\n\nth, td {\n    text-align: left;\n    padding: 8px;\n}\n\ntr:nth-child(even) {background-color: #f6f6f6;}\n</style><tr><th></th><th></th></tr><tr><td>local</td><td>False</td></tr><tr><td>measure_esp_enabled</td><td>False</td></tr><tr><td>simulator</td><td>False</td></tr><tr><td>clops</td><td>2454</td></tr><tr><td>memory</td><td>True</td></tr><tr><td>multi_meas_enabled</td><td>True</td></tr><tr><td>rep_times</td><td>[1000.0]</td></tr><tr><td>description</td><td>5 qubit device Belem</td></tr><tr><td>acquisition_latency</td><td>[]</td></tr><tr><td>allow_q_object</td><td>True</td></tr><tr><td>credits_required</td><td>True</td></tr><tr><td>meas_lo_range</td><td>[[6.801489952000001, 7.801489952000001], [6.8934333720000005, 7.8934333720000005], [6.860065181, 7.860065181], [6.8033823270000005, 7.8033823270000005], [6.926310916, 7.926310916]]</td></tr><tr><td>url</td><td>None</td></tr><tr><td>dynamic_reprate_enabled</td><td>True</td></tr><tr><td>default_rep_delay</td><td>250.0</td></tr><tr><td>n_registers</td><td>1</td></tr><tr><td>channels</td><td>{'acquire0': {'operates': {'qubits': [0]}, 'purpose': 'acquire', 'type': 'acquire'}, 'acquire1': {'operates': {'qubits': [1]}, 'purpose': 'acquire', 'type': 'acquire'}, 'acquire2': {'operates': {'qubits': [2]}, 'purpose': 'acquire', 'type': 'acquire'}, 'acquire3': {'operates': {'qubits': [3]}, 'purpose': 'acquire', 'type': 'acquire'}, 'acquire4': {'operates': {'qubits': [4]}, 'purpose': 'acquire', 'type': 'acquire'}, 'd0': {'operates': {'qubits': [0]}, 'purpose': 'drive', 'type': 'drive'}, 'd1': {'operates': {'qubits': [1]}, 'purpose': 'drive', 'type': 'drive'}, 'd2': {'operates': {'qubits': [2]}, 'purpose': 'drive', 'type': 'drive'}, 'd3': {'operates': {'qubits': [3]}, 'purpose': 'drive', 'type': 'drive'}, 'd4': {'operates': {'qubits': [4]}, 'purpose': 'drive', 'type': 'drive'}, 'm0': {'operates': {'qubits': [0]}, 'purpose': 'measure', 'type': 'measure'}, 'm1': {'operates': {'qubits': [1]}, 'purpose': 'measure', 'type': 'measure'}, 'm2': {'operates': {'qubits': [2]}, 'purpose': 'measure', 'type': 'measure'}, 'm3': {'operates': {'qubits': [3]}, 'purpose': 'measure', 'type': 'measure'}, 'm4': {'operates': {'qubits': [4]}, 'purpose': 'measure', 'type': 'measure'}, 'u0': {'operates': {'qubits': [0, 1]}, 'purpose': 'cross-resonance', 'type': 'control'}, 'u1': {'operates': {'qubits': [1, 0]}, 'purpose': 'cross-resonance', 'type': 'control'}, 'u2': {'operates': {'qubits': [1, 2]}, 'purpose': 'cross-resonance', 'type': 'control'}, 'u3': {'operates': {'qubits': [1, 3]}, 'purpose': 'cross-resonance', 'type': 'control'}, 'u4': {'operates': {'qubits': [2, 1]}, 'purpose': 'cross-resonance', 'type': 'control'}, 'u5': {'operates': {'qubits': [3, 1]}, 'purpose': 'cross-resonance', 'type': 'control'}, 'u6': {'operates': {'qubits': [3, 4]}, 'purpose': 'cross-resonance', 'type': 'control'}, 'u7': {'operates': {'qubits': [4, 3]}, 'purpose': 'cross-resonance', 'type': 'control'}}</td></tr><tr><td>dt</td><td>0.2222222222222222</td></tr><tr><td>u_channel_lo</td><td>[[{'q': 1, 'scale': (1+0j)}], [{'q': 0, 'scale': (1+0j)}], [{'q': 2, 'scale': (1+0j)}], [{'q': 3, 'scale': (1+0j)}], [{'q': 1, 'scale': (1+0j)}], [{'q': 1, 'scale': (1+0j)}], [{'q': 4, 'scale': (1+0j)}], [{'q': 3, 'scale': (1+0j)}]]</td></tr><tr><td>online_date</td><td>2021-01-08 05:00:00+00:00</td></tr><tr><td>hamiltonian</td><td>$$\\begin{align} \\mathcal{H}/\\hbar = & \\sum_{i=0}^{4}\\left(\\frac{\\omega_{q,i}}{2}(\\mathbb{I}-\\sigma_i^{z})+\\frac{\\Delta_{i}}{2}(O_i^2-O_i)+\\Omega_{d,i}D_i(t)\\sigma_i^{X}\\right) \\\\ & + J_{0,1}(\\sigma_{0}^{+}\\sigma_{1}^{-}+\\sigma_{0}^{-}\\sigma_{1}^{+}) + J_{1,2}(\\sigma_{1}^{+}\\sigma_{2}^{-}+\\sigma_{1}^{-}\\sigma_{2}^{+}) + J_{1,3}(\\sigma_{1}^{+}\\sigma_{3}^{-}+\\sigma_{1}^{-}\\sigma_{3}^{+}) + J_{3,4}(\\sigma_{3}^{+}\\sigma_{4}^{-}+\\sigma_{3}^{-}\\sigma_{4}^{+}) \\\\ & + \\Omega_{d,0}(U_{0}^{(0,1)}(t))\\sigma_{0}^{X} + \\Omega_{d,1}(U_{1}^{(1,0)}(t)+U_{3}^{(1,3)}(t)+U_{2}^{(1,2)}(t))\\sigma_{1}^{X} \\\\ & + \\Omega_{d,2}(U_{4}^{(2,1)}(t))\\sigma_{2}^{X} + \\Omega_{d,3}(U_{6}^{(3,4)}(t)+U_{5}^{(3,1)}(t))\\sigma_{3}^{X} \\\\ & + \\Omega_{d,4}(U_{7}^{(4,3)}(t))\\sigma_{4}^{X} \\\\ \\end{align}$$</td></tr><tr><td>conditional</td><td>False</td></tr><tr><td>coupling_map</td><td>[[0, 1], [1, 0], [1, 2], [1, 3], [2, 1], [3, 1], [3, 4], [4, 3]]</td></tr><tr><td>discriminators</td><td>['hw_centroid', 'quadratic_discriminator', 'linear_discriminator']</td></tr><tr><td>rep_delay_range</td><td>[0.0, 500.0]</td></tr><tr><td>qubit_channel_mapping</td><td>[['u0', 'd0', 'm0', 'u1'], ['u0', 'm1', 'u5', 'u3', 'u1', 'u2', 'u4', 'd1'], ['u4', 'd2', 'm2', 'u2'], ['u7', 'u5', 'd3', 'u3', 'u6', 'm3'], ['d4', 'u7', 'm4', 'u6']]</td></tr><tr><td>qubit_lo_range</td><td>[[4.590212061000103, 5.590212061000103], [4.745507603451665, 5.745507603451665], [4.861500828470743, 5.861500828470744], [4.670645325553972, 5.670645325553972], [4.758644659191847, 5.758644659191847]]</td></tr><tr><td>timing_constraints</td><td>{'acquire_alignment': 16, 'granularity': 16, 'min_length': 64, 'pulse_alignment': 1}</td></tr><tr><td>supported_features</td><td>['qobj']</td></tr><tr><td>sample_name</td><td>family: Falcon, revision: 4, segment: T</td></tr><tr><td>open_pulse</td><td>False</td></tr><tr><td>n_uchannels</td><td>8</td></tr><tr><td>processor_type</td><td>{'family': 'Falcon', 'revision': 4, 'segment': 'T'}</td></tr><tr><td>uchannels_enabled</td><td>True</td></tr><tr><td>conditional_latency</td><td>[]</td></tr><tr><td>supported_instructions</td><td>['shiftf', 'play', 'reset', 'sx', 'setf', 'acquire', 'u3', 'cx', 'u1', 'measure', 'x', 'rz', 'u2', 'delay', 'id']</td></tr><tr><td>input_allowed</td><td>['job', 'runtime']</td></tr><tr><td>allow_object_storage</td><td>True</td></tr><tr><td>live_data</td><td>False</td></tr><tr><td>meas_levels</td><td>[1, 2]</td></tr><tr><td>pulse_num_qubits</td><td>3</td></tr><tr><td>meas_kernels</td><td>['hw_boxcar']</td></tr><tr><td>dtm</td><td>0.2222222222222222</td></tr><tr><td>backend_name</td><td>ibmq_belem</td></tr><tr><td>pulse_num_channels</td><td>9</td></tr><tr><td>meas_map</td><td>[[0, 1, 2, 3, 4]]</td></tr><tr><td>parametric_pulses</td><td>['gaussian', 'gaussian_square', 'drag', 'constant']</td></tr></table>"
      }
     },
     "331d850b4bea4ae09fc4716411f34668": {
      "model_module": "@jupyter-widgets/controls",
      "model_module_version": "1.5.0",
      "model_name": "DescriptionStyleModel",
      "state": {
       "description_width": ""
      }
     },
     "33be807f54e34149a88e91d814f37a3d": {
      "model_module": "@jupyter-widgets/controls",
      "model_module_version": "1.5.0",
      "model_name": "HTMLModel",
      "state": {
       "layout": "IPY_MODEL_727ae11315e14643badba141de59a35b",
       "style": "IPY_MODEL_4e08abe661894d79abf5b7770736c1bb",
       "value": "<h5>1</h5>"
      }
     },
     "33e792d40b434e2bb439a34e192af8c8": {
      "model_module": "@jupyter-widgets/controls",
      "model_module_version": "1.5.0",
      "model_name": "DescriptionStyleModel",
      "state": {
       "description_width": ""
      }
     },
     "33f2a57988dd413b9b9a5346b62f7250": {
      "model_module": "@jupyter-widgets/base",
      "model_module_version": "1.2.0",
      "model_name": "LayoutModel",
      "state": {}
     },
     "34e2c63d8c3e458eb2685470e380a634": {
      "model_module": "@jupyter-widgets/base",
      "model_module_version": "1.2.0",
      "model_name": "LayoutModel",
      "state": {
       "width": "95px"
      }
     },
     "34faaf780f124aa8b0369abbf5e27ac7": {
      "model_module": "@jupyter-widgets/base",
      "model_module_version": "1.2.0",
      "model_name": "LayoutModel",
      "state": {}
     },
     "354eb5ad349e40148d5f15c28e65774d": {
      "model_module": "@jupyter-widgets/base",
      "model_module_version": "1.2.0",
      "model_name": "LayoutModel",
      "state": {}
     },
     "356144ae57124ebf8cc87dae4ea6e4ec": {
      "model_module": "@jupyter-widgets/controls",
      "model_module_version": "1.5.0",
      "model_name": "HTMLModel",
      "state": {
       "layout": "IPY_MODEL_aa7cecfc7066426188728b5beb5cea4c",
       "style": "IPY_MODEL_b7e94a9e9e01496ca60b4ac2a50eae9e",
       "value": "<h5>16</h5>"
      }
     },
     "3563fd1e012141b785a8da071cfa0966": {
      "model_module": "@jupyter-widgets/base",
      "model_module_version": "1.2.0",
      "model_name": "LayoutModel",
      "state": {}
     },
     "356d4fbeaa7b4bca9566b31397dea22f": {
      "model_module": "@jupyter-widgets/controls",
      "model_module_version": "1.5.0",
      "model_name": "HBoxModel",
      "state": {
       "children": [
        "IPY_MODEL_d75d12f7d4c24fa98402cbc686ae5e79",
        "IPY_MODEL_d86a468244364d689faf73689fec0042",
        "IPY_MODEL_5fad9047d5be4233980f63b499ecb25d",
        "IPY_MODEL_9551b738628c4071b0780bf88b88a888",
        "IPY_MODEL_1603b25ebf32499ab69cc4bf897730f4",
        "IPY_MODEL_e411edc2d50743e68010108b1a713d6d"
       ],
       "layout": "IPY_MODEL_cacba346f6ea40d2a49e7bd341e4da8b"
      }
     },
     "357ed5322fb34f2ab04b51fffe6c7b9c": {
      "model_module": "@jupyter-widgets/controls",
      "model_module_version": "1.5.0",
      "model_name": "HTMLModel",
      "state": {
       "layout": "IPY_MODEL_56f3bb1b535a452eb30eb5718fbca1c1",
       "style": "IPY_MODEL_c4abc7349d3643349b25952899df8d36",
       "value": "<h5>0.0294</h5>"
      }
     },
     "363da0761e8b43d2901fcb0b7032c5c1": {
      "model_module": "@jupyter-widgets/output",
      "model_module_version": "1.0.0",
      "model_name": "OutputModel",
      "state": {
       "layout": "IPY_MODEL_7c36bea94c97440db183ee7610c3594b",
       "outputs": [
        {
         "data": {
          "image/png": "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\n",
          "text/plain": "<Figure size 360x360 with 1 Axes>"
         },
         "metadata": {},
         "output_type": "display_data"
        }
       ]
      }
     },
     "3667b29a18144b3fab1e97d978c4fd6b": {
      "model_module": "@jupyter-widgets/controls",
      "model_module_version": "1.5.0",
      "model_name": "DescriptionStyleModel",
      "state": {
       "description_width": ""
      }
     },
     "36b046d0654d49f183a56800b353abf2": {
      "model_module": "@jupyter-widgets/base",
      "model_module_version": "1.2.0",
      "model_name": "LayoutModel",
      "state": {
       "margin": "0px 0px 0px 0px"
      }
     },
     "36b1b3325b344939b97e79c7fabe2ac1": {
      "model_module": "@jupyter-widgets/base",
      "model_module_version": "1.2.0",
      "model_name": "LayoutModel",
      "state": {
       "max_height": "620px"
      }
     },
     "36bbc3a4501d4ac69f11a490025c7829": {
      "model_module": "@jupyter-widgets/controls",
      "model_module_version": "1.5.0",
      "model_name": "DescriptionStyleModel",
      "state": {
       "description_width": ""
      }
     },
     "36be0ecb70cf4aacbfbc0774eeebef32": {
      "model_module": "@jupyter-widgets/base",
      "model_module_version": "1.2.0",
      "model_name": "LayoutModel",
      "state": {
       "justify_content": "center"
      }
     },
     "377c0e26db3e42a3b00e5afd5983e994": {
      "model_module": "@jupyter-widgets/controls",
      "model_module_version": "1.5.0",
      "model_name": "HTMLModel",
      "state": {
       "layout": "IPY_MODEL_325e009f00484e79a6ebc8f4bf6b758c",
       "style": "IPY_MODEL_5e86009ddebf40bf9a94038aa75d2984",
       "value": "<h5 style='color:#34bc6e'>True</h5>"
      }
     },
     "378786b0383b4a81bc53d4b2ba92c58e": {
      "model_module": "@jupyter-widgets/base",
      "model_module_version": "1.2.0",
      "model_name": "LayoutModel",
      "state": {
       "max_height": "620px"
      }
     },
     "37cfddc8af6a4780922776a6dea8234a": {
      "model_module": "@jupyter-widgets/controls",
      "model_module_version": "1.5.0",
      "model_name": "HTMLModel",
      "state": {
       "layout": "IPY_MODEL_e3ec97b56b0446f9be8248a0c3e00052",
       "style": "IPY_MODEL_bcf8fe5173044f4eba2fac9ad713585e",
       "value": "<h5>0.0429</h5>"
      }
     },
     "3804e7597c3a4f4ea6d3d9e3f395e6e3": {
      "model_module": "@jupyter-widgets/base",
      "model_module_version": "1.2.0",
      "model_name": "LayoutModel",
      "state": {
       "border": "4px solid #000000",
       "max_height": "650px",
       "min_height": "650px",
       "overflow_y": "hidden"
      }
     },
     "38219a89bb3547a4b18d185d6e682d71": {
      "model_module": "@jupyter-widgets/base",
      "model_module_version": "1.2.0",
      "model_name": "LayoutModel",
      "state": {}
     },
     "384b21f89b4547c4979b8b5ce2215b83": {
      "model_module": "@jupyter-widgets/base",
      "model_module_version": "1.2.0",
      "model_name": "LayoutModel",
      "state": {
       "grid_gap": "0px 0px",
       "grid_template_areas": "\n                                                   \"top top top\"\n                                                   \"left middle right\"\n                                                   ",
       "grid_template_columns": "33% 33% 33%",
       "grid_template_rows": "auto auto"
      }
     },
     "3970c43f5f5f4c5f9ea2d4229d2a0aae": {
      "model_module": "@jupyter-widgets/base",
      "model_module_version": "1.2.0",
      "model_name": "LayoutModel",
      "state": {
       "max_height": "620px"
      }
     },
     "3972797e89c141c4ab5c4e495a7ea90a": {
      "model_module": "@jupyter-widgets/output",
      "model_module_version": "1.0.0",
      "model_name": "OutputModel",
      "state": {
       "layout": "IPY_MODEL_3fbdb5ae99fa428b80c5d0fbe93d7322",
       "outputs": [
        {
         "data": {
          "image/png": "iVBORw0KGgoAAAANSUhEUgAAAR4AAAEeCAYAAABcyXrWAAAAOXRFWHRTb2Z0d2FyZQBNYXRwbG90bGliIHZlcnNpb24zLjUuMSwgaHR0cHM6Ly9tYXRwbG90bGliLm9yZy/YYfK9AAAACXBIWXMAAAsTAAALEwEAmpwYAAASC0lEQVR4nO3df7BmdV3A8ffdXdhfLEiak1n+IFglBBVNEy01UgcGRZgUHc0f6WkyazyWUqkj+HtEydNokhwpMrIUE4VkQgdGKksZwAQVEyQd1JTRRoV7d5f98fTH91z2cndd7u7zPJ/vOc/3/ZphmNl793y/e+7zvO/59ZwzNxqNkKRIq3JPQFJ5DI+kcIZHUjjDIymc4ZEUzvBICmd4JIUzPJLCGR5J4QyPpHCGR1I4wyMpnOGRFM7wSApneCSFMzySwhkeSeEMj6RwhkdSOMMjKZzhkRTO8EgKZ3gkhTM8ksIZHknhDI+kcIZHUjjDIymc4ZEUzvBICmd4JIUzPJLCGR5J4QyPpHCGR1I4wyMpnOGRFM7wSApneCSFMzySwhkeSeEMj6RwhkdSOMMjKZzhkRTO8EgKZ3gkhTM8ksIZHknhDI+kcIZHUjjDIymc4ZEUzvBICmd4JIUzPJLCrck9AQ1D1TAH/ALwGOCXgUOBOWAeuAW4Dri5rdmVbZIajLnRaJR7DuqxquFRwB8Bzyb9oroLOARY3X3LCLiTtPW8BrgaeDdwpRHST2N4tFdVw9OBc4EjgLXsDs29GZG2gu4AzgI+2Nb4ItM9GB7dQ9VwGPA+4HRgw5iLmwduBJ7X1nxr3Llpdhge3a1qOB64grQrtW5Ci90BbANe0tZ8bELL1MB5VksAVA0nkI7P3I/JRQfScZ+NwIeqhpdOcLkaMLd4tHgA+d9IWzrTtEDa8rl4yuOo5wxP4aqGDcDNwANIp8enbQE4tq25NWAs9ZS7WnoXcDgx0YF0huwjVeNrr2T+8AtWNTwBeCmwPnDY1cDRwCsCx1TPGJ6yvZnJHkheqY3AWVWz4muDNGMMT6GqhgcBTyJuF2u5dcBJmcZWZoanXK8gX3QANgFnZhxfGRmecp1OOtCb069WDQdlnoMyMDwFqhoOBh6aex7AVuCY3JNQPMNTpmNIb/rcVpFus6HCGJ4ybYZefGJ8I+nePiqM4SnTevrzs9+UewKK15cXn2L1YWtnkTcLK5DhKdMC/XjDj0g3DFNhDE+ZbqIfP/vFG4WpMH148Sne14CDc0+ic13uCSie4SlQW7ODdCuM3A4mRVCFMTzl+kdgS8bxR8BVbc3OjHNQJoanXOeT97Na88A5GcdXRoanUG3N7cC/kO/s1o+Az2YaW5kZnrK9kfQEiGjzwJk+b6tchqdgbc2NpFufzgcOexfwOdIxJhXK8OitpN2eKNuAF7u1UzbDo5OA+weNtQCc1tZ8L2g89ZThKVjV8CzgYxByM64F4Iy25sqAsdRza3JPQHnsIzq3kx7sN+5z0xdtY/eWztUTWqYGzi2eAu0jOi8HfhFoSBcXjnscZgG4DDjS6GgpnyRamH1Fp625YMn3PQp4O/BU0oWGK70/8w5gO+mjEG9oay4fd86aPYanICuNzrK/80DSEymeT9oa2gIcuuzbfkzaNfsBcDnQtDVfnuDUNWMMTyEOJDp7WcY64FjgmmVfegrwxbbmJ+POU2UwPAWYRHSWLe8eL5q2zvqZLw2QB5dn3KSjI02C4ZlhRkd9ZXhmlNFRnxmeGWR01HeGZ8YYHQ2B4ZkhRkdDYXhmhNHRkBieGWB0NDSGZ+CMjobI8AyY0dFQGZ6BMjoaMsMzQEZHQ2d4BqZqeCtwCUZHA+atTweki87r9/Ilo6NBcYtnIKqGt2B0NCMMzwBUDacCf7qXL11odDREhqfnuuhczJ67xRe2NS/NMCVpbIanx5ZEZ+mB5BFwgdHRkHlwuaf2EZ2XtzV/nWdW0mS4xdNDRkezzvD0jNFRCQxPjxgdlcLw9ITRUUkMTw8YHZXG8GRmdFQiw5OR0VGpDE8mRkclMzwZGB2VzvAEMzqS4QlldKTE8AQxOtJuc6PRKPcceqlqWAUcBTwGOA64D7AamAe+DlwL3NDWbF3BsgYfnaphNbAZeCzwoWVf/j3S+vhyW7Mtem45VA1rgIeTXh+PAA4F5oA7ga8C15HWx/Zsk+wxw7NE1TAHPB74Y+AUYCewCziE9KJatADsADYANwDnAJe0NXftZZmDjU63Pp4EvAZ4BrCdNPdNy751cX2sB64nrY9L25odcbOdvm59PBV4LfAbcPfPeyP3fH3Mk14764HPA+8CLm9rdsbNtt8MT6dqOBlogJ8nvWD2Zzf0DlKg3g28c/G33MCjcxpwLvCz7PnGujd3kEL0duA9Q3/DdcF5PvBO0pbvgayPbcDZwHltza4JT3Fwig9P1XA4cB7wTNIWzDjmgW8DzwUeygCjUzXcD7gAOJH0BhvHPHAr8Ny25mvjzi2HquEBpF3LJzCZ9XETcEZbc+u4cxuyosNTNRwPfJq0K7V2QosdkXZJVnf/Lf3zvkfnBOByYB2TWx+7SL/tf7+tuXBCywxRNZxIepTQOvZ8nNCB2klaHy9pay6e0DIHp9izWt2b7GrgvkzuTQZpE/xghhedE0kRPozJro9VpF3Xv6waXjXB5U5V1XAKcCnpeNakogPpdbEBuLBqyr19bZFbPFXDI4F/J23pTNsQovN44CrG39W8NwvAK/u+5VM1PAX4FNNfH1uAF7U1H5vyOL1T3BZP1bAeuIzx99dXajvwxaCx9lvVsIm0Pqb9JqMb4/1Vw8MDxjogVcPPAB8nZn2sJ235PCRgrF4pLjzAO0i7V/tzVmIcBwEXVw0HB423v/6CmC2/RWuBj3bXBfXR+cREZ9Fa4MPdmbNiFBWequGxwO8S+8KaAx4AvCFwzBWpGp4MnEH6zRtlFXAEUAeOuSLdJRUnMdljXPdmDekC1ZcHjpldUeEBziKdoYi2AXh1t5vXJ28mNsKLNgKv767+7ZO3kW99nN1dLV+EYv6hVcPPAU8jbhdrb56Tcex7qBqOAB6XcQprSNdO9ULVcCzwsIxTOJR07VQRigkPaRcr5ym8Q4A/yTj+cq8k789/E/1aH69isqfN99dG0kdTilBSeE4jz27WUkdVDYdmnsOiZ0H2A97HV03o8ZR9OZm8T9adA369lN2tIv6R3Q/z6NzzIF3H8ujck+je7A/OPQ/SdSyPyD2JquEw4H6550G6qvnI3JOIUER4SLe36MMnpdeRbqOQ2yNIb/rc1tCP9fFo0i+F3HbRj/UxdX07qzAtR9KP8KwlnTrN7SjyHmRftAH4QNXwgdwT6YlDSD+bmVfKFs86+vFGg7grpvelT+tDu83Rj9fH1JUSnhF5z2gt1Yd7sfRlXWhPg7530UqVEp753BNY4se5J0BaH30IoO5pB+nWqTOvlGM8XyX/qWNIBzCvzz0J4Cv045fOHaT79FyUcxJVw+OAz0D2Sx3mST+bmdeHF1+Eb9OPg8s7SDcBz+3r5L1YbtEc6Sbxud1Ano9KLLeWfrw+pq6I8LQ1I9KLK7f1wI25J9HdA/nruedBil/2eXRPCrkt9zxIN4//Tu5JRCgiPJ2/I//+8+dW8jicIBeR99qVXcAVPbrx+Ych689mB/DJ7pfkzCspPH9P3n/vHaTHvvTFBeRdHwukx770xXmZx78L+PPMcwhTTHjamjtJv+VzPWBtAbgi09h7aGt+CHySfKdvbwc+l2nsPbQ13wE+S75LDb7R1vxXprHDFROeztthz4fuBZgHzuzRbsWis8izPhaA1/Rwt+LPyLO7tUB6iGQxigpPW/Mt0lMgI6/r2Q5cQzrG1CttzX+TbgYWuT62AZ9pay4JHHNFui2O9xB77Gsr8E9tzWcCx8yuqPB0/op0Zilql2sb8MIe/nZf9C7SQ/eiLjfYSr9v8/km4k5CjLqx/iBovN4oLjxdAE4Fvs/0j28sAM9ua7475XEOWHdq/WTg/5j+1czzwMltzQ+mPM44fhu4f9BY88DT25qfBI3XG8WFB6CtuR04Afge09vyWSA9qvbKKS1/YtqabwNPBH7I9LZ85oFntTX/MaXlj61qeBnwwYChRqSznM9o6/4++miaigwPQFtzG+neJ19issc4tpK2Hk5ua/55gsudqrbmFuB40rO9J7k+tpDOYJ3Y1lw1weVO1E+JznbSBX2TXh/fBX6tzxGetmLDA9DWfB94PPA60hbKuLteC8AngF9qa64ec1nhui2fRwNvJb1BJrE+/gE4sq35wpjLmpp9ROe3gIcC55LWxzi7oqNuGRcAm9uaL42xrMEr8hHGe9M9deFs0pMgdrLy+6LcRXpBXg+cPStnJ6qGh5EOtJ5K+vet9LNMi+vjC8BZfQ/wvqLT1ly65PuOJa2Pk0gRWemjirZ13/+vpPXx+bEnPQMMzzJVw32AF3f/HU2K0E52bx0u3ttnPenzPZ8C3tvW3Bw+2QBVw32BlwEvID3+ZTspLHtbH98kPQ75fW3N/4RPdj+tNDrL/s79gQp4HrCZ3aFduj4g3WztVuAS4P3drr06hmcfupvEH0m6R/FGYDXpGM43gBt79LmrEN362AwcQ1ofq0i7DzcDX27rLBcjHpADic5elrEaeDjpF9QG0vpYIH3w9Sttne0q+d4zPCrOJKKj8RR9cFnlMTr9YHhUDKPTH4ZHRTA6/WJ4NPOMTv8YHs00o9NPhkczy+j0l+HRTDI6/WZ4NHOMTv8ZHs0UozMMhkczw+gMh+HRTDA6w2J4NHhGZ3jW5J6ANI6q4W+Alyz7Y6PTc27xaLCMznAZHg1S1XABe0ZnF0ZnEAyPBqc7pvM7e/nSO4zOMBgeDco+HkHztrbmDdHz0YHx4LIG46dEZwdpS+eNGaakA2R4NAieMp8t7mqp94zO7DE86jWjM5sMj3rL6Mwuw6NeMjqzzfCod4zO7DM86hWjUwbDo94wOuUwPOoFo1MWw6PsjE55DI+yMjplMjzKxuiUy/AoC6NTNj8kqhWpGtYBxwGPAY4HDgPmgHngRuA64Pq25icrWJbRKdzcaDTKPQf1VNWwGngGcCZwArCF9Mtqw7Jv3QZs7f78ZuAc4KNtzZa9LNPoyPBoT1XDHPAiUkDWA5v2cxF3dv9vgLe0NXd1yzU6AgyPlqkaHghcBPwKsHHMxS0A/ws8h7R7ZnQEGB4tUTX8JnAJsBY4aEKLHZHuErh8eUanYIZHAFQNpwAfYc/jN9NgdApneETV8GTgcmKisxM43eiUzet4Clc1HA58nJjoQArPN4PGUk8ZHp3H+AeR98dBwMVVM7FjSBogw1OwquFpwDNJB5OjzAEPJF0bpEIZnrK9ibhdrKU2Aq+tGg7OMLZ6wPAUqmrYDDwq4xRWAc/OOL4yMjzl+kPyflZvE+5uFcvwlOtkJneR4IE6rvvwqQpjeArUvdkflHsepA+dHpt7EopneMp0HOlzVLmtAR6bexKKZ3jKdATptHZuG4DNuSeheIanTOvpR3gg9uJF9YThKdPO3BNYok9zURDDU6Y7gV25J0G6ZcaPck9C8QxPmb4CrM49CVIAb8g9CcUzPGW6mX6EZxXpJvEqjOEpUFuzC/ha7nmQ4ndL7kkonuEp19+SHk2Tyy7gsi6CKozhKdeF5N3d2gKcm3F8ZWR4CtXW/Ai4mHyns78DXJNpbGVmeMp2NulhfNEWgFe3Nd7wu1CGp2Btza3A64g91rMVuLStuTxwTPWM4dF7gZtIj5yJMA+8Imgs9ZThKVx3VukU4Hamf7znTuDp3fElFczwiLbm+8ATSI8bnsaWzwi4gxSd66ewfA2M4REAbc1tpHvjXMtkj/ksALcBT2pr/nOCy9WAGR7drdvyeSLwGlJ8doyxuBHpWp3zgYe1tZ/J0m4+wlh7VTU8mHTG64Wkq4wPWeFf3dr9/9PAW9qaa6cwPQ2c4dE+VQ2HAC8gBeiRpBvEL177M0fasllDugr6JuATwPltzffCJ6vBMDxasaq5+ymgx5BuW7qKtDt1C3CLn7vSShkeSeE8uCwpnOGRFM7wSApneCSFMzySwhkeSeEMj6RwhkdSOMMjKZzhkRTO8EgKZ3gkhTM8ksIZHknhDI+kcIZHUjjDIymc4ZEUzvBICmd4JIUzPJLCGR5J4QyPpHCGR1I4wyMpnOGRFM7wSApneCSFMzySwhkeSeEMj6RwhkdSOMMjKZzhkRTO8EgKZ3gkhTM8ksIZHknhDI+kcIZHUjjDIymc4ZEUzvBICmd4JIUzPJLCGR5J4QyPpHCGR1I4wyMpnOGRFM7wSApneCSFMzySwhkeSeEMj6RwhkdSuP8H4ejhn5CawyYAAAAASUVORK5CYII=\n",
          "text/plain": "<Figure size 360x360 with 1 Axes>"
         },
         "metadata": {},
         "output_type": "display_data"
        }
       ]
      }
     },
     "3974ab2475ee4637aeba13529d722a6e": {
      "model_module": "@jupyter-widgets/controls",
      "model_module_version": "1.5.0",
      "model_name": "HTMLModel",
      "state": {
       "layout": "IPY_MODEL_d44f6b48efcd4ccc9a7f6989cecc48e5",
       "style": "IPY_MODEL_331d850b4bea4ae09fc4716411f34668",
       "value": "<h5>32</h5>"
      }
     },
     "397519139ad241648071d793b31d921a": {
      "model_module": "@jupyter-widgets/base",
      "model_module_version": "1.2.0",
      "model_name": "LayoutModel",
      "state": {}
     },
     "398428239cb64b5baec9ce447b67c811": {
      "model_module": "@jupyter-widgets/controls",
      "model_module_version": "1.5.0",
      "model_name": "HTMLModel",
      "state": {
       "layout": "IPY_MODEL_20476e40a5134eea9778c0b24f5260e3",
       "style": "IPY_MODEL_f4e94489a3fa4c91bf8f583eeec29e2c",
       "value": "<h2 style ='color:#ffffff; background-color:#000000;padding-top: 1%; padding-bottom: 1%;padding-left: 1%;margin-top: 0px'>Backend Overview</h2>"
      }
     },
     "3a172278282a4dc38d7c27fc7ae314f5": {
      "model_module": "@jupyter-widgets/base",
      "model_module_version": "1.2.0",
      "model_name": "LayoutModel",
      "state": {
       "margin": "8px 0px 0px 0px"
      }
     },
     "3a543f77c5234008a39a01615aad4293": {
      "model_module": "@jupyter-widgets/controls",
      "model_module_version": "1.5.0",
      "model_name": "DescriptionStyleModel",
      "state": {
       "description_width": ""
      }
     },
     "3ab89c0ce3aa48c39c74c02d2abba3d0": {
      "model_module": "@jupyter-widgets/base",
      "model_module_version": "1.2.0",
      "model_name": "LayoutModel",
      "state": {}
     },
     "3ac7f1f849b74d74931fcfbfa19c606a": {
      "model_module": "@jupyter-widgets/base",
      "model_module_version": "1.2.0",
      "model_name": "LayoutModel",
      "state": {
       "max_width": "180px"
      }
     },
     "3ae343a21678452986a9d0641b4e3cc2": {
      "model_module": "@jupyter-widgets/controls",
      "model_module_version": "1.5.0",
      "model_name": "HTMLModel",
      "state": {
       "layout": "IPY_MODEL_3cec345a97214da4b481cec6f9e3f9bb",
       "style": "IPY_MODEL_d79012a5364f44958755336c837df256",
       "value": "<h4>ibmq_armonk</h4>"
      }
     },
     "3b075ede0fdc4229bc5b1811dfc8fdf6": {
      "model_module": "@jupyter-widgets/controls",
      "model_module_version": "1.5.0",
      "model_name": "HTMLModel",
      "state": {
       "layout": "IPY_MODEL_4f65aa5c623142b4be8967022bf9a44e",
       "style": "IPY_MODEL_1036e98564c4413ca9354f46ce865e9a",
       "value": "<h4>ibmq_lima</h4>"
      }
     },
     "3b56fce3a54d45369cc60c207c45e255": {
      "model_module": "@jupyter-widgets/controls",
      "model_module_version": "1.5.0",
      "model_name": "DescriptionStyleModel",
      "state": {
       "description_width": ""
      }
     },
     "3b9b795e482c4f4198cf02ae2dea2169": {
      "model_module": "@jupyter-widgets/base",
      "model_module_version": "1.2.0",
      "model_name": "LayoutModel",
      "state": {
       "margin": "8px 0px 0px 0px"
      }
     },
     "3ba1483baa214643a9a52c34ff1aaad3": {
      "model_module": "@jupyter-widgets/controls",
      "model_module_version": "1.5.0",
      "model_name": "DescriptionStyleModel",
      "state": {
       "description_width": ""
      }
     },
     "3c36bdce94be439fa3c1e6651562acd5": {
      "model_module": "@jupyter-widgets/base",
      "model_module_version": "1.2.0",
      "model_name": "LayoutModel",
      "state": {}
     },
     "3c383820a6b24493bae56876e3bdc85a": {
      "model_module": "@jupyter-widgets/controls",
      "model_module_version": "1.5.0",
      "model_name": "DescriptionStyleModel",
      "state": {
       "description_width": ""
      }
     },
     "3c820910cec2484b971188cb92159ac0": {
      "model_module": "@jupyter-widgets/output",
      "model_module_version": "1.0.0",
      "model_name": "OutputModel",
      "state": {
       "layout": "IPY_MODEL_e98d1f549e4f4bb7bbd631fb06816d84",
       "outputs": [
        {
         "data": {
          "image/png": "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\n",
          "text/plain": "<Figure size 360x360 with 1 Axes>"
         },
         "metadata": {},
         "output_type": "display_data"
        }
       ]
      }
     },
     "3cec345a97214da4b481cec6f9e3f9bb": {
      "model_module": "@jupyter-widgets/base",
      "model_module_version": "1.2.0",
      "model_name": "LayoutModel",
      "state": {}
     },
     "3cf9360545ff4097a2e4372435e3e9e2": {
      "model_module": "@jupyter-widgets/base",
      "model_module_version": "1.2.0",
      "model_name": "LayoutModel",
      "state": {
       "justify_content": "center"
      }
     },
     "3d5755130cf74f1ea77e09769b12505d": {
      "model_module": "@jupyter-widgets/base",
      "model_module_version": "1.2.0",
      "model_name": "LayoutModel",
      "state": {}
     },
     "3d7409ba963d4e8fb693dce6035d0904": {
      "model_module": "@jupyter-widgets/controls",
      "model_module_version": "1.5.0",
      "model_name": "LabelModel",
      "state": {
       "layout": "IPY_MODEL_eb62d7713b0e4b9f94047a479fe83021",
       "style": "IPY_MODEL_1de0c8dbd1444c94bac41206d0652456",
       "value": "Operational"
      }
     },
     "3dc7220b0d9d4165adbc40d360cd430b": {
      "model_module": "@jupyter-widgets/controls",
      "model_module_version": "1.5.0",
      "model_name": "HTMLModel",
      "state": {
       "layout": "IPY_MODEL_354eb5ad349e40148d5f15c28e65774d",
       "style": "IPY_MODEL_6b3c737afce24cfda01e546dbcc13d6b",
       "value": "<h5>Message</h5>"
      }
     },
     "3ddafe2703f04386af6ed388d64fd411": {
      "model_module": "@jupyter-widgets/controls",
      "model_module_version": "1.5.0",
      "model_name": "HTMLModel",
      "state": {
       "layout": "IPY_MODEL_d297b962a105469b910876a627f44b72",
       "style": "IPY_MODEL_f7b60fd7f2bf4fff85cd37bd38b6eb8e",
       "value": "<h5 style='color:#34bc6e'>True</h5>"
      }
     },
     "3e083de6992e408094351f4df0fae80a": {
      "model_module": "@jupyter-widgets/controls",
      "model_module_version": "1.5.0",
      "model_name": "HTMLModel",
      "state": {
       "layout": "IPY_MODEL_acff9593ba494a078cfa9c949ec04998",
       "style": "IPY_MODEL_84ca7adef219418b8dec946f5d9425f9",
       "value": "<h5>91.9 / 104.1 us</h5>"
      }
     },
     "3e14fa2224dc4794ac69ce1199e8371a": {
      "model_module": "@jupyter-widgets/base",
      "model_module_version": "1.2.0",
      "model_name": "LayoutModel",
      "state": {
       "margin": "8px 0px 0px 0px"
      }
     },
     "3e2a9f05f99b47aeab118a2380d95822": {
      "model_module": "@jupyter-widgets/controls",
      "model_module_version": "1.5.0",
      "model_name": "IntProgressModel",
      "state": {
       "layout": "IPY_MODEL_7c702ebff8e94c99b00cb4a749743cb8",
       "max": 50,
       "style": "IPY_MODEL_cc11459d90bc42b8b429aa079a7a60c2",
       "value": 3
      }
     },
     "3e3300dca14f41e4902fd8b2bfa2b1e1": {
      "model_module": "@jupyter-widgets/controls",
      "model_module_version": "1.5.0",
      "model_name": "HTMLModel",
      "state": {
       "layout": "IPY_MODEL_3f531eb8b3a84330a7ec04b719c323a9",
       "style": "IPY_MODEL_d7fb7cd201a7430aacc5df5ad867bc88",
       "value": "<h4>ibmq_armonk</h4>"
      }
     },
     "3e7a139013d740c29c473ecfaa52f881": {
      "model_module": "@jupyter-widgets/controls",
      "model_module_version": "1.5.0",
      "model_name": "DescriptionStyleModel",
      "state": {
       "description_width": ""
      }
     },
     "3e9546f1bb674cdeacb6ef390991be2b": {
      "model_module": "@jupyter-widgets/base",
      "model_module_version": "1.2.0",
      "model_name": "LayoutModel",
      "state": {
       "grid_area": "bottom",
       "width": "auto"
      }
     },
     "3ea5aa8c58ec4f11981927ddbf58c5e4": {
      "model_module": "@jupyter-widgets/base",
      "model_module_version": "1.2.0",
      "model_name": "LayoutModel",
      "state": {}
     },
     "3eb0431693744cac9393504f390fa47d": {
      "model_module": "@jupyter-widgets/controls",
      "model_module_version": "1.5.0",
      "model_name": "DescriptionStyleModel",
      "state": {
       "description_width": ""
      }
     },
     "3f531eb8b3a84330a7ec04b719c323a9": {
      "model_module": "@jupyter-widgets/base",
      "model_module_version": "1.2.0",
      "model_name": "LayoutModel",
      "state": {}
     },
     "3f718f8f88ef49ceb1028fed05884703": {
      "model_module": "@jupyter-widgets/controls",
      "model_module_version": "1.5.0",
      "model_name": "ButtonStyleModel",
      "state": {}
     },
     "3fb67ce63ec94a2a861e18f91dc901e6": {
      "model_module": "@jupyter-widgets/controls",
      "model_module_version": "1.5.0",
      "model_name": "DescriptionStyleModel",
      "state": {
       "description_width": ""
      }
     },
     "3fbdb5ae99fa428b80c5d0fbe93d7322": {
      "model_module": "@jupyter-widgets/base",
      "model_module_version": "1.2.0",
      "model_name": "LayoutModel",
      "state": {
       "align_items": "center",
       "justify_content": "center",
       "margin": "0px 0px 0px 0px",
       "max_height": "250px",
       "max_width": "250px",
       "min_height": "250px",
       "min_width": "250px"
      }
     },
     "4017be00e919491eaa5da61a590dd920": {
      "model_module": "@jupyter-widgets/base",
      "model_module_version": "1.2.0",
      "model_name": "LayoutModel",
      "state": {
       "align_items": "center",
       "display": "inline-flex",
       "flex_flow": "column"
      }
     },
     "402913e00942436cb558d239609e357f": {
      "model_module": "@jupyter-widgets/controls",
      "model_module_version": "1.5.0",
      "model_name": "HTMLModel",
      "state": {
       "layout": "IPY_MODEL_32581a925a0f4284a0b88eeda58830ff",
       "style": "IPY_MODEL_5861fd2fa7384d039dd976c87cce2271",
       "value": "<h5>16</h5>"
      }
     },
     "40eb719f531a4c21abd21cff8c6e0f66": {
      "model_module": "@jupyter-widgets/controls",
      "model_module_version": "1.5.0",
      "model_name": "DescriptionStyleModel",
      "state": {
       "description_width": ""
      }
     },
     "40ef0b2aa24041498da4faf16a44097c": {
      "model_module": "@jupyter-widgets/controls",
      "model_module_version": "1.5.0",
      "model_name": "ProgressStyleModel",
      "state": {
       "bar_color": "#71cddd",
       "description_width": ""
      }
     },
     "41633ab5bb73487fa438d5eae1a75709": {
      "model_module": "@jupyter-widgets/controls",
      "model_module_version": "1.5.0",
      "model_name": "LabelModel",
      "state": {
       "layout": "IPY_MODEL_f9b6efef32b449fdbc9e1959ff92ed60",
       "style": "IPY_MODEL_6562f7532b364e56968ebef3a0ce4c66",
       "value": "50"
      }
     },
     "41cb4ace1706489bbf14f0464bde544c": {
      "model_module": "@jupyter-widgets/controls",
      "model_module_version": "1.5.0",
      "model_name": "DescriptionStyleModel",
      "state": {
       "description_width": ""
      }
     },
     "41d4b004d3464e6fada91937fc36b31d": {
      "model_module": "@jupyter-widgets/controls",
      "model_module_version": "1.5.0",
      "model_name": "ProgressStyleModel",
      "state": {
       "bar_color": "#71cddd",
       "description_width": ""
      }
     },
     "424c94b889a84ddcb2ba149b3df0d577": {
      "model_module": "@jupyter-widgets/controls",
      "model_module_version": "1.5.0",
      "model_name": "GridBoxModel",
      "state": {
       "children": [
        "IPY_MODEL_5059a39ece8f4a35b3b265994ce2cc22",
        "IPY_MODEL_89f5bd1479594f96b3fb72a51e8a3777",
        "IPY_MODEL_487784aa7d984dff8234c4a745034707",
        "IPY_MODEL_bf88dc1bd1674570b5df35dcbd013183",
        "IPY_MODEL_09b56c74a9694956bdaf7842959de63d",
        "IPY_MODEL_dc73c7812546495781dd152c12e280d2",
        "IPY_MODEL_f042345bdbcc49e09dfa7368cca9f210"
       ],
       "layout": "IPY_MODEL_b935081a77ce49b7b3ed0ada31620fd1"
      }
     },
     "426efbd560c44c09a0d8e23775d9dd2b": {
      "model_module": "@jupyter-widgets/controls",
      "model_module_version": "1.5.0",
      "model_name": "DescriptionStyleModel",
      "state": {
       "description_width": ""
      }
     },
     "429a2c32c01a4e83b1c14ec5fd71ee3c": {
      "model_module": "@jupyter-widgets/controls",
      "model_module_version": "1.5.0",
      "model_name": "HTMLModel",
      "state": {
       "layout": "IPY_MODEL_e00d745571ce4635a276c2f48a7151b6",
       "style": "IPY_MODEL_0b8f87af2fd0478989f8892641e747ab",
       "value": "<h5>0.0284</h5>"
      }
     },
     "42aa3c1c79a64bd0aa047aee658ab9a4": {
      "model_module": "@jupyter-widgets/controls",
      "model_module_version": "1.5.0",
      "model_name": "HTMLModel",
      "state": {
       "layout": "IPY_MODEL_c27c57969589445eb4a7def404334627",
       "style": "IPY_MODEL_eb7549b96c4f4ba2ae929890b8866a79",
       "value": "<h5>8</h5>"
      }
     },
     "42f2bdd368414fcb91b0321601e53f62": {
      "model_module": "@jupyter-widgets/controls",
      "model_module_version": "1.5.0",
      "model_name": "HBoxModel",
      "state": {
       "children": [
        "IPY_MODEL_f05d91ced3984a9189b93924dbb4dc20",
        "IPY_MODEL_ca8e0a29c8974baf9a41d90cf55fe543",
        "IPY_MODEL_83360921c3e34df0bb19830e42ba75e7"
       ],
       "layout": "IPY_MODEL_7c9c06c55854499f8bdfed9090f41197"
      }
     },
     "4307246ecec447899d350c756a777101": {
      "model_module": "@jupyter-widgets/base",
      "model_module_version": "1.2.0",
      "model_name": "LayoutModel",
      "state": {}
     },
     "4310a4534f204103a071e1b2e3a81671": {
      "model_module": "@jupyter-widgets/output",
      "model_module_version": "1.0.0",
      "model_name": "OutputModel",
      "state": {
       "layout": "IPY_MODEL_0beb6d5bb3964922873b13f14d9e66d4",
       "outputs": [
        {
         "data": {
          "image/png": "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\n",
          "text/plain": "<Figure size 360x360 with 1 Axes>"
         },
         "metadata": {},
         "output_type": "display_data"
        }
       ]
      }
     },
     "4330e9bd9af34e72a3abb73c6e2894f4": {
      "model_module": "@jupyter-widgets/controls",
      "model_module_version": "1.5.0",
      "model_name": "DescriptionStyleModel",
      "state": {
       "description_width": ""
      }
     },
     "43c149b1828c42f3a51979ae106fffb2": {
      "model_module": "@jupyter-widgets/controls",
      "model_module_version": "1.5.0",
      "model_name": "HTMLModel",
      "state": {
       "layout": "IPY_MODEL_b602927bdbd64149b9858cbc84dcd67e",
       "style": "IPY_MODEL_5940b0bbe0184b95a1ea7d595c49b052",
       "value": "<h4>ibmq_santiago</h4>"
      }
     },
     "4460d1d5955047a4becf5f54cecbfcd9": {
      "model_module": "@jupyter-widgets/output",
      "model_module_version": "1.0.0",
      "model_name": "OutputModel",
      "state": {
       "layout": "IPY_MODEL_9a344cbfec744af2b2a7ba56ecac02b9",
       "outputs": [
        {
         "data": {
          "image/png": "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\n",
          "text/plain": "<Figure size 360x360 with 1 Axes>"
         },
         "metadata": {},
         "output_type": "display_data"
        }
       ]
      }
     },
     "44ecbc93dee3490aa3c5aaaf896d45c1": {
      "model_module": "@jupyter-widgets/controls",
      "model_module_version": "1.5.0",
      "model_name": "HTMLModel",
      "state": {
       "layout": "IPY_MODEL_315cd4a77e08429f81c7b5031f50f3d2",
       "style": "IPY_MODEL_0b1e86526490451b80a04269e7f44ae9",
       "value": "62a1b2ebbf04f7bb2ce8c5b1"
      }
     },
     "44fdd439616a41c6843fc3647d3c84eb": {
      "model_module": "@jupyter-widgets/controls",
      "model_module_version": "1.5.0",
      "model_name": "DescriptionStyleModel",
      "state": {
       "description_width": ""
      }
     },
     "45428a03a4114310b38047317c22e7d0": {
      "model_module": "@jupyter-widgets/base",
      "model_module_version": "1.2.0",
      "model_name": "LayoutModel",
      "state": {}
     },
     "458b98c3287a469dbd07b65cd6771cfa": {
      "model_module": "@jupyter-widgets/controls",
      "model_module_version": "1.5.0",
      "model_name": "LabelModel",
      "state": {
       "layout": "IPY_MODEL_d40777be68eb4c75ad207b3966580515",
       "style": "IPY_MODEL_3c383820a6b24493bae56876e3bdc85a",
       "value": "0"
      }
     },
     "45e1d48da135449c98c797fb53889fed": {
      "model_module": "@jupyter-widgets/controls",
      "model_module_version": "1.5.0",
      "model_name": "HTMLModel",
      "state": {
       "layout": "IPY_MODEL_ab08a7694d184c14841c77ad1ee69e9e",
       "style": "IPY_MODEL_d1612601dc264b408d6f42dd8f83a775",
       "value": "<div><font style='font-weight:bold'>last_update_date</font>: 2022-06-09 05:22:27+00:00</div>"
      }
     },
     "462c5802ddc74c52ab7242135edfdae3": {
      "model_module": "@jupyter-widgets/controls",
      "model_module_version": "1.5.0",
      "model_name": "VBoxModel",
      "state": {
       "children": [
        "IPY_MODEL_a0b6af5013d344df97c7777269971d0d",
        "IPY_MODEL_4310a4534f204103a071e1b2e3a81671",
        "IPY_MODEL_1658bddd18fe4e4e8c3a4911b2980324",
        "IPY_MODEL_af768df3c9ce4dd2a2e35ba10c0064dd",
        "IPY_MODEL_708f6893ff5749a0b6d86917ea7e8853",
        "IPY_MODEL_50a755ec1a4d42118c07e4be73347317",
        "IPY_MODEL_703beb14e9f240dbb4e980f99f52f3d1",
        "IPY_MODEL_b28ae5a71b444381be753221de5d515b",
        "IPY_MODEL_e1bc0c054315459cb85a4b8d4bd8b65a",
        "IPY_MODEL_ee2522a9ace449519ee8e9d05a29a9b8"
       ],
       "layout": "IPY_MODEL_cbf6a56e1e8d42748c6e418f419f0978"
      }
     },
     "464261ce61054e70addc5d8d9b40e7d8": {
      "model_module": "@jupyter-widgets/controls",
      "model_module_version": "1.5.0",
      "model_name": "DescriptionStyleModel",
      "state": {
       "description_width": ""
      }
     },
     "466f90dd9d5b4e8f95b73238fecae701": {
      "model_module": "@jupyter-widgets/base",
      "model_module_version": "1.2.0",
      "model_name": "LayoutModel",
      "state": {
       "justify_content": "center"
      }
     },
     "46ccf61e41384a83a3fcf432e559e50c": {
      "model_module": "@jupyter-widgets/base",
      "model_module_version": "1.2.0",
      "model_name": "LayoutModel",
      "state": {
       "max_width": "180px"
      }
     },
     "46ee5efe264b4b5180d0fe9f69b8e963": {
      "model_module": "@jupyter-widgets/controls",
      "model_module_version": "1.5.0",
      "model_name": "HTMLModel",
      "state": {
       "layout": "IPY_MODEL_9500ad7b913e46f891160e5cf06dc9a2",
       "style": "IPY_MODEL_95f1bdb3145c43b198cea9f88cc0a0ef",
       "value": "<table><style>\ntable {\n    border-collapse: collapse;\n    width: auto;\n}\n\nth, td {\n    text-align: left;\n    padding: 8px;\n}\n\ntr:nth-child(even) {background-color: #f6f6f6;};\n</style><tr><th></th><th>Type</th><th>Gate error</th></tr><tr><td><font style='font-weight:bold'>cx0_1</font></td><td>cx</td><td>0.01075</td></tr><tr><td><font style='font-weight:bold'>cx1_0</font></td><td>cx</td><td>0.01075</td></tr></table>"
      }
     },
     "46f6a672212b4876ba5098512c01bf55": {
      "model_module": "@jupyter-widgets/controls",
      "model_module_version": "1.5.0",
      "model_name": "DescriptionStyleModel",
      "state": {
       "description_width": ""
      }
     },
     "4710bf94145a4991927cc3be1a44865e": {
      "model_module": "@jupyter-widgets/controls",
      "model_module_version": "1.5.0",
      "model_name": "DescriptionStyleModel",
      "state": {
       "description_width": ""
      }
     },
     "4742462049ce483386ad6c468c73f927": {
      "model_module": "@jupyter-widgets/controls",
      "model_module_version": "1.5.0",
      "model_name": "VBoxModel",
      "state": {
       "children": [
        "IPY_MODEL_a4262bc2f9d942deb25edc5094cad073",
        "IPY_MODEL_01a0ab7938d54a69bf93d5de319e927a",
        "IPY_MODEL_e4330e8646384ac390d9423008233944",
        "IPY_MODEL_402913e00942436cb558d239609e357f",
        "IPY_MODEL_c1f4c34d903549a7a84c0073c1618dd7",
        "IPY_MODEL_a279cbf3f73443ebbe28830f4b06ad8b",
        "IPY_MODEL_d10252aa80df4ce3a2092d58b7c23c1d",
        "IPY_MODEL_7fc23fb31da54cf28c317193c65b7de9",
        "IPY_MODEL_8cf07a008afe49daab38eee358979bba",
        "IPY_MODEL_ef11afdab89e4e719ed34f2674339a4e"
       ],
       "layout": "IPY_MODEL_4017be00e919491eaa5da61a590dd920"
      }
     },
     "47865133fce2461fbc189d468764044b": {
      "model_module": "@jupyter-widgets/base",
      "model_module_version": "1.2.0",
      "model_name": "LayoutModel",
      "state": {
       "justify_content": "center"
      }
     },
     "4795e96fc91e4a219d4b47f4b7fe2b93": {
      "model_module": "@jupyter-widgets/controls",
      "model_module_version": "1.5.0",
      "model_name": "DescriptionStyleModel",
      "state": {
       "description_width": ""
      }
     },
     "47f6842c686b4982b7ced95b2bcbd492": {
      "model_module": "@jupyter-widgets/controls",
      "model_module_version": "1.5.0",
      "model_name": "LabelModel",
      "state": {
       "layout": "IPY_MODEL_745ed679fae24744b4fe0de7809e4b7a",
       "style": "IPY_MODEL_ad9bf44c69164982bbcde4920de75425",
       "value": "50"
      }
     },
     "487784aa7d984dff8234c4a745034707": {
      "model_module": "@jupyter-widgets/controls",
      "model_module_version": "1.5.0",
      "model_name": "VBoxModel",
      "state": {
       "children": [
        "IPY_MODEL_e085d025530e423a82c1ab3bbf67f299",
        "IPY_MODEL_b0b9050a14d84a5691c59602a5c4776f",
        "IPY_MODEL_201e9672db574d748529fc7bd0a2dd49",
        "IPY_MODEL_fab139664ed446fb8f9c84fc1f97f398",
        "IPY_MODEL_c4626e8009a047abbf0f522e5d023ba6",
        "IPY_MODEL_b4e024b2a770430c9fce0dcf41bdbdae",
        "IPY_MODEL_103638e0f45243108b85728f9de92db1",
        "IPY_MODEL_b6470370f02d45b49c25ca181b2f5351",
        "IPY_MODEL_429a2c32c01a4e83b1c14ec5fd71ee3c",
        "IPY_MODEL_8a968d00723244e8bab5b45756d9e6a8"
       ],
       "layout": "IPY_MODEL_26cdb1329f3947dba5b09c36c40c8917"
      }
     },
     "48b184f809c5423185578783fc4ea42f": {
      "model_module": "@jupyter-widgets/controls",
      "model_module_version": "1.5.0",
      "model_name": "HTMLModel",
      "state": {
       "layout": "IPY_MODEL_d91e856d842445d498a2ab63c985bcd0",
       "style": "IPY_MODEL_f75d5a2525ba4f25a8b09f8c6263f626",
       "value": "<h1 style='color:#ffffff;background-color:#000000;padding-top: 1%;padding-bottom: 1%;padding-left: 1%; margin-top: 0px'>ibmq_quito</h1>"
      }
     },
     "48b7f99d55d34169896dcc15053d4815": {
      "model_module": "@jupyter-widgets/controls",
      "model_module_version": "1.5.0",
      "model_name": "LabelModel",
      "state": {
       "layout": "IPY_MODEL_fe2279c61ece4800ad19ad2d59d5f122",
       "style": "IPY_MODEL_78e9c3c2da134b2da9982035cb38a11c",
       "value": "241"
      }
     },
     "49179e6fa6d745b397e8c58d86c3adf5": {
      "model_module": "@jupyter-widgets/controls",
      "model_module_version": "1.5.0",
      "model_name": "HTMLModel",
      "state": {
       "layout": "IPY_MODEL_1f59bb7ff9ac48629c6d458b3016d640",
       "style": "IPY_MODEL_14e3da6908604510b787a4b85232b170",
       "value": "ibmq_belem"
      }
     },
     "4a3b4365219d459b981bebfb9bde305c": {
      "model_module": "@jupyter-widgets/base",
      "model_module_version": "1.2.0",
      "model_name": "LayoutModel",
      "state": {
       "grid_gap": "0px 25px",
       "grid_template_columns": "250px 250px 250px 250px 250px 250px 250px ",
       "grid_template_rows": "auto"
      }
     },
     "4a521c60a0124d25b72ca505e8637a79": {
      "model_module": "@jupyter-widgets/controls",
      "model_module_version": "1.5.0",
      "model_name": "HTMLModel",
      "state": {
       "layout": "IPY_MODEL_c2fd0dd3093e415598340aaf66284752",
       "style": "IPY_MODEL_1d1374173b124b6b81548037bff37049",
       "value": "<h5 style='color:#dc267f'>False</h5>"
      }
     },
     "4a59d71386164b66998b372e501cff44": {
      "model_module": "@jupyter-widgets/controls",
      "model_module_version": "1.5.0",
      "model_name": "DescriptionStyleModel",
      "state": {
       "description_width": ""
      }
     },
     "4a5b83f180084158bc7cfc24fffdf02a": {
      "model_module": "@jupyter-widgets/base",
      "model_module_version": "1.2.0",
      "model_name": "LayoutModel",
      "state": {
       "align_items": "center",
       "display": "inline-flex",
       "flex_flow": "column"
      }
     },
     "4adbb04896884d63aef759abd876bcda": {
      "model_module": "@jupyter-widgets/output",
      "model_module_version": "1.0.0",
      "model_name": "OutputModel",
      "state": {
       "layout": "IPY_MODEL_5d14d33cc1634329909c2b822791d037",
       "outputs": [
        {
         "data": {
          "image/png": "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\n",
          "text/plain": "<Figure size 792x648 with 5 Axes>"
         },
         "metadata": {},
         "output_type": "display_data"
        }
       ]
      }
     },
     "4aed05607d224f95a0701e995eba56d3": {
      "model_module": "@jupyter-widgets/controls",
      "model_module_version": "1.5.0",
      "model_name": "DescriptionStyleModel",
      "state": {
       "description_width": ""
      }
     },
     "4af5a03525e3443aa3c2b2dbe1abdd42": {
      "model_module": "@jupyter-widgets/controls",
      "model_module_version": "1.5.0",
      "model_name": "DescriptionStyleModel",
      "state": {
       "description_width": ""
      }
     },
     "4b2f6d504d4047c09d817fa779e17875": {
      "model_module": "@jupyter-widgets/controls",
      "model_module_version": "1.5.0",
      "model_name": "DescriptionStyleModel",
      "state": {
       "description_width": ""
      }
     },
     "4bbd9989d3b24adcb9ad4df645f65aea": {
      "model_module": "@jupyter-widgets/controls",
      "model_module_version": "1.5.0",
      "model_name": "DescriptionStyleModel",
      "state": {
       "description_width": ""
      }
     },
     "4bdb709305d549b19a85a08cebb95807": {
      "model_module": "@jupyter-widgets/controls",
      "model_module_version": "1.5.0",
      "model_name": "HTMLModel",
      "state": {
       "layout": "IPY_MODEL_d1a44d1c4a134fd08ad0c0136abe1477",
       "style": "IPY_MODEL_b8f5429222a549b3935e99fd63c32b54",
       "value": "<h5><b>5</b></h5>"
      }
     },
     "4be8969063eb473cad21c5091efbeffa": {
      "model_module": "@jupyter-widgets/controls",
      "model_module_version": "1.5.0",
      "model_name": "GridBoxModel",
      "state": {
       "children": [
        "IPY_MODEL_861f9268deb1449197bc98af04a4be91",
        "IPY_MODEL_c27a96eccea94c8495077fe78580688c",
        "IPY_MODEL_60934d7358814797b2fd3fbbdef0ed2d"
       ],
       "layout": "IPY_MODEL_697dd433bea049e9a623a7c6d8f84951"
      }
     },
     "4c173c2fb86148ae9c87026708e00210": {
      "model_module": "@jupyter-widgets/controls",
      "model_module_version": "1.5.0",
      "model_name": "HTMLModel",
      "state": {
       "layout": "IPY_MODEL_466f90dd9d5b4e8f95b73238fecae701",
       "style": "IPY_MODEL_c275b6af217b4ac295912f9aa54124ad",
       "value": "<h5 style='color:#dc267f'>False</h5>"
      }
     },
     "4c1acdc37f584aa69efa98fbac710849": {
      "model_module": "@jupyter-widgets/output",
      "model_module_version": "1.0.0",
      "model_name": "OutputModel",
      "state": {
       "layout": "IPY_MODEL_0b3623f5cf2e4136a11bbf42898cb91f",
       "outputs": [
        {
         "name": "stderr",
         "output_type": "stream",
         "text": "<frozen importlib._bootstrap>:219: RuntimeWarning: scipy._lib.messagestream.MessageStream size changed, may indicate binary incompatibility. Expected 56 from C header, got 64 from PyObject\n"
        },
        {
         "data": {
          "image/png": "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\n",
          "text/plain": "<Figure size 792x648 with 5 Axes>"
         },
         "metadata": {},
         "output_type": "display_data"
        }
       ]
      }
     },
     "4c92e814927346a4b5485b85ac69637a": {
      "model_module": "@jupyter-widgets/controls",
      "model_module_version": "1.5.0",
      "model_name": "HTMLModel",
      "state": {
       "layout": "IPY_MODEL_085f7f4b0e114c8c9e744bc20530f751",
       "style": "IPY_MODEL_81d7988ea2c14559b8fb5b38ef7bc1be",
       "value": "-"
      }
     },
     "4cb8754430244e1ebf3b8670aecf7f46": {
      "model_module": "@jupyter-widgets/output",
      "model_module_version": "1.0.0",
      "model_name": "OutputModel",
      "state": {
       "layout": "IPY_MODEL_552e5a08ef524baa8e82243bc4e1a956",
       "outputs": [
        {
         "data": {
          "image/png": "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\n",
          "text/plain": "<Figure size 360x360 with 1 Axes>"
         },
         "metadata": {},
         "output_type": "display_data"
        }
       ]
      }
     },
     "4cbd681423fa46318b5590ee18976119": {
      "model_module": "@jupyter-widgets/base",
      "model_module_version": "1.2.0",
      "model_name": "LayoutModel",
      "state": {
       "min_width": "auto"
      }
     },
     "4d308e458d004817ad9d2b5127495773": {
      "model_module": "@jupyter-widgets/base",
      "model_module_version": "1.2.0",
      "model_name": "LayoutModel",
      "state": {}
     },
     "4de3ee5bb19f4b33af5de380a85a5c40": {
      "model_module": "@jupyter-widgets/controls",
      "model_module_version": "1.5.0",
      "model_name": "HTMLModel",
      "state": {
       "layout": "IPY_MODEL_873cd54c9b2a4f779ca34b29dc827ad6",
       "style": "IPY_MODEL_6bc8f5facddf4ff0b2117034651ce899",
       "value": "<h5>16</h5>"
      }
     },
     "4e0826c93d404f538f866d30380c741f": {
      "model_module": "@jupyter-widgets/controls",
      "model_module_version": "1.5.0",
      "model_name": "DescriptionStyleModel",
      "state": {
       "description_width": ""
      }
     },
     "4e08abe661894d79abf5b7770736c1bb": {
      "model_module": "@jupyter-widgets/controls",
      "model_module_version": "1.5.0",
      "model_name": "DescriptionStyleModel",
      "state": {
       "description_width": ""
      }
     },
     "4e24a33c0e034957b69dcb1e15d4426b": {
      "model_module": "@jupyter-widgets/controls",
      "model_module_version": "1.5.0",
      "model_name": "DescriptionStyleModel",
      "state": {
       "description_width": ""
      }
     },
     "4e2be29c96894fd7b8a38f52a8bc93dd": {
      "model_module": "@jupyter-widgets/controls",
      "model_module_version": "1.5.0",
      "model_name": "DescriptionStyleModel",
      "state": {
       "description_width": ""
      }
     },
     "4e3636626a624b7c8f44491250fef946": {
      "model_module": "@jupyter-widgets/controls",
      "model_module_version": "1.5.0",
      "model_name": "HTMLModel",
      "state": {
       "layout": "IPY_MODEL_db079888188c4d0580c47612e0a2b74c",
       "style": "IPY_MODEL_84c487b4555b489594dc63280515a4f7",
       "value": "<h5>122.5 / 111.1 us</h5>"
      }
     },
     "4e51a2ad9e004728b53890c4758ad6ce": {
      "model_module": "@jupyter-widgets/controls",
      "model_module_version": "1.5.0",
      "model_name": "VBoxModel",
      "state": {
       "children": [
        "IPY_MODEL_1bec5e166b2147b18735cdff94610cff",
        "IPY_MODEL_22d58a33687a496c98f67bea1feba668"
       ],
       "layout": "IPY_MODEL_a846ae36884d40469103aad6b73a6003"
      }
     },
     "4e853e189dc64d71acc748348cad4264": {
      "model_module": "@jupyter-widgets/base",
      "model_module_version": "1.2.0",
      "model_name": "LayoutModel",
      "state": {
       "min_width": "auto"
      }
     },
     "4eedd96a0c234346877df57ddd7a46f4": {
      "model_module": "@jupyter-widgets/controls",
      "model_module_version": "1.5.0",
      "model_name": "HTMLModel",
      "state": {
       "layout": "IPY_MODEL_8cc079c6c869431380c04b07e16fd6a2",
       "style": "IPY_MODEL_a195ee96c8e94602a2e5aec1d470d6e7",
       "value": "<h5>0.0222</h5>"
      }
     },
     "4f24e3d6d5754cd99a3d4286dbd7c491": {
      "model_module": "@jupyter-widgets/base",
      "model_module_version": "1.2.0",
      "model_name": "LayoutModel",
      "state": {
       "width": "95px"
      }
     },
     "4f29ac6c41c14db19084466c605a6180": {
      "model_module": "@jupyter-widgets/controls",
      "model_module_version": "1.5.0",
      "model_name": "HTMLModel",
      "state": {
       "layout": "IPY_MODEL_0d9ffab12cc549c8a17b4452497d597a",
       "style": "IPY_MODEL_bcb3fd75aff54421b073e80be996d936",
       "value": "<h5>32</h5>"
      }
     },
     "4f3f97a379c44bc18b49bc80a8032a26": {
      "model_module": "@jupyter-widgets/controls",
      "model_module_version": "1.5.0",
      "model_name": "LabelModel",
      "state": {
       "layout": "IPY_MODEL_9e9f691711da4af89e8a795af37a1206",
       "style": "IPY_MODEL_cd3195ad388046f08dde3f948b332411",
       "value": "Avg. CX Err."
      }
     },
     "4f536482a8f4492f90a957cecb1e6505": {
      "model_module": "@jupyter-widgets/controls",
      "model_module_version": "1.5.0",
      "model_name": "DescriptionStyleModel",
      "state": {
       "description_width": ""
      }
     },
     "4f65aa5c623142b4be8967022bf9a44e": {
      "model_module": "@jupyter-widgets/base",
      "model_module_version": "1.2.0",
      "model_name": "LayoutModel",
      "state": {}
     },
     "500c88eec144439787b486b60fc38932": {
      "model_module": "@jupyter-widgets/base",
      "model_module_version": "1.2.0",
      "model_name": "LayoutModel",
      "state": {
       "max_width": "180px"
      }
     },
     "5014d3d87a0d4c7fa9532370491d7528": {
      "model_module": "@jupyter-widgets/base",
      "model_module_version": "1.2.0",
      "model_name": "LayoutModel",
      "state": {
       "min_width": "auto"
      }
     },
     "5059a39ece8f4a35b3b265994ce2cc22": {
      "model_module": "@jupyter-widgets/controls",
      "model_module_version": "1.5.0",
      "model_name": "VBoxModel",
      "state": {
       "children": [
        "IPY_MODEL_c79254c5123446d6aef783dd8798e45f",
        "IPY_MODEL_90bfb42798a7484e8b821b0b6f0073e7",
        "IPY_MODEL_948ff287cf3d4629a62f4637aecb165a",
        "IPY_MODEL_4f29ac6c41c14db19084466c605a6180",
        "IPY_MODEL_0e42b43ebef2430f8b8e0d818cbcde34",
        "IPY_MODEL_5b39d6879f6c4da088f2afa514b33195",
        "IPY_MODEL_9756236ff69e40f69992b95e9972ed2b",
        "IPY_MODEL_a50773f1524a45318ce762c73124ca62",
        "IPY_MODEL_80f70895010645a3ad3d114088a247d6",
        "IPY_MODEL_7365a35fb0cc48e288e1eb4428bef88c"
       ],
       "layout": "IPY_MODEL_d200cc2bdb334d098dfcfa974b0c2d05"
      }
     },
     "5073d753ecf24e60ab7f7fd365851dd5": {
      "model_module": "@jupyter-widgets/controls",
      "model_module_version": "1.5.0",
      "model_name": "DescriptionStyleModel",
      "state": {
       "description_width": ""
      }
     },
     "50a755ec1a4d42118c07e4be73347317": {
      "model_module": "@jupyter-widgets/controls",
      "model_module_version": "1.5.0",
      "model_name": "HTMLModel",
      "state": {
       "layout": "IPY_MODEL_1046249335fa42db87135c915f667905",
       "style": "IPY_MODEL_ccd3febdd1fb481f8f291f5c52792327",
       "value": "<h5 style='color:#34bc6e'>True</h5>"
      }
     },
     "50c05ba9d03f4d99af76ba53357ba5b9": {
      "model_module": "@jupyter-widgets/base",
      "model_module_version": "1.2.0",
      "model_name": "LayoutModel",
      "state": {
       "justify_content": "center"
      }
     },
     "50d3da9bdeb447dbae008e2b383d002b": {
      "model_module": "@jupyter-widgets/controls",
      "model_module_version": "1.5.0",
      "model_name": "DescriptionStyleModel",
      "state": {
       "description_width": ""
      }
     },
     "50dc802cef654b07919089ed2efe5c2d": {
      "model_module": "@jupyter-widgets/controls",
      "model_module_version": "1.5.0",
      "model_name": "HTMLModel",
      "state": {
       "layout": "IPY_MODEL_c3d144e8938f4296bd1d5ad07208afe1",
       "style": "IPY_MODEL_464261ce61054e70addc5d8d9b40e7d8",
       "value": "ibmq_quito"
      }
     },
     "50e84596cc484427ba862de90cf288cc": {
      "model_module": "@jupyter-widgets/controls",
      "model_module_version": "1.5.0",
      "model_name": "HTMLModel",
      "state": {
       "layout": "IPY_MODEL_b4e8ec8a311b4c289edad2ac96d91b29",
       "style": "IPY_MODEL_ef900865a57441b09fc3c23564bca372",
       "value": "<h5>66.0 / 90.1 us</h5>"
      }
     },
     "5109e53b057c418680ae1300eb74bdaf": {
      "model_module": "@jupyter-widgets/controls",
      "model_module_version": "1.5.0",
      "model_name": "ProgressStyleModel",
      "state": {
       "bar_color": "#71cddd",
       "description_width": ""
      }
     },
     "51413b21674a425e8f66acccfa488c9a": {
      "model_module": "@jupyter-widgets/controls",
      "model_module_version": "1.5.0",
      "model_name": "DescriptionStyleModel",
      "state": {
       "description_width": ""
      }
     },
     "514dcff51e464a27b3139cdbe371c3f8": {
      "model_module": "@jupyter-widgets/base",
      "model_module_version": "1.2.0",
      "model_name": "LayoutModel",
      "state": {
       "justify_content": "center",
       "max_width": "250px",
       "min_width": "250px"
      }
     },
     "51a56abb9cf44edabd897fa8aafe4f3b": {
      "model_module": "@jupyter-widgets/base",
      "model_module_version": "1.2.0",
      "model_name": "LayoutModel",
      "state": {}
     },
     "51b63817aabc46b08287571e40f5f058": {
      "model_module": "@jupyter-widgets/base",
      "model_module_version": "1.2.0",
      "model_name": "LayoutModel",
      "state": {
       "justify_content": "center"
      }
     },
     "51c890183b9e4ebaafc3ce78a6cfa28b": {
      "model_module": "@jupyter-widgets/controls",
      "model_module_version": "1.5.0",
      "model_name": "LabelModel",
      "state": {
       "layout": "IPY_MODEL_dcdf03c741a14e769340c8e490ccc64d",
       "style": "IPY_MODEL_665e57469c9f4fb1b6735a913041da32",
       "value": "50"
      }
     },
     "5298cf61046c420faab7d8d92f46cc74": {
      "model_module": "@jupyter-widgets/controls",
      "model_module_version": "1.5.0",
      "model_name": "ProgressStyleModel",
      "state": {
       "bar_color": "#71cddd",
       "description_width": ""
      }
     },
     "52aad49c4f824f2fb808ccf70e1993f7": {
      "model_module": "@jupyter-widgets/controls",
      "model_module_version": "1.5.0",
      "model_name": "DescriptionStyleModel",
      "state": {
       "description_width": ""
      }
     },
     "52abaf66dece4290962f556cac1e00c8": {
      "model_module": "@jupyter-widgets/controls",
      "model_module_version": "1.5.0",
      "model_name": "HBoxModel",
      "state": {
       "children": [
        "IPY_MODEL_f0804c9b6955446a997989a62b3dd3db",
        "IPY_MODEL_9d6be23c61754bdab4940aa15881e940"
       ],
       "layout": "IPY_MODEL_3ea5aa8c58ec4f11981927ddbf58c5e4"
      }
     },
     "52d43dc1584f4af593aafa1616d75956": {
      "model_module": "@jupyter-widgets/controls",
      "model_module_version": "1.5.0",
      "model_name": "DescriptionStyleModel",
      "state": {
       "description_width": ""
      }
     },
     "52e4c4d78ece4ecd87dcf852174893a7": {
      "model_module": "@jupyter-widgets/controls",
      "model_module_version": "1.5.0",
      "model_name": "HTMLMathModel",
      "state": {
       "layout": "IPY_MODEL_fd7c606a8b6e46bbaee35c24008e1224",
       "style": "IPY_MODEL_b8a1236abb2b4fca8e2a3459519a3689",
       "value": "<table><style>\ntable {\n    border-collapse: collapse;\n    width: auto;\n}\n\nth, td {\n    text-align: left;\n    padding: 8px;\n}\n\ntr:nth-child(even) {background-color: #f6f6f6;}\n</style><tr><th>Property</th><th>Value</th></tr><tr><td><font style='font-weight:bold'>n_qubits</font></td><td>5</td></tr><tr><td><font style='font-weight:bold'>quantum_volume</font></td><td>16</td></tr><tr><td><font style='font-weight:bold'>operational</font></td><td>True</td></tr><tr><td><font style='font-weight:bold'>status_msg</font></td><td>active</td></tr><tr><td><font style='font-weight:bold'>pending_jobs</font></td><td>3</td></tr><tr><td><font style='font-weight:bold'>backend_version</font></td><td>1.1.30</td></tr><tr><td><font style='font-weight:bold'>basis_gates</font></td><td>['id', 'rz', 'sx', 'x', 'cx', 'reset']</td></tr><tr><td><font style='font-weight:bold'>max_shots</font></td><td>20000</td></tr><tr><td><font style='font-weight:bold'>max_experiments</font></td><td>100</td></tr></table>"
      }
     },
     "52ecfc4b747448e2a197e664fd888c3c": {
      "model_module": "@jupyter-widgets/controls",
      "model_module_version": "1.5.0",
      "model_name": "HTMLModel",
      "state": {
       "layout": "IPY_MODEL_ad9803e64d534311b2f1bb795427e158",
       "style": "IPY_MODEL_707265bfd2aa4c1bbe3cf0b2e261b78c",
       "value": "<h1 style='color:#ffffff;background-color:#000000;padding-top: 1%;padding-bottom: 1%;padding-left: 1%; margin-top: 0px'>ibmq_quito</h1>"
      }
     },
     "531ec14ac65e4fdc801007e7b38c264f": {
      "model_module": "@jupyter-widgets/controls",
      "model_module_version": "1.5.0",
      "model_name": "DescriptionStyleModel",
      "state": {
       "description_width": ""
      }
     },
     "53235bc200694884a185227a9a0a3133": {
      "model_module": "@jupyter-widgets/controls",
      "model_module_version": "1.5.0",
      "model_name": "DescriptionStyleModel",
      "state": {
       "description_width": ""
      }
     },
     "5352c78e7203477fa8faad3f10d86f97": {
      "model_module": "@jupyter-widgets/controls",
      "model_module_version": "1.5.0",
      "model_name": "HTMLModel",
      "state": {
       "layout": "IPY_MODEL_71feac594e0a4856908fa636cc03c5e1",
       "style": "IPY_MODEL_f1f0763edc0742689e98ca574d1a9bd0",
       "value": "<h5>32</h5>"
      }
     },
     "53a62fe4e7594759861f4c8fb0ac9809": {
      "model_module": "@jupyter-widgets/controls",
      "model_module_version": "1.5.0",
      "model_name": "HTMLModel",
      "state": {
       "layout": "IPY_MODEL_dd3df32e788a486d8a24553651fb8477",
       "style": "IPY_MODEL_2aa382288101483c9fce3efa888e5a5d",
       "value": "<h5>Backend</h5>"
      }
     },
     "53bf54575ce84409ba38186a9b5a8676": {
      "model_module": "@jupyter-widgets/controls",
      "model_module_version": "1.5.0",
      "model_name": "HTMLModel",
      "state": {
       "layout": "IPY_MODEL_126607ecb4f643229db5368fd5e800d0",
       "style": "IPY_MODEL_7236fb66aac046a4adc9e1e01bc40591",
       "value": "<font style='color:#DC267F'>ERROR</font>"
      }
     },
     "53c55d380a73458eb08dbd3e28e42275": {
      "model_module": "@jupyter-widgets/base",
      "model_module_version": "1.2.0",
      "model_name": "LayoutModel",
      "state": {
       "justify_content": "center"
      }
     },
     "53d3aaf13c1b4991824ad3e6e6aad3ec": {
      "model_module": "@jupyter-widgets/base",
      "model_module_version": "1.2.0",
      "model_name": "LayoutModel",
      "state": {
       "align_items": "center",
       "display": "flex-inline",
       "grid_area": "right",
       "max_height": "325px",
       "padding": "10px 10px 10px 10px",
       "width": "auto"
      }
     },
     "53f179f242e84cdbbcdff428acb63e1b": {
      "model_module": "@jupyter-widgets/controls",
      "model_module_version": "1.5.0",
      "model_name": "HTMLModel",
      "state": {
       "layout": "IPY_MODEL_4307246ecec447899d350c756a777101",
       "style": "IPY_MODEL_b5f887b08a134fd19226ac76e3462445",
       "value": "<h5>0.0393</h5>"
      }
     },
     "541891111a6b4d8493c0209fce9c4ada": {
      "model_module": "@jupyter-widgets/controls",
      "model_module_version": "1.5.0",
      "model_name": "HTMLModel",
      "state": {
       "layout": "IPY_MODEL_086d00da3a32466298fa47ab0f11cbd3",
       "style": "IPY_MODEL_4e0826c93d404f538f866d30380c741f",
       "value": "<h5 style='color:#dc267f'>False</h5>"
      }
     },
     "548fc19b2f244074a9c24a27db9f33f1": {
      "model_module": "@jupyter-widgets/base",
      "model_module_version": "1.2.0",
      "model_name": "LayoutModel",
      "state": {
       "justify_content": "center"
      }
     },
     "54956e3476dc47c28d69325033b8f705": {
      "model_module": "@jupyter-widgets/controls",
      "model_module_version": "1.5.0",
      "model_name": "HTMLModel",
      "state": {
       "layout": "IPY_MODEL_68f7ad70c9194cddb1e5907043609b21",
       "style": "IPY_MODEL_8c948464ac0849f388c17768afc84710",
       "value": "<h5><b>1</b></h5>"
      }
     },
     "54f8bf1e57044d69a499a14065880581": {
      "model_module": "@jupyter-widgets/controls",
      "model_module_version": "1.5.0",
      "model_name": "HTMLModel",
      "state": {
       "layout": "IPY_MODEL_a9c026267344470ebeb86a75feceff54",
       "style": "IPY_MODEL_f7fd41b056784d7f9a2664e5ff5cc02a",
       "value": "<h5>0.0392</h5>"
      }
     },
     "551a429217da4396b84049d1d3d54d4b": {
      "model_module": "@jupyter-widgets/base",
      "model_module_version": "1.2.0",
      "model_name": "LayoutModel",
      "state": {
       "grid_area": "middle"
      }
     },
     "552e5a08ef524baa8e82243bc4e1a956": {
      "model_module": "@jupyter-widgets/base",
      "model_module_version": "1.2.0",
      "model_name": "LayoutModel",
      "state": {
       "align_items": "center",
       "justify_content": "center",
       "margin": "0px 0px 0px 0px",
       "max_height": "250px",
       "max_width": "250px",
       "min_height": "250px",
       "min_width": "250px"
      }
     },
     "554d4bd1f34b485dbba6139c58f46700": {
      "model_module": "@jupyter-widgets/controls",
      "model_module_version": "1.5.0",
      "model_name": "DescriptionStyleModel",
      "state": {
       "description_width": ""
      }
     },
     "55a4e615fb5c467bb7d3010710d5df25": {
      "model_module": "@jupyter-widgets/controls",
      "model_module_version": "1.5.0",
      "model_name": "HTMLModel",
      "state": {
       "layout": "IPY_MODEL_1984726b52514c1ebf31df77ab78f0c1",
       "style": "IPY_MODEL_a06aae71860a413a8faf6822e10dfa5a",
       "value": "<h5>0.0215</h5>"
      }
     },
     "55a864146f344db9b8c4327df8de2ba6": {
      "model_module": "@jupyter-widgets/base",
      "model_module_version": "1.2.0",
      "model_name": "LayoutModel",
      "state": {
       "justify_content": "center"
      }
     },
     "55b17199074e4822b904a3de8d57b6e0": {
      "model_module": "@jupyter-widgets/controls",
      "model_module_version": "1.5.0",
      "model_name": "TabModel",
      "state": {
       "layout": "IPY_MODEL_36b1b3325b344939b97e79c7fabe2ac1"
      }
     },
     "55b989a0fe5c4b4bb75997bcc2533127": {
      "model_module": "@jupyter-widgets/controls",
      "model_module_version": "1.5.0",
      "model_name": "DescriptionStyleModel",
      "state": {
       "description_width": ""
      }
     },
     "56020ba8091340a6b33487f85cd394bb": {
      "model_module": "@jupyter-widgets/controls",
      "model_module_version": "1.5.0",
      "model_name": "IntProgressModel",
      "state": {
       "layout": "IPY_MODEL_e1ee12a56d444452abe2eaeb8db2ef63",
       "max": 127,
       "style": "IPY_MODEL_575dc997237d4b6b85b0684dba887137",
       "value": 111
      }
     },
     "56b981bdf24d42e9b0114f9f8c4b101e": {
      "model_module": "@jupyter-widgets/controls",
      "model_module_version": "1.5.0",
      "model_name": "HTMLMathModel",
      "state": {
       "layout": "IPY_MODEL_840e00c73fac48c5901effd74a106238",
       "style": "IPY_MODEL_8ca9a36af7994d0a83c3a0491d9e12d5",
       "value": "<table><style>\ntable {\n    border-collapse: collapse;\n    width: auto;\n}\n\nth, td {\n    text-align: left;\n    padding: 8px;\n}\n\ntr:nth-child(even) {background-color: #f6f6f6;}\n</style><tr><th>Property</th><th>Value</th></tr><tr><td><font style='font-weight:bold'>n_qubits</font></td><td>5</td></tr><tr><td><font style='font-weight:bold'>quantum_volume</font></td><td>16</td></tr><tr><td><font style='font-weight:bold'>operational</font></td><td>True</td></tr><tr><td><font style='font-weight:bold'>status_msg</font></td><td>active</td></tr><tr><td><font style='font-weight:bold'>pending_jobs</font></td><td>3</td></tr><tr><td><font style='font-weight:bold'>backend_version</font></td><td>1.1.30</td></tr><tr><td><font style='font-weight:bold'>basis_gates</font></td><td>['id', 'rz', 'sx', 'x', 'cx', 'reset']</td></tr><tr><td><font style='font-weight:bold'>max_shots</font></td><td>20000</td></tr><tr><td><font style='font-weight:bold'>max_experiments</font></td><td>100</td></tr></table>"
      }
     },
     "56f3bb1b535a452eb30eb5718fbca1c1": {
      "model_module": "@jupyter-widgets/base",
      "model_module_version": "1.2.0",
      "model_name": "LayoutModel",
      "state": {}
     },
     "571fa1a64de04da69e959f847d4ed46d": {
      "model_module": "@jupyter-widgets/controls",
      "model_module_version": "1.5.0",
      "model_name": "HTMLModel",
      "state": {
       "layout": "IPY_MODEL_f44380a9691048c8b3997858c9785ec1",
       "style": "IPY_MODEL_d3e312d944284472bd60b8cc1958834c",
       "value": "<h5>0.0464</h5>"
      }
     },
     "57202847e40b4d92aa0a5f24c5c6f368": {
      "model_module": "@jupyter-widgets/base",
      "model_module_version": "1.2.0",
      "model_name": "LayoutModel",
      "state": {
       "min_width": "auto"
      }
     },
     "575328d03ebf472790a4d95345705073": {
      "model_module": "@jupyter-widgets/controls",
      "model_module_version": "1.5.0",
      "model_name": "GridBoxModel",
      "state": {
       "children": [
        "IPY_MODEL_9c2e9d935b044bd98c16681d9214b68a",
        "IPY_MODEL_ed197e8a29734dc8af15d5a71950ff91",
        "IPY_MODEL_ae11133d491644128730f1f5b4bc7d76",
        "IPY_MODEL_d6069704c0d14cab9230e95cfbf3a088"
       ],
       "layout": "IPY_MODEL_a6297fb8f66046a1b5695816bbac9b26"
      }
     },
     "575dc997237d4b6b85b0684dba887137": {
      "model_module": "@jupyter-widgets/controls",
      "model_module_version": "1.5.0",
      "model_name": "ProgressStyleModel",
      "state": {
       "bar_color": "#71cddd",
       "description_width": ""
      }
     },
     "578506af13784f71aeb305e8b9267f8a": {
      "model_module": "@jupyter-widgets/controls",
      "model_module_version": "1.5.0",
      "model_name": "DescriptionStyleModel",
      "state": {
       "description_width": ""
      }
     },
     "57aeff20a28841e591ce92c9f6c1418d": {
      "model_module": "@jupyter-widgets/controls",
      "model_module_version": "1.5.0",
      "model_name": "LabelModel",
      "state": {
       "layout": "IPY_MODEL_a128c1b0728c49098a05d11741ace3ae",
       "style": "IPY_MODEL_098fabc6d9424b66a0534e464cea5453",
       "value": "Operational"
      }
     },
     "57b351a674294dd58eac69448f7dbb87": {
      "model_module": "@jupyter-widgets/controls",
      "model_module_version": "1.5.0",
      "model_name": "HTMLModel",
      "state": {
       "layout": "IPY_MODEL_e8476248745744c9847c6227f0c3af80",
       "style": "IPY_MODEL_52aad49c4f824f2fb808ccf70e1993f7",
       "value": "<h5>32</h5>"
      }
     },
     "57bd31d34973468a8d95ee0433caa206": {
      "model_module": "@jupyter-widgets/controls",
      "model_module_version": "1.5.0",
      "model_name": "HTMLModel",
      "state": {
       "layout": "IPY_MODEL_c3fa73aed53d40dc89e79aeba4164745",
       "style": "IPY_MODEL_cfcffc3e8dfc4b269355039f06420ee0",
       "value": "<h5>0.0464</h5>"
      }
     },
     "57e2928e35cb458887c28d1c3c9d99ab": {
      "model_module": "@jupyter-widgets/base",
      "model_module_version": "1.2.0",
      "model_name": "LayoutModel",
      "state": {}
     },
     "57f2e12b68bd4978944595fb617a9ac2": {
      "model_module": "@jupyter-widgets/controls",
      "model_module_version": "1.5.0",
      "model_name": "TabModel",
      "state": {
       "_titles": {
        "0": "Configuration",
        "1": "Qubit Properties",
        "2": "Multi-Qubit Gates",
        "3": "Error Map",
        "4": "Job History"
       },
       "children": [
        "IPY_MODEL_4be8969063eb473cad21c5091efbeffa",
        "IPY_MODEL_9b94b8b672e746848fcaae1891d9adcf",
        "IPY_MODEL_9dfea6c3ef304a12a00f5f5ecd44b47c",
        "IPY_MODEL_4adbb04896884d63aef759abd876bcda",
        "IPY_MODEL_0ea93cbe33be4ae5bca6ce635056c9d9"
       ],
       "layout": "IPY_MODEL_879bf8a6a22a4e7facb5a8080d8f58f9"
      }
     },
     "57fb621945a14be3bfd97a05569e5e21": {
      "model_module": "@jupyter-widgets/controls",
      "model_module_version": "1.5.0",
      "model_name": "DescriptionStyleModel",
      "state": {
       "description_width": ""
      }
     },
     "57fb63ddf9994c9ca96c01aecbce37c3": {
      "model_module": "@jupyter-widgets/base",
      "model_module_version": "1.2.0",
      "model_name": "LayoutModel",
      "state": {
       "align_items": "center",
       "display": "flex-inline",
       "grid_area": "right",
       "max_height": "325px",
       "padding": "10px 10px 10px 10px",
       "width": "auto"
      }
     },
     "582f82103da74d6aa9cfa436d099a69a": {
      "model_module": "@jupyter-widgets/base",
      "model_module_version": "1.2.0",
      "model_name": "LayoutModel",
      "state": {
       "justify_content": "center"
      }
     },
     "586064c8c8b148fdb0dc9ad2cf74893c": {
      "model_module": "@jupyter-widgets/base",
      "model_module_version": "1.2.0",
      "model_name": "LayoutModel",
      "state": {
       "grid_gap": "0px 0px",
       "grid_template_areas": "\n                               \"left right right right\"\n                               \"bottom bottom bottom bottom\"\n                               ",
       "grid_template_columns": "31% 23% 23% 23%",
       "grid_template_rows": "auto auto"
      }
     },
     "5861fd2fa7384d039dd976c87cce2271": {
      "model_module": "@jupyter-widgets/controls",
      "model_module_version": "1.5.0",
      "model_name": "DescriptionStyleModel",
      "state": {
       "description_width": ""
      }
     },
     "5868f30e738e45dfa9bdaa47f9f18aef": {
      "model_module": "@jupyter-widgets/controls",
      "model_module_version": "1.5.0",
      "model_name": "DescriptionStyleModel",
      "state": {
       "description_width": ""
      }
     },
     "58a946d532f746af9ce4355eb29b007e": {
      "model_module": "@jupyter-widgets/base",
      "model_module_version": "1.2.0",
      "model_name": "LayoutModel",
      "state": {}
     },
     "58f6006534824b91923c52c07c95e2b6": {
      "model_module": "@jupyter-widgets/controls",
      "model_module_version": "1.5.0",
      "model_name": "DescriptionStyleModel",
      "state": {
       "description_width": ""
      }
     },
     "59016c8db4574e5195192e14afcf66e0": {
      "model_module": "@jupyter-widgets/controls",
      "model_module_version": "1.5.0",
      "model_name": "DescriptionStyleModel",
      "state": {
       "description_width": ""
      }
     },
     "590227239f8c41e9b10b742e3950d76a": {
      "model_module": "@jupyter-widgets/base",
      "model_module_version": "1.2.0",
      "model_name": "LayoutModel",
      "state": {
       "min_width": "auto"
      }
     },
     "5940b0bbe0184b95a1ea7d595c49b052": {
      "model_module": "@jupyter-widgets/controls",
      "model_module_version": "1.5.0",
      "model_name": "DescriptionStyleModel",
      "state": {
       "description_width": ""
      }
     },
     "594b890337664717ac360d57157149d0": {
      "model_module": "@jupyter-widgets/controls",
      "model_module_version": "1.5.0",
      "model_name": "HBoxModel",
      "state": {
       "children": [
        "IPY_MODEL_72425882d4ae4b1daa5a6debd3e3c887",
        "IPY_MODEL_53a62fe4e7594759861f4c8fb0ac9809",
        "IPY_MODEL_f86a867c5c8b4ee38f69d4cc986e94d3",
        "IPY_MODEL_d11e244f2ab144998974e2e8a8de2414",
        "IPY_MODEL_3dc7220b0d9d4165adbc40d360cd430b"
       ],
       "layout": "IPY_MODEL_b6084f61980d4db5ac4b1cb46650c76a"
      }
     },
     "59b3652c689b403a9a80a48c635d319f": {
      "model_module": "@jupyter-widgets/base",
      "model_module_version": "1.2.0",
      "model_name": "LayoutModel",
      "state": {
       "width": "70px"
      }
     },
     "5a14e642ed0d47779325cc0ba2c8e1f4": {
      "model_module": "@jupyter-widgets/base",
      "model_module_version": "1.2.0",
      "model_name": "LayoutModel",
      "state": {
       "margin": "10px 0px 0px 0px"
      }
     },
     "5a6a6187242f4840aed8eed062106b32": {
      "model_module": "@jupyter-widgets/controls",
      "model_module_version": "1.5.0",
      "model_name": "HTMLModel",
      "state": {
       "layout": "IPY_MODEL_582f82103da74d6aa9cfa436d099a69a",
       "style": "IPY_MODEL_e41a1664a9e34deab1366078eccac7f9",
       "value": "<h5 style='color:#34bc6e'>True</h5>"
      }
     },
     "5a7acf0609f5427c99bd0718c6f102f1": {
      "model_module": "@jupyter-widgets/controls",
      "model_module_version": "1.5.0",
      "model_name": "HTMLModel",
      "state": {
       "layout": "IPY_MODEL_6db615a6733f4337beb603e49b471f67",
       "style": "IPY_MODEL_a735632d56ab426585492a9f0d7c25b8",
       "value": "62a1f7600a401bac357dd922"
      }
     },
     "5a81b83fe7434669b140831aa6b5ed1d": {
      "model_module": "@jupyter-widgets/controls",
      "model_module_version": "1.5.0",
      "model_name": "DescriptionStyleModel",
      "state": {
       "description_width": ""
      }
     },
     "5a852662384d44ed891287f5ecfe38a5": {
      "model_module": "@jupyter-widgets/output",
      "model_module_version": "1.0.0",
      "model_name": "OutputModel",
      "state": {
       "layout": "IPY_MODEL_87cf842d183b48b4a2ba4aa5346ba3cb",
       "outputs": [
        {
         "data": {
          "image/png": "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\n",
          "text/plain": "<Figure size 360x360 with 1 Axes>"
         },
         "metadata": {},
         "output_type": "display_data"
        }
       ]
      }
     },
     "5aa6f7e038d743e39566e29684c81c03": {
      "model_module": "@jupyter-widgets/controls",
      "model_module_version": "1.5.0",
      "model_name": "DescriptionStyleModel",
      "state": {
       "description_width": ""
      }
     },
     "5b39d6879f6c4da088f2afa514b33195": {
      "model_module": "@jupyter-widgets/controls",
      "model_module_version": "1.5.0",
      "model_name": "HTMLModel",
      "state": {
       "layout": "IPY_MODEL_b698e56735c640499b6495874a1cca5c",
       "style": "IPY_MODEL_d21248a9c8664ee0ae3d5bc62959346c",
       "value": "<h5 style='color:#34bc6e'>True</h5>"
      }
     },
     "5b486ff18d0c47fe8f1c7017d29c8df1": {
      "model_module": "@jupyter-widgets/base",
      "model_module_version": "1.2.0",
      "model_name": "LayoutModel",
      "state": {}
     },
     "5bd50cb31f1c4a228f69986f24c40551": {
      "model_module": "@jupyter-widgets/controls",
      "model_module_version": "1.5.0",
      "model_name": "DescriptionStyleModel",
      "state": {
       "description_width": ""
      }
     },
     "5bd664b90a8d458abdf8414d32dcd8ee": {
      "model_module": "@jupyter-widgets/base",
      "model_module_version": "1.2.0",
      "model_name": "LayoutModel",
      "state": {}
     },
     "5c1fd6e19e92469fb95e14bdeb4a8535": {
      "model_module": "@jupyter-widgets/base",
      "model_module_version": "1.2.0",
      "model_name": "LayoutModel",
      "state": {
       "justify_content": "center",
       "max_width": "250px",
       "min_width": "250px"
      }
     },
     "5c626b9fcab4489fba16ec695cfd8d73": {
      "model_module": "@jupyter-widgets/controls",
      "model_module_version": "1.5.0",
      "model_name": "HTMLModel",
      "state": {
       "layout": "IPY_MODEL_6649ef5a90f642bb8640e88377ad3a93",
       "style": "IPY_MODEL_a7039036bc604b69966bb0f066ee8f91",
       "value": "<h5>91.9 / 104.1 us</h5>"
      }
     },
     "5cc9184ed3234059beecb6d2162bd4e9": {
      "model_module": "@jupyter-widgets/base",
      "model_module_version": "1.2.0",
      "model_name": "LayoutModel",
      "state": {
       "min_width": "auto"
      }
     },
     "5cde001092114e7aac498d1d080a072d": {
      "model_module": "@jupyter-widgets/controls",
      "model_module_version": "1.5.0",
      "model_name": "HTMLModel",
      "state": {
       "layout": "IPY_MODEL_010f769e3fb748609c9c9c62dc68bf4c",
       "style": "IPY_MODEL_33e792d40b434e2bb439a34e192af8c8",
       "value": "<h5>122.5 / 111.1 us</h5>"
      }
     },
     "5d14d33cc1634329909c2b822791d037": {
      "model_module": "@jupyter-widgets/base",
      "model_module_version": "1.2.0",
      "model_name": "LayoutModel",
      "state": {
       "align_items": "center",
       "display": "flex-inline"
      }
     },
     "5d193539d640400dad421e78a324c480": {
      "model_module": "@jupyter-widgets/controls",
      "model_module_version": "1.5.0",
      "model_name": "LabelModel",
      "state": {
       "layout": "IPY_MODEL_83b040e46de34585b16a28466cf1429d",
       "style": "IPY_MODEL_4a59d71386164b66998b372e501cff44",
       "value": "12"
      }
     },
     "5d2a670216974a419d5245db48664cb7": {
      "model_module": "@jupyter-widgets/controls",
      "model_module_version": "1.5.0",
      "model_name": "HTMLModel",
      "state": {
       "layout": "IPY_MODEL_2b06dd7ff116401d90b66847164f9e0a",
       "style": "IPY_MODEL_de64c8ea2b2f446b92ff1714b545c412",
       "value": "<h5>0.0678</h5>"
      }
     },
     "5d3537fde3a14312833a217d668f35f3": {
      "model_module": "@jupyter-widgets/controls",
      "model_module_version": "1.5.0",
      "model_name": "HTMLModel",
      "state": {
       "layout": "IPY_MODEL_6ea2e4769a9441048c38e7a374ded710",
       "style": "IPY_MODEL_0d39c6fdc1d7448fb8fb2f864f6c588e",
       "value": "<h5>0.0284</h5>"
      }
     },
     "5d4c345205eb4e8ea5ea49f90687c4b2": {
      "model_module": "@jupyter-widgets/controls",
      "model_module_version": "1.5.0",
      "model_name": "DescriptionStyleModel",
      "state": {
       "description_width": ""
      }
     },
     "5dd10501045e4655b0a4d5e839742b9a": {
      "model_module": "@jupyter-widgets/controls",
      "model_module_version": "1.5.0",
      "model_name": "DescriptionStyleModel",
      "state": {
       "description_width": ""
      }
     },
     "5dd5150ebe2143c1994813a819eb37ba": {
      "model_module": "@jupyter-widgets/base",
      "model_module_version": "1.2.0",
      "model_name": "LayoutModel",
      "state": {
       "margin": "5px 0px 0px 0px"
      }
     },
     "5dff554ad29c49ee8258b3cd35c4e020": {
      "model_module": "@jupyter-widgets/base",
      "model_module_version": "1.2.0",
      "model_name": "LayoutModel",
      "state": {
       "align_items": "center",
       "justify_content": "center",
       "margin": "0px 0px 0px 0px",
       "max_height": "250px",
       "max_width": "250px",
       "min_height": "250px",
       "min_width": "250px"
      }
     },
     "5e3cd10b259b4c8586c066c193fb337b": {
      "model_module": "@jupyter-widgets/base",
      "model_module_version": "1.2.0",
      "model_name": "LayoutModel",
      "state": {
       "max_width": "180px"
      }
     },
     "5e86009ddebf40bf9a94038aa75d2984": {
      "model_module": "@jupyter-widgets/controls",
      "model_module_version": "1.5.0",
      "model_name": "DescriptionStyleModel",
      "state": {
       "description_width": ""
      }
     },
     "5e9154cab2d24f67b4036803c1139d4c": {
      "model_module": "@jupyter-widgets/base",
      "model_module_version": "1.2.0",
      "model_name": "LayoutModel",
      "state": {
       "overflow_y": "scroll"
      }
     },
     "5eadcc2bc3ca45dfa2ed7b5be6a94fdf": {
      "model_module": "@jupyter-widgets/controls",
      "model_module_version": "1.5.0",
      "model_name": "DescriptionStyleModel",
      "state": {
       "description_width": ""
      }
     },
     "5ebd575396d14d6699e3013d59c080a2": {
      "model_module": "@jupyter-widgets/controls",
      "model_module_version": "1.5.0",
      "model_name": "LabelModel",
      "state": {
       "layout": "IPY_MODEL_68570b1d1bae42cfa53b4794aa40f54e",
       "style": "IPY_MODEL_2edb322317ae46ca8b865ae964b6f03a",
       "value": "Num. Qubits"
      }
     },
     "5f42774e8a5747d4be909746636171d1": {
      "model_module": "@jupyter-widgets/output",
      "model_module_version": "1.0.0",
      "model_name": "OutputModel",
      "state": {
       "layout": "IPY_MODEL_dc069e6a47fd4dd498777f94ff3f1d70",
       "outputs": [
        {
         "data": {
          "image/png": "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\n",
          "text/plain": "<Figure size 360x360 with 1 Axes>"
         },
         "metadata": {},
         "output_type": "display_data"
        }
       ]
      }
     },
     "5fad9047d5be4233980f63b499ecb25d": {
      "model_module": "@jupyter-widgets/controls",
      "model_module_version": "1.5.0",
      "model_name": "HTMLModel",
      "state": {
       "layout": "IPY_MODEL_ce8a222abf274cd59d8545226f5182b8",
       "style": "IPY_MODEL_e4a7b04587d34654812d8fa6bee939be",
       "value": "ibmq_quito"
      }
     },
     "600bc54a6dbb4d06adae9387eb6874c7": {
      "model_module": "@jupyter-widgets/controls",
      "model_module_version": "1.5.0",
      "model_name": "HTMLModel",
      "state": {
       "layout": "IPY_MODEL_693fe5810b8340eeb87792cb68f0a0f3",
       "style": "IPY_MODEL_3b56fce3a54d45369cc60c207c45e255",
       "value": "<h5>0.0294</h5>"
      }
     },
     "606ed51d3a01442ab275827b38db8e63": {
      "model_module": "@jupyter-widgets/controls",
      "model_module_version": "1.5.0",
      "model_name": "HTMLModel",
      "state": {
       "layout": "IPY_MODEL_3ab89c0ce3aa48c39c74c02d2abba3d0",
       "style": "IPY_MODEL_fb14e1dd242341a89e67a41154f910d6",
       "value": "<h5>0.0215</h5>"
      }
     },
     "60934d7358814797b2fd3fbbdef0ed2d": {
      "model_module": "@jupyter-widgets/controls",
      "model_module_version": "1.5.0",
      "model_name": "HTMLMathModel",
      "state": {
       "layout": "IPY_MODEL_b5cad1a869dc4b4a8ab3963d5a331389",
       "style": "IPY_MODEL_73d7c0c487de444d84974a60af96581b",
       "value": "<table><style>\ntable {\n    border-collapse: collapse;\n    width: auto;\n}\n\nth, td {\n    text-align: left;\n    padding: 8px;\n}\n\ntr:nth-child(even) {background-color: #f6f6f6;}\n</style><tr><th></th><th></th></tr><tr><td>local</td><td>False</td></tr><tr><td>measure_esp_enabled</td><td>False</td></tr><tr><td>simulator</td><td>False</td></tr><tr><td>clops</td><td>2506</td></tr><tr><td>memory</td><td>True</td></tr><tr><td>multi_meas_enabled</td><td>True</td></tr><tr><td>rep_times</td><td>[1000.0]</td></tr><tr><td>description</td><td>5 qubit device Quito</td></tr><tr><td>acquisition_latency</td><td>[]</td></tr><tr><td>allow_q_object</td><td>True</td></tr><tr><td>credits_required</td><td>True</td></tr><tr><td>meas_lo_range</td><td>[[6.807868157000001, 7.807868157000001], [6.7292695270000005, 7.7292695270000005], [6.991060108, 7.991060108], [6.8547510460000005, 7.8547510460000005], [6.904365522000001, 7.904365522000001]]</td></tr><tr><td>url</td><td>None</td></tr><tr><td>dynamic_reprate_enabled</td><td>True</td></tr><tr><td>default_rep_delay</td><td>250.0</td></tr><tr><td>n_registers</td><td>1</td></tr><tr><td>channels</td><td>{'acquire0': {'operates': {'qubits': [0]}, 'purpose': 'acquire', 'type': 'acquire'}, 'acquire1': {'operates': {'qubits': [1]}, 'purpose': 'acquire', 'type': 'acquire'}, 'acquire2': {'operates': {'qubits': [2]}, 'purpose': 'acquire', 'type': 'acquire'}, 'acquire3': {'operates': {'qubits': [3]}, 'purpose': 'acquire', 'type': 'acquire'}, 'acquire4': {'operates': {'qubits': [4]}, 'purpose': 'acquire', 'type': 'acquire'}, 'd0': {'operates': {'qubits': [0]}, 'purpose': 'drive', 'type': 'drive'}, 'd1': {'operates': {'qubits': [1]}, 'purpose': 'drive', 'type': 'drive'}, 'd2': {'operates': {'qubits': [2]}, 'purpose': 'drive', 'type': 'drive'}, 'd3': {'operates': {'qubits': [3]}, 'purpose': 'drive', 'type': 'drive'}, 'd4': {'operates': {'qubits': [4]}, 'purpose': 'drive', 'type': 'drive'}, 'm0': {'operates': {'qubits': [0]}, 'purpose': 'measure', 'type': 'measure'}, 'm1': {'operates': {'qubits': [1]}, 'purpose': 'measure', 'type': 'measure'}, 'm2': {'operates': {'qubits': [2]}, 'purpose': 'measure', 'type': 'measure'}, 'm3': {'operates': {'qubits': [3]}, 'purpose': 'measure', 'type': 'measure'}, 'm4': {'operates': {'qubits': [4]}, 'purpose': 'measure', 'type': 'measure'}, 'u0': {'operates': {'qubits': [0, 1]}, 'purpose': 'cross-resonance', 'type': 'control'}, 'u1': {'operates': {'qubits': [1, 0]}, 'purpose': 'cross-resonance', 'type': 'control'}, 'u2': {'operates': {'qubits': [1, 2]}, 'purpose': 'cross-resonance', 'type': 'control'}, 'u3': {'operates': {'qubits': [1, 3]}, 'purpose': 'cross-resonance', 'type': 'control'}, 'u4': {'operates': {'qubits': [2, 1]}, 'purpose': 'cross-resonance', 'type': 'control'}, 'u5': {'operates': {'qubits': [3, 1]}, 'purpose': 'cross-resonance', 'type': 'control'}, 'u6': {'operates': {'qubits': [3, 4]}, 'purpose': 'cross-resonance', 'type': 'control'}, 'u7': {'operates': {'qubits': [4, 3]}, 'purpose': 'cross-resonance', 'type': 'control'}}</td></tr><tr><td>dt</td><td>0.2222222222222222</td></tr><tr><td>u_channel_lo</td><td>[[{'q': 1, 'scale': (1+0j)}], [{'q': 0, 'scale': (1+0j)}], [{'q': 2, 'scale': (1+0j)}], [{'q': 3, 'scale': (1+0j)}], [{'q': 1, 'scale': (1+0j)}], [{'q': 1, 'scale': (1+0j)}], [{'q': 4, 'scale': (1+0j)}], [{'q': 3, 'scale': (1+0j)}]]</td></tr><tr><td>online_date</td><td>2021-01-08 05:00:00+00:00</td></tr><tr><td>hamiltonian</td><td>$$\\begin{align} \\mathcal{H}/\\hbar = & \\sum_{i=0}^{4}\\left(\\frac{\\omega_{q,i}}{2}(\\mathbb{I}-\\sigma_i^{z})+\\frac{\\Delta_{i}}{2}(O_i^2-O_i)+\\Omega_{d,i}D_i(t)\\sigma_i^{X}\\right) \\\\ & + J_{0,1}(\\sigma_{0}^{+}\\sigma_{1}^{-}+\\sigma_{0}^{-}\\sigma_{1}^{+}) + J_{1,2}(\\sigma_{1}^{+}\\sigma_{2}^{-}+\\sigma_{1}^{-}\\sigma_{2}^{+}) + J_{1,3}(\\sigma_{1}^{+}\\sigma_{3}^{-}+\\sigma_{1}^{-}\\sigma_{3}^{+}) + J_{3,4}(\\sigma_{3}^{+}\\sigma_{4}^{-}+\\sigma_{3}^{-}\\sigma_{4}^{+}) \\\\ & + \\Omega_{d,0}(U_{0}^{(0,1)}(t))\\sigma_{0}^{X} + \\Omega_{d,1}(U_{1}^{(1,0)}(t)+U_{3}^{(1,3)}(t)+U_{2}^{(1,2)}(t))\\sigma_{1}^{X} \\\\ & + \\Omega_{d,2}(U_{4}^{(2,1)}(t))\\sigma_{2}^{X} + \\Omega_{d,3}(U_{6}^{(3,4)}(t)+U_{5}^{(3,1)}(t))\\sigma_{3}^{X} \\\\ & + \\Omega_{d,4}(U_{7}^{(4,3)}(t))\\sigma_{4}^{X} \\\\ \\end{align}$$</td></tr><tr><td>conditional</td><td>False</td></tr><tr><td>coupling_map</td><td>[[0, 1], [1, 0], [1, 2], [1, 3], [2, 1], [3, 1], [3, 4], [4, 3]]</td></tr><tr><td>discriminators</td><td>['hw_centroid', 'quadratic_discriminator', 'linear_discriminator']</td></tr><tr><td>rep_delay_range</td><td>[0.0, 500.0]</td></tr><tr><td>qubit_channel_mapping</td><td>[['u1', 'd0', 'u0', 'm0'], ['u0', 'm1', 'u4', 'u3', 'u5', 'u2', 'd1', 'u1'], ['m2', 'u4', 'u2', 'd2'], ['m3', 'u7', 'u3', 'u5', 'u6', 'd3'], ['u7', 'u6', 'd4', 'm4']]</td></tr><tr><td>qubit_lo_range</td><td>[[4.800541040012398, 5.800541040012398], [4.580580828765353, 5.580580828765353], [4.822189923881474, 5.822189923881474], [4.6636068164653475, 5.6636068164653475], [4.552327895072668, 5.552327895072668]]</td></tr><tr><td>timing_constraints</td><td>{'acquire_alignment': 16, 'granularity': 16, 'min_length': 64, 'pulse_alignment': 1}</td></tr><tr><td>supported_features</td><td>['qobj']</td></tr><tr><td>sample_name</td><td>family: Falcon, revision: 4, segment: T</td></tr><tr><td>open_pulse</td><td>False</td></tr><tr><td>n_uchannels</td><td>8</td></tr><tr><td>processor_type</td><td>{'family': 'Falcon', 'revision': 4, 'segment': 'T'}</td></tr><tr><td>uchannels_enabled</td><td>True</td></tr><tr><td>conditional_latency</td><td>[]</td></tr><tr><td>supported_instructions</td><td>['reset', 'x', 'setf', 'play', 'shiftf', 'rz', 'measure', 'u3', 'cx', 'acquire', 'sx', 'u2', 'u1', 'delay', 'id']</td></tr><tr><td>input_allowed</td><td>['job', 'runtime']</td></tr><tr><td>allow_object_storage</td><td>True</td></tr><tr><td>live_data</td><td>False</td></tr><tr><td>meas_levels</td><td>[1, 2]</td></tr><tr><td>pulse_num_qubits</td><td>3</td></tr><tr><td>meas_kernels</td><td>['hw_boxcar']</td></tr><tr><td>dtm</td><td>0.2222222222222222</td></tr><tr><td>backend_name</td><td>ibmq_quito</td></tr><tr><td>pulse_num_channels</td><td>9</td></tr><tr><td>meas_map</td><td>[[0, 1, 2, 3, 4]]</td></tr><tr><td>parametric_pulses</td><td>['gaussian', 'gaussian_square', 'drag', 'constant']</td></tr></table>"
      }
     },
     "60ef035220754eac86341905cb081712": {
      "model_module": "@jupyter-widgets/output",
      "model_module_version": "1.0.0",
      "model_name": "OutputModel",
      "state": {
       "layout": "IPY_MODEL_8281c28d3ba04ed3a80ae668f114d946",
       "outputs": [
        {
         "data": {
          "image/png": "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\n",
          "text/plain": "<Figure size 360x360 with 1 Axes>"
         },
         "metadata": {},
         "output_type": "display_data"
        }
       ]
      }
     },
     "611792fedaef4e76aea840e63f13b77c": {
      "model_module": "@jupyter-widgets/base",
      "model_module_version": "1.2.0",
      "model_name": "LayoutModel",
      "state": {
       "justify_content": "center"
      }
     },
     "6135fb17e71b4f268a80639d2ce2e40f": {
      "model_module": "@jupyter-widgets/base",
      "model_module_version": "1.2.0",
      "model_name": "LayoutModel",
      "state": {}
     },
     "6137abd4f2944606abd29b70e7b0bd08": {
      "model_module": "@jupyter-widgets/base",
      "model_module_version": "1.2.0",
      "model_name": "LayoutModel",
      "state": {
       "margin": "8px 0px 0px 0px"
      }
     },
     "614a1b24777e49bf81ff7a724de6d2c8": {
      "model_module": "@jupyter-widgets/base",
      "model_module_version": "1.2.0",
      "model_name": "LayoutModel",
      "state": {
       "min_width": "auto"
      }
     },
     "615f0e3ac7224330b5d5dc69105c84bb": {
      "model_module": "@jupyter-widgets/controls",
      "model_module_version": "1.5.0",
      "model_name": "HTMLModel",
      "state": {
       "layout": "IPY_MODEL_86992922ff734fc1a3876e10f2f84daf",
       "style": "IPY_MODEL_ddf7edf1e6414c6d8683484c65b1d8d0",
       "value": "<table><style>\ntable {\n    border-collapse: collapse;\n    width: auto;\n}\n\nth, td {\n    text-align: left;\n    padding: 8px;\n}\n\ntr:nth-child(even) {background-color: #f6f6f6;}\n</style><tr><th></th><th>Frequency</th><th>T1</th><th>T2</th><th>RZ</th><th>SX</th><th>X</th><th>Readout error</th></tr><tr><td><font style='font-weight:bold'>Q0</font></td><td>5.30054 GHz</td><td>66.32672 us</td><td>108.95054 us</td><td>0</td><td>0.00041</td><td>0.00041</td><td>0.037 </td><tr><td><font style='font-weight:bold'>Q1</font></td><td>5.08058 GHz</td><td>93.66322 us</td><td>114.37514 us</td><td>0</td><td>0.00059</td><td>0.00059</td><td>0.0385 </td><tr><td><font style='font-weight:bold'>Q2</font></td><td>5.32219 GHz</td><td>50.77516 us</td><td>67.74683 us</td><td>0</td><td>0.00028</td><td>0.00028</td><td>0.0657 </td><tr><td><font style='font-weight:bold'>Q3</font></td><td>5.16361 GHz</td><td>126.81019 us</td><td>23.87534 us</td><td>0</td><td>0.00035</td><td>0.00035</td><td>0.0343 </td><tr><td><font style='font-weight:bold'>Q4</font></td><td>5.05233 GHz</td><td>83.35941 us</td><td>128.24079 us</td><td>0</td><td>0.00034</td><td>0.00034</td><td>0.0392 </td></table>"
      }
     },
     "61981b72466f4c5a980ebf7eb187820c": {
      "model_module": "@jupyter-widgets/controls",
      "model_module_version": "1.5.0",
      "model_name": "HTMLModel",
      "state": {
       "layout": "IPY_MODEL_c0d40a0685924428a210d66f21b848ee",
       "style": "IPY_MODEL_15f4ee41932747a1832d83ad15f4ce08",
       "value": "<table><style>\ntable {\n    border-collapse: collapse;\n    width: auto;\n}\n\nth, td {\n    text-align: left;\n    padding: 8px;\n}\n\ntr:nth-child(even) {background-color: #f6f6f6;}\n</style><tr><th></th><th>Frequency</th><th>T1</th><th>T2</th><th>RZ</th><th>SX</th><th>X</th><th>Readout error</th></tr><tr><td><font style='font-weight:bold'>Q0</font></td><td>5.30054 GHz</td><td>66.32672 us</td><td>108.95054 us</td><td>0</td><td>0.00041</td><td>0.00041</td><td>0.037 </td><tr><td><font style='font-weight:bold'>Q1</font></td><td>5.08058 GHz</td><td>93.66322 us</td><td>114.37514 us</td><td>0</td><td>0.00059</td><td>0.00059</td><td>0.0385 </td><tr><td><font style='font-weight:bold'>Q2</font></td><td>5.32219 GHz</td><td>50.77516 us</td><td>67.74683 us</td><td>0</td><td>0.00028</td><td>0.00028</td><td>0.0657 </td><tr><td><font style='font-weight:bold'>Q3</font></td><td>5.16361 GHz</td><td>126.81019 us</td><td>23.87534 us</td><td>0</td><td>0.00035</td><td>0.00035</td><td>0.0343 </td><tr><td><font style='font-weight:bold'>Q4</font></td><td>5.05233 GHz</td><td>83.35941 us</td><td>128.24079 us</td><td>0</td><td>0.00034</td><td>0.00034</td><td>0.0392 </td></table>"
      }
     },
     "61d45ad09d804e3ebbc3c6100225313d": {
      "model_module": "@jupyter-widgets/controls",
      "model_module_version": "1.5.0",
      "model_name": "LabelModel",
      "state": {
       "layout": "IPY_MODEL_2bbc178b14e5494a980f0345f1ece23c",
       "style": "IPY_MODEL_5eadcc2bc3ca45dfa2ed7b5be6a94fdf",
       "value": "50"
      }
     },
     "61ec898f132142e79b7937da69d1c2a8": {
      "model_module": "@jupyter-widgets/controls",
      "model_module_version": "1.5.0",
      "model_name": "ProgressStyleModel",
      "state": {
       "bar_color": "#71cddd",
       "description_width": ""
      }
     },
     "626d7ed4a8dc4c008295ffb5ae289524": {
      "model_module": "@jupyter-widgets/base",
      "model_module_version": "1.2.0",
      "model_name": "LayoutModel",
      "state": {}
     },
     "6277571a1ca444c4b47d0bce98263b8f": {
      "model_module": "@jupyter-widgets/controls",
      "model_module_version": "1.5.0",
      "model_name": "HTMLModel",
      "state": {
       "layout": "IPY_MODEL_fefbc40ca4da45eeb2228a7e239f8c9d",
       "style": "IPY_MODEL_29495d80a0f94d78b1e2a2cab90d2a0e",
       "value": "-"
      }
     },
     "628aee39a4e64966852cde6ed1cd2607": {
      "model_module": "@jupyter-widgets/controls",
      "model_module_version": "1.5.0",
      "model_name": "DescriptionStyleModel",
      "state": {
       "description_width": ""
      }
     },
     "62e72266cb654ab8b832d96ee115afb8": {
      "model_module": "@jupyter-widgets/controls",
      "model_module_version": "1.5.0",
      "model_name": "HTMLModel",
      "state": {
       "layout": "IPY_MODEL_71c50a2e94c34579b13f0697e317ddd8",
       "style": "IPY_MODEL_3e7a139013d740c29c473ecfaa52f881",
       "value": "<h5>0.0127</h5>"
      }
     },
     "63a5bd8e17a945cfb615df88d7ed47f6": {
      "model_module": "@jupyter-widgets/base",
      "model_module_version": "1.2.0",
      "model_name": "LayoutModel",
      "state": {
       "min_width": "auto"
      }
     },
     "640b3858814a47c08ac04ec1f1715f62": {
      "model_module": "@jupyter-widgets/controls",
      "model_module_version": "1.5.0",
      "model_name": "HTMLModel",
      "state": {
       "layout": "IPY_MODEL_b0c604afc4564b1e8cdc07b2f0ad5788",
       "style": "IPY_MODEL_87c8b97af0f64e78a3b1e3fad60d82d8",
       "value": "<h5 style='color:#dc267f'>False</h5>"
      }
     },
     "6447bebab385446ea1eb0c930bc6db61": {
      "model_module": "@jupyter-widgets/controls",
      "model_module_version": "1.5.0",
      "model_name": "ButtonModel",
      "state": {
       "icon": "close",
       "layout": "IPY_MODEL_657fe5815e0441a1a53292e8dc54cfe2",
       "style": "IPY_MODEL_21e65ec1dab446b1b45081d56d302daf"
      }
     },
     "6459b0e4469e406a8434eed57517daa5": {
      "model_module": "@jupyter-widgets/controls",
      "model_module_version": "1.5.0",
      "model_name": "DescriptionStyleModel",
      "state": {
       "description_width": ""
      }
     },
     "64dd02fce6e842eb88cc937924067f5d": {
      "model_module": "@jupyter-widgets/base",
      "model_module_version": "1.2.0",
      "model_name": "LayoutModel",
      "state": {
       "width": "95px"
      }
     },
     "64f227f02e3246e686127a00996ecbbb": {
      "model_module": "@jupyter-widgets/controls",
      "model_module_version": "1.5.0",
      "model_name": "HTMLModel",
      "state": {
       "layout": "IPY_MODEL_1c881485b04f4e92a852af11998d260b",
       "style": "IPY_MODEL_9e7f15deb8444157b998828c30bd4067",
       "value": "<table><style>\ntable {\n    border-collapse: collapse;\n    width: auto;\n}\n\nth, td {\n    text-align: left;\n    padding: 8px;\n}\n\ntr:nth-child(even) {background-color: #f6f6f6;}\n</style><tr><th></th><th>Frequency</th><th>T1</th><th>T2</th><th>RZ</th><th>SX</th><th>X</th><th>Readout error</th></tr><tr><td><font style='font-weight:bold'>Q0</font></td><td>5.30054 GHz</td><td>66.32672 us</td><td>108.95054 us</td><td>0</td><td>0.00041</td><td>0.00041</td><td>0.037 </td><tr><td><font style='font-weight:bold'>Q1</font></td><td>5.08058 GHz</td><td>93.66322 us</td><td>114.37514 us</td><td>0</td><td>0.00059</td><td>0.00059</td><td>0.0385 </td><tr><td><font style='font-weight:bold'>Q2</font></td><td>5.32219 GHz</td><td>50.77516 us</td><td>67.74683 us</td><td>0</td><td>0.00028</td><td>0.00028</td><td>0.0657 </td><tr><td><font style='font-weight:bold'>Q3</font></td><td>5.16361 GHz</td><td>126.81019 us</td><td>23.87534 us</td><td>0</td><td>0.00035</td><td>0.00035</td><td>0.0343 </td><tr><td><font style='font-weight:bold'>Q4</font></td><td>5.05233 GHz</td><td>83.35941 us</td><td>128.24079 us</td><td>0</td><td>0.00034</td><td>0.00034</td><td>0.0392 </td></table>"
      }
     },
     "6514811ee5fb438e92a0b1eab291241d": {
      "model_module": "@jupyter-widgets/controls",
      "model_module_version": "1.5.0",
      "model_name": "HTMLModel",
      "state": {
       "layout": "IPY_MODEL_d3e22a4b41274dd9ac1e64cdffa7371a",
       "style": "IPY_MODEL_6459b0e4469e406a8434eed57517daa5",
       "value": "job incurred error"
      }
     },
     "654ffc0f226346b69a7bd3889e09b401": {
      "model_module": "@jupyter-widgets/controls",
      "model_module_version": "1.5.0",
      "model_name": "LabelModel",
      "state": {
       "layout": "IPY_MODEL_110f7266012340cab0a30b4048b648ec",
       "style": "IPY_MODEL_d9959586c933416d87851c8f1d3bf6d7",
       "value": "387"
      }
     },
     "6562f7532b364e56968ebef3a0ce4c66": {
      "model_module": "@jupyter-widgets/controls",
      "model_module_version": "1.5.0",
      "model_name": "DescriptionStyleModel",
      "state": {
       "description_width": ""
      }
     },
     "657c7a62dfe548b685e92fdb6b2c23e6": {
      "model_module": "@jupyter-widgets/controls",
      "model_module_version": "1.5.0",
      "model_name": "DescriptionStyleModel",
      "state": {
       "description_width": ""
      }
     },
     "657fe5815e0441a1a53292e8dc54cfe2": {
      "model_module": "@jupyter-widgets/base",
      "model_module_version": "1.2.0",
      "model_name": "LayoutModel",
      "state": {
       "margin": "0px 5px 0px 0px",
       "width": "32px"
      }
     },
     "65ba41ae16334b3799a500948bae194c": {
      "model_module": "@jupyter-widgets/controls",
      "model_module_version": "1.5.0",
      "model_name": "HBoxModel",
      "state": {
       "children": [
        "IPY_MODEL_ac63d438696f4dc1b7e337205c5e395e",
        "IPY_MODEL_319f1650d03649919903a16c0b1e6859",
        "IPY_MODEL_879cac8104da4411952e0585ffa67ce0"
       ],
       "layout": "IPY_MODEL_2de2cd7f6524414a8a917466dc71e3f7"
      }
     },
     "6649ef5a90f642bb8640e88377ad3a93": {
      "model_module": "@jupyter-widgets/base",
      "model_module_version": "1.2.0",
      "model_name": "LayoutModel",
      "state": {}
     },
     "665e57469c9f4fb1b6735a913041da32": {
      "model_module": "@jupyter-widgets/controls",
      "model_module_version": "1.5.0",
      "model_name": "DescriptionStyleModel",
      "state": {
       "description_width": ""
      }
     },
     "66be3d76ee3d4f1a9aa1e985fb5eac3d": {
      "model_module": "@jupyter-widgets/controls",
      "model_module_version": "1.5.0",
      "model_name": "HTMLModel",
      "state": {
       "layout": "IPY_MODEL_243e15d26c444543847ec31f4961c2f3",
       "style": "IPY_MODEL_12c905e4dc464e9b9bb2e7a11a92cba7",
       "value": "<table><style>\ntable {\n    border-collapse: collapse;\n    width: auto;\n}\n\nth, td {\n    text-align: left;\n    padding: 8px;\n}\n\ntr:nth-child(even) {background-color: #f6f6f6;};\n</style><tr><th></th><th>Type</th><th>Gate error</th></tr><tr><td><font style='font-weight:bold'>cx3_4</font></td><td>cx</td><td>0.01921</td></tr><tr><td><font style='font-weight:bold'>cx4_3</font></td><td>cx</td><td>0.01921</td></tr><tr><td><font style='font-weight:bold'>cx1_3</font></td><td>cx</td><td>0.0127</td></tr></table>"
      }
     },
     "670d373d587c498abbe9200010f8d15a": {
      "model_module": "@jupyter-widgets/base",
      "model_module_version": "1.2.0",
      "model_name": "LayoutModel",
      "state": {
       "justify_content": "center"
      }
     },
     "674a838ea8734ff992e063bfc4c798dd": {
      "model_module": "@jupyter-widgets/controls",
      "model_module_version": "1.5.0",
      "model_name": "TabModel",
      "state": {
       "_titles": {
        "0": "Configuration",
        "1": "Qubit Properties",
        "2": "Multi-Qubit Gates",
        "3": "Error Map",
        "4": "Job History"
       },
       "children": [
        "IPY_MODEL_fdb16ef2bf2f4df586dc34b238ddb81a",
        "IPY_MODEL_7cb2d220571a4933a4c58dbe2a0bf313",
        "IPY_MODEL_d1a02aa0023a4d58a37505c7be9c0478",
        "IPY_MODEL_8e7bf16534754c0087f8e0f0745f9d85",
        "IPY_MODEL_a45ad8ddfc7543b98a9f83133b4c3087"
       ],
       "layout": "IPY_MODEL_a104c7972ce04e798a85959d0cb62cc7",
       "selected_index": 3
      }
     },
     "67a1cec4b98649f5859edbc58b8d476d": {
      "model_module": "@jupyter-widgets/base",
      "model_module_version": "1.2.0",
      "model_name": "LayoutModel",
      "state": {
       "margin": "0px 0px 10px 0px"
      }
     },
     "67ab894129cb4926b8bb9e9b2464d92e": {
      "model_module": "@jupyter-widgets/controls",
      "model_module_version": "1.5.0",
      "model_name": "VBoxModel",
      "state": {
       "children": [
        "IPY_MODEL_1810ab4a31314156a1839b57fc287e04",
        "IPY_MODEL_26fff1dfe04d4ebd90f63b4c3802f5ae",
        "IPY_MODEL_25737ba7ddc5434396f6b9b8f7d01397",
        "IPY_MODEL_94e2c6e149aa4ea8b9c09fe7148e74ea",
        "IPY_MODEL_42f2bdd368414fcb91b0321601e53f62",
        "IPY_MODEL_f340c12612d946cb8023272a80059009",
        "IPY_MODEL_640b3858814a47c08ac04ec1f1715f62",
        "IPY_MODEL_a5d2da2eabf84390aad855f70c0d57af",
        "IPY_MODEL_de0783527e9b447f9e88f8265b43b806",
        "IPY_MODEL_7aff5a5d05b64f5ca453a3f156b3d341"
       ],
       "layout": "IPY_MODEL_1bdd455cf9fd4dff8d5688b79d2bb083"
      }
     },
     "67b0af8601594600b36526fa6c099094": {
      "model_module": "@jupyter-widgets/controls",
      "model_module_version": "1.5.0",
      "model_name": "TabModel",
      "state": {
       "_titles": {
        "0": "Configuration",
        "1": "Qubit Properties",
        "2": "Multi-Qubit Gates",
        "3": "Error Map",
        "4": "Job History"
       },
       "children": [
        "IPY_MODEL_0d745c1b700d434b88d10bf263c36259",
        "IPY_MODEL_67ff6e0aea054ea2904022efb08060fd",
        "IPY_MODEL_575328d03ebf472790a4d95345705073",
        "IPY_MODEL_4c1acdc37f584aa69efa98fbac710849",
        "IPY_MODEL_55b17199074e4822b904a3de8d57b6e0"
       ],
       "layout": "IPY_MODEL_ab7295f1d7e74c0aa971df8e60a681ae"
      }
     },
     "67ff6e0aea054ea2904022efb08060fd": {
      "model_module": "@jupyter-widgets/controls",
      "model_module_version": "1.5.0",
      "model_name": "VBoxModel",
      "state": {
       "children": [
        "IPY_MODEL_fd32d2ff4dfc473ebd4a01034b2339e9",
        "IPY_MODEL_88e083a7da464f08b9450e4089b35aec"
       ],
       "layout": "IPY_MODEL_34faaf780f124aa8b0369abbf5e27ac7"
      }
     },
     "68570b1d1bae42cfa53b4794aa40f54e": {
      "model_module": "@jupyter-widgets/base",
      "model_module_version": "1.2.0",
      "model_name": "LayoutModel",
      "state": {}
     },
     "686634f7ea4d40aa9a1a7934c187140f": {
      "model_module": "@jupyter-widgets/controls",
      "model_module_version": "1.5.0",
      "model_name": "DescriptionStyleModel",
      "state": {
       "description_width": ""
      }
     },
     "68b23cbcd2374a99bdab86f15c905cf4": {
      "model_module": "@jupyter-widgets/controls",
      "model_module_version": "1.5.0",
      "model_name": "DescriptionStyleModel",
      "state": {
       "description_width": ""
      }
     },
     "68f7ad70c9194cddb1e5907043609b21": {
      "model_module": "@jupyter-widgets/base",
      "model_module_version": "1.2.0",
      "model_name": "LayoutModel",
      "state": {
       "justify_content": "center"
      }
     },
     "6901c1aebc5149cbaf4b3d7a6de095dc": {
      "model_module": "@jupyter-widgets/controls",
      "model_module_version": "1.5.0",
      "model_name": "HTMLModel",
      "state": {
       "layout": "IPY_MODEL_730daf9685ea4a76b7f81631992068a9",
       "style": "IPY_MODEL_8fc34b3d674f42428f07df90c3d41d2b",
       "value": "<h5 style='color:#34bc6e'>True</h5>"
      }
     },
     "693fe5810b8340eeb87792cb68f0a0f3": {
      "model_module": "@jupyter-widgets/base",
      "model_module_version": "1.2.0",
      "model_name": "LayoutModel",
      "state": {}
     },
     "695ca8a7d2df4b51b9c5ec11d092f8eb": {
      "model_module": "@jupyter-widgets/base",
      "model_module_version": "1.2.0",
      "model_name": "LayoutModel",
      "state": {}
     },
     "697dd433bea049e9a623a7c6d8f84951": {
      "model_module": "@jupyter-widgets/base",
      "model_module_version": "1.2.0",
      "model_name": "LayoutModel",
      "state": {
       "grid_gap": "0px 0px",
       "grid_template_areas": "\n                               \"left right right right\"\n                               \"bottom bottom bottom bottom\"\n                               ",
       "grid_template_columns": "31% 23% 23% 23%",
       "grid_template_rows": "auto auto"
      }
     },
     "69827962d52640e791fd993f7a20e1b5": {
      "model_module": "@jupyter-widgets/base",
      "model_module_version": "1.2.0",
      "model_name": "LayoutModel",
      "state": {
       "justify_content": "center"
      }
     },
     "6989f63085d145c4bb5ce4e25dcc35db": {
      "model_module": "@jupyter-widgets/controls",
      "model_module_version": "1.5.0",
      "model_name": "VBoxModel",
      "state": {
       "children": [
        "IPY_MODEL_15dd16834912401fb07c9ee385c7755d",
        "IPY_MODEL_67b0af8601594600b36526fa6c099094"
       ],
       "layout": "IPY_MODEL_e282eabb5eea4bf1bdce8227ec0ab9ac"
      }
     },
     "6a34c1ade4c14f3497221fdbfaa0dbbe": {
      "model_module": "@jupyter-widgets/controls",
      "model_module_version": "1.5.0",
      "model_name": "HTMLModel",
      "state": {
       "layout": "IPY_MODEL_84c089f200e24e3db6028b91d108185b",
       "style": "IPY_MODEL_15d5f09aa06c494f988a649330fce251",
       "value": "<h5 style='color:#dc267f'>False</h5>"
      }
     },
     "6a6ba974733a4d63977f0a0fb9262657": {
      "model_module": "@jupyter-widgets/controls",
      "model_module_version": "1.5.0",
      "model_name": "HTMLModel",
      "state": {
       "layout": "IPY_MODEL_867c4b1f52934978a601635f920ee031",
       "style": "IPY_MODEL_a68a1ff68ac841809a3c57c17f2660e0",
       "value": "<div><font style='font-weight:bold'>last_update_date</font>: Thu 09 June 2022 at 05:22 UTC</div>"
      }
     },
     "6ae38cfbc5424bad97057c3bab06c1b3": {
      "model_module": "@jupyter-widgets/base",
      "model_module_version": "1.2.0",
      "model_name": "LayoutModel",
      "state": {}
     },
     "6af9c41d2eba4f669bea632bf7091e07": {
      "model_module": "@jupyter-widgets/controls",
      "model_module_version": "1.5.0",
      "model_name": "DescriptionStyleModel",
      "state": {
       "description_width": ""
      }
     },
     "6b3c737afce24cfda01e546dbcc13d6b": {
      "model_module": "@jupyter-widgets/controls",
      "model_module_version": "1.5.0",
      "model_name": "DescriptionStyleModel",
      "state": {
       "description_width": ""
      }
     },
     "6b454b5d3a954f8e9bc107868f807589": {
      "model_module": "@jupyter-widgets/controls",
      "model_module_version": "1.5.0",
      "model_name": "HBoxModel",
      "state": {
       "children": [
        "IPY_MODEL_ba9f72699df54a62b44e3441841319cb",
        "IPY_MODEL_d312dcb1888b4a1888a87125a68f7989",
        "IPY_MODEL_88a9ecdc84164c72855607f3abbf55eb"
       ],
       "layout": "IPY_MODEL_f68b9955b73f4df38d202495b5295cc3"
      }
     },
     "6b79d4bfb1ae44f58253e1c4e08abe71": {
      "model_module": "@jupyter-widgets/base",
      "model_module_version": "1.2.0",
      "model_name": "LayoutModel",
      "state": {
       "align_items": "center",
       "display": "inline-flex",
       "flex_flow": "column"
      }
     },
     "6b95637b38b94ec9a4f4141c1d85c758": {
      "model_module": "@jupyter-widgets/controls",
      "model_module_version": "1.5.0",
      "model_name": "HTMLModel",
      "state": {
       "layout": "IPY_MODEL_0f479f87cad4403aaf09a17cc2358d02",
       "style": "IPY_MODEL_74e880822b53446da7241b65b39c28ff",
       "value": "<h5>NA</h5>"
      }
     },
     "6b9c15959457479f8ffb6a9f0e8f689f": {
      "model_module": "@jupyter-widgets/base",
      "model_module_version": "1.2.0",
      "model_name": "LayoutModel",
      "state": {}
     },
     "6bac8d12f6b84339b7b126e65c07ef79": {
      "model_module": "@jupyter-widgets/base",
      "model_module_version": "1.2.0",
      "model_name": "LayoutModel",
      "state": {
       "justify_content": "center"
      }
     },
     "6bc8f5facddf4ff0b2117034651ce899": {
      "model_module": "@jupyter-widgets/controls",
      "model_module_version": "1.5.0",
      "model_name": "DescriptionStyleModel",
      "state": {
       "description_width": ""
      }
     },
     "6c151a8322664212b1e5ab9e67173ca7": {
      "model_module": "@jupyter-widgets/controls",
      "model_module_version": "1.5.0",
      "model_name": "DescriptionStyleModel",
      "state": {
       "description_width": ""
      }
     },
     "6c470ffddbbc4cbda18c81aa855a3d38": {
      "model_module": "@jupyter-widgets/output",
      "model_module_version": "1.0.0",
      "model_name": "OutputModel",
      "state": {
       "layout": "IPY_MODEL_2d89488cab8d4a22ab7b51474e281245",
       "outputs": [
        {
         "data": {
          "image/png": "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\n",
          "text/plain": "<Figure size 360x360 with 1 Axes>"
         },
         "metadata": {},
         "output_type": "display_data"
        }
       ]
      }
     },
     "6c6a84635bd44ad99017f1c7f8abe918": {
      "model_module": "@jupyter-widgets/controls",
      "model_module_version": "1.5.0",
      "model_name": "HTMLModel",
      "state": {
       "layout": "IPY_MODEL_d605f45bf03b47a5b4ad9c989b8e47fa",
       "style": "IPY_MODEL_3fb67ce63ec94a2a861e18f91dc901e6",
       "value": "<h5>0.0121</h5>"
      }
     },
     "6ce6d1f9b4f94206a6157df287893e7a": {
      "model_module": "@jupyter-widgets/controls",
      "model_module_version": "1.5.0",
      "model_name": "HTMLModel",
      "state": {
       "layout": "IPY_MODEL_67a1cec4b98649f5859edbc58b8d476d",
       "style": "IPY_MODEL_58f6006534824b91923c52c07c95e2b6",
       "value": "<p style='font-family: IBM Plex Sans, Arial, Helvetica, sans-serif; font-size: 20px; font-weight: medium;'>Circuit Properties</p>"
      }
     },
     "6d24983f258b48399614299db3a4cc83": {
      "model_module": "@jupyter-widgets/base",
      "model_module_version": "1.2.0",
      "model_name": "LayoutModel",
      "state": {
       "min_width": "auto"
      }
     },
     "6d46333e5db44e05b92e98b8312318c2": {
      "model_module": "@jupyter-widgets/base",
      "model_module_version": "1.2.0",
      "model_name": "LayoutModel",
      "state": {
       "justify_content": "center"
      }
     },
     "6d9639549d7940a3bba3597bbf93cc5f": {
      "model_module": "@jupyter-widgets/controls",
      "model_module_version": "1.5.0",
      "model_name": "DescriptionStyleModel",
      "state": {
       "description_width": ""
      }
     },
     "6db615a6733f4337beb603e49b471f67": {
      "model_module": "@jupyter-widgets/base",
      "model_module_version": "1.2.0",
      "model_name": "LayoutModel",
      "state": {
       "width": "190px"
      }
     },
     "6e1c9cebdb194fd98493db8c635de900": {
      "model_module": "@jupyter-widgets/controls",
      "model_module_version": "1.5.0",
      "model_name": "DescriptionStyleModel",
      "state": {
       "description_width": ""
      }
     },
     "6e52b1487f254f1cb7c5974b3a259208": {
      "model_module": "@jupyter-widgets/base",
      "model_module_version": "1.2.0",
      "model_name": "LayoutModel",
      "state": {
       "max_width": "700px",
       "min_width": "700px"
      }
     },
     "6ea2e4769a9441048c38e7a374ded710": {
      "model_module": "@jupyter-widgets/base",
      "model_module_version": "1.2.0",
      "model_name": "LayoutModel",
      "state": {}
     },
     "6f439f897d1048828084ce3b6d52c836": {
      "model_module": "@jupyter-widgets/controls",
      "model_module_version": "1.5.0",
      "model_name": "DescriptionStyleModel",
      "state": {
       "description_width": ""
      }
     },
     "6f6acab30aa54e81b72d3ecb4f5b9366": {
      "model_module": "@jupyter-widgets/base",
      "model_module_version": "1.2.0",
      "model_name": "LayoutModel",
      "state": {
       "align_items": "center",
       "justify_content": "center",
       "margin": "0px 0px 0px 0px",
       "max_height": "250px",
       "max_width": "250px",
       "min_height": "250px",
       "min_width": "250px"
      }
     },
     "6f8bce2811e34906b3776aef2aa40848": {
      "model_module": "@jupyter-widgets/controls",
      "model_module_version": "1.5.0",
      "model_name": "DescriptionStyleModel",
      "state": {
       "description_width": ""
      }
     },
     "700cca0162bd4cb4bcd66bebceb7ad81": {
      "model_module": "@jupyter-widgets/base",
      "model_module_version": "1.2.0",
      "model_name": "LayoutModel",
      "state": {
       "width": "95px"
      }
     },
     "702492ce130e4916b40d0cfe8abb49f6": {
      "model_module": "@jupyter-widgets/base",
      "model_module_version": "1.2.0",
      "model_name": "LayoutModel",
      "state": {
       "justify_content": "center",
       "max_width": "250px",
       "min_width": "250px"
      }
     },
     "703beb14e9f240dbb4e980f99f52f3d1": {
      "model_module": "@jupyter-widgets/controls",
      "model_module_version": "1.5.0",
      "model_name": "HTMLModel",
      "state": {
       "layout": "IPY_MODEL_ce6f214e6ca54507bd81deac5ae44dd2",
       "style": "IPY_MODEL_52d43dc1584f4af593aafa1616d75956",
       "value": "<h5 style='color:#dc267f'>False</h5>"
      }
     },
     "707265bfd2aa4c1bbe3cf0b2e261b78c": {
      "model_module": "@jupyter-widgets/controls",
      "model_module_version": "1.5.0",
      "model_name": "DescriptionStyleModel",
      "state": {
       "description_width": ""
      }
     },
     "708f6893ff5749a0b6d86917ea7e8853": {
      "model_module": "@jupyter-widgets/controls",
      "model_module_version": "1.5.0",
      "model_name": "HBoxModel",
      "state": {
       "children": [
        "IPY_MODEL_72db7f58a7c6443abc715549bb255b51",
        "IPY_MODEL_ea38c662d82442b2a9055589f668b0db",
        "IPY_MODEL_a5575791a5e240b9b2a9d9831ddb08a1"
       ],
       "layout": "IPY_MODEL_00e3fce733cc48a8b6d82e702b3dee6e"
      }
     },
     "70cebc1ec5934f5b9ea6ffaa56cca1a0": {
      "model_module": "@jupyter-widgets/controls",
      "model_module_version": "1.5.0",
      "model_name": "IntProgressModel",
      "state": {
       "layout": "IPY_MODEL_aebcc00197a04eda85ba4ed0c1cae623",
       "max": 387,
       "style": "IPY_MODEL_7522a80e5e3240c7a190801fe6c0205a",
       "value": 316
      }
     },
     "7109efcb801448e8b8d9cfa08e3d283f": {
      "model_module": "@jupyter-widgets/controls",
      "model_module_version": "1.5.0",
      "model_name": "DescriptionStyleModel",
      "state": {
       "description_width": ""
      }
     },
     "7119b292cabf459b8d265c39159eab9e": {
      "model_module": "@jupyter-widgets/base",
      "model_module_version": "1.2.0",
      "model_name": "LayoutModel",
      "state": {}
     },
     "715cae72c78041a48d145cc124968fef": {
      "model_module": "@jupyter-widgets/base",
      "model_module_version": "1.2.0",
      "model_name": "LayoutModel",
      "state": {
       "margin": "10px 0px 0px 0px"
      }
     },
     "71c50a2e94c34579b13f0697e317ddd8": {
      "model_module": "@jupyter-widgets/base",
      "model_module_version": "1.2.0",
      "model_name": "LayoutModel",
      "state": {}
     },
     "71c92aefff4046ac80f9d78c5e615480": {
      "model_module": "@jupyter-widgets/controls",
      "model_module_version": "1.5.0",
      "model_name": "HTMLModel",
      "state": {
       "layout": "IPY_MODEL_144bd7199dd14a88bf59f88683ee52d4",
       "style": "IPY_MODEL_17e470342c44402abc1e037b9fd67913",
       "value": "<h5 style='color:#34bc6e'>True</h5>"
      }
     },
     "71feac594e0a4856908fa636cc03c5e1": {
      "model_module": "@jupyter-widgets/base",
      "model_module_version": "1.2.0",
      "model_name": "LayoutModel",
      "state": {
       "justify_content": "center"
      }
     },
     "7227baae12b440f2a10019e75e17ff74": {
      "model_module": "@jupyter-widgets/base",
      "model_module_version": "1.2.0",
      "model_name": "LayoutModel",
      "state": {}
     },
     "7236fb66aac046a4adc9e1e01bc40591": {
      "model_module": "@jupyter-widgets/controls",
      "model_module_version": "1.5.0",
      "model_name": "DescriptionStyleModel",
      "state": {
       "description_width": ""
      }
     },
     "72425882d4ae4b1daa5a6debd3e3c887": {
      "model_module": "@jupyter-widgets/controls",
      "model_module_version": "1.5.0",
      "model_name": "HTMLModel",
      "state": {
       "layout": "IPY_MODEL_e8eaaa65990f447b816d2d02483450ca",
       "style": "IPY_MODEL_e28891d5a4844c388a8725d010850634",
       "value": "<h5>Job ID</h5>"
      }
     },
     "725a39cef59e4b5b8c28f0a3d3524f30": {
      "model_module": "@jupyter-widgets/base",
      "model_module_version": "1.2.0",
      "model_name": "LayoutModel",
      "state": {
       "justify_content": "center",
       "max_width": "250px",
       "min_width": "250px"
      }
     },
     "727ae11315e14643badba141de59a35b": {
      "model_module": "@jupyter-widgets/base",
      "model_module_version": "1.2.0",
      "model_name": "LayoutModel",
      "state": {
       "justify_content": "center"
      }
     },
     "72b309f1f6f04543a1ae5cd0217a1c82": {
      "model_module": "@jupyter-widgets/controls",
      "model_module_version": "1.5.0",
      "model_name": "HTMLModel",
      "state": {
       "layout": "IPY_MODEL_060a17a5377d46018d484130c62a4c1b",
       "style": "IPY_MODEL_9096bf548b1a4cec86933972384b685c",
       "value": "<h5><b>5</b></h5>"
      }
     },
     "72d215716830410b98fcf49a2ad8db58": {
      "model_module": "@jupyter-widgets/controls",
      "model_module_version": "1.5.0",
      "model_name": "VBoxModel",
      "state": {
       "children": [
        "IPY_MODEL_d61dfb534007467885ac0db16013e6ad",
        "IPY_MODEL_7d5dc657d08a4386a010d81eddd356c9",
        "IPY_MODEL_991a402cfd544928ac332591f5d84a81",
        "IPY_MODEL_02aff6e1a12d4e3ca90be40b243ca08f",
        "IPY_MODEL_af7738a9f83f4e8ca950167c59183bc6",
        "IPY_MODEL_5a6a6187242f4840aed8eed062106b32",
        "IPY_MODEL_d49d400d42f84c8d91fe59c46d6ed2d6",
        "IPY_MODEL_997a7b85a78441559d659f0474915bc5",
        "IPY_MODEL_d49eec726cff4617867ca1845eb7fe8d",
        "IPY_MODEL_54f8bf1e57044d69a499a14065880581"
       ],
       "layout": "IPY_MODEL_e0e8f6d4c2eb4b6d858a363fb1498880"
      }
     },
     "72db7f58a7c6443abc715549bb255b51": {
      "model_module": "@jupyter-widgets/controls",
      "model_module_version": "1.5.0",
      "model_name": "LabelModel",
      "state": {
       "layout": "IPY_MODEL_0c18b4669a8d47e2ab6b9fe0f34a402e",
       "style": "IPY_MODEL_ac22ab70cc394289a038b3d895efc745",
       "value": "230"
      }
     },
     "72dba464854549d59dfcd0b5738bfc33": {
      "model_module": "@jupyter-widgets/base",
      "model_module_version": "1.2.0",
      "model_name": "LayoutModel",
      "state": {}
     },
     "72dcab1edb2e4884b439055a4998e489": {
      "model_module": "@jupyter-widgets/controls",
      "model_module_version": "1.5.0",
      "model_name": "DescriptionStyleModel",
      "state": {
       "description_width": ""
      }
     },
     "72e023cf9e314948b06136245f65e3d6": {
      "model_module": "@jupyter-widgets/base",
      "model_module_version": "1.2.0",
      "model_name": "LayoutModel",
      "state": {
       "max_width": "700px",
       "min_width": "700px"
      }
     },
     "72f2014e2b974ce38103eac02611f0a3": {
      "model_module": "@jupyter-widgets/base",
      "model_module_version": "1.2.0",
      "model_name": "LayoutModel",
      "state": {
       "justify_content": "center"
      }
     },
     "72f78f5ab5214c899fc4595a019111b9": {
      "model_module": "@jupyter-widgets/controls",
      "model_module_version": "1.5.0",
      "model_name": "VBoxModel",
      "state": {
       "children": [
        "IPY_MODEL_905f0221ed044743b14c5f8d31f6754d",
        "IPY_MODEL_8523c5653abf4379b67f3fa1a124eab3",
        "IPY_MODEL_9966ba277c8d4235b6203b47a14367b2",
        "IPY_MODEL_356144ae57124ebf8cc87dae4ea6e4ec",
        "IPY_MODEL_c4d2c5d2274e4a35b10f790293d9a7a1",
        "IPY_MODEL_93be1138bd624f3ea283f6b85191762d",
        "IPY_MODEL_fac73e16810b4b16b469e9ceda23f0ef",
        "IPY_MODEL_5c626b9fcab4489fba16ec695cfd8d73",
        "IPY_MODEL_5d3537fde3a14312833a217d668f35f3",
        "IPY_MODEL_57bd31d34973468a8d95ee0433caa206"
       ],
       "layout": "IPY_MODEL_acce706bea784a84ab5cf14b272be5d6"
      }
     },
     "730daf9685ea4a76b7f81631992068a9": {
      "model_module": "@jupyter-widgets/base",
      "model_module_version": "1.2.0",
      "model_name": "LayoutModel",
      "state": {
       "justify_content": "center"
      }
     },
     "7365a35fb0cc48e288e1eb4428bef88c": {
      "model_module": "@jupyter-widgets/controls",
      "model_module_version": "1.5.0",
      "model_name": "HTMLModel",
      "state": {
       "layout": "IPY_MODEL_2a9b900597fc464581e88d2f4f3bd18f",
       "style": "IPY_MODEL_57fb621945a14be3bfd97a05569e5e21",
       "value": "<h5>0.0264</h5>"
      }
     },
     "73d7c0c487de444d84974a60af96581b": {
      "model_module": "@jupyter-widgets/controls",
      "model_module_version": "1.5.0",
      "model_name": "DescriptionStyleModel",
      "state": {
       "description_width": ""
      }
     },
     "73d934197afc4c5fab5ff72cdaab8b12": {
      "model_module": "@jupyter-widgets/base",
      "model_module_version": "1.2.0",
      "model_name": "LayoutModel",
      "state": {}
     },
     "73e28a1aee4749e48916bf7b7c3c1c54": {
      "model_module": "@jupyter-widgets/controls",
      "model_module_version": "1.5.0",
      "model_name": "HTMLModel",
      "state": {
       "layout": "IPY_MODEL_e767f8dbe5e94860a488e7c5bd30f771",
       "style": "IPY_MODEL_bd80ff7b27984758af3c79779a367f28",
       "value": "<h5>0.0294</h5>"
      }
     },
     "745ed679fae24744b4fe0de7809e4b7a": {
      "model_module": "@jupyter-widgets/base",
      "model_module_version": "1.2.0",
      "model_name": "LayoutModel",
      "state": {
       "min_width": "auto"
      }
     },
     "74d06631acd0453db4caeb81db73b519": {
      "model_module": "@jupyter-widgets/controls",
      "model_module_version": "1.5.0",
      "model_name": "LabelModel",
      "state": {
       "layout": "IPY_MODEL_ec61d212e1e94962a9b8a9b99b9badd5",
       "style": "IPY_MODEL_fe9912bfc0f94ee69d49059d8f1c012b",
       "value": "Avg. Meas. Err."
      }
     },
     "74e880822b53446da7241b65b39c28ff": {
      "model_module": "@jupyter-widgets/controls",
      "model_module_version": "1.5.0",
      "model_name": "DescriptionStyleModel",
      "state": {
       "description_width": ""
      }
     },
     "7501a82421aa4460a0badbe61a79f181": {
      "model_module": "@jupyter-widgets/base",
      "model_module_version": "1.2.0",
      "model_name": "LayoutModel",
      "state": {}
     },
     "75099b626282467895980b534bf84edf": {
      "model_module": "@jupyter-widgets/base",
      "model_module_version": "1.2.0",
      "model_name": "LayoutModel",
      "state": {
       "justify_content": "center",
       "max_width": "250px",
       "min_width": "250px"
      }
     },
     "7522a80e5e3240c7a190801fe6c0205a": {
      "model_module": "@jupyter-widgets/controls",
      "model_module_version": "1.5.0",
      "model_name": "ProgressStyleModel",
      "state": {
       "bar_color": "#71cddd",
       "description_width": ""
      }
     },
     "754be0601d8a4d89823f0935b2d6bb7e": {
      "model_module": "@jupyter-widgets/base",
      "model_module_version": "1.2.0",
      "model_name": "LayoutModel",
      "state": {}
     },
     "755d1548dccd40c0a890314049329767": {
      "model_module": "@jupyter-widgets/base",
      "model_module_version": "1.2.0",
      "model_name": "LayoutModel",
      "state": {
       "min_width": "auto"
      }
     },
     "75b28a96bb0047b79d93706efe16b3d9": {
      "model_module": "@jupyter-widgets/controls",
      "model_module_version": "1.5.0",
      "model_name": "DescriptionStyleModel",
      "state": {
       "description_width": ""
      }
     },
     "7611ea3babe54e6bb59363247360bc56": {
      "model_module": "@jupyter-widgets/controls",
      "model_module_version": "1.5.0",
      "model_name": "DescriptionStyleModel",
      "state": {
       "description_width": ""
      }
     },
     "76282a2185b04a69a4592e39c369b2a5": {
      "model_module": "@jupyter-widgets/controls",
      "model_module_version": "1.5.0",
      "model_name": "HTMLModel",
      "state": {
       "layout": "IPY_MODEL_b28de27b771a4b56bbf4a85486ed39ea",
       "style": "IPY_MODEL_108be37e85a64886bc8fa77589aefc9f",
       "value": "<h2 style ='color:#ffffff; background-color:#000000;padding-top: 1%; padding-bottom: 1%;padding-left: 1%;margin-top: 0px'>Backend Overview</h2>"
      }
     },
     "77433a4344cc49a9a24477567c79842f": {
      "model_module": "@jupyter-widgets/controls",
      "model_module_version": "1.5.0",
      "model_name": "LabelModel",
      "state": {
       "layout": "IPY_MODEL_b4b7ee4a9202446ca44b4eb29b1488d4",
       "style": "IPY_MODEL_b8d241269933434cbdd5a08d9a64b0e1",
       "value": "Quantum Vol."
      }
     },
     "77d36275f5da4f25a123bc2f06aaebf7": {
      "model_module": "@jupyter-widgets/controls",
      "model_module_version": "1.5.0",
      "model_name": "HTMLModel",
      "state": {
       "layout": "IPY_MODEL_6135fb17e71b4f268a80639d2ce2e40f",
       "style": "IPY_MODEL_e89a06cb0070445e94fcd75b0144b3d9",
       "value": "<div><font style='font-weight:bold'>last_update_date</font>: Thu 09 June 2022 at 05:22 UTC</div>"
      }
     },
     "77f2dd0ede8d4b23b6fc0901c82a4a6b": {
      "model_module": "@jupyter-widgets/controls",
      "model_module_version": "1.5.0",
      "model_name": "ButtonModel",
      "state": {
       "button_style": "primary",
       "description": "Clear",
       "layout": "IPY_MODEL_fa9b329c93e9418f9940a82dd7ea8998",
       "style": "IPY_MODEL_3f718f8f88ef49ceb1028fed05884703"
      }
     },
     "782bbf17cc514f93a02a9afd03648663": {
      "model_module": "@jupyter-widgets/controls",
      "model_module_version": "1.5.0",
      "model_name": "ButtonModel",
      "state": {
       "icon": "close",
       "layout": "IPY_MODEL_85590e1e715d4d74bd701c70b70312b4",
       "style": "IPY_MODEL_cc15ada3e93d4afd814581238b331485"
      }
     },
     "78539c1893b74428bb56db9446ee0e70": {
      "model_module": "@jupyter-widgets/controls",
      "model_module_version": "1.5.0",
      "model_name": "DescriptionStyleModel",
      "state": {
       "description_width": ""
      }
     },
     "78645e2710cf4a429f43ae8d715d1ae9": {
      "model_module": "@jupyter-widgets/base",
      "model_module_version": "1.2.0",
      "model_name": "LayoutModel",
      "state": {
       "width": "190px"
      }
     },
     "7883709be2b84016ab440fd3df8e10b6": {
      "model_module": "@jupyter-widgets/controls",
      "model_module_version": "1.5.0",
      "model_name": "ProgressStyleModel",
      "state": {
       "bar_color": "#71cddd",
       "description_width": ""
      }
     },
     "78e0a8e814ad483cb9ef807a885e13e5": {
      "model_module": "@jupyter-widgets/controls",
      "model_module_version": "1.5.0",
      "model_name": "LabelModel",
      "state": {
       "layout": "IPY_MODEL_ad44ea9b2c014d319d80013e167d0dce",
       "style": "IPY_MODEL_03a7c51580a842e5926d6ebe746af4fe",
       "value": "Num. Qubits"
      }
     },
     "78e9c3c2da134b2da9982035cb38a11c": {
      "model_module": "@jupyter-widgets/controls",
      "model_module_version": "1.5.0",
      "model_name": "DescriptionStyleModel",
      "state": {
       "description_width": ""
      }
     },
     "7945f7c8f8534927b951ef39605a9a00": {
      "model_module": "@jupyter-widgets/base",
      "model_module_version": "1.2.0",
      "model_name": "LayoutModel",
      "state": {
       "grid_area": "bottom",
       "width": "auto"
      }
     },
     "79504bc79d224a0abe7e4c38dd5decb0": {
      "model_module": "@jupyter-widgets/base",
      "model_module_version": "1.2.0",
      "model_name": "LayoutModel",
      "state": {
       "align_items": "center",
       "justify_content": "center",
       "margin": "0px 0px 0px 0px",
       "max_height": "250px",
       "max_width": "250px",
       "min_height": "250px",
       "min_width": "250px"
      }
     },
     "7953f3a71ba84a4185e5db727b2f4eef": {
      "model_module": "@jupyter-widgets/base",
      "model_module_version": "1.2.0",
      "model_name": "LayoutModel",
      "state": {
       "justify_content": "center"
      }
     },
     "796abb42af8241ecb5df1ead17c25b4a": {
      "model_module": "@jupyter-widgets/controls",
      "model_module_version": "1.5.0",
      "model_name": "DescriptionStyleModel",
      "state": {
       "description_width": ""
      }
     },
     "7972fd57036b477d90818ed574cab90f": {
      "model_module": "@jupyter-widgets/base",
      "model_module_version": "1.2.0",
      "model_name": "LayoutModel",
      "state": {
       "align_items": "center",
       "display": "inline-flex",
       "flex_flow": "column"
      }
     },
     "79aaad93c0844a8fab28c6ffdc924fe2": {
      "model_module": "@jupyter-widgets/controls",
      "model_module_version": "1.5.0",
      "model_name": "HTMLModel",
      "state": {
       "layout": "IPY_MODEL_fa4fd6a3e6cf4e1cb8628e2ff26c6189",
       "style": "IPY_MODEL_f264b15a7e0f49c5ac172ce3884a932d",
       "value": "<h5 style='color:#dc267f'>False</h5>"
      }
     },
     "79e34738546e440085dc07d619b39b5c": {
      "model_module": "@jupyter-widgets/controls",
      "model_module_version": "1.5.0",
      "model_name": "DescriptionStyleModel",
      "state": {
       "description_width": ""
      }
     },
     "7a1472ac83734036b479d3d2a05b1856": {
      "model_module": "@jupyter-widgets/base",
      "model_module_version": "1.2.0",
      "model_name": "LayoutModel",
      "state": {
       "justify_content": "center",
       "max_width": "250px",
       "min_width": "250px"
      }
     },
     "7a2556e7030e461b87e03a1721d4ee2b": {
      "model_module": "@jupyter-widgets/output",
      "model_module_version": "1.0.0",
      "model_name": "OutputModel",
      "state": {
       "layout": "IPY_MODEL_017150ca7c194549924f003b3335d891",
       "outputs": [
        {
         "data": {
          "image/png": "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\n",
          "text/plain": "<Figure size 360x360 with 1 Axes>"
         },
         "metadata": {},
         "output_type": "display_data"
        }
       ]
      }
     },
     "7a74d98deec34d1db179faea1579e90e": {
      "model_module": "@jupyter-widgets/base",
      "model_module_version": "1.2.0",
      "model_name": "LayoutModel",
      "state": {
       "margin": "0px 0px 0px 0px"
      }
     },
     "7aff5a5d05b64f5ca453a3f156b3d341": {
      "model_module": "@jupyter-widgets/controls",
      "model_module_version": "1.5.0",
      "model_name": "HTMLModel",
      "state": {
       "layout": "IPY_MODEL_0147c12c59844cd8be24740209dcfbbd",
       "style": "IPY_MODEL_af26fa256ec845eab84768a5ba7c9994",
       "value": "<h5>0.0678</h5>"
      }
     },
     "7b10e6ccff8c46ec82b3e290ce01d099": {
      "model_module": "@jupyter-widgets/controls",
      "model_module_version": "1.5.0",
      "model_name": "VBoxModel",
      "state": {
       "children": [
        "IPY_MODEL_fe328fc9d71f4f1ca09bc2ef9d52b49b",
        "IPY_MODEL_a74c103320e742de89eef25bcd04189e",
        "IPY_MODEL_2c9f8be38e694be68e5b8448c63d5609",
        "IPY_MODEL_d699726153404969bff939ad20337580",
        "IPY_MODEL_99c041930ca14046b6df9d709bdd6914",
        "IPY_MODEL_c86561eafe074b2892b5861259ce8732",
        "IPY_MODEL_4c173c2fb86148ae9c87026708e00210",
        "IPY_MODEL_9959e886569f4b0f923e3bb6260edc18",
        "IPY_MODEL_d7a42bd25ceb4c558a5904f746c5938e",
        "IPY_MODEL_a43fada8b8664cb580ab1930d1899aab"
       ],
       "layout": "IPY_MODEL_4a5b83f180084158bc7cfc24fffdf02a"
      }
     },
     "7b30a4335697453db9d227267929c7d3": {
      "model_module": "@jupyter-widgets/controls",
      "model_module_version": "1.5.0",
      "model_name": "DescriptionStyleModel",
      "state": {
       "description_width": ""
      }
     },
     "7b3c0ddff7884c22bff6a543f5f06c2f": {
      "model_module": "@jupyter-widgets/base",
      "model_module_version": "1.2.0",
      "model_name": "LayoutModel",
      "state": {
       "justify_content": "center"
      }
     },
     "7b8f77ff544240e9ba61fadac10dbe44": {
      "model_module": "@jupyter-widgets/controls",
      "model_module_version": "1.5.0",
      "model_name": "DescriptionStyleModel",
      "state": {
       "description_width": ""
      }
     },
     "7bf41d88c45744ef9f51620cf45e829b": {
      "model_module": "@jupyter-widgets/controls",
      "model_module_version": "1.5.0",
      "model_name": "ButtonModel",
      "state": {
       "icon": "close",
       "layout": "IPY_MODEL_8ff89fb8282a447d96549f352caa16b5",
       "style": "IPY_MODEL_1e517d8f6d714118bdcd2e00db95c385"
      }
     },
     "7c09db657dea486096369eeb7daf0c70": {
      "model_module": "@jupyter-widgets/base",
      "model_module_version": "1.2.0",
      "model_name": "LayoutModel",
      "state": {
       "justify_content": "center"
      }
     },
     "7c36bea94c97440db183ee7610c3594b": {
      "model_module": "@jupyter-widgets/base",
      "model_module_version": "1.2.0",
      "model_name": "LayoutModel",
      "state": {
       "align_items": "center",
       "justify_content": "center",
       "margin": "0px 0px 0px 0px",
       "max_height": "250px",
       "max_width": "250px",
       "min_height": "250px",
       "min_width": "250px"
      }
     },
     "7c702ebff8e94c99b00cb4a749743cb8": {
      "model_module": "@jupyter-widgets/base",
      "model_module_version": "1.2.0",
      "model_name": "LayoutModel",
      "state": {
       "max_width": "180px"
      }
     },
     "7c8081413e1f45b8867566c81c170293": {
      "model_module": "@jupyter-widgets/controls",
      "model_module_version": "1.5.0",
      "model_name": "HTMLModel",
      "state": {
       "layout": "IPY_MODEL_c4637cf7ca224fc9accea07206ddcd95",
       "style": "IPY_MODEL_e37dc193ee7c47fb9639b5475d1dcf9c",
       "value": "ibmq_belem"
      }
     },
     "7c9c06c55854499f8bdfed9090f41197": {
      "model_module": "@jupyter-widgets/base",
      "model_module_version": "1.2.0",
      "model_name": "LayoutModel",
      "state": {
       "justify_content": "center",
       "max_width": "250px",
       "min_width": "250px"
      }
     },
     "7cb2d220571a4933a4c58dbe2a0bf313": {
      "model_module": "@jupyter-widgets/controls",
      "model_module_version": "1.5.0",
      "model_name": "VBoxModel",
      "state": {
       "children": [
        "IPY_MODEL_77d36275f5da4f25a123bc2f06aaebf7",
        "IPY_MODEL_64f227f02e3246e686127a00996ecbbb"
       ],
       "layout": "IPY_MODEL_7227baae12b440f2a10019e75e17ff74"
      }
     },
     "7d5dc657d08a4386a010d81eddd356c9": {
      "model_module": "@jupyter-widgets/output",
      "model_module_version": "1.0.0",
      "model_name": "OutputModel",
      "state": {
       "layout": "IPY_MODEL_79504bc79d224a0abe7e4c38dd5decb0",
       "outputs": [
        {
         "data": {
          "image/png": "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\n",
          "text/plain": "<Figure size 360x360 with 1 Axes>"
         },
         "metadata": {},
         "output_type": "display_data"
        }
       ]
      }
     },
     "7dbb0e9b31e441f0ae867e36ab6725fb": {
      "model_module": "@jupyter-widgets/controls",
      "model_module_version": "1.5.0",
      "model_name": "HTMLModel",
      "state": {
       "layout": "IPY_MODEL_695ca8a7d2df4b51b9c5ec11d092f8eb",
       "style": "IPY_MODEL_110e6c81abe7443db8cbcfb6a9763f4b",
       "value": "<h4>ibmq_belem</h4>"
      }
     },
     "7e7591510a124b6c990b084f5e5e1691": {
      "model_module": "@jupyter-widgets/controls",
      "model_module_version": "1.5.0",
      "model_name": "HBoxModel",
      "state": {
       "children": [
        "IPY_MODEL_da2b4bfda0fa44ac87124a0f6414cb4c",
        "IPY_MODEL_f337aabccb7b4b0d83025828cdd54af3",
        "IPY_MODEL_ac21ddf6c7044752b35be2d656eb74ad"
       ],
       "layout": "IPY_MODEL_96a349bdf703495e8eba3a30bad5b570"
      }
     },
     "7ea790e998cb4ccd9145d63ec67f9a37": {
      "model_module": "@jupyter-widgets/base",
      "model_module_version": "1.2.0",
      "model_name": "LayoutModel",
      "state": {
       "justify_content": "center"
      }
     },
     "7ef7238cea1c40e5b962243c257bd372": {
      "model_module": "@jupyter-widgets/base",
      "model_module_version": "1.2.0",
      "model_name": "LayoutModel",
      "state": {
       "min_width": "auto"
      }
     },
     "7f7260e6b0a24b2b83f712a0fd6d473a": {
      "model_module": "@jupyter-widgets/base",
      "model_module_version": "1.2.0",
      "model_name": "LayoutModel",
      "state": {
       "align_items": "center",
       "justify_content": "center",
       "margin": "0px 0px 0px 0px",
       "max_height": "250px",
       "max_width": "250px",
       "min_height": "250px",
       "min_width": "250px"
      }
     },
     "7fc23fb31da54cf28c317193c65b7de9": {
      "model_module": "@jupyter-widgets/controls",
      "model_module_version": "1.5.0",
      "model_name": "HTMLModel",
      "state": {
       "layout": "IPY_MODEL_8f1d9f3cc258485eb917a7814876b654",
       "style": "IPY_MODEL_94e935e423a644359337f7a784657efb",
       "value": "<h5>84.2 / 88.6 us</h5>"
      }
     },
     "80147060a93841b4bff55680fcc5b6e1": {
      "model_module": "@jupyter-widgets/controls",
      "model_module_version": "1.5.0",
      "model_name": "DescriptionStyleModel",
      "state": {
       "description_width": ""
      }
     },
     "805809b3cd694e6e95d00faf39e0320d": {
      "model_module": "@jupyter-widgets/controls",
      "model_module_version": "1.5.0",
      "model_name": "HTMLModel",
      "state": {
       "layout": "IPY_MODEL_36b046d0654d49f183a56800b353abf2",
       "style": "IPY_MODEL_0f5c29606ce74448937c21604c512708",
       "value": "<h1 style='color:#ffffff;background-color:#000000;padding-top: 1%;padding-bottom: 1%;padding-left: 1%; margin-top: 0px'>ibmq_quito</h1>"
      }
     },
     "805fa3897db24592adfbd1261c227b0d": {
      "model_module": "@jupyter-widgets/controls",
      "model_module_version": "1.5.0",
      "model_name": "TabModel",
      "state": {
       "_titles": {
        "0": "Configuration",
        "1": "Qubit Properties",
        "2": "Multi-Qubit Gates",
        "3": "Error Map",
        "4": "Job History"
       },
       "children": [
        "IPY_MODEL_ea17b16507444ce78142c91860ca1306",
        "IPY_MODEL_c80691dabfec4f34ba8803e3179678d1",
        "IPY_MODEL_91b6f6b218254ea9ac697c42fe96cdbe",
        "IPY_MODEL_e4744b8651a648d3a245c6c543636269",
        "IPY_MODEL_f351c0bf69d44ab786f8e8d9eeb014a6"
       ],
       "layout": "IPY_MODEL_5e9154cab2d24f67b4036803c1139d4c"
      }
     },
     "809bf0a151ec44b084dda1059f444648": {
      "model_module": "@jupyter-widgets/controls",
      "model_module_version": "1.5.0",
      "model_name": "LabelModel",
      "state": {
       "layout": "IPY_MODEL_d92a0f3818744c79a24680e44934eba9",
       "style": "IPY_MODEL_e2408e1e10294f9dba232222262e8ccb",
       "value": "Pending Jobs"
      }
     },
     "80e0cf44fb8045a790dd96bbc5953cc1": {
      "model_module": "@jupyter-widgets/controls",
      "model_module_version": "1.5.0",
      "model_name": "DescriptionStyleModel",
      "state": {
       "description_width": ""
      }
     },
     "80ea652c98734c099061645156acac06": {
      "model_module": "@jupyter-widgets/base",
      "model_module_version": "1.2.0",
      "model_name": "LayoutModel",
      "state": {}
     },
     "80f70895010645a3ad3d114088a247d6": {
      "model_module": "@jupyter-widgets/controls",
      "model_module_version": "1.5.0",
      "model_name": "HTMLModel",
      "state": {
       "layout": "IPY_MODEL_3563fd1e012141b785a8da071cfa0966",
       "style": "IPY_MODEL_b8cfe2f0a423469a963b43f233958268",
       "value": "<h5>0.0071</h5>"
      }
     },
     "817364e3d360467d860108b26c1532de": {
      "model_module": "@jupyter-widgets/controls",
      "model_module_version": "1.5.0",
      "model_name": "ProgressStyleModel",
      "state": {
       "bar_color": "#71cddd",
       "description_width": ""
      }
     },
     "8192878194de420a8bc1a43bf5eb7cf0": {
      "model_module": "@jupyter-widgets/controls",
      "model_module_version": "1.5.0",
      "model_name": "DescriptionStyleModel",
      "state": {
       "description_width": ""
      }
     },
     "81d7988ea2c14559b8fb5b38ef7bc1be": {
      "model_module": "@jupyter-widgets/controls",
      "model_module_version": "1.5.0",
      "model_name": "DescriptionStyleModel",
      "state": {
       "description_width": ""
      }
     },
     "81e2de85c12846ba9cd8475201bec80c": {
      "model_module": "@jupyter-widgets/base",
      "model_module_version": "1.2.0",
      "model_name": "LayoutModel",
      "state": {
       "margin": "5px 0px 0px 0px"
      }
     },
     "8258c24775994e79bd805f8032911e9d": {
      "model_module": "@jupyter-widgets/base",
      "model_module_version": "1.2.0",
      "model_name": "LayoutModel",
      "state": {
       "width": "145px"
      }
     },
     "825dab2bfb1d4c449c7b1981322f17a3": {
      "model_module": "@jupyter-widgets/base",
      "model_module_version": "1.2.0",
      "model_name": "LayoutModel",
      "state": {
       "justify_content": "center"
      }
     },
     "8281c28d3ba04ed3a80ae668f114d946": {
      "model_module": "@jupyter-widgets/base",
      "model_module_version": "1.2.0",
      "model_name": "LayoutModel",
      "state": {
       "align_items": "center",
       "display": "flex-inline",
       "grid_area": "right",
       "max_height": "325px",
       "padding": "10px 10px 10px 10px",
       "width": "auto"
      }
     },
     "829d26a4ad254449b699cb5923aca4bc": {
      "model_module": "@jupyter-widgets/base",
      "model_module_version": "1.2.0",
      "model_name": "LayoutModel",
      "state": {
       "justify_content": "center"
      }
     },
     "83360921c3e34df0bb19830e42ba75e7": {
      "model_module": "@jupyter-widgets/controls",
      "model_module_version": "1.5.0",
      "model_name": "LabelModel",
      "state": {
       "layout": "IPY_MODEL_c80901249eb24cc0b985af2fe3d07d93",
       "style": "IPY_MODEL_9eb0a74c54be452ba2de7f37eb6d7f95",
       "value": "326"
      }
     },
     "836026968aec4e5287b00c144cc260b5": {
      "model_module": "@jupyter-widgets/base",
      "model_module_version": "1.2.0",
      "model_name": "LayoutModel",
      "state": {
       "justify_content": "center"
      }
     },
     "836e2f8dda994827a1769c46996b0b44": {
      "model_module": "@jupyter-widgets/controls",
      "model_module_version": "1.5.0",
      "model_name": "HBoxModel",
      "state": {
       "children": [
        "IPY_MODEL_e2b9350579e147b69c78a3613a1a081d",
        "IPY_MODEL_8e689776abad467e87e1e45080066523",
        "IPY_MODEL_50dc802cef654b07919089ed2efe5c2d",
        "IPY_MODEL_f56e7d75cb0f4b40ac0e58e2e8265c53",
        "IPY_MODEL_fa9d1f3196f043878b94f59d2dc771f0",
        "IPY_MODEL_05ae861b57e3432eaea248af7db45f1a"
       ],
       "layout": "IPY_MODEL_6e52b1487f254f1cb7c5974b3a259208"
      }
     },
     "83a32f55df734534a75e2d67a171235e": {
      "model_module": "@jupyter-widgets/controls",
      "model_module_version": "1.5.0",
      "model_name": "DescriptionStyleModel",
      "state": {
       "description_width": ""
      }
     },
     "83b040e46de34585b16a28466cf1429d": {
      "model_module": "@jupyter-widgets/base",
      "model_module_version": "1.2.0",
      "model_name": "LayoutModel",
      "state": {
       "min_width": "auto"
      }
     },
     "83c205da32b245c0b627f8ebf39ae6d6": {
      "model_module": "@jupyter-widgets/controls",
      "model_module_version": "1.5.0",
      "model_name": "DescriptionStyleModel",
      "state": {
       "description_width": ""
      }
     },
     "83e9d7096f18462583829f1f5e0c8473": {
      "model_module": "@jupyter-widgets/controls",
      "model_module_version": "1.5.0",
      "model_name": "HTMLModel",
      "state": {
       "layout": "IPY_MODEL_8438cd069cb94dcbbd7ceee5cd3825eb",
       "style": "IPY_MODEL_cb7f8102b01b4bf18da97d1687742095",
       "value": "<h5><b>5</b></h5>"
      }
     },
     "8402e6131f82476292fd00756295c754": {
      "model_module": "@jupyter-widgets/controls",
      "model_module_version": "1.5.0",
      "model_name": "DescriptionStyleModel",
      "state": {
       "description_width": ""
      }
     },
     "840e00c73fac48c5901effd74a106238": {
      "model_module": "@jupyter-widgets/base",
      "model_module_version": "1.2.0",
      "model_name": "LayoutModel",
      "state": {
       "grid_area": "left",
       "width": "100%"
      }
     },
     "8438cd069cb94dcbbd7ceee5cd3825eb": {
      "model_module": "@jupyter-widgets/base",
      "model_module_version": "1.2.0",
      "model_name": "LayoutModel",
      "state": {
       "justify_content": "center"
      }
     },
     "848b2d3ee57a4f23a9942b93c82f1113": {
      "model_module": "@jupyter-widgets/controls",
      "model_module_version": "1.5.0",
      "model_name": "DescriptionStyleModel",
      "state": {
       "description_width": ""
      }
     },
     "84c089f200e24e3db6028b91d108185b": {
      "model_module": "@jupyter-widgets/base",
      "model_module_version": "1.2.0",
      "model_name": "LayoutModel",
      "state": {
       "justify_content": "center"
      }
     },
     "84c487b4555b489594dc63280515a4f7": {
      "model_module": "@jupyter-widgets/controls",
      "model_module_version": "1.5.0",
      "model_name": "DescriptionStyleModel",
      "state": {
       "description_width": ""
      }
     },
     "84ca7adef219418b8dec946f5d9425f9": {
      "model_module": "@jupyter-widgets/controls",
      "model_module_version": "1.5.0",
      "model_name": "DescriptionStyleModel",
      "state": {
       "description_width": ""
      }
     },
     "8523c5653abf4379b67f3fa1a124eab3": {
      "model_module": "@jupyter-widgets/output",
      "model_module_version": "1.0.0",
      "model_name": "OutputModel",
      "state": {
       "layout": "IPY_MODEL_6f6acab30aa54e81b72d3ecb4f5b9366",
       "outputs": [
        {
         "data": {
          "image/png": "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\n",
          "text/plain": "<Figure size 360x360 with 1 Axes>"
         },
         "metadata": {},
         "output_type": "display_data"
        }
       ]
      }
     },
     "85590e1e715d4d74bd701c70b70312b4": {
      "model_module": "@jupyter-widgets/base",
      "model_module_version": "1.2.0",
      "model_name": "LayoutModel",
      "state": {
       "margin": "0px 5px 0px 0px",
       "width": "32px"
      }
     },
     "861f9268deb1449197bc98af04a4be91": {
      "model_module": "@jupyter-widgets/controls",
      "model_module_version": "1.5.0",
      "model_name": "HTMLMathModel",
      "state": {
       "layout": "IPY_MODEL_1f32561c170c4d17859821e1a35c7ba0",
       "style": "IPY_MODEL_0c79c74c8f4f4598b0264d4da067f170",
       "value": "<table><style>\ntable {\n    border-collapse: collapse;\n    width: auto;\n}\n\nth, td {\n    text-align: left;\n    padding: 8px;\n}\n\ntr:nth-child(even) {background-color: #f6f6f6;}\n</style><tr><th>Property</th><th>Value</th></tr><tr><td><font style='font-weight:bold'>n_qubits</font></td><td>5</td></tr><tr><td><font style='font-weight:bold'>quantum_volume</font></td><td>16</td></tr><tr><td><font style='font-weight:bold'>operational</font></td><td>True</td></tr><tr><td><font style='font-weight:bold'>status_msg</font></td><td>active</td></tr><tr><td><font style='font-weight:bold'>pending_jobs</font></td><td>2</td></tr><tr><td><font style='font-weight:bold'>backend_version</font></td><td>1.1.30</td></tr><tr><td><font style='font-weight:bold'>basis_gates</font></td><td>['id', 'rz', 'sx', 'x', 'cx', 'reset']</td></tr><tr><td><font style='font-weight:bold'>max_shots</font></td><td>20000</td></tr><tr><td><font style='font-weight:bold'>max_experiments</font></td><td>100</td></tr></table>"
      }
     },
     "8644bcf413da469fb0b2c382a823111a": {
      "model_module": "@jupyter-widgets/base",
      "model_module_version": "1.2.0",
      "model_name": "LayoutModel",
      "state": {
       "max_width": "180px"
      }
     },
     "867c4b1f52934978a601635f920ee031": {
      "model_module": "@jupyter-widgets/base",
      "model_module_version": "1.2.0",
      "model_name": "LayoutModel",
      "state": {}
     },
     "86992922ff734fc1a3876e10f2f84daf": {
      "model_module": "@jupyter-widgets/base",
      "model_module_version": "1.2.0",
      "model_name": "LayoutModel",
      "state": {}
     },
     "86c93b4c963b46858198a5a45240fd24": {
      "model_module": "@jupyter-widgets/base",
      "model_module_version": "1.2.0",
      "model_name": "LayoutModel",
      "state": {}
     },
     "873cd54c9b2a4f779ca34b29dc827ad6": {
      "model_module": "@jupyter-widgets/base",
      "model_module_version": "1.2.0",
      "model_name": "LayoutModel",
      "state": {
       "justify_content": "center"
      }
     },
     "879bf8a6a22a4e7facb5a8080d8f58f9": {
      "model_module": "@jupyter-widgets/base",
      "model_module_version": "1.2.0",
      "model_name": "LayoutModel",
      "state": {
       "overflow_y": "scroll"
      }
     },
     "879cac8104da4411952e0585ffa67ce0": {
      "model_module": "@jupyter-widgets/controls",
      "model_module_version": "1.5.0",
      "model_name": "LabelModel",
      "state": {
       "layout": "IPY_MODEL_ef1890dc8aae4cef82c567517dd0a47c",
       "style": "IPY_MODEL_c753e4c88860416d8c23cfd9c88b4f03",
       "value": "50"
      }
     },
     "87c8b97af0f64e78a3b1e3fad60d82d8": {
      "model_module": "@jupyter-widgets/controls",
      "model_module_version": "1.5.0",
      "model_name": "DescriptionStyleModel",
      "state": {
       "description_width": ""
      }
     },
     "87cf842d183b48b4a2ba4aa5346ba3cb": {
      "model_module": "@jupyter-widgets/base",
      "model_module_version": "1.2.0",
      "model_name": "LayoutModel",
      "state": {
       "align_items": "center",
       "justify_content": "center",
       "margin": "0px 0px 0px 0px",
       "max_height": "250px",
       "max_width": "250px",
       "min_height": "250px",
       "min_width": "250px"
      }
     },
     "87d85ea714034f15b1055f4d0f0cac6d": {
      "model_module": "@jupyter-widgets/base",
      "model_module_version": "1.2.0",
      "model_name": "LayoutModel",
      "state": {
       "grid_template_areas": "\n                                       \". . . . right \"\n                                        ",
       "grid_template_columns": "20% 20% 20% 20% 20%",
       "width": "100%"
      }
     },
     "889e9a5f95864b23bbb54599b5f6e821": {
      "model_module": "@jupyter-widgets/controls",
      "model_module_version": "1.5.0",
      "model_name": "HTMLModel",
      "state": {
       "layout": "IPY_MODEL_33f2a57988dd413b9b9a5346b62f7250",
       "style": "IPY_MODEL_f44a776803e749c6a554472676ad262b",
       "value": "<h5>NA</h5>"
      }
     },
     "88a9ecdc84164c72855607f3abbf55eb": {
      "model_module": "@jupyter-widgets/controls",
      "model_module_version": "1.5.0",
      "model_name": "LabelModel",
      "state": {
       "layout": "IPY_MODEL_614a1b24777e49bf81ff7a724de6d2c8",
       "style": "IPY_MODEL_796abb42af8241ecb5df1ead17c25b4a",
       "value": "50"
      }
     },
     "88cfdbf14dbc4d70a55e8fc06c71ddd1": {
      "model_module": "@jupyter-widgets/controls",
      "model_module_version": "1.5.0",
      "model_name": "DescriptionStyleModel",
      "state": {
       "description_width": ""
      }
     },
     "88e083a7da464f08b9450e4089b35aec": {
      "model_module": "@jupyter-widgets/controls",
      "model_module_version": "1.5.0",
      "model_name": "HTMLModel",
      "state": {
       "layout": "IPY_MODEL_e3afb618db2e456780bbcbbae8806dc8",
       "style": "IPY_MODEL_531ec14ac65e4fdc801007e7b38c264f",
       "value": "<table><style>\ntable {\n    border-collapse: collapse;\n    width: auto;\n}\n\nth, td {\n    text-align: left;\n    padding: 8px;\n}\n\ntr:nth-child(even) {background-color: #f6f6f6;}\n</style><tr><th></th><th>Frequency</th><th>T1</th><th>T2</th><th>RZ</th><th>SX</th><th>X</th><th>Readout error</th></tr><tr><td><font style='font-weight:bold'>Q0</font></td><td>5.09021 GHz</td><td>116.6279 us</td><td>113.41316 us</td><td>0</td><td>0.0002</td><td>0.0002</td><td>0.0165 </td><tr><td><font style='font-weight:bold'>Q1</font></td><td>5.24551 GHz</td><td>71.52067 us</td><td>81.59946 us</td><td>0</td><td>0.00325</td><td>0.00325</td><td>0.039 </td><tr><td><font style='font-weight:bold'>Q2</font></td><td>5.3615 GHz</td><td>79.0816 us</td><td>72.69211 us</td><td>0</td><td>0.00028</td><td>0.00028</td><td>0.021 </td><tr><td><font style='font-weight:bold'>Q3</font></td><td>5.17065 GHz</td><td>125.36185 us</td><td>157.39478 us</td><td>0</td><td>0.17466</td><td>0.17466</td><td>0.1295 </td><tr><td><font style='font-weight:bold'>Q4</font></td><td>5.25864 GHz</td><td>66.81345 us</td><td>95.27688 us</td><td>0</td><td>0.00024</td><td>0.00024</td><td>0.0262 </td></table>"
      }
     },
     "8924ea709642462e9ae7e2e149d67fff": {
      "model_module": "@jupyter-widgets/base",
      "model_module_version": "1.2.0",
      "model_name": "LayoutModel",
      "state": {
       "grid_area": "top"
      }
     },
     "894bd405639e45d8a6321fcbc3e4ddfc": {
      "model_module": "@jupyter-widgets/controls",
      "model_module_version": "1.5.0",
      "model_name": "HTMLModel",
      "state": {
       "layout": "IPY_MODEL_8f6f8e14e2f4441da90a4379c2f1886d",
       "style": "IPY_MODEL_5bd50cb31f1c4a228f69986f24c40551",
       "value": "<h5 style='color:#34bc6e'>True</h5>"
      }
     },
     "89cb7c01fb6c4fa7a335df5608a6f0ba": {
      "model_module": "@jupyter-widgets/base",
      "model_module_version": "1.2.0",
      "model_name": "LayoutModel",
      "state": {
       "grid_area": "left"
      }
     },
     "89f5bd1479594f96b3fb72a51e8a3777": {
      "model_module": "@jupyter-widgets/controls",
      "model_module_version": "1.5.0",
      "model_name": "VBoxModel",
      "state": {
       "children": [
        "IPY_MODEL_167891c82fd04f36b625838c8c2cf722",
        "IPY_MODEL_4cb8754430244e1ebf3b8670aecf7f46",
        "IPY_MODEL_4bdb709305d549b19a85a08cebb95807",
        "IPY_MODEL_e68c926ef9c84118b6b0b5385f3ae8d4",
        "IPY_MODEL_65ba41ae16334b3799a500948bae194c",
        "IPY_MODEL_14269540ae6944f894e722bccb865352",
        "IPY_MODEL_4a521c60a0124d25b72ca505e8637a79",
        "IPY_MODEL_ad938a8a0fd44e519fe6fbeb73855a6f",
        "IPY_MODEL_62e72266cb654ab8b832d96ee115afb8",
        "IPY_MODEL_fc8733b26b4a49cd9909ead50b3cb2e1"
       ],
       "layout": "IPY_MODEL_7972fd57036b477d90818ed574cab90f"
      }
     },
     "89ff84e7d25d43d18aaf85c14bf73c8b": {
      "model_module": "@jupyter-widgets/base",
      "model_module_version": "1.2.0",
      "model_name": "LayoutModel",
      "state": {
       "overflow_x": "scroll"
      }
     },
     "8a672d77305c4402883a859e6d8e1862": {
      "model_module": "@jupyter-widgets/base",
      "model_module_version": "1.2.0",
      "model_name": "LayoutModel",
      "state": {}
     },
     "8a968d00723244e8bab5b45756d9e6a8": {
      "model_module": "@jupyter-widgets/controls",
      "model_module_version": "1.5.0",
      "model_name": "HTMLModel",
      "state": {
       "layout": "IPY_MODEL_acf8db820dd1471cb0aed8b9fb075a38",
       "style": "IPY_MODEL_554d4bd1f34b485dbba6139c58f46700",
       "value": "<h5>0.0464</h5>"
      }
     },
     "8ac58ee581e44b5587dc3a14d02e695b": {
      "model_module": "@jupyter-widgets/controls",
      "model_module_version": "1.5.0",
      "model_name": "HTMLModel",
      "state": {
       "layout": "IPY_MODEL_e1b64577d39141d4af5a3f2d3f0a6939",
       "style": "IPY_MODEL_9d986b605e3c4ef8be63b6113b2312ec",
       "value": "<table><style>\ntable {\n    border-collapse: collapse;\n    width: auto;\n}\n\nth, td {\n    text-align: left;\n    padding: 8px;\n}\n\ntr:nth-child(even) {background-color: #f6f6f6;};\n</style><tr><th></th><th>Type</th><th>Gate error</th></tr><tr><td><font style='font-weight:bold'>cx3_1</font></td><td>cx</td><td>0.0127</td></tr><tr><td><font style='font-weight:bold'>cx2_1</font></td><td>cx</td><td>0.0081</td></tr><tr><td><font style='font-weight:bold'>cx1_2</font></td><td>cx</td><td>0.0081</td></tr></table>"
      }
     },
     "8ae0cec513624689ba3de7f886bcf688": {
      "model_module": "@jupyter-widgets/base",
      "model_module_version": "1.2.0",
      "model_name": "LayoutModel",
      "state": {}
     },
     "8b47bf5b5b734712b50e452daab54b6f": {
      "model_module": "@jupyter-widgets/base",
      "model_module_version": "1.2.0",
      "model_name": "LayoutModel",
      "state": {
       "min_width": "auto"
      }
     },
     "8b5885a8c6064a06bff1d12b45d09439": {
      "model_module": "@jupyter-widgets/base",
      "model_module_version": "1.2.0",
      "model_name": "LayoutModel",
      "state": {
       "grid_gap": "0px 0px",
       "grid_template_areas": "\n                               \"left right right right\"\n                               \"bottom bottom bottom bottom\"\n                               ",
       "grid_template_columns": "31% 23% 23% 23%",
       "grid_template_rows": "auto auto"
      }
     },
     "8b770b64739244f988bb1f6e1183dbf6": {
      "model_module": "@jupyter-widgets/base",
      "model_module_version": "1.2.0",
      "model_name": "LayoutModel",
      "state": {
       "justify_content": "center"
      }
     },
     "8b7dbfc687584538b74f6a8af59a7c4e": {
      "model_module": "@jupyter-widgets/base",
      "model_module_version": "1.2.0",
      "model_name": "LayoutModel",
      "state": {
       "margin": "0px 5px 0px 0px",
       "width": "32px"
      }
     },
     "8bbf1f6031774b048d47bb4f9df2ed33": {
      "model_module": "@jupyter-widgets/controls",
      "model_module_version": "1.5.0",
      "model_name": "HBoxModel",
      "state": {
       "children": [
        "IPY_MODEL_458b98c3287a469dbd07b65cd6771cfa",
        "IPY_MODEL_0e2183b320bd4ed9959272f9d5ff4467",
        "IPY_MODEL_47f6842c686b4982b7ced95b2bcbd492"
       ],
       "layout": "IPY_MODEL_a245b809fefe47a9aebf40e883d1553b"
      }
     },
     "8c03535e3f6b4875a93f94b3d80a491b": {
      "model_module": "@jupyter-widgets/controls",
      "model_module_version": "1.5.0",
      "model_name": "DescriptionStyleModel",
      "state": {
       "description_width": ""
      }
     },
     "8c8df9d5883b4945a23423090fecbb0d": {
      "model_module": "@jupyter-widgets/controls",
      "model_module_version": "1.5.0",
      "model_name": "LabelModel",
      "state": {
       "layout": "IPY_MODEL_f2a98307c1df46adba01815174b70bb5",
       "style": "IPY_MODEL_d5587096429645ef9762150ee59f56e2",
       "value": "111"
      }
     },
     "8c93dd17414a4880b5b4891ac28499f8": {
      "model_module": "@jupyter-widgets/controls",
      "model_module_version": "1.5.0",
      "model_name": "LabelModel",
      "state": {
       "layout": "IPY_MODEL_715cae72c78041a48d145cc124968fef",
       "style": "IPY_MODEL_5a81b83fe7434669b140831aa6b5ed1d",
       "value": "Avg. T1 / T2"
      }
     },
     "8c948464ac0849f388c17768afc84710": {
      "model_module": "@jupyter-widgets/controls",
      "model_module_version": "1.5.0",
      "model_name": "DescriptionStyleModel",
      "state": {
       "description_width": ""
      }
     },
     "8ca9a36af7994d0a83c3a0491d9e12d5": {
      "model_module": "@jupyter-widgets/controls",
      "model_module_version": "1.5.0",
      "model_name": "DescriptionStyleModel",
      "state": {
       "description_width": ""
      }
     },
     "8cc079c6c869431380c04b07e16fd6a2": {
      "model_module": "@jupyter-widgets/base",
      "model_module_version": "1.2.0",
      "model_name": "LayoutModel",
      "state": {}
     },
     "8cc7eee036bf4b85a06aa8dc4cc014f4": {
      "model_module": "@jupyter-widgets/base",
      "model_module_version": "1.2.0",
      "model_name": "LayoutModel",
      "state": {
       "margin": "10px 0px 0px 0px"
      }
     },
     "8cf07a008afe49daab38eee358979bba": {
      "model_module": "@jupyter-widgets/controls",
      "model_module_version": "1.5.0",
      "model_name": "HTMLModel",
      "state": {
       "layout": "IPY_MODEL_754be0601d8a4d89823f0935b2d6bb7e",
       "style": "IPY_MODEL_80147060a93841b4bff55680fcc5b6e1",
       "value": "<h5>0.0127</h5>"
      }
     },
     "8cf8e233eabd407791871aa8ce0abc90": {
      "model_module": "@jupyter-widgets/controls",
      "model_module_version": "1.5.0",
      "model_name": "HTMLModel",
      "state": {
       "layout": "IPY_MODEL_2a43934c57cc45b0a35e5a66633262a8",
       "style": "IPY_MODEL_657c7a62dfe548b685e92fdb6b2c23e6",
       "value": "<table><style>\ntable {\n    border-collapse: collapse;\n    width: auto;\n}\n\nth, td {\n    text-align: left;\n    padding: 8px;\n}\n\ntr:nth-child(even) {background-color: #f6f6f6;};\n</style><tr><th></th><th>Type</th><th>Gate error</th></tr><tr><td><font style='font-weight:bold'>cx3_1</font></td><td>cx</td><td>0.0127</td></tr><tr><td><font style='font-weight:bold'>cx2_1</font></td><td>cx</td><td>0.0081</td></tr><tr><td><font style='font-weight:bold'>cx1_2</font></td><td>cx</td><td>0.0081</td></tr></table>"
      }
     },
     "8d402d27e9ba42858db1c83efa428832": {
      "model_module": "@jupyter-widgets/controls",
      "model_module_version": "1.5.0",
      "model_name": "VBoxModel",
      "state": {
       "children": [
        "IPY_MODEL_3b075ede0fdc4229bc5b1811dfc8fdf6",
        "IPY_MODEL_a49428f2e71543089b9fe16090e86aa8",
        "IPY_MODEL_e43c86dd85b6405ab87c2ebef6e7a99b",
        "IPY_MODEL_f50881f137544b48ae8490d71fff93f9",
        "IPY_MODEL_9ad55fc665cd42f0bcf30314573d8359",
        "IPY_MODEL_8eb95166aac94e05b2d36d21e9937ba9",
        "IPY_MODEL_6a34c1ade4c14f3497221fdbfaa0dbbe",
        "IPY_MODEL_010547c45ee5452ea763e2684d528ef2",
        "IPY_MODEL_f808d15f61d54e8095607fa4c8316145",
        "IPY_MODEL_73e28a1aee4749e48916bf7b7c3c1c54"
       ],
       "layout": "IPY_MODEL_91236478818a46ec81f34f83ebe7ec62"
      }
     },
     "8d7050185f8a4a39a9b76ff0474d95ed": {
      "model_module": "@jupyter-widgets/controls",
      "model_module_version": "1.5.0",
      "model_name": "HBoxModel",
      "state": {
       "children": [
        "IPY_MODEL_782bbf17cc514f93a02a9afd03648663",
        "IPY_MODEL_01b9d13ea6464c2d9380aa128f6e5f7c",
        "IPY_MODEL_7c8081413e1f45b8867566c81c170293",
        "IPY_MODEL_d30f56093c394047a22436f44f34e744",
        "IPY_MODEL_6277571a1ca444c4b47d0bce98263b8f",
        "IPY_MODEL_ffa54154967c440d9092c9b76f0e8cd8"
       ],
       "layout": "IPY_MODEL_72e023cf9e314948b06136245f65e3d6"
      }
     },
     "8d7430fa55f1438d8f8b8b1e388971d4": {
      "model_module": "@jupyter-widgets/base",
      "model_module_version": "1.2.0",
      "model_name": "LayoutModel",
      "state": {}
     },
     "8e17e41731bf4fa7903ba54db7fac901": {
      "model_module": "@jupyter-widgets/base",
      "model_module_version": "1.2.0",
      "model_name": "LayoutModel",
      "state": {
       "max_width": "180px"
      }
     },
     "8e264560d5a74b4580508f9547620c50": {
      "model_module": "@jupyter-widgets/controls",
      "model_module_version": "1.5.0",
      "model_name": "ButtonStyleModel",
      "state": {
       "button_color": "white"
      }
     },
     "8e689776abad467e87e1e45080066523": {
      "model_module": "@jupyter-widgets/controls",
      "model_module_version": "1.5.0",
      "model_name": "HTMLModel",
      "state": {
       "layout": "IPY_MODEL_cf305b74a5c64ea4a14df06cc4b2339d",
       "style": "IPY_MODEL_2066837011a148bc977f006dabaa3fd8",
       "value": "62a1f6cd129da2b880c1e819"
      }
     },
     "8e7bf16534754c0087f8e0f0745f9d85": {
      "model_module": "@jupyter-widgets/output",
      "model_module_version": "1.0.0",
      "model_name": "OutputModel",
      "state": {
       "layout": "IPY_MODEL_aa10f9fa0e0041ba8525437400e293f7",
       "outputs": [
        {
         "data": {
          "image/png": "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\n",
          "text/plain": "<Figure size 792x648 with 5 Axes>"
         },
         "metadata": {},
         "output_type": "display_data"
        }
       ]
      }
     },
     "8eb95166aac94e05b2d36d21e9937ba9": {
      "model_module": "@jupyter-widgets/controls",
      "model_module_version": "1.5.0",
      "model_name": "HTMLModel",
      "state": {
       "layout": "IPY_MODEL_72f2014e2b974ce38103eac02611f0a3",
       "style": "IPY_MODEL_b92edfe6cc6b4b14985c8e8253e941f4",
       "value": "<h5 style='color:#34bc6e'>True</h5>"
      }
     },
     "8ef94de4e1fc4f258186250a446960ec": {
      "model_module": "@jupyter-widgets/controls",
      "model_module_version": "1.5.0",
      "model_name": "HTMLMathModel",
      "state": {
       "layout": "IPY_MODEL_ccd1f87cf282426b8bc3ae0a7cc213e6",
       "style": "IPY_MODEL_c2bb0269dd5e429b83fce3d3afeef97a",
       "value": "<table><style>\ntable {\n    border-collapse: collapse;\n    width: auto;\n}\n\nth, td {\n    text-align: left;\n    padding: 8px;\n}\n\ntr:nth-child(even) {background-color: #f6f6f6;}\n</style><tr><th>Property</th><th>Value</th></tr><tr><td><font style='font-weight:bold'>n_qubits</font></td><td>5</td></tr><tr><td><font style='font-weight:bold'>quantum_volume</font></td><td>16</td></tr><tr><td><font style='font-weight:bold'>operational</font></td><td>True</td></tr><tr><td><font style='font-weight:bold'>status_msg</font></td><td>active</td></tr><tr><td><font style='font-weight:bold'>pending_jobs</font></td><td>2</td></tr><tr><td><font style='font-weight:bold'>backend_version</font></td><td>1.0.42</td></tr><tr><td><font style='font-weight:bold'>basis_gates</font></td><td>['id', 'rz', 'sx', 'x', 'cx', 'reset']</td></tr><tr><td><font style='font-weight:bold'>max_shots</font></td><td>20000</td></tr><tr><td><font style='font-weight:bold'>max_experiments</font></td><td>100</td></tr></table>"
      }
     },
     "8f1d9f3cc258485eb917a7814876b654": {
      "model_module": "@jupyter-widgets/base",
      "model_module_version": "1.2.0",
      "model_name": "LayoutModel",
      "state": {}
     },
     "8f6f1d9abab64f4cb686b47f566ecc0c": {
      "model_module": "@jupyter-widgets/controls",
      "model_module_version": "1.5.0",
      "model_name": "DescriptionStyleModel",
      "state": {
       "description_width": ""
      }
     },
     "8f6f8e14e2f4441da90a4379c2f1886d": {
      "model_module": "@jupyter-widgets/base",
      "model_module_version": "1.2.0",
      "model_name": "LayoutModel",
      "state": {
       "justify_content": "center"
      }
     },
     "8f76c81db92b4ea48989a0edce951b89": {
      "model_module": "@jupyter-widgets/controls",
      "model_module_version": "1.5.0",
      "model_name": "LabelModel",
      "state": {
       "layout": "IPY_MODEL_80ea652c98734c099061645156acac06",
       "style": "IPY_MODEL_dae02cf6b5e440f0874e4d4d810612d5",
       "value": "Num. Qubits"
      }
     },
     "8fc34b3d674f42428f07df90c3d41d2b": {
      "model_module": "@jupyter-widgets/controls",
      "model_module_version": "1.5.0",
      "model_name": "DescriptionStyleModel",
      "state": {
       "description_width": ""
      }
     },
     "8ff89fb8282a447d96549f352caa16b5": {
      "model_module": "@jupyter-widgets/base",
      "model_module_version": "1.2.0",
      "model_name": "LayoutModel",
      "state": {
       "margin": "0px 5px 0px 0px",
       "width": "32px"
      }
     },
     "905f0221ed044743b14c5f8d31f6754d": {
      "model_module": "@jupyter-widgets/controls",
      "model_module_version": "1.5.0",
      "model_name": "HTMLModel",
      "state": {
       "layout": "IPY_MODEL_8d7430fa55f1438d8f8b8b1e388971d4",
       "style": "IPY_MODEL_0175590e45f94a0f9f8502fd5df195d2",
       "value": "<h4>ibmq_belem</h4>"
      }
     },
     "90879ea8dbb949e79ef7bfa8d3cc3b35": {
      "model_module": "@jupyter-widgets/base",
      "model_module_version": "1.2.0",
      "model_name": "LayoutModel",
      "state": {}
     },
     "908bcc56cd3a42b4abbea6236f3e09e1": {
      "model_module": "@jupyter-widgets/controls",
      "model_module_version": "1.5.0",
      "model_name": "DescriptionStyleModel",
      "state": {
       "description_width": ""
      }
     },
     "9096bf548b1a4cec86933972384b685c": {
      "model_module": "@jupyter-widgets/controls",
      "model_module_version": "1.5.0",
      "model_name": "DescriptionStyleModel",
      "state": {
       "description_width": ""
      }
     },
     "90bfb42798a7484e8b821b0b6f0073e7": {
      "model_module": "@jupyter-widgets/output",
      "model_module_version": "1.0.0",
      "model_name": "OutputModel",
      "state": {
       "layout": "IPY_MODEL_7f7260e6b0a24b2b83f712a0fd6d473a",
       "outputs": [
        {
         "data": {
          "image/png": "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\n",
          "text/plain": "<Figure size 360x360 with 1 Axes>"
         },
         "metadata": {},
         "output_type": "display_data"
        }
       ]
      }
     },
     "9112e4fe5f914e43bc92986c35e42afc": {
      "model_module": "@jupyter-widgets/base",
      "model_module_version": "1.2.0",
      "model_name": "LayoutModel",
      "state": {
       "justify_content": "center"
      }
     },
     "91236478818a46ec81f34f83ebe7ec62": {
      "model_module": "@jupyter-widgets/base",
      "model_module_version": "1.2.0",
      "model_name": "LayoutModel",
      "state": {
       "align_items": "center",
       "display": "inline-flex",
       "flex_flow": "column"
      }
     },
     "91b500a451b3404aaf6ce04a974d12c5": {
      "model_module": "@jupyter-widgets/controls",
      "model_module_version": "1.5.0",
      "model_name": "DescriptionStyleModel",
      "state": {
       "description_width": ""
      }
     },
     "91b6f6b218254ea9ac697c42fe96cdbe": {
      "model_module": "@jupyter-widgets/controls",
      "model_module_version": "1.5.0",
      "model_name": "GridBoxModel",
      "state": {
       "children": [
        "IPY_MODEL_cde622fd83f54afca2176e39a5074252",
        "IPY_MODEL_66be3d76ee3d4f1a9aa1e985fb5eac3d",
        "IPY_MODEL_e2d2368e89bf4effa3a1abf63c7c46c2",
        "IPY_MODEL_9a5df4d9007941018e303b819665af06"
       ],
       "layout": "IPY_MODEL_97ec9b9dfa2a41baa4ecf573a98b2b4c"
      }
     },
     "91fc59d3f33c4266b8a64403d659386c": {
      "model_module": "@jupyter-widgets/base",
      "model_module_version": "1.2.0",
      "model_name": "LayoutModel",
      "state": {
       "justify_content": "center"
      }
     },
     "92279c3237844164b0de10cee42151c4": {
      "model_module": "@jupyter-widgets/controls",
      "model_module_version": "1.5.0",
      "model_name": "HBoxModel",
      "state": {
       "children": [
        "IPY_MODEL_04e1ab9a049f4ff0b8e4508c7ae274d8",
        "IPY_MODEL_eeaaefa3273a4b71810a65e4bc5530a4",
        "IPY_MODEL_41633ab5bb73487fa438d5eae1a75709"
       ],
       "layout": "IPY_MODEL_280267bb73944b3498725bb919228559"
      }
     },
     "924c392980ba4141843298f48b89624c": {
      "model_module": "@jupyter-widgets/controls",
      "model_module_version": "1.5.0",
      "model_name": "DescriptionStyleModel",
      "state": {
       "description_width": ""
      }
     },
     "9250de62057646e8a27af5dbc4a64d48": {
      "model_module": "@jupyter-widgets/base",
      "model_module_version": "1.2.0",
      "model_name": "LayoutModel",
      "state": {
       "align_items": "center",
       "justify_content": "center",
       "margin": "0px 0px 0px 0px",
       "max_height": "250px",
       "max_width": "250px",
       "min_height": "250px",
       "min_width": "250px"
      }
     },
     "92877ddf0f234e83a5249beb7852e960": {
      "model_module": "@jupyter-widgets/base",
      "model_module_version": "1.2.0",
      "model_name": "LayoutModel",
      "state": {}
     },
     "928ce74b121847b59ef0516c51cbcb39": {
      "model_module": "@jupyter-widgets/controls",
      "model_module_version": "1.5.0",
      "model_name": "IntProgressModel",
      "state": {
       "layout": "IPY_MODEL_eb30351e778a4e4592b7079e14d88587",
       "max": 50,
       "style": "IPY_MODEL_40ef0b2aa24041498da4faf16a44097c",
       "value": 12
      }
     },
     "92ff5531121c44d4ac6b5de1e3d137d9": {
      "model_module": "@jupyter-widgets/base",
      "model_module_version": "1.2.0",
      "model_name": "LayoutModel",
      "state": {
       "grid_area": "left"
      }
     },
     "93346f6157df421abd8631f9b8704c76": {
      "model_module": "@jupyter-widgets/controls",
      "model_module_version": "1.5.0",
      "model_name": "IntProgressModel",
      "state": {
       "layout": "IPY_MODEL_ab4783e5cf3d434cba843094b2cd7c3a",
       "max": 241,
       "style": "IPY_MODEL_db43171e427c44bc89419be33cb08b37",
       "value": 230
      }
     },
     "93be1138bd624f3ea283f6b85191762d": {
      "model_module": "@jupyter-widgets/controls",
      "model_module_version": "1.5.0",
      "model_name": "HTMLModel",
      "state": {
       "layout": "IPY_MODEL_8b770b64739244f988bb1f6e1183dbf6",
       "style": "IPY_MODEL_1c5d356698d44d59b57fc6b7dd083759",
       "value": "<h5 style='color:#34bc6e'>True</h5>"
      }
     },
     "93efaee22ff1445d8a5ad6612daf7e16": {
      "model_module": "@jupyter-widgets/controls",
      "model_module_version": "1.5.0",
      "model_name": "VBoxModel",
      "state": {
       "children": [
        "IPY_MODEL_dd7d11a2cca94e98bfa7c8c456e99f5b",
        "IPY_MODEL_11d3d83e97fc420eb69a8ef28cf588e3",
        "IPY_MODEL_2e5c808679f14e81ae59da11d0d49b49",
        "IPY_MODEL_42aa3c1c79a64bd0aa047aee658ab9a4",
        "IPY_MODEL_31725fdba40e4e908be035d04c543d9a",
        "IPY_MODEL_377c0e26db3e42a3b00e5afd5983e994",
        "IPY_MODEL_99a0fc57889f4bb398dc1b268aaf8c4e",
        "IPY_MODEL_50e84596cc484427ba862de90cf288cc",
        "IPY_MODEL_6c6a84635bd44ad99017f1c7f8abe918",
        "IPY_MODEL_357ed5322fb34f2ab04b51fffe6c7b9c"
       ],
       "layout": "IPY_MODEL_c4d603c972da41a6b67160bf85dfb709"
      }
     },
     "94003f457d88409297a90134b2b62de1": {
      "model_module": "@jupyter-widgets/controls",
      "model_module_version": "1.5.0",
      "model_name": "DescriptionStyleModel",
      "state": {
       "description_width": ""
      }
     },
     "948ff287cf3d4629a62f4637aecb165a": {
      "model_module": "@jupyter-widgets/controls",
      "model_module_version": "1.5.0",
      "model_name": "HTMLModel",
      "state": {
       "layout": "IPY_MODEL_94e8cf45635347da82d58b7d74fd0404",
       "style": "IPY_MODEL_59016c8db4574e5195192e14afcf66e0",
       "value": "<h5><b>5</b></h5>"
      }
     },
     "94cb27ce6dcb4e30ba0aadf629b8e69d": {
      "model_module": "@jupyter-widgets/base",
      "model_module_version": "1.2.0",
      "model_name": "LayoutModel",
      "state": {
       "margin": "295px 0px 0px 0px",
       "min_width": "100px"
      }
     },
     "94e2c6e149aa4ea8b9c09fe7148e74ea": {
      "model_module": "@jupyter-widgets/controls",
      "model_module_version": "1.5.0",
      "model_name": "HTMLModel",
      "state": {
       "layout": "IPY_MODEL_91fc59d3f33c4266b8a64403d659386c",
       "style": "IPY_MODEL_20f76ef4c8734437aeed119733bc593f",
       "value": "<h5>32</h5>"
      }
     },
     "94e8cf45635347da82d58b7d74fd0404": {
      "model_module": "@jupyter-widgets/base",
      "model_module_version": "1.2.0",
      "model_name": "LayoutModel",
      "state": {
       "justify_content": "center"
      }
     },
     "94e935e423a644359337f7a784657efb": {
      "model_module": "@jupyter-widgets/controls",
      "model_module_version": "1.5.0",
      "model_name": "DescriptionStyleModel",
      "state": {
       "description_width": ""
      }
     },
     "9500ad7b913e46f891160e5cf06dc9a2": {
      "model_module": "@jupyter-widgets/base",
      "model_module_version": "1.2.0",
      "model_name": "LayoutModel",
      "state": {
       "grid_area": "right"
      }
     },
     "9551b738628c4071b0780bf88b88a888": {
      "model_module": "@jupyter-widgets/controls",
      "model_module_version": "1.5.0",
      "model_name": "HTMLModel",
      "state": {
       "layout": "IPY_MODEL_700cca0162bd4cb4bcd66bebceb7ad81",
       "style": "IPY_MODEL_b48a2188f9804e32abc64df0fed0bf49",
       "value": "<font style='color:#34BC6E'>DONE</font>"
      }
     },
     "95c4675ecad8406fba42bb38ee8b17a5": {
      "model_module": "@jupyter-widgets/base",
      "model_module_version": "1.2.0",
      "model_name": "LayoutModel",
      "state": {
       "max_width": "180px"
      }
     },
     "95f1bdb3145c43b198cea9f88cc0a0ef": {
      "model_module": "@jupyter-widgets/controls",
      "model_module_version": "1.5.0",
      "model_name": "DescriptionStyleModel",
      "state": {
       "description_width": ""
      }
     },
     "963c3a21e78c45ba93db27463dc0132b": {
      "model_module": "@jupyter-widgets/base",
      "model_module_version": "1.2.0",
      "model_name": "LayoutModel",
      "state": {}
     },
     "96a349bdf703495e8eba3a30bad5b570": {
      "model_module": "@jupyter-widgets/base",
      "model_module_version": "1.2.0",
      "model_name": "LayoutModel",
      "state": {
       "justify_content": "center",
       "max_width": "250px",
       "min_width": "250px"
      }
     },
     "96b211b15ce241f19104ac4ec6c3a083": {
      "model_module": "@jupyter-widgets/base",
      "model_module_version": "1.2.0",
      "model_name": "LayoutModel",
      "state": {
       "align_items": "center",
       "justify_content": "center",
       "margin": "0px 0px 0px 0px",
       "max_height": "250px",
       "max_width": "250px",
       "min_height": "250px",
       "min_width": "250px"
      }
     },
     "9756236ff69e40f69992b95e9972ed2b": {
      "model_module": "@jupyter-widgets/controls",
      "model_module_version": "1.5.0",
      "model_name": "HTMLModel",
      "state": {
       "layout": "IPY_MODEL_278cb28b4bfa4615802490ab4137ae92",
       "style": "IPY_MODEL_d45c9c9ca45847489d110c5e6ce6a840",
       "value": "<h5 style='color:#dc267f'>False</h5>"
      }
     },
     "97985bd3d1604bf69eccff9a38c37089": {
      "model_module": "@jupyter-widgets/controls",
      "model_module_version": "1.5.0",
      "model_name": "HTMLModel",
      "state": {
       "layout": "IPY_MODEL_ff96269a34f44f15a02975a2d3bc91bf",
       "style": "IPY_MODEL_9e2c9238a9f04f96a775324bd439de5e",
       "value": "ibmq_quito"
      }
     },
     "97ec9b9dfa2a41baa4ecf573a98b2b4c": {
      "model_module": "@jupyter-widgets/base",
      "model_module_version": "1.2.0",
      "model_name": "LayoutModel",
      "state": {
       "grid_gap": "0px 0px",
       "grid_template_areas": "\n                                                   \"top top top\"\n                                                   \"left middle right\"\n                                                   ",
       "grid_template_columns": "33% 33% 33%",
       "grid_template_rows": "auto auto"
      }
     },
     "9846854a40d84d71b51a8a861f104f98": {
      "model_module": "@jupyter-widgets/controls",
      "model_module_version": "1.5.0",
      "model_name": "DescriptionStyleModel",
      "state": {
       "description_width": ""
      }
     },
     "98a5d1a45ff74d4389584f3ed4597e85": {
      "model_module": "@jupyter-widgets/controls",
      "model_module_version": "1.5.0",
      "model_name": "HBoxModel",
      "state": {
       "children": [
        "IPY_MODEL_abf22a56793e4c6b866cdcef14be9b1b",
        "IPY_MODEL_44ecbc93dee3490aa3c5aaaf896d45c1",
        "IPY_MODEL_2b7395549ca74989b168f4ded76cf626",
        "IPY_MODEL_53bf54575ce84409ba38186a9b5a8676",
        "IPY_MODEL_4c92e814927346a4b5485b85ac69637a",
        "IPY_MODEL_de40f35a94d04ba19df78af115ffb393"
       ],
       "layout": "IPY_MODEL_99c83ae190974fe38f11bd54cb2ede7d"
      }
     },
     "98c2046f87d74186bfe3439c7286b17b": {
      "model_module": "@jupyter-widgets/base",
      "model_module_version": "1.2.0",
      "model_name": "LayoutModel",
      "state": {
       "overflow_x": "scroll"
      }
     },
     "98ca76c324b64b3cae38a06514f80ac1": {
      "model_module": "@jupyter-widgets/base",
      "model_module_version": "1.2.0",
      "model_name": "LayoutModel",
      "state": {
       "min_width": "auto"
      }
     },
     "991a402cfd544928ac332591f5d84a81": {
      "model_module": "@jupyter-widgets/controls",
      "model_module_version": "1.5.0",
      "model_name": "HTMLModel",
      "state": {
       "layout": "IPY_MODEL_c57b28ad209a46aa8f236a3c98cd44f8",
       "style": "IPY_MODEL_2d5b44302f8d4ab3bce1a012320cbf38",
       "value": "<h5><b>1</b></h5>"
      }
     },
     "99216acb725c4a23a98f56a6228f7fe4": {
      "model_module": "@jupyter-widgets/controls",
      "model_module_version": "1.5.0",
      "model_name": "LabelModel",
      "state": {
       "layout": "IPY_MODEL_81e2de85c12846ba9cd8475201bec80c",
       "style": "IPY_MODEL_29b20734b6b2437caf30a2a9870f4b4b",
       "value": "Operational"
      }
     },
     "9959e886569f4b0f923e3bb6260edc18": {
      "model_module": "@jupyter-widgets/controls",
      "model_module_version": "1.5.0",
      "model_name": "HTMLModel",
      "state": {
       "layout": "IPY_MODEL_dee84de4580e475a9a8d2e8880d7b6e4",
       "style": "IPY_MODEL_2b34ea15db8b4336b4c4c06e4e225f72",
       "value": "<h5>171.9 / 59.1 us</h5>"
      }
     },
     "9966ba277c8d4235b6203b47a14367b2": {
      "model_module": "@jupyter-widgets/controls",
      "model_module_version": "1.5.0",
      "model_name": "HTMLModel",
      "state": {
       "layout": "IPY_MODEL_ef924fe4d9964ed2a31d2f1fc1a887ec",
       "style": "IPY_MODEL_46f6a672212b4876ba5098512c01bf55",
       "value": "<h5><b>5</b></h5>"
      }
     },
     "997a7b85a78441559d659f0474915bc5": {
      "model_module": "@jupyter-widgets/controls",
      "model_module_version": "1.5.0",
      "model_name": "HTMLModel",
      "state": {
       "layout": "IPY_MODEL_ed1bc63968a94882ad88cd50a6a23084",
       "style": "IPY_MODEL_12dc120ab809453b8092544defd8c4c8",
       "value": "<h5>121.1 / 179.2 us</h5>"
      }
     },
     "99a0fc57889f4bb398dc1b268aaf8c4e": {
      "model_module": "@jupyter-widgets/controls",
      "model_module_version": "1.5.0",
      "model_name": "HTMLModel",
      "state": {
       "layout": "IPY_MODEL_c60ab94d9c4c4b9ca92f998b4ad5d5ac",
       "style": "IPY_MODEL_72dcab1edb2e4884b439055a4998e489",
       "value": "<h5 style='color:#dc267f'>False</h5>"
      }
     },
     "99c041930ca14046b6df9d709bdd6914": {
      "model_module": "@jupyter-widgets/controls",
      "model_module_version": "1.5.0",
      "model_name": "HBoxModel",
      "state": {
       "children": [
        "IPY_MODEL_23dfcc0ff75644e298427bb603ff0539",
        "IPY_MODEL_93346f6157df421abd8631f9b8704c76",
        "IPY_MODEL_48b7f99d55d34169896dcc15053d4815"
       ],
       "layout": "IPY_MODEL_5c1fd6e19e92469fb95e14bdeb4a8535"
      }
     },
     "99c83ae190974fe38f11bd54cb2ede7d": {
      "model_module": "@jupyter-widgets/base",
      "model_module_version": "1.2.0",
      "model_name": "LayoutModel",
      "state": {
       "max_width": "700px",
       "min_width": "700px"
      }
     },
     "9a344cbfec744af2b2a7ba56ecac02b9": {
      "model_module": "@jupyter-widgets/base",
      "model_module_version": "1.2.0",
      "model_name": "LayoutModel",
      "state": {
       "align_items": "center",
       "justify_content": "center",
       "margin": "0px 0px 0px 0px",
       "max_height": "250px",
       "max_width": "250px",
       "min_height": "250px",
       "min_width": "250px"
      }
     },
     "9a5df4d9007941018e303b819665af06": {
      "model_module": "@jupyter-widgets/controls",
      "model_module_version": "1.5.0",
      "model_name": "HTMLModel",
      "state": {
       "layout": "IPY_MODEL_2bc637051d28464ba6dd04a5c9e85887",
       "style": "IPY_MODEL_c7d446530f2c4e028e8eef23c7e63c11",
       "value": "<table><style>\ntable {\n    border-collapse: collapse;\n    width: auto;\n}\n\nth, td {\n    text-align: left;\n    padding: 8px;\n}\n\ntr:nth-child(even) {background-color: #f6f6f6;};\n</style><tr><th></th><th>Type</th><th>Gate error</th></tr><tr><td><font style='font-weight:bold'>cx0_1</font></td><td>cx</td><td>0.01075</td></tr><tr><td><font style='font-weight:bold'>cx1_0</font></td><td>cx</td><td>0.01075</td></tr></table>"
      }
     },
     "9ad55fc665cd42f0bcf30314573d8359": {
      "model_module": "@jupyter-widgets/controls",
      "model_module_version": "1.5.0",
      "model_name": "HBoxModel",
      "state": {
       "children": [
        "IPY_MODEL_069ec6d9370743ccb739b5c197fd3499",
        "IPY_MODEL_928ce74b121847b59ef0516c51cbcb39",
        "IPY_MODEL_0b17eeffb15a4fd7824ac6aef8e308d5"
       ],
       "layout": "IPY_MODEL_aeeb1a3a11034361957df3857af78676"
      }
     },
     "9ae62c130d2c4cfb8b0b1a87b042244b": {
      "model_module": "@jupyter-widgets/base",
      "model_module_version": "1.2.0",
      "model_name": "LayoutModel",
      "state": {
       "min_width": "auto"
      }
     },
     "9b0f6abf0876409eac92c6da1b854740": {
      "model_module": "@jupyter-widgets/base",
      "model_module_version": "1.2.0",
      "model_name": "LayoutModel",
      "state": {
       "justify_content": "center"
      }
     },
     "9b89bfec01884003aa9d9ce1a850356a": {
      "model_module": "@jupyter-widgets/controls",
      "model_module_version": "1.5.0",
      "model_name": "IntProgressModel",
      "state": {
       "layout": "IPY_MODEL_c0775aed7f8e42abbed95d6bd75f5966",
       "max": 50,
       "style": "IPY_MODEL_e1df4c2457234881884d63db68f344bf",
       "value": 2
      }
     },
     "9b94b8b672e746848fcaae1891d9adcf": {
      "model_module": "@jupyter-widgets/controls",
      "model_module_version": "1.5.0",
      "model_name": "VBoxModel",
      "state": {
       "children": [
        "IPY_MODEL_ebaae5ef71f340859adebcd2f73ec0c6",
        "IPY_MODEL_61981b72466f4c5a980ebf7eb187820c"
       ],
       "layout": "IPY_MODEL_a6d51cf6ca12496dbe92409e4055594a"
      }
     },
     "9bd3631d0eeb4202833963161d295784": {
      "model_module": "@jupyter-widgets/controls",
      "model_module_version": "1.5.0",
      "model_name": "DescriptionStyleModel",
      "state": {
       "description_width": ""
      }
     },
     "9bf5f607deb0497083de085b8dcb2d2a": {
      "model_module": "@jupyter-widgets/base",
      "model_module_version": "1.2.0",
      "model_name": "LayoutModel",
      "state": {}
     },
     "9c070c56a4504cbca4a40c16306bf738": {
      "model_module": "@jupyter-widgets/base",
      "model_module_version": "1.2.0",
      "model_name": "LayoutModel",
      "state": {}
     },
     "9c2e9d935b044bd98c16681d9214b68a": {
      "model_module": "@jupyter-widgets/controls",
      "model_module_version": "1.5.0",
      "model_name": "HTMLModel",
      "state": {
       "layout": "IPY_MODEL_8924ea709642462e9ae7e2e149d67fff",
       "style": "IPY_MODEL_75b28a96bb0047b79d93706efe16b3d9",
       "value": "<div><font style='font-weight:bold'>last_update_date</font>: 2022-06-08 06:00:35+00:00</div>"
      }
     },
     "9c98a5e3e6984a9bb3e805a035287c31": {
      "model_module": "@jupyter-widgets/controls",
      "model_module_version": "1.5.0",
      "model_name": "ProgressStyleModel",
      "state": {
       "bar_color": "#71cddd",
       "description_width": ""
      }
     },
     "9cecb6f2a0c8444d9c7f828d3c8b03c7": {
      "model_module": "@jupyter-widgets/controls",
      "model_module_version": "1.5.0",
      "model_name": "LabelModel",
      "state": {
       "layout": "IPY_MODEL_a6cefb9c1fb842f28ec1a0ff5f40d892",
       "style": "IPY_MODEL_4af5a03525e3443aa3c2b2dbe1abdd42",
       "value": "50"
      }
     },
     "9d0feec35c574d0f8bb818cb989c94a1": {
      "model_module": "@jupyter-widgets/controls",
      "model_module_version": "1.5.0",
      "model_name": "HTMLModel",
      "state": {
       "layout": "IPY_MODEL_36be0ecb70cf4aacbfbc0774eeebef32",
       "style": "IPY_MODEL_bf0d59803e014fef94f0e2c2999c2cbc",
       "value": "<h5><b>1</b></h5>"
      }
     },
     "9d110ff22d264b71b7e596ffda0b67a0": {
      "model_module": "@jupyter-widgets/base",
      "model_module_version": "1.2.0",
      "model_name": "LayoutModel",
      "state": {
       "justify_content": "center"
      }
     },
     "9d4cd51de0dc416693476e17b90550df": {
      "model_module": "@jupyter-widgets/controls",
      "model_module_version": "1.5.0",
      "model_name": "VBoxModel",
      "state": {
       "children": [
        "IPY_MODEL_dfeff05e6c7a4564a86b887117de7786",
        "IPY_MODEL_363da0761e8b43d2901fcb0b7032c5c1",
        "IPY_MODEL_c89743c6704044debe40ae2f7c8d030a",
        "IPY_MODEL_ab37daf1b6394ae89ea07c67f43c63f8",
        "IPY_MODEL_f48e33ed6de244a2922bd0b1db6c1e1a",
        "IPY_MODEL_3ddafe2703f04386af6ed388d64fd411",
        "IPY_MODEL_541891111a6b4d8493c0209fce9c4ada",
        "IPY_MODEL_4e3636626a624b7c8f44491250fef946",
        "IPY_MODEL_ac4066a47689423a8556e3cb1566d066",
        "IPY_MODEL_296d5b46bc554d3b8af7acc4bd477f95"
       ],
       "layout": "IPY_MODEL_ac66c6e3db5341b6a2345c30818a667c"
      }
     },
     "9d62d1d69f174234a62e4dfca134ef12": {
      "model_module": "@jupyter-widgets/base",
      "model_module_version": "1.2.0",
      "model_name": "LayoutModel",
      "state": {
       "min_width": "auto"
      }
     },
     "9d6be23c61754bdab4940aa15881e940": {
      "model_module": "@jupyter-widgets/controls",
      "model_module_version": "1.5.0",
      "model_name": "GridBoxModel",
      "state": {
       "children": [
        "IPY_MODEL_462c5802ddc74c52ab7242135edfdae3",
        "IPY_MODEL_4742462049ce483386ad6c468c73f927",
        "IPY_MODEL_b3792c5d4d07477fa558e76de022dcb7",
        "IPY_MODEL_8d402d27e9ba42858db1c83efa428832",
        "IPY_MODEL_c193f16914f24ee4b9b93a402a9f2677",
        "IPY_MODEL_9d4cd51de0dc416693476e17b90550df",
        "IPY_MODEL_cce4cd2f39a446cab601477fb92cace1"
       ],
       "layout": "IPY_MODEL_cf35f81d409f4fb1bf1300e490026689"
      }
     },
     "9d986b605e3c4ef8be63b6113b2312ec": {
      "model_module": "@jupyter-widgets/controls",
      "model_module_version": "1.5.0",
      "model_name": "DescriptionStyleModel",
      "state": {
       "description_width": ""
      }
     },
     "9d98a6ddce3c45d5b812b3eab422171e": {
      "model_module": "@jupyter-widgets/controls",
      "model_module_version": "1.5.0",
      "model_name": "DescriptionStyleModel",
      "state": {
       "description_width": ""
      }
     },
     "9dfea6c3ef304a12a00f5f5ecd44b47c": {
      "model_module": "@jupyter-widgets/controls",
      "model_module_version": "1.5.0",
      "model_name": "GridBoxModel",
      "state": {
       "children": [
        "IPY_MODEL_45e1d48da135449c98c797fb53889fed",
        "IPY_MODEL_df5d319e06c64c48afe04c153053a12b",
        "IPY_MODEL_8ac58ee581e44b5587dc3a14d02e695b",
        "IPY_MODEL_b8d95f8fbcc04ae7a50eee580cbfbdcc"
       ],
       "layout": "IPY_MODEL_f0ce2190ae80461bb0e586e996304368"
      }
     },
     "9e2c9238a9f04f96a775324bd439de5e": {
      "model_module": "@jupyter-widgets/controls",
      "model_module_version": "1.5.0",
      "model_name": "DescriptionStyleModel",
      "state": {
       "description_width": ""
      }
     },
     "9e57a2a633154059ab7bb276bfaf6ec9": {
      "model_module": "@jupyter-widgets/base",
      "model_module_version": "1.2.0",
      "model_name": "LayoutModel",
      "state": {
       "max_width": "180px"
      }
     },
     "9e7e3fa1f86241299bebf03404c2d844": {
      "model_module": "@jupyter-widgets/controls",
      "model_module_version": "1.5.0",
      "model_name": "LabelModel",
      "state": {
       "layout": "IPY_MODEL_ff992788371f467bb169ae5e58c35fb2",
       "style": "IPY_MODEL_6f8bce2811e34906b3776aef2aa40848",
       "value": "384"
      }
     },
     "9e7f15deb8444157b998828c30bd4067": {
      "model_module": "@jupyter-widgets/controls",
      "model_module_version": "1.5.0",
      "model_name": "DescriptionStyleModel",
      "state": {
       "description_width": ""
      }
     },
     "9e91304cbf07445eb3a2d542c87b18c8": {
      "model_module": "@jupyter-widgets/controls",
      "model_module_version": "1.5.0",
      "model_name": "DescriptionStyleModel",
      "state": {
       "description_width": ""
      }
     },
     "9e9f691711da4af89e8a795af37a1206": {
      "model_module": "@jupyter-widgets/base",
      "model_module_version": "1.2.0",
      "model_name": "LayoutModel",
      "state": {
       "margin": "8px 0px 0px 0px"
      }
     },
     "9eb0a74c54be452ba2de7f37eb6d7f95": {
      "model_module": "@jupyter-widgets/controls",
      "model_module_version": "1.5.0",
      "model_name": "DescriptionStyleModel",
      "state": {
       "description_width": ""
      }
     },
     "a03d00851e58475288ee5cafc5217345": {
      "model_module": "@jupyter-widgets/controls",
      "model_module_version": "1.5.0",
      "model_name": "DescriptionStyleModel",
      "state": {
       "description_width": ""
      }
     },
     "a06aae71860a413a8faf6822e10dfa5a": {
      "model_module": "@jupyter-widgets/controls",
      "model_module_version": "1.5.0",
      "model_name": "DescriptionStyleModel",
      "state": {
       "description_width": ""
      }
     },
     "a0b6af5013d344df97c7777269971d0d": {
      "model_module": "@jupyter-widgets/controls",
      "model_module_version": "1.5.0",
      "model_name": "HTMLModel",
      "state": {
       "layout": "IPY_MODEL_38219a89bb3547a4b18d185d6e682d71",
       "style": "IPY_MODEL_c89ae420187c4cde985d1a4628ea16ac",
       "value": "<h4>ibmq_manila</h4>"
      }
     },
     "a104c7972ce04e798a85959d0cb62cc7": {
      "model_module": "@jupyter-widgets/base",
      "model_module_version": "1.2.0",
      "model_name": "LayoutModel",
      "state": {
       "overflow_y": "scroll"
      }
     },
     "a128c1b0728c49098a05d11741ace3ae": {
      "model_module": "@jupyter-widgets/base",
      "model_module_version": "1.2.0",
      "model_name": "LayoutModel",
      "state": {
       "margin": "5px 0px 0px 0px"
      }
     },
     "a195ee96c8e94602a2e5aec1d470d6e7": {
      "model_module": "@jupyter-widgets/controls",
      "model_module_version": "1.5.0",
      "model_name": "DescriptionStyleModel",
      "state": {
       "description_width": ""
      }
     },
     "a1a207db9a4946778da01bc54053a179": {
      "model_module": "@jupyter-widgets/base",
      "model_module_version": "1.2.0",
      "model_name": "LayoutModel",
      "state": {
       "justify_content": "center",
       "max_width": "250px",
       "min_width": "250px"
      }
     },
     "a1c771f8103f44c185db6c61aeccb175": {
      "model_module": "@jupyter-widgets/controls",
      "model_module_version": "1.5.0",
      "model_name": "DescriptionStyleModel",
      "state": {
       "description_width": ""
      }
     },
     "a1f25e1bdf2540fb9d66f3c729b65b28": {
      "model_module": "@jupyter-widgets/controls",
      "model_module_version": "1.5.0",
      "model_name": "LabelModel",
      "state": {
       "layout": "IPY_MODEL_755d1548dccd40c0a890314049329767",
       "style": "IPY_MODEL_36bbc3a4501d4ac69f11a490025c7829",
       "value": "316"
      }
     },
     "a245b809fefe47a9aebf40e883d1553b": {
      "model_module": "@jupyter-widgets/base",
      "model_module_version": "1.2.0",
      "model_name": "LayoutModel",
      "state": {
       "justify_content": "center",
       "max_width": "250px",
       "min_width": "250px"
      }
     },
     "a279cbf3f73443ebbe28830f4b06ad8b": {
      "model_module": "@jupyter-widgets/controls",
      "model_module_version": "1.5.0",
      "model_name": "HTMLModel",
      "state": {
       "layout": "IPY_MODEL_f8465cd720234c74b585f1dc96434c1a",
       "style": "IPY_MODEL_cdee68ecfd9f41268d10017fc6c7ea13",
       "value": "<h5 style='color:#34bc6e'>True</h5>"
      }
     },
     "a295150e8f8348e9a1d5b32347f77c9f": {
      "model_module": "@jupyter-widgets/controls",
      "model_module_version": "1.5.0",
      "model_name": "DescriptionStyleModel",
      "state": {
       "description_width": ""
      }
     },
     "a342dd6d8f3d406eb24fe810737968d2": {
      "model_module": "@jupyter-widgets/controls",
      "model_module_version": "1.5.0",
      "model_name": "LabelModel",
      "state": {
       "layout": "IPY_MODEL_ff5b416f8e2c42a59464fb24eb72b1d9",
       "style": "IPY_MODEL_f5678e3db1b440b3a930fb5858546451",
       "value": "129"
      }
     },
     "a36efa8eacb548f095dfe4384aae9fe8": {
      "model_module": "@jupyter-widgets/controls",
      "model_module_version": "1.5.0",
      "model_name": "DescriptionStyleModel",
      "state": {
       "description_width": ""
      }
     },
     "a37aa23d612548d7b8b6cf6aef36efad": {
      "model_module": "@jupyter-widgets/controls",
      "model_module_version": "1.5.0",
      "model_name": "VBoxModel",
      "state": {
       "children": [
        "IPY_MODEL_8f76c81db92b4ea48989a0edce951b89",
        "IPY_MODEL_c159eb2e17e5461ca9531532a79a10c8",
        "IPY_MODEL_809bf0a151ec44b084dda1059f444648",
        "IPY_MODEL_3d7409ba963d4e8fb693dce6035d0904",
        "IPY_MODEL_c4ea141ec6e645cd825bf73107230418",
        "IPY_MODEL_a6e8440497d743ea9df06ea30cc9a72a",
        "IPY_MODEL_24a3a725126f40eaad5fbb2947450459",
        "IPY_MODEL_c82aeb15861d4410b5a27b4f8fbba7c1"
       ],
       "layout": "IPY_MODEL_2a56d050daec4568b2dad1630552ad76"
      }
     },
     "a4003b1d02974f6ead6f2ec4c3c7916e": {
      "model_module": "@jupyter-widgets/controls",
      "model_module_version": "1.5.0",
      "model_name": "ProgressStyleModel",
      "state": {
       "bar_color": "#71cddd",
       "description_width": ""
      }
     },
     "a41a685e4ca64146b772d11b64094170": {
      "model_module": "@jupyter-widgets/base",
      "model_module_version": "1.2.0",
      "model_name": "LayoutModel",
      "state": {
       "align_items": "center",
       "display": "inline-flex",
       "flex_flow": "column"
      }
     },
     "a4262bc2f9d942deb25edc5094cad073": {
      "model_module": "@jupyter-widgets/controls",
      "model_module_version": "1.5.0",
      "model_name": "HTMLModel",
      "state": {
       "layout": "IPY_MODEL_5b486ff18d0c47fe8f1c7017d29c8df1",
       "style": "IPY_MODEL_4e24a33c0e034957b69dcb1e15d4426b",
       "value": "<h4>ibmq_quito</h4>"
      }
     },
     "a43fada8b8664cb580ab1930d1899aab": {
      "model_module": "@jupyter-widgets/controls",
      "model_module_version": "1.5.0",
      "model_name": "HTMLModel",
      "state": {
       "layout": "IPY_MODEL_e32b3fa3514645b09d5b0fb3f053d546",
       "style": "IPY_MODEL_2a07b8135c3b4a809006c2ebe3fc58aa",
       "value": "<h5>0.0264</h5>"
      }
     },
     "a44a1f1d9ca2466baacacc3f02c8185b": {
      "model_module": "@jupyter-widgets/controls",
      "model_module_version": "1.5.0",
      "model_name": "HTMLModel",
      "state": {
       "layout": "IPY_MODEL_0fcd8fdac8bd4a229a4f69bf9c2da0e5",
       "style": "IPY_MODEL_0a6dc39c3f9348d0bab8150a8c5965bf",
       "value": "-"
      }
     },
     "a44a6fd28da84516bf96a1f72e7ad60c": {
      "model_module": "@jupyter-widgets/base",
      "model_module_version": "1.2.0",
      "model_name": "LayoutModel",
      "state": {}
     },
     "a45ad8ddfc7543b98a9f83133b4c3087": {
      "model_module": "@jupyter-widgets/controls",
      "model_module_version": "1.5.0",
      "model_name": "TabModel",
      "state": {
       "layout": "IPY_MODEL_378786b0383b4a81bc53d4b2ba92c58e"
      }
     },
     "a49428f2e71543089b9fe16090e86aa8": {
      "model_module": "@jupyter-widgets/output",
      "model_module_version": "1.0.0",
      "model_name": "OutputModel",
      "state": {
       "layout": "IPY_MODEL_e000f6e8c7184be1b27534a88d3b210b",
       "outputs": [
        {
         "data": {
          "image/png": "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\n",
          "text/plain": "<Figure size 360x360 with 1 Axes>"
         },
         "metadata": {},
         "output_type": "display_data"
        }
       ]
      }
     },
     "a50773f1524a45318ce762c73124ca62": {
      "model_module": "@jupyter-widgets/controls",
      "model_module_version": "1.5.0",
      "model_name": "HTMLModel",
      "state": {
       "layout": "IPY_MODEL_07e75cb2dda047a5a574cf533d2068f3",
       "style": "IPY_MODEL_8f6f1d9abab64f4cb686b47f566ecc0c",
       "value": "<h5>173.4 / 59.1 us</h5>"
      }
     },
     "a5575791a5e240b9b2a9d9831ddb08a1": {
      "model_module": "@jupyter-widgets/controls",
      "model_module_version": "1.5.0",
      "model_name": "LabelModel",
      "state": {
       "layout": "IPY_MODEL_eb9ca7c6193440959e46779cc45b4e6e",
       "style": "IPY_MODEL_04fe330affcd48ad8d0c0c9d71001345",
       "value": "242"
      }
     },
     "a59f2a781aef48f4aab811d4e9d9fe05": {
      "model_module": "@jupyter-widgets/base",
      "model_module_version": "1.2.0",
      "model_name": "LayoutModel",
      "state": {
       "justify_content": "center"
      }
     },
     "a5aa2f033fee41908235256377a50e7e": {
      "model_module": "@jupyter-widgets/controls",
      "model_module_version": "1.5.0",
      "model_name": "DescriptionStyleModel",
      "state": {
       "description_width": ""
      }
     },
     "a5ce2b77ec824401896e6b42796c02aa": {
      "model_module": "@jupyter-widgets/controls",
      "model_module_version": "1.5.0",
      "model_name": "IntProgressModel",
      "state": {
       "layout": "IPY_MODEL_07723c951d5447a3b78621890ba827ab",
       "max": 50,
       "style": "IPY_MODEL_b09a7474c53a41f397f5f211792bb5f9",
       "value": 12
      }
     },
     "a5d2da2eabf84390aad855f70c0d57af": {
      "model_module": "@jupyter-widgets/controls",
      "model_module_version": "1.5.0",
      "model_name": "HTMLModel",
      "state": {
       "layout": "IPY_MODEL_b22f318671914a7f80208862e5fff178",
       "style": "IPY_MODEL_6af9c41d2eba4f669bea632bf7091e07",
       "value": "<h5>90.9 / 127.1 us</h5>"
      }
     },
     "a5d6ab8af86a4fd6abbf15fc35d66f91": {
      "model_module": "@jupyter-widgets/controls",
      "model_module_version": "1.5.0",
      "model_name": "HTMLModel",
      "state": {
       "layout": "IPY_MODEL_6b9c15959457479f8ffb6a9f0e8f689f",
       "style": "IPY_MODEL_53235bc200694884a185227a9a0a3133",
       "value": "<h5>114.8 / 111.1 us</h5>"
      }
     },
     "a5e3d80eafbe4aad8e0d9d2e6b14ddc1": {
      "model_module": "@jupyter-widgets/controls",
      "model_module_version": "1.5.0",
      "model_name": "IntProgressModel",
      "state": {
       "layout": "IPY_MODEL_0be189bbdd7043138ae6dce2c80c2ad3",
       "max": 121,
       "style": "IPY_MODEL_817364e3d360467d860108b26c1532de",
       "value": 111
      }
     },
     "a6297fb8f66046a1b5695816bbac9b26": {
      "model_module": "@jupyter-widgets/base",
      "model_module_version": "1.2.0",
      "model_name": "LayoutModel",
      "state": {
       "grid_gap": "0px 0px",
       "grid_template_areas": "\n                                                   \"top top top\"\n                                                   \"left middle right\"\n                                                   ",
       "grid_template_columns": "33% 33% 33%",
       "grid_template_rows": "auto auto"
      }
     },
     "a6316e96c21a440e909b2a78d859e124": {
      "model_module": "@jupyter-widgets/base",
      "model_module_version": "1.2.0",
      "model_name": "LayoutModel",
      "state": {
       "width": "190px"
      }
     },
     "a68a1ff68ac841809a3c57c17f2660e0": {
      "model_module": "@jupyter-widgets/controls",
      "model_module_version": "1.5.0",
      "model_name": "DescriptionStyleModel",
      "state": {
       "description_width": ""
      }
     },
     "a6cefb9c1fb842f28ec1a0ff5f40d892": {
      "model_module": "@jupyter-widgets/base",
      "model_module_version": "1.2.0",
      "model_name": "LayoutModel",
      "state": {
       "min_width": "auto"
      }
     },
     "a6d51cf6ca12496dbe92409e4055594a": {
      "model_module": "@jupyter-widgets/base",
      "model_module_version": "1.2.0",
      "model_name": "LayoutModel",
      "state": {}
     },
     "a6e8440497d743ea9df06ea30cc9a72a": {
      "model_module": "@jupyter-widgets/controls",
      "model_module_version": "1.5.0",
      "model_name": "LabelModel",
      "state": {
       "layout": "IPY_MODEL_26b77c311b9c4f17bb27df30c2ddebd5",
       "style": "IPY_MODEL_229b555d80254f6cb339f551b735c2e3",
       "value": "Avg. T1 / T2"
      }
     },
     "a7039036bc604b69966bb0f066ee8f91": {
      "model_module": "@jupyter-widgets/controls",
      "model_module_version": "1.5.0",
      "model_name": "DescriptionStyleModel",
      "state": {
       "description_width": ""
      }
     },
     "a735632d56ab426585492a9f0d7c25b8": {
      "model_module": "@jupyter-widgets/controls",
      "model_module_version": "1.5.0",
      "model_name": "DescriptionStyleModel",
      "state": {
       "description_width": ""
      }
     },
     "a73e70dfc21e4d2398512971bc136420": {
      "model_module": "@jupyter-widgets/base",
      "model_module_version": "1.2.0",
      "model_name": "LayoutModel",
      "state": {
       "margin": "295px 0px 0px 0px",
       "min_width": "100px"
      }
     },
     "a74c103320e742de89eef25bcd04189e": {
      "model_module": "@jupyter-widgets/output",
      "model_module_version": "1.0.0",
      "model_name": "OutputModel",
      "state": {
       "layout": "IPY_MODEL_0fb916d21cc940f890c8a3c6a1399e72",
       "outputs": [
        {
         "data": {
          "image/png": "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\n",
          "text/plain": "<Figure size 360x360 with 1 Axes>"
         },
         "metadata": {},
         "output_type": "display_data"
        }
       ]
      }
     },
     "a80218237354454fb656a45770e5c5b9": {
      "model_module": "@jupyter-widgets/controls",
      "model_module_version": "1.5.0",
      "model_name": "DescriptionStyleModel",
      "state": {
       "description_width": ""
      }
     },
     "a833fdd7570e46f894a07044b535e4e6": {
      "model_module": "@jupyter-widgets/controls",
      "model_module_version": "1.5.0",
      "model_name": "DescriptionStyleModel",
      "state": {
       "description_width": ""
      }
     },
     "a846ae36884d40469103aad6b73a6003": {
      "model_module": "@jupyter-widgets/base",
      "model_module_version": "1.2.0",
      "model_name": "LayoutModel",
      "state": {}
     },
     "a8c4e43b639e44caa206837711275d89": {
      "model_module": "@jupyter-widgets/controls",
      "model_module_version": "1.5.0",
      "model_name": "HTMLModel",
      "state": {
       "layout": "IPY_MODEL_b0d04b130d2642b3a0a9426072ac33b0",
       "style": "IPY_MODEL_0cc8ae73c387483ba05db4dba15ccd98",
       "value": "<h4>ibmq_lima</h4>"
      }
     },
     "a8ea65be1d5c46cab55957eb83666149": {
      "model_module": "@jupyter-widgets/base",
      "model_module_version": "1.2.0",
      "model_name": "LayoutModel",
      "state": {
       "justify_content": "center",
       "max_width": "250px",
       "min_width": "250px"
      }
     },
     "a926f425bbd149bea4a9cdf0616cb633": {
      "model_module": "@jupyter-widgets/controls",
      "model_module_version": "1.5.0",
      "model_name": "DescriptionStyleModel",
      "state": {
       "description_width": ""
      }
     },
     "a9c026267344470ebeb86a75feceff54": {
      "model_module": "@jupyter-widgets/base",
      "model_module_version": "1.2.0",
      "model_name": "LayoutModel",
      "state": {}
     },
     "a9fe133cfc434040b25539d964f3e49a": {
      "model_module": "@jupyter-widgets/controls",
      "model_module_version": "1.5.0",
      "model_name": "HTMLModel",
      "state": {
       "layout": "IPY_MODEL_e4c1aa6cec4d41df93a5b59d0a46bd44",
       "style": "IPY_MODEL_bfaf3c62d9b946b49321363fa4c5a796",
       "value": "<h5>8</h5>"
      }
     },
     "aa04ef57897342b1849bd6ad74eb750c": {
      "model_module": "@jupyter-widgets/controls",
      "model_module_version": "1.5.0",
      "model_name": "HTMLModel",
      "state": {
       "layout": "IPY_MODEL_ac1ac55142c44cfd9bdeb0f379b799ae",
       "style": "IPY_MODEL_061c1ad3007f42e1ad294924295e9ece",
       "value": "<h5>66.0 / 90.1 us</h5>"
      }
     },
     "aa10f9fa0e0041ba8525437400e293f7": {
      "model_module": "@jupyter-widgets/base",
      "model_module_version": "1.2.0",
      "model_name": "LayoutModel",
      "state": {
       "align_items": "center",
       "display": "flex-inline"
      }
     },
     "aa7cecfc7066426188728b5beb5cea4c": {
      "model_module": "@jupyter-widgets/base",
      "model_module_version": "1.2.0",
      "model_name": "LayoutModel",
      "state": {
       "justify_content": "center"
      }
     },
     "ab08a7694d184c14841c77ad1ee69e9e": {
      "model_module": "@jupyter-widgets/base",
      "model_module_version": "1.2.0",
      "model_name": "LayoutModel",
      "state": {
       "grid_area": "top"
      }
     },
     "ab37daf1b6394ae89ea07c67f43c63f8": {
      "model_module": "@jupyter-widgets/controls",
      "model_module_version": "1.5.0",
      "model_name": "HTMLModel",
      "state": {
       "layout": "IPY_MODEL_e4cee4d2a1084a7ca9d66e8e424eee64",
       "style": "IPY_MODEL_83a32f55df734534a75e2d67a171235e",
       "value": "<h5>32</h5>"
      }
     },
     "ab4783e5cf3d434cba843094b2cd7c3a": {
      "model_module": "@jupyter-widgets/base",
      "model_module_version": "1.2.0",
      "model_name": "LayoutModel",
      "state": {
       "max_width": "180px"
      }
     },
     "ab53f72eea1e4bb488e05a5af95d72ef": {
      "model_module": "@jupyter-widgets/controls",
      "model_module_version": "1.5.0",
      "model_name": "DescriptionStyleModel",
      "state": {
       "description_width": ""
      }
     },
     "ab7295f1d7e74c0aa971df8e60a681ae": {
      "model_module": "@jupyter-widgets/base",
      "model_module_version": "1.2.0",
      "model_name": "LayoutModel",
      "state": {
       "overflow_y": "scroll"
      }
     },
     "abf22a56793e4c6b866cdcef14be9b1b": {
      "model_module": "@jupyter-widgets/controls",
      "model_module_version": "1.5.0",
      "model_name": "ButtonModel",
      "state": {
       "icon": "close",
       "layout": "IPY_MODEL_2ff207c8576c43a8b53100e5beae17bf",
       "style": "IPY_MODEL_1e17e064e4c345af8cbf43a95f758ba5"
      }
     },
     "ac0e505a3d1b42fda2cdf3852f400652": {
      "model_module": "@jupyter-widgets/controls",
      "model_module_version": "1.5.0",
      "model_name": "DescriptionStyleModel",
      "state": {
       "description_width": ""
      }
     },
     "ac18b6bc5f8146318d2263158997534a": {
      "model_module": "@jupyter-widgets/base",
      "model_module_version": "1.2.0",
      "model_name": "LayoutModel",
      "state": {}
     },
     "ac1ac55142c44cfd9bdeb0f379b799ae": {
      "model_module": "@jupyter-widgets/base",
      "model_module_version": "1.2.0",
      "model_name": "LayoutModel",
      "state": {}
     },
     "ac21ddf6c7044752b35be2d656eb74ad": {
      "model_module": "@jupyter-widgets/controls",
      "model_module_version": "1.5.0",
      "model_name": "LabelModel",
      "state": {
       "layout": "IPY_MODEL_590227239f8c41e9b10b742e3950d76a",
       "style": "IPY_MODEL_b3f8858391f94047a17f32f34b5a5a26",
       "value": "50"
      }
     },
     "ac22ab70cc394289a038b3d895efc745": {
      "model_module": "@jupyter-widgets/controls",
      "model_module_version": "1.5.0",
      "model_name": "DescriptionStyleModel",
      "state": {
       "description_width": ""
      }
     },
     "ac4066a47689423a8556e3cb1566d066": {
      "model_module": "@jupyter-widgets/controls",
      "model_module_version": "1.5.0",
      "model_name": "HTMLModel",
      "state": {
       "layout": "IPY_MODEL_c3a1f823b8884973964dc8a4c465b5da",
       "style": "IPY_MODEL_fce965f0a0f5495699dfacd7d958d3a7",
       "value": "<h5>0.0222</h5>"
      }
     },
     "ac63d438696f4dc1b7e337205c5e395e": {
      "model_module": "@jupyter-widgets/controls",
      "model_module_version": "1.5.0",
      "model_name": "LabelModel",
      "state": {
       "layout": "IPY_MODEL_9d62d1d69f174234a62e4dfca134ef12",
       "style": "IPY_MODEL_d6d3926dc43a4082b7f952c31380842f",
       "value": "2"
      }
     },
     "ac66c6e3db5341b6a2345c30818a667c": {
      "model_module": "@jupyter-widgets/base",
      "model_module_version": "1.2.0",
      "model_name": "LayoutModel",
      "state": {
       "align_items": "center",
       "display": "inline-flex",
       "flex_flow": "column"
      }
     },
     "ac764eb94b8545a3b234aeee3455795e": {
      "model_module": "@jupyter-widgets/base",
      "model_module_version": "1.2.0",
      "model_name": "LayoutModel",
      "state": {
       "align_items": "center",
       "justify_content": "center",
       "margin": "0px 0px 0px 0px",
       "max_height": "250px",
       "max_width": "250px",
       "min_height": "250px",
       "min_width": "250px"
      }
     },
     "acce706bea784a84ab5cf14b272be5d6": {
      "model_module": "@jupyter-widgets/base",
      "model_module_version": "1.2.0",
      "model_name": "LayoutModel",
      "state": {
       "align_items": "center",
       "display": "inline-flex",
       "flex_flow": "column"
      }
     },
     "acf8db820dd1471cb0aed8b9fb075a38": {
      "model_module": "@jupyter-widgets/base",
      "model_module_version": "1.2.0",
      "model_name": "LayoutModel",
      "state": {}
     },
     "acff9593ba494a078cfa9c949ec04998": {
      "model_module": "@jupyter-widgets/base",
      "model_module_version": "1.2.0",
      "model_name": "LayoutModel",
      "state": {}
     },
     "ad44ea9b2c014d319d80013e167d0dce": {
      "model_module": "@jupyter-widgets/base",
      "model_module_version": "1.2.0",
      "model_name": "LayoutModel",
      "state": {}
     },
     "ad4f4c58caac45a1a80a6fed1b362b74": {
      "model_module": "@jupyter-widgets/base",
      "model_module_version": "1.2.0",
      "model_name": "LayoutModel",
      "state": {}
     },
     "ad8767dcd4ad42e98667e7c1a5413e53": {
      "model_module": "@jupyter-widgets/base",
      "model_module_version": "1.2.0",
      "model_name": "LayoutModel",
      "state": {}
     },
     "ad938a8a0fd44e519fe6fbeb73855a6f": {
      "model_module": "@jupyter-widgets/controls",
      "model_module_version": "1.5.0",
      "model_name": "HTMLModel",
      "state": {
       "layout": "IPY_MODEL_73d934197afc4c5fab5ff72cdaab8b12",
       "style": "IPY_MODEL_2dd03be683184adc848bb9577ebf1c0c",
       "value": "<h5>84.2 / 88.6 us</h5>"
      }
     },
     "ad9803e64d534311b2f1bb795427e158": {
      "model_module": "@jupyter-widgets/base",
      "model_module_version": "1.2.0",
      "model_name": "LayoutModel",
      "state": {
       "margin": "0px 0px 0px 0px"
      }
     },
     "ad9bf44c69164982bbcde4920de75425": {
      "model_module": "@jupyter-widgets/controls",
      "model_module_version": "1.5.0",
      "model_name": "DescriptionStyleModel",
      "state": {
       "description_width": ""
      }
     },
     "ada56718db4b454fa3117398e597f965": {
      "model_module": "@jupyter-widgets/base",
      "model_module_version": "1.2.0",
      "model_name": "LayoutModel",
      "state": {
       "margin": "5px 0px 0px 0px"
      }
     },
     "ae11133d491644128730f1f5b4bc7d76": {
      "model_module": "@jupyter-widgets/controls",
      "model_module_version": "1.5.0",
      "model_name": "HTMLModel",
      "state": {
       "layout": "IPY_MODEL_551a429217da4396b84049d1d3d54d4b",
       "style": "IPY_MODEL_0256bd2aed0f4ee2b32e6089c105009c",
       "value": "<table><style>\ntable {\n    border-collapse: collapse;\n    width: auto;\n}\n\nth, td {\n    text-align: left;\n    padding: 8px;\n}\n\ntr:nth-child(even) {background-color: #f6f6f6;};\n</style><tr><th></th><th>Type</th><th>Gate error</th></tr><tr><td><font style='font-weight:bold'>cx1_2</font></td><td>cx</td><td>0.04137</td></tr><tr><td><font style='font-weight:bold'>cx1_0</font></td><td>cx</td><td>0.02862</td></tr><tr><td><font style='font-weight:bold'>cx0_1</font></td><td>cx</td><td>0.02862</td></tr></table>"
      }
     },
     "ae3c053c2f7f43229a32d9a530ce519c": {
      "model_module": "@jupyter-widgets/controls",
      "model_module_version": "1.5.0",
      "model_name": "DescriptionStyleModel",
      "state": {
       "description_width": ""
      }
     },
     "ae7f0fe871074446b5843dcc1e558bfb": {
      "model_module": "@jupyter-widgets/controls",
      "model_module_version": "1.5.0",
      "model_name": "DescriptionStyleModel",
      "state": {
       "description_width": ""
      }
     },
     "aebcc00197a04eda85ba4ed0c1cae623": {
      "model_module": "@jupyter-widgets/base",
      "model_module_version": "1.2.0",
      "model_name": "LayoutModel",
      "state": {
       "max_width": "180px"
      }
     },
     "aedc20ebd1824e2eaf6f2ec41751ab58": {
      "model_module": "@jupyter-widgets/base",
      "model_module_version": "1.2.0",
      "model_name": "LayoutModel",
      "state": {
       "align_items": "center",
       "display": "flex-inline"
      }
     },
     "aeeb1a3a11034361957df3857af78676": {
      "model_module": "@jupyter-widgets/base",
      "model_module_version": "1.2.0",
      "model_name": "LayoutModel",
      "state": {
       "justify_content": "center",
       "max_width": "250px",
       "min_width": "250px"
      }
     },
     "af26fa256ec845eab84768a5ba7c9994": {
      "model_module": "@jupyter-widgets/controls",
      "model_module_version": "1.5.0",
      "model_name": "DescriptionStyleModel",
      "state": {
       "description_width": ""
      }
     },
     "af5562bca20745a6acda45c5c82ee4d4": {
      "model_module": "@jupyter-widgets/controls",
      "model_module_version": "1.5.0",
      "model_name": "HTMLModel",
      "state": {
       "layout": "IPY_MODEL_28db86801a90461bac59acbb84260511",
       "style": "IPY_MODEL_4330e9bd9af34e72a3abb73c6e2894f4",
       "value": "<h5 style='color:#dc267f'>False</h5>"
      }
     },
     "af768df3c9ce4dd2a2e35ba10c0064dd": {
      "model_module": "@jupyter-widgets/controls",
      "model_module_version": "1.5.0",
      "model_name": "HTMLModel",
      "state": {
       "layout": "IPY_MODEL_69827962d52640e791fd993f7a20e1b5",
       "style": "IPY_MODEL_4e2be29c96894fd7b8a38f52a8bc93dd",
       "value": "<h5>32</h5>"
      }
     },
     "af7738a9f83f4e8ca950167c59183bc6": {
      "model_module": "@jupyter-widgets/controls",
      "model_module_version": "1.5.0",
      "model_name": "HBoxModel",
      "state": {
       "children": [
        "IPY_MODEL_b73eca88b63c4aa083297c4bfef3bddc",
        "IPY_MODEL_cbfb1af31e394790a91885d90be5208a",
        "IPY_MODEL_61d45ad09d804e3ebbc3c6100225313d"
       ],
       "layout": "IPY_MODEL_702492ce130e4916b40d0cfe8abb49f6"
      }
     },
     "afe6db8d9f0e46a0bd4779b49fbf6103": {
      "model_module": "@jupyter-widgets/controls",
      "model_module_version": "1.5.0",
      "model_name": "DescriptionStyleModel",
      "state": {
       "description_width": ""
      }
     },
     "afff69e30ac14ea9a33998c1ddf9291e": {
      "model_module": "@jupyter-widgets/controls",
      "model_module_version": "1.5.0",
      "model_name": "DescriptionStyleModel",
      "state": {
       "description_width": ""
      }
     },
     "b004dd2e944d41d39902834468e0ea43": {
      "model_module": "@jupyter-widgets/controls",
      "model_module_version": "1.5.0",
      "model_name": "HTMLModel",
      "state": {
       "layout": "IPY_MODEL_c9841516a8cb464ea90c9a22f93c2fbb",
       "style": "IPY_MODEL_e0c8ce1cf3124accab9b325735646b01",
       "value": "<h5>32</h5>"
      }
     },
     "b023a558ac59499d8d597d205b4146c3": {
      "model_module": "@jupyter-widgets/controls",
      "model_module_version": "1.5.0",
      "model_name": "HBoxModel",
      "state": {
       "children": [
        "IPY_MODEL_8c8df9d5883b4945a23423090fecbb0d",
        "IPY_MODEL_32175afb8027435799907f7ca0a39441",
        "IPY_MODEL_a342dd6d8f3d406eb24fe810737968d2"
       ],
       "layout": "IPY_MODEL_3243f657a837406a9e73e718f6aac2c1"
      }
     },
     "b05bcdabefb247849be60869a8f1ff39": {
      "model_module": "@jupyter-widgets/base",
      "model_module_version": "1.2.0",
      "model_name": "LayoutModel",
      "state": {
       "justify_content": "center"
      }
     },
     "b09a7474c53a41f397f5f211792bb5f9": {
      "model_module": "@jupyter-widgets/controls",
      "model_module_version": "1.5.0",
      "model_name": "ProgressStyleModel",
      "state": {
       "bar_color": "#71cddd",
       "description_width": ""
      }
     },
     "b0b9050a14d84a5691c59602a5c4776f": {
      "model_module": "@jupyter-widgets/output",
      "model_module_version": "1.0.0",
      "model_name": "OutputModel",
      "state": {
       "layout": "IPY_MODEL_b37f4b1f76b3470db47977dede8bb7f7",
       "outputs": [
        {
         "data": {
          "image/png": "iVBORw0KGgoAAAANSUhEUgAAAR4AAAEeCAYAAABcyXrWAAAAOXRFWHRTb2Z0d2FyZQBNYXRwbG90bGliIHZlcnNpb24zLjUuMSwgaHR0cHM6Ly9tYXRwbG90bGliLm9yZy/YYfK9AAAACXBIWXMAAAsTAAALEwEAmpwYAAASu0lEQVR4nO3df6xkVWHA8e/bXdhfLEq0ptZWhcIiRRDRloq01loxEAU09Ve0ioXb1B9Nr1Zpq0RQQSNIvUYjDVeUWmur2KLQYsFotJVWDWAFAQtINahVog3Cvre77I/pH+cOPN4+Hm/fzJxz7pzvJ9lssvP23vPuzHzn/pp7ZwaDAZIU06rUA5BUHsMjKTrDIyk6wyMpOsMjKTrDIyk6wyMpOsMjKTrDIyk6wyMpOsMjKTrDIyk6wyMpOsMjKTrDIyk6wyMpOsMjKTrDIyk6wyMpOsMjKTrDIyk6wyMpOsMjKTrDIyk6wyMpOsMjKTrDIyk6wyMpOsMjKTrDIyk6wyMpOsMjKTrDIyk6wyMpOsMjKTrDIyk6wyMpOsMjKTrDIyk6wyMpOsMjKTrDIyk6wyMpOsMjKTrDIyk6wyMpOsMjKTrDIyk6wyMpOsMjKTrDIyk6wyMpOsMjKTrDIyk6wyMpOsMjKbo1qQegfqgaZoBfBp4G/BqwPzADzAK3A9cBt7U1u5MNUr0xMxgMUo9BGasajgLeBJxC+KC6D9gPWN39yADYQlh7XgN8BXgf8EUjpIdieLSoquF44ALgIGAtD4Tm4QwIa0H3AmcBH2lrfJHpQQyPHqRqeATwIeBFwIYRJzcL3Ai8rK35/qhj0/QwPLpf1XA0cBVhU2rdmCa7E9gOnNrWfGZM01TPeVRLAFQNxxL2zzya8UUHwn6fjcDHq4bXjHG66jHXeDTcgfzvhDWdSZojrPlcOuH5KHOGp3BVwwbgNuCxhMPjkzYHHNHW3BFhXsqUm1o6HziAONGBcITsU1Xja69kPvkFqxqeAbwGWB9xtquBw4DXRpynMmN4yvZOxrsjebk2AmdVzbLPDdKUMTyFqhoeDxxHvE2shdYBJySatxIzPOV6LemiA7AJOCPh/JWQ4SnXiwg7elP6zaphn8RjUAKGp0BVw77AganHAWwDDk89CMVneMp0OOFNn9oqwmU2VBjDU6bNkMU3xjcSru2jwhieMq0nn+d+U+oBKL5cXnyKK4e1nSEvFlYgw1OmOfJ4ww8IFwxTYQxPmW4hj+d+eKEwFSaHF5/i+w6wb+pBdK5LPQDFZ3gK1NbsJFwKI7V9CRFUYQxPuf4B2Jpw/gPgS23NroRjUCKGp1wXkfa7WrPAeQnnr4QMT6HamruAfyXd0a27gS8nmrcSMzxlezvhDhCxzQJneL+tchmegrU1NxIufTobcbb3AdcQ9jGpUIZH5xA2e2IZAK92badshkcnAI+JOL+1wGkR56cMGZ6CVQ0nAZ+B6BfjOqdqeFvkeSojhqdQS0TnLsJ3ucZlO+H7WAvPGTI+BTM8BVoiOqcDvwI0hFCMuh9mDrgCeCJwPLBlwePGp1DeSbQwS0Wnrbl43s8dBbwbeDbhRMPlXp95J7CD8FWIM9uaK+dN8zjg8+x5q+Qz25pz9+LXUM8ZnoIsNzoL/s/jCHekeDlhbWgrsP+CH/s5sAH4KXAl0LQ1336I6RkfGZ5SrCQ6i0xjHXAE8I0FD/0O8M225p5lTsf4FM7wFGAc0VkwvQe9aNp677/zZXzK5s7lKTfu6IxLW/NVwjlE7nAukOGZYrlGZ8j4lMvwTKncozNkfMpkeKZQX6IzZHzKY3imTN+iM2R8ymJ4pkhfozNkfMpheKZE36MzZHzKYHimwLREZ8j4TD/D03PTFp0h4zPdDE+PTWt0hozP9DI8PTXt0RkyPtPJ8PRQKdEZMj7Tx/D0TNVwDnAZhURn6GHic1WCIWkEhqdHuui8jT2ft6mOztAS8Tm+arg6wZC0QoanJ6qGd8GimxVFRGdoXny2LXjoua759Ifh6YGq4WTgLxZ56JKSojPUxedNizx0vPt8+sHwZK6LzqXAmgUPXdLWvCbBkLLQ1lwIvG6Rh9zh3AOGJ2PzojN/R/IAuLjk6AzNi8/CzS7jkznDk6klonN6W3N6mlHlp4vPc/FQe68Yngw9THQ+mmZU+fI8n/4xPJkxOitjfPrF8GTE6IzG+PSH4cmE0RkP49MPhicDRme8jE/+DE9iRmcyjE/eDE9CRmeyjE++DE8iRicO45Mnw5OA0YnL+OTH8ERmdNIwPnkxPBEZnbSMTz4MTyRGJw/GJw8zg8Eg9RiyVDWsAg4BngYcCTwSWA3MArcC1wI3tPUe34xebFq9j07VsBrYDDwd+PiCh/+YsDy+3dZsjz22lagajgM+D+y34KEz25pzl/H/1wBPIrw+ngzsD8wQgnYzcB1heewY57inheGZp2qYAY4B/gx4PrAL2E14cc7M+9E5YCewAbgBOA+4rK25b5Fp9jY63fI4Dngz8DxgB2Hsmxb86HB5rAeuJyyPy9uanfFGu/f2Nj7d8ng28Bbgd+H+53sjD359zBJeO+uBrwHnA1e2NbvG+gv0mOHpVA0nAg3wS4QXzN5sht5LCNT7gPcOP+V6Hp0XAhcAv8Ceb6yHcy8hRO8G3p/zG2458emC83LgvYQ135Usj+3A2cCFbc3u0Ubdf8WHp2o4ALgQeAFhDWYUs8APgJcAB9LD6FQNjwYuBp5DeIONYha4A3hJW/OdUcc2KUvFB/goYdPyGYxnedwCvLStuWPEafVa0eGpGo4Gria84NaOabIDwibJ6u7P/H/PPTrHAlcC6xjf8thN+LR/XVtzyZimOXZLxGc7Ye134e2EVmpXN81T25pLxzTN3ik2PN2b7Cr2fKFNQh+i8xzgc4z+qf5Q5oC3tjUfmND0R7ZEfCZhDnhDW/OxCPPKTpHhqRqeAnwVowNA1XAM8CVG39R8OHPA63uw5nM1YT/fpG0FXtXWfCbCvLJS3Hk8VcN64Aom98m+0A7gm5Hmtdeqhk2E5THp6NDN48NVw5MizGulboZoR+PWA5dUDU+MNL9sFBce4D3Ao9i7oxKj2Ae4tGrYN9L89tYHiLPmN7QW+HR3XlCOLoKoz9Va4JPdkbNiFBWequHpwB8R59N9aAZ4LOEISVaqhmcBLyXOZsXQKuAgoI44z2XpTqk4gfHtWF+ONYQTVIu6c0hR4QHOIhyxiW0D8MZuMy8n7yRuhIc2Am/rzv7NybmkWx5nd2fLF6GYX7Rq+EXC/ZdSrtK+OOG8H6RqOAj4jYRDWEM4dyoLVcMRwKEJh7A/4dypIhQTHsImVspDePsBf55w/gu9nrTP/ybyWh5/yvjO1VmJjYSvphShpPC8kDSbWfMdUjXsn3gMQycRdyfqYo6umqj7U5ZyInvenz6mGeC3S9ncKuKX7J7Mw1KPg3Aey1NTD6J7sz8h9TgI57E8OfUgqoZHAI9OPQ7CWc0Hpx5EDEWEh3B5ixy+Kb2OcBmF1J5MeNOntoY8lsdTCR8Kqe0mj+UxcaWE52DyCM9awqHT1A4h7U72oQ2QxcmEh5B2M2toP8JYpl4p4VlHHm80iHfG9FJyWh4xT158KOsgixMaZ8jj9TFxpYRnQNojWvPlcC2WXJYFkMW1elwekZUSntnUA5jn56kHQFgeuQTwntSD4IErBqa2kz2vBT2VSgnPzaQ/dAxhB+b1qQcB3EQez/0W4MbUgyAsjxzCM0sYy9TL4cUXww/IY+fyTsJFwFO7lbQnyw3NEC4Sn9oNpPmqxEJryeP1MXFFhKetGRBeXKmtJ4NP+O4ayLemHgchfsnH0d0p5M7U4yBcPP6HqQcRQxHh6fwt6befr1nO7XAi+QRpz13ZDVyV0YXPPwlJn5udwOe6D8mpV1J4/o60v++9hNu+5OJi0i6POcJtX3JxYeL53wf8VeIxRFNMeNqaLYRP+VQ3WJsjXOM5C23NzwjXWE61U/Uu4JpE895DW/ND4MukO7T+3bbmvxLNO7piwtN5N+x5070IZoEzMtqsGDqLNMtjDnhzhpsVf0maza05wk0ki1FUeNqa7xPuAhnzvJ4dwDcI+5iy0tb8N+FiYDGXx3bgC23NZRHnuSzdGsf7ibvvaxvwj23NFyLOM7miwtP5a8KRpVibXNuBV2b46T50PuGme7FON9hG3pf5fAfxDkIMunm9IdL8slFceLoAnAz8hMnv35gDTmlrfjTh+axYd2j9ROD/mPzZzLPAiW3NTyc8n1H8AfCYSPOaBY5v6yzO3o6quPAAtDV3AccCP2Zyaz5zhFvVfnFC0x+btuYHwDOBnzG5NZ9Z4KS25j8mNP2RVQ2nAR+JMKsB4Sjn89o631sfTVKR4QFoa+4kXPvkW4x3H8c2wtrDiW3NP49xuhPV1twOHE24t/c4l8dWwhGs57Q1XxrjdMfqIaKzg3BC37iXx4+A38o5wpNWbHgA2pqfAMcAbyWsoYy66TUHfBb41bbmKyNOK7puzeepwDmEN8g4lsffAwe3NV8fcVoTs0R0fh84ELiAsDxG2RQddNO4GNjc1nxrhGn1XpG3MF5Md9eFswl3gtjF8q+Lch/hBXk9cPa0HJ2oGg4l7Gg9mfD7Lfe7TMPl8XXgrNwDvFR02prL5/3cEYTlcQIhIsu9VdH27uf/jbA8vjbyoKeA4Vmgangk8Oruz2GECO3igbXD4bV91hO+3/MvwAfbmtuiDzaCquFRwGnAKwi3f9lBCMtiy+N7hNshf6it+Z/og91Ly43Ogv/zGKACXgZs5oHQzl8eEC4udgdwGfDhbtNeHcOzhO4i8QcTrlG8kXCVum3Ad4EbM/reVRTd8tgMHE5YHqsImw+3Ad9u6yQnI67ISqKzyDRWEy7dehhhjXAVYfPyVuCmtk52lnz2DI+KM47oaDRF71xWeYxOHgyPimF08mF4VASjkxfDo6lndPJjeDTVjE6eDI+mltHJl+HRVDI6eTM8mjpGJ3+GR1PF6PSD4dHUMDr9YXg0FYxOvxge9Z7R6Z81qQcgjaJq+Bhw6oJ/NjqZc41HvWV0+svwqJeqhovZMzq7MTq9YHjUO90+nT9c5KH3GJ1+MDzqlSVuQXNuW3Nm7PFoZdy5rN54iOjsJKzpvD3BkLRChke94CHz6eKmlrJndKaP4VHWjM50MjzKltGZXoZHWTI6083wKDtGZ/oZHmXF6JTB8CgbRqcchkdZMDplMTxKzuiUx/AoKaNTJsOjZIxOuQyPkjA6ZfNLolqWqmEdcCTwNOBo4BHADDAL3AhcB1zf1tyzjGkZncLNDAaD1GNQpqqG1cDzgDOAY4GthA+rDQt+dDuwrfv324DzgE+3NVsXmabRkeHRnqqGGeBVhICsBzbt5SS2dH83wLvamvu66RodAYZHC1QNjwM+Afw6sHHEyc0B/wu8mLB5ZnQEGB7NUzX8HnAZsBbYZ0yTHRCuErhwekanYIZHAFQNzwc+xZ77bybB6BTO8Iiq4VnAlcSJzi7gRUanbJ7HU7iq4QDgn4gTHQjh+V6keSlThkcXMvpO5L2xD3Bp1YxtH5J6yPAUrGp4LvACws7kWGaAxxHODVKhDE/Z3kG8Taz5NgJvqRr2TTBvZcDwFKpq2AwclXAIq4BTEs5fCRmecv0Jab+rtwk3t4pleMp1IuM7SXCljuy+fKrCGJ4CdW/2x6ceB+FLp0ekHoTiMzxlOpLwParU1gBPTz0IxWd4ynQQ4bB2ahuAzakHofgMT5nWk0d4IO7Ji8qE4SnTrtQDmCensSgSw1OmLcDu1IMgXDLj7tSDUHyGp0w3AatTD4IQwBtSD0LxGZ4y3UYe4VlFuEi8CmN4CtTW7Aa+k3ochPjdnnoQis/wlOtvCLemSWU3cEUXQRXG8JTrEtJubm0FLkg4fyVkeArV1twNXEq6w9k/BL6RaN5KzPCU7WzCzfhimwPe2NZ4we9CGZ6CtTV3AG8l7r6ebcDlbc2VEeepzBgefRC4hXDLmRhmgddGmpcyZXgK1x1Vej5wF5Pf37MFOL7bv6SCGR7R1vwEeAbhdsOTWPMZAPcSonP9BKavnjE8AqCtuZNwbZxrGe8+nzngTuC4tuY/xzhd9Zjh0f26NZ9nAm8mxGfnCJMbEM7VuQg4tK39TpYe4C2Mtaiq4QmEI16vJJxlvN8y/+u27u+rgXe1NddOYHjqOcOjJVUN+wGvIAToKYQLxA/P/ZkhrNmsIZwFfQvwWeCitubH0Qer3jA8Wraquf8uoIcTLlu6irA5dTtwu9+70nIZHknRuXNZUnSGR1J0hkdSdIZHUnSGR1J0hkdSdIZHUnSGR1J0hkdSdIZHUnSGR1J0hkdSdIZHUnSGR1J0hkdSdIZHUnSGR1J0hkdSdIZHUnSGR1J0hkdSdIZHUnSGR1J0hkdSdIZHUnSGR1J0hkdSdIZHUnSGR1J0hkdSdIZHUnSGR1J0hkdSdIZHUnSGR1J0hkdSdIZHUnSGR1J0hkdSdIZHUnSGR1J0hkdSdIZHUnSGR1J0hkdSdIZHUnSGR1J0hkdSdIZHUnSGR1J0hkdSdIZHUnSGR1J0hkdSdIZHUnSGR1J0/w9S6qAa8C+pDwAAAABJRU5ErkJggg==\n",
          "text/plain": "<Figure size 360x360 with 1 Axes>"
         },
         "metadata": {},
         "output_type": "display_data"
        }
       ]
      }
     },
     "b0c604afc4564b1e8cdc07b2f0ad5788": {
      "model_module": "@jupyter-widgets/base",
      "model_module_version": "1.2.0",
      "model_name": "LayoutModel",
      "state": {
       "justify_content": "center"
      }
     },
     "b0d04b130d2642b3a0a9426072ac33b0": {
      "model_module": "@jupyter-widgets/base",
      "model_module_version": "1.2.0",
      "model_name": "LayoutModel",
      "state": {}
     },
     "b148b93dd12c4dc69df204ca93b7949f": {
      "model_module": "@jupyter-widgets/controls",
      "model_module_version": "1.5.0",
      "model_name": "HTMLModel",
      "state": {
       "layout": "IPY_MODEL_c8356207363040659b16e666bf40dde6",
       "style": "IPY_MODEL_a295150e8f8348e9a1d5b32347f77c9f",
       "value": "<h5 style='color:#34bc6e'>True</h5>"
      }
     },
     "b17dadfb5f2d4778b07a71a65340ed69": {
      "model_module": "@jupyter-widgets/base",
      "model_module_version": "1.2.0",
      "model_name": "LayoutModel",
      "state": {
       "grid_area": "middle"
      }
     },
     "b22f318671914a7f80208862e5fff178": {
      "model_module": "@jupyter-widgets/base",
      "model_module_version": "1.2.0",
      "model_name": "LayoutModel",
      "state": {}
     },
     "b2845fd95e1a43cfabc6d1a96890dd70": {
      "model_module": "@jupyter-widgets/base",
      "model_module_version": "1.2.0",
      "model_name": "LayoutModel",
      "state": {
       "grid_area": "left"
      }
     },
     "b28ae5a71b444381be753221de5d515b": {
      "model_module": "@jupyter-widgets/controls",
      "model_module_version": "1.5.0",
      "model_name": "HTMLModel",
      "state": {
       "layout": "IPY_MODEL_6ae38cfbc5424bad97057c3bab06c1b3",
       "style": "IPY_MODEL_5073d753ecf24e60ab7f7fd365851dd5",
       "value": "<h5>173.4 / 59.1 us</h5>"
      }
     },
     "b28de27b771a4b56bbf4a85486ed39ea": {
      "model_module": "@jupyter-widgets/base",
      "model_module_version": "1.2.0",
      "model_name": "LayoutModel",
      "state": {
       "margin": "0px 0px 0px 0px"
      }
     },
     "b32ab79e55ce49c9bc5e5c2a8e4f18da": {
      "model_module": "@jupyter-widgets/controls",
      "model_module_version": "1.5.0",
      "model_name": "DescriptionStyleModel",
      "state": {
       "description_width": ""
      }
     },
     "b3442d9f42194940beaf728611aad88f": {
      "model_module": "@jupyter-widgets/base",
      "model_module_version": "1.2.0",
      "model_name": "LayoutModel",
      "state": {
       "justify_content": "center",
       "max_width": "250px",
       "min_width": "250px"
      }
     },
     "b3792c5d4d07477fa558e76de022dcb7": {
      "model_module": "@jupyter-widgets/controls",
      "model_module_version": "1.5.0",
      "model_name": "VBoxModel",
      "state": {
       "children": [
        "IPY_MODEL_7dbb0e9b31e441f0ae867e36ab6725fb",
        "IPY_MODEL_6c470ffddbbc4cbda18c81aa855a3d38",
        "IPY_MODEL_e49535d545f5414a948be7a7d3a31033",
        "IPY_MODEL_4de3ee5bb19f4b33af5de380a85a5c40",
        "IPY_MODEL_6b454b5d3a954f8e9bc107868f807589",
        "IPY_MODEL_e5ebd6dea4bd43b795d5f1837a4e8d6a",
        "IPY_MODEL_b8006f3c865544d3837cac688ab95f3c",
        "IPY_MODEL_3e083de6992e408094351f4df0fae80a",
        "IPY_MODEL_2f3a5383975946d291e9c2f98ace68cd",
        "IPY_MODEL_571fa1a64de04da69e959f847d4ed46d"
       ],
       "layout": "IPY_MODEL_19e626b1a763423ca2aec660b2c6d617"
      }
     },
     "b37f4b1f76b3470db47977dede8bb7f7": {
      "model_module": "@jupyter-widgets/base",
      "model_module_version": "1.2.0",
      "model_name": "LayoutModel",
      "state": {
       "align_items": "center",
       "justify_content": "center",
       "margin": "0px 0px 0px 0px",
       "max_height": "250px",
       "max_width": "250px",
       "min_height": "250px",
       "min_width": "250px"
      }
     },
     "b3f8858391f94047a17f32f34b5a5a26": {
      "model_module": "@jupyter-widgets/controls",
      "model_module_version": "1.5.0",
      "model_name": "DescriptionStyleModel",
      "state": {
       "description_width": ""
      }
     },
     "b43299160f62408abae1f89cc9e063c3": {
      "model_module": "@jupyter-widgets/controls",
      "model_module_version": "1.5.0",
      "model_name": "DescriptionStyleModel",
      "state": {
       "description_width": ""
      }
     },
     "b48a2188f9804e32abc64df0fed0bf49": {
      "model_module": "@jupyter-widgets/controls",
      "model_module_version": "1.5.0",
      "model_name": "DescriptionStyleModel",
      "state": {
       "description_width": ""
      }
     },
     "b4b4200f2de340a98f93b49c8d2100d1": {
      "model_module": "@jupyter-widgets/base",
      "model_module_version": "1.2.0",
      "model_name": "LayoutModel",
      "state": {
       "justify_content": "center"
      }
     },
     "b4b7ee4a9202446ca44b4eb29b1488d4": {
      "model_module": "@jupyter-widgets/base",
      "model_module_version": "1.2.0",
      "model_name": "LayoutModel",
      "state": {}
     },
     "b4cd9ec88b15468db7f6ccdf011ca6cf": {
      "model_module": "@jupyter-widgets/controls",
      "model_module_version": "1.5.0",
      "model_name": "DescriptionStyleModel",
      "state": {
       "description_width": ""
      }
     },
     "b4e024b2a770430c9fce0dcf41bdbdae": {
      "model_module": "@jupyter-widgets/controls",
      "model_module_version": "1.5.0",
      "model_name": "HTMLModel",
      "state": {
       "layout": "IPY_MODEL_090dcc65d1aa437b96621f0d0a610346",
       "style": "IPY_MODEL_44fdd439616a41c6843fc3647d3c84eb",
       "value": "<h5 style='color:#34bc6e'>True</h5>"
      }
     },
     "b4e8ec8a311b4c289edad2ac96d91b29": {
      "model_module": "@jupyter-widgets/base",
      "model_module_version": "1.2.0",
      "model_name": "LayoutModel",
      "state": {}
     },
     "b5cad1a869dc4b4a8ab3963d5a331389": {
      "model_module": "@jupyter-widgets/base",
      "model_module_version": "1.2.0",
      "model_name": "LayoutModel",
      "state": {
       "grid_area": "bottom",
       "width": "auto"
      }
     },
     "b5f887b08a134fd19226ac76e3462445": {
      "model_module": "@jupyter-widgets/controls",
      "model_module_version": "1.5.0",
      "model_name": "DescriptionStyleModel",
      "state": {
       "description_width": ""
      }
     },
     "b602927bdbd64149b9858cbc84dcd67e": {
      "model_module": "@jupyter-widgets/base",
      "model_module_version": "1.2.0",
      "model_name": "LayoutModel",
      "state": {}
     },
     "b6084f61980d4db5ac4b1cb46650c76a": {
      "model_module": "@jupyter-widgets/base",
      "model_module_version": "1.2.0",
      "model_name": "LayoutModel",
      "state": {
       "margin": "0px 0px 0px 37px",
       "width": "600px"
      }
     },
     "b6470370f02d45b49c25ca181b2f5351": {
      "model_module": "@jupyter-widgets/controls",
      "model_module_version": "1.5.0",
      "model_name": "HTMLModel",
      "state": {
       "layout": "IPY_MODEL_c9ca888733bf4719a7aa47306229f7d9",
       "style": "IPY_MODEL_79e34738546e440085dc07d619b39b5c",
       "value": "<h5>91.9 / 104.1 us</h5>"
      }
     },
     "b66d932b48ab486c815064d99f7350c2": {
      "model_module": "@jupyter-widgets/controls",
      "model_module_version": "1.5.0",
      "model_name": "DescriptionStyleModel",
      "state": {
       "description_width": ""
      }
     },
     "b67f454b593c40c395a302db4bfb76eb": {
      "model_module": "@jupyter-widgets/controls",
      "model_module_version": "1.5.0",
      "model_name": "LabelModel",
      "state": {
       "layout": "IPY_MODEL_23a3959da71b443c9027dcd279a54563",
       "style": "IPY_MODEL_3a543f77c5234008a39a01615aad4293",
       "value": "Least Busy"
      }
     },
     "b698e56735c640499b6495874a1cca5c": {
      "model_module": "@jupyter-widgets/base",
      "model_module_version": "1.2.0",
      "model_name": "LayoutModel",
      "state": {
       "justify_content": "center"
      }
     },
     "b7310bf4459a4e2f9f646b34aa8f5d54": {
      "model_module": "@jupyter-widgets/controls",
      "model_module_version": "1.5.0",
      "model_name": "HTMLModel",
      "state": {
       "layout": "IPY_MODEL_27e9274879a74486a14d4938b6090abc",
       "style": "IPY_MODEL_7b30a4335697453db9d227267929c7d3",
       "value": "-"
      }
     },
     "b73eca88b63c4aa083297c4bfef3bddc": {
      "model_module": "@jupyter-widgets/controls",
      "model_module_version": "1.5.0",
      "model_name": "LabelModel",
      "state": {
       "layout": "IPY_MODEL_63a5bd8e17a945cfb615df88d7ed47f6",
       "style": "IPY_MODEL_5d4c345205eb4e8ea5ea49f90687c4b2",
       "value": "0"
      }
     },
     "b7e94a9e9e01496ca60b4ac2a50eae9e": {
      "model_module": "@jupyter-widgets/controls",
      "model_module_version": "1.5.0",
      "model_name": "DescriptionStyleModel",
      "state": {
       "description_width": ""
      }
     },
     "b8006f3c865544d3837cac688ab95f3c": {
      "model_module": "@jupyter-widgets/controls",
      "model_module_version": "1.5.0",
      "model_name": "HTMLModel",
      "state": {
       "layout": "IPY_MODEL_b05bcdabefb247849be60869a8f1ff39",
       "style": "IPY_MODEL_27b460adbbaf4be396014e630830ba19",
       "value": "<h5 style='color:#dc267f'>False</h5>"
      }
     },
     "b8585213134f4f119463a5f64fc4be0a": {
      "model_module": "@jupyter-widgets/controls",
      "model_module_version": "1.5.0",
      "model_name": "DescriptionStyleModel",
      "state": {
       "description_width": ""
      }
     },
     "b8a1236abb2b4fca8e2a3459519a3689": {
      "model_module": "@jupyter-widgets/controls",
      "model_module_version": "1.5.0",
      "model_name": "DescriptionStyleModel",
      "state": {
       "description_width": ""
      }
     },
     "b8cfe2f0a423469a963b43f233958268": {
      "model_module": "@jupyter-widgets/controls",
      "model_module_version": "1.5.0",
      "model_name": "DescriptionStyleModel",
      "state": {
       "description_width": ""
      }
     },
     "b8d241269933434cbdd5a08d9a64b0e1": {
      "model_module": "@jupyter-widgets/controls",
      "model_module_version": "1.5.0",
      "model_name": "DescriptionStyleModel",
      "state": {
       "description_width": ""
      }
     },
     "b8d95f8fbcc04ae7a50eee580cbfbdcc": {
      "model_module": "@jupyter-widgets/controls",
      "model_module_version": "1.5.0",
      "model_name": "HTMLModel",
      "state": {
       "layout": "IPY_MODEL_ebcd2e6109a34165917bb7917a2c02c7",
       "style": "IPY_MODEL_78539c1893b74428bb56db9446ee0e70",
       "value": "<table><style>\ntable {\n    border-collapse: collapse;\n    width: auto;\n}\n\nth, td {\n    text-align: left;\n    padding: 8px;\n}\n\ntr:nth-child(even) {background-color: #f6f6f6;};\n</style><tr><th></th><th>Type</th><th>Gate error</th></tr><tr><td><font style='font-weight:bold'>cx0_1</font></td><td>cx</td><td>0.01075</td></tr><tr><td><font style='font-weight:bold'>cx1_0</font></td><td>cx</td><td>0.01075</td></tr></table>"
      }
     },
     "b8f5429222a549b3935e99fd63c32b54": {
      "model_module": "@jupyter-widgets/controls",
      "model_module_version": "1.5.0",
      "model_name": "DescriptionStyleModel",
      "state": {
       "description_width": ""
      }
     },
     "b90990309c704bc68b26fda35cdfe866": {
      "model_module": "@jupyter-widgets/controls",
      "model_module_version": "1.5.0",
      "model_name": "HTMLModel",
      "state": {
       "layout": "IPY_MODEL_963c3a21e78c45ba93db27463dc0132b",
       "style": "IPY_MODEL_fa2e9d114d3e4421a3ea770cdf696d3e",
       "value": "<h5>92.5 / 127.1 us</h5>"
      }
     },
     "b92edfe6cc6b4b14985c8e8253e941f4": {
      "model_module": "@jupyter-widgets/controls",
      "model_module_version": "1.5.0",
      "model_name": "DescriptionStyleModel",
      "state": {
       "description_width": ""
      }
     },
     "b935081a77ce49b7b3ed0ada31620fd1": {
      "model_module": "@jupyter-widgets/base",
      "model_module_version": "1.2.0",
      "model_name": "LayoutModel",
      "state": {
       "grid_gap": "0px 25px",
       "grid_template_columns": "250px 250px 250px 250px 250px 250px 250px ",
       "grid_template_rows": "auto"
      }
     },
     "ba57804ebdba41d9bc36f47ec494bc27": {
      "model_module": "@jupyter-widgets/controls",
      "model_module_version": "1.5.0",
      "model_name": "DescriptionStyleModel",
      "state": {
       "description_width": ""
      }
     },
     "ba9f72699df54a62b44e3441841319cb": {
      "model_module": "@jupyter-widgets/controls",
      "model_module_version": "1.5.0",
      "model_name": "LabelModel",
      "state": {
       "layout": "IPY_MODEL_5cc9184ed3234059beecb6d2162bd4e9",
       "style": "IPY_MODEL_908bcc56cd3a42b4abbea6236f3e09e1",
       "value": "2"
      }
     },
     "bab3412f51b64ca398e0bc6d577fb8cf": {
      "model_module": "@jupyter-widgets/controls",
      "model_module_version": "1.5.0",
      "model_name": "DescriptionStyleModel",
      "state": {
       "description_width": ""
      }
     },
     "bbecc3869af847369787241b32fb14c3": {
      "model_module": "@jupyter-widgets/controls",
      "model_module_version": "1.5.0",
      "model_name": "DescriptionStyleModel",
      "state": {
       "description_width": ""
      }
     },
     "bc3c75587a474132918aa462b505d9ca": {
      "model_module": "@jupyter-widgets/base",
      "model_module_version": "1.2.0",
      "model_name": "LayoutModel",
      "state": {
       "margin": "0px 0px 0px 0px"
      }
     },
     "bc740da34d704d67ab5fa6427e922a45": {
      "model_module": "@jupyter-widgets/controls",
      "model_module_version": "1.5.0",
      "model_name": "LabelModel",
      "state": {
       "layout": "IPY_MODEL_6d24983f258b48399614299db3a4cc83",
       "style": "IPY_MODEL_b32ab79e55ce49c9bc5e5c2a8e4f18da",
       "value": "127"
      }
     },
     "bc78ffb1dd9d4b798a8aaafbcd3e3eef": {
      "model_module": "@jupyter-widgets/base",
      "model_module_version": "1.2.0",
      "model_name": "LayoutModel",
      "state": {
       "align_items": "center",
       "justify_content": "center",
       "margin": "0px 0px 0px 0px",
       "max_height": "250px",
       "max_width": "250px",
       "min_height": "250px",
       "min_width": "250px"
      }
     },
     "bcb3fd75aff54421b073e80be996d936": {
      "model_module": "@jupyter-widgets/controls",
      "model_module_version": "1.5.0",
      "model_name": "DescriptionStyleModel",
      "state": {
       "description_width": ""
      }
     },
     "bcf8fe5173044f4eba2fac9ad713585e": {
      "model_module": "@jupyter-widgets/controls",
      "model_module_version": "1.5.0",
      "model_name": "DescriptionStyleModel",
      "state": {
       "description_width": ""
      }
     },
     "bd04714d95804c15b4f06983d257b55f": {
      "model_module": "@jupyter-widgets/base",
      "model_module_version": "1.2.0",
      "model_name": "LayoutModel",
      "state": {
       "align_items": "center",
       "display": "flex-inline",
       "grid_area": "right",
       "max_height": "325px",
       "padding": "10px 10px 10px 10px",
       "width": "auto"
      }
     },
     "bd80ff7b27984758af3c79779a367f28": {
      "model_module": "@jupyter-widgets/controls",
      "model_module_version": "1.5.0",
      "model_name": "DescriptionStyleModel",
      "state": {
       "description_width": ""
      }
     },
     "bd9d867ce5194297b7ec654555e49221": {
      "model_module": "@jupyter-widgets/controls",
      "model_module_version": "1.5.0",
      "model_name": "LabelModel",
      "state": {
       "layout": "IPY_MODEL_f2547c47ad89498684f6561f36a4b729",
       "style": "IPY_MODEL_c135c1a0af4c405eb4989a7519c9905c",
       "value": "3"
      }
     },
     "be4c3280250444ab846da574f67bda86": {
      "model_module": "@jupyter-widgets/controls",
      "model_module_version": "1.5.0",
      "model_name": "LabelModel",
      "state": {
       "layout": "IPY_MODEL_3b9b795e482c4f4198cf02ae2dea2169",
       "style": "IPY_MODEL_2d3b99d9515b4051a4b8b6c96fad9950",
       "value": "Avg. CX Err."
      }
     },
     "beea09b4914a42b1aa21319d704eb4ff": {
      "model_module": "@jupyter-widgets/controls",
      "model_module_version": "1.5.0",
      "model_name": "DescriptionStyleModel",
      "state": {
       "description_width": ""
      }
     },
     "bf0d59803e014fef94f0e2c2999c2cbc": {
      "model_module": "@jupyter-widgets/controls",
      "model_module_version": "1.5.0",
      "model_name": "DescriptionStyleModel",
      "state": {
       "description_width": ""
      }
     },
     "bf234d59bcf949d091cb1d2580885d68": {
      "model_module": "@jupyter-widgets/controls",
      "model_module_version": "1.5.0",
      "model_name": "DescriptionStyleModel",
      "state": {
       "description_width": ""
      }
     },
     "bf88dc1bd1674570b5df35dcbd013183": {
      "model_module": "@jupyter-widgets/controls",
      "model_module_version": "1.5.0",
      "model_name": "VBoxModel",
      "state": {
       "children": [
        "IPY_MODEL_a8c4e43b639e44caa206837711275d89",
        "IPY_MODEL_5f42774e8a5747d4be909746636171d1",
        "IPY_MODEL_e803cc120f874ac7b92498d1e2f5db46",
        "IPY_MODEL_a9fe133cfc434040b25539d964f3e49a",
        "IPY_MODEL_1372f50fee1b449aaf3bbdd146ed42e0",
        "IPY_MODEL_1ef561acc7c548969ea78b18794baa99",
        "IPY_MODEL_af5562bca20745a6acda45c5c82ee4d4",
        "IPY_MODEL_aa04ef57897342b1849bd6ad74eb750c",
        "IPY_MODEL_19d8c70c042d41e6960a281973b1106d",
        "IPY_MODEL_600bc54a6dbb4d06adae9387eb6874c7"
       ],
       "layout": "IPY_MODEL_ed49ce5b115944f19d19cf225d634d86"
      }
     },
     "bfaf3c62d9b946b49321363fa4c5a796": {
      "model_module": "@jupyter-widgets/controls",
      "model_module_version": "1.5.0",
      "model_name": "DescriptionStyleModel",
      "state": {
       "description_width": ""
      }
     },
     "c0012dd5248e479887b2c940c2202805": {
      "model_module": "@jupyter-widgets/controls",
      "model_module_version": "1.5.0",
      "model_name": "HTMLModel",
      "state": {
       "layout": "IPY_MODEL_7ea790e998cb4ccd9145d63ec67f9a37",
       "style": "IPY_MODEL_91b500a451b3404aaf6ce04a974d12c5",
       "value": "<h5 style='color:#dc267f'>False</h5>"
      }
     },
     "c0775aed7f8e42abbed95d6bd75f5966": {
      "model_module": "@jupyter-widgets/base",
      "model_module_version": "1.2.0",
      "model_name": "LayoutModel",
      "state": {
       "max_width": "180px"
      }
     },
     "c0d40a0685924428a210d66f21b848ee": {
      "model_module": "@jupyter-widgets/base",
      "model_module_version": "1.2.0",
      "model_name": "LayoutModel",
      "state": {}
     },
     "c135c1a0af4c405eb4989a7519c9905c": {
      "model_module": "@jupyter-widgets/controls",
      "model_module_version": "1.5.0",
      "model_name": "DescriptionStyleModel",
      "state": {
       "description_width": ""
      }
     },
     "c159eb2e17e5461ca9531532a79a10c8": {
      "model_module": "@jupyter-widgets/controls",
      "model_module_version": "1.5.0",
      "model_name": "LabelModel",
      "state": {
       "layout": "IPY_MODEL_ac18b6bc5f8146318d2263158997534a",
       "style": "IPY_MODEL_4710bf94145a4991927cc3be1a44865e",
       "value": "Quantum Vol."
      }
     },
     "c193f16914f24ee4b9b93a402a9f2677": {
      "model_module": "@jupyter-widgets/controls",
      "model_module_version": "1.5.0",
      "model_name": "VBoxModel",
      "state": {
       "children": [
        "IPY_MODEL_149784935466413ba1566329eb0b513c",
        "IPY_MODEL_15a5855fbec04ced93018351cafb6512",
        "IPY_MODEL_24b4e18180a14c19b5c1ed19a30b0327",
        "IPY_MODEL_5352c78e7203477fa8faad3f10d86f97",
        "IPY_MODEL_06f962612e1a4d9b88c0b7c5ffbbe9a8",
        "IPY_MODEL_186548fd74db48e2a322c85710a4ff39",
        "IPY_MODEL_2874077e3e5a496fbda5194c6f677791",
        "IPY_MODEL_b90990309c704bc68b26fda35cdfe866",
        "IPY_MODEL_606ed51d3a01442ab275827b38db8e63",
        "IPY_MODEL_5d2a670216974a419d5245db48664cb7"
       ],
       "layout": "IPY_MODEL_050cb6edd92e47d891192d84cafb0d96"
      }
     },
     "c1bd9de2b0ca4e39b5c535e104353671": {
      "model_module": "@jupyter-widgets/base",
      "model_module_version": "1.2.0",
      "model_name": "LayoutModel",
      "state": {
       "justify_content": "center"
      }
     },
     "c1f4c34d903549a7a84c0073c1618dd7": {
      "model_module": "@jupyter-widgets/controls",
      "model_module_version": "1.5.0",
      "model_name": "HBoxModel",
      "state": {
       "children": [
        "IPY_MODEL_bd9d867ce5194297b7ec654555e49221",
        "IPY_MODEL_3e2a9f05f99b47aeab118a2380d95822",
        "IPY_MODEL_9cecb6f2a0c8444d9c7f828d3c8b03c7"
       ],
       "layout": "IPY_MODEL_75099b626282467895980b534bf84edf"
      }
     },
     "c2320c9b508c43f2a74ef5f37c3a4f6a": {
      "model_module": "@jupyter-widgets/controls",
      "model_module_version": "1.5.0",
      "model_name": "DescriptionStyleModel",
      "state": {
       "description_width": ""
      }
     },
     "c258b5ff02d843c9afe5ced15cb29554": {
      "model_module": "@jupyter-widgets/base",
      "model_module_version": "1.2.0",
      "model_name": "LayoutModel",
      "state": {}
     },
     "c275b6af217b4ac295912f9aa54124ad": {
      "model_module": "@jupyter-widgets/controls",
      "model_module_version": "1.5.0",
      "model_name": "DescriptionStyleModel",
      "state": {
       "description_width": ""
      }
     },
     "c27a96eccea94c8495077fe78580688c": {
      "model_module": "@jupyter-widgets/output",
      "model_module_version": "1.0.0",
      "model_name": "OutputModel",
      "state": {
       "layout": "IPY_MODEL_bd04714d95804c15b4f06983d257b55f",
       "outputs": [
        {
         "data": {
          "image/png": "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\n",
          "text/plain": "<Figure size 360x360 with 1 Axes>"
         },
         "metadata": {},
         "output_type": "display_data"
        }
       ]
      }
     },
     "c27c57969589445eb4a7def404334627": {
      "model_module": "@jupyter-widgets/base",
      "model_module_version": "1.2.0",
      "model_name": "LayoutModel",
      "state": {
       "justify_content": "center"
      }
     },
     "c2bb0269dd5e429b83fce3d3afeef97a": {
      "model_module": "@jupyter-widgets/controls",
      "model_module_version": "1.5.0",
      "model_name": "DescriptionStyleModel",
      "state": {
       "description_width": ""
      }
     },
     "c2fd0dd3093e415598340aaf66284752": {
      "model_module": "@jupyter-widgets/base",
      "model_module_version": "1.2.0",
      "model_name": "LayoutModel",
      "state": {
       "justify_content": "center"
      }
     },
     "c3a1f823b8884973964dc8a4c465b5da": {
      "model_module": "@jupyter-widgets/base",
      "model_module_version": "1.2.0",
      "model_name": "LayoutModel",
      "state": {}
     },
     "c3d144e8938f4296bd1d5ad07208afe1": {
      "model_module": "@jupyter-widgets/base",
      "model_module_version": "1.2.0",
      "model_name": "LayoutModel",
      "state": {
       "width": "145px"
      }
     },
     "c3fa73aed53d40dc89e79aeba4164745": {
      "model_module": "@jupyter-widgets/base",
      "model_module_version": "1.2.0",
      "model_name": "LayoutModel",
      "state": {}
     },
     "c4626e8009a047abbf0f522e5d023ba6": {
      "model_module": "@jupyter-widgets/controls",
      "model_module_version": "1.5.0",
      "model_name": "HBoxModel",
      "state": {
       "children": [
        "IPY_MODEL_16163303dd4b469cb1773e591de0d820",
        "IPY_MODEL_9b89bfec01884003aa9d9ce1a850356a",
        "IPY_MODEL_d53fda073a03469c9ab1be55793965df"
       ],
       "layout": "IPY_MODEL_d15cc5c83faf40fda1d29960f8e3272d"
      }
     },
     "c4637cf7ca224fc9accea07206ddcd95": {
      "model_module": "@jupyter-widgets/base",
      "model_module_version": "1.2.0",
      "model_name": "LayoutModel",
      "state": {
       "width": "145px"
      }
     },
     "c4abc7349d3643349b25952899df8d36": {
      "model_module": "@jupyter-widgets/controls",
      "model_module_version": "1.5.0",
      "model_name": "DescriptionStyleModel",
      "state": {
       "description_width": ""
      }
     },
     "c4ae4650b4b2466593837742e29f01bb": {
      "model_module": "@jupyter-widgets/controls",
      "model_module_version": "1.5.0",
      "model_name": "HTMLMathModel",
      "state": {
       "layout": "IPY_MODEL_7945f7c8f8534927b951ef39605a9a00",
       "style": "IPY_MODEL_9bd3631d0eeb4202833963161d295784",
       "value": "<table><style>\ntable {\n    border-collapse: collapse;\n    width: auto;\n}\n\nth, td {\n    text-align: left;\n    padding: 8px;\n}\n\ntr:nth-child(even) {background-color: #f6f6f6;}\n</style><tr><th></th><th></th></tr><tr><td>local</td><td>False</td></tr><tr><td>measure_esp_enabled</td><td>False</td></tr><tr><td>simulator</td><td>False</td></tr><tr><td>clops</td><td>2506</td></tr><tr><td>memory</td><td>True</td></tr><tr><td>multi_meas_enabled</td><td>True</td></tr><tr><td>rep_times</td><td>[1000.0]</td></tr><tr><td>description</td><td>5 qubit device Quito</td></tr><tr><td>acquisition_latency</td><td>[]</td></tr><tr><td>allow_q_object</td><td>True</td></tr><tr><td>credits_required</td><td>True</td></tr><tr><td>meas_lo_range</td><td>[[6.807868157000001, 7.807868157000001], [6.7292695270000005, 7.7292695270000005], [6.991060108, 7.991060108], [6.8547510460000005, 7.8547510460000005], [6.904365522000001, 7.904365522000001]]</td></tr><tr><td>url</td><td>None</td></tr><tr><td>dynamic_reprate_enabled</td><td>True</td></tr><tr><td>default_rep_delay</td><td>250.0</td></tr><tr><td>n_registers</td><td>1</td></tr><tr><td>channels</td><td>{'acquire0': {'operates': {'qubits': [0]}, 'purpose': 'acquire', 'type': 'acquire'}, 'acquire1': {'operates': {'qubits': [1]}, 'purpose': 'acquire', 'type': 'acquire'}, 'acquire2': {'operates': {'qubits': [2]}, 'purpose': 'acquire', 'type': 'acquire'}, 'acquire3': {'operates': {'qubits': [3]}, 'purpose': 'acquire', 'type': 'acquire'}, 'acquire4': {'operates': {'qubits': [4]}, 'purpose': 'acquire', 'type': 'acquire'}, 'd0': {'operates': {'qubits': [0]}, 'purpose': 'drive', 'type': 'drive'}, 'd1': {'operates': {'qubits': [1]}, 'purpose': 'drive', 'type': 'drive'}, 'd2': {'operates': {'qubits': [2]}, 'purpose': 'drive', 'type': 'drive'}, 'd3': {'operates': {'qubits': [3]}, 'purpose': 'drive', 'type': 'drive'}, 'd4': {'operates': {'qubits': [4]}, 'purpose': 'drive', 'type': 'drive'}, 'm0': {'operates': {'qubits': [0]}, 'purpose': 'measure', 'type': 'measure'}, 'm1': {'operates': {'qubits': [1]}, 'purpose': 'measure', 'type': 'measure'}, 'm2': {'operates': {'qubits': [2]}, 'purpose': 'measure', 'type': 'measure'}, 'm3': {'operates': {'qubits': [3]}, 'purpose': 'measure', 'type': 'measure'}, 'm4': {'operates': {'qubits': [4]}, 'purpose': 'measure', 'type': 'measure'}, 'u0': {'operates': {'qubits': [0, 1]}, 'purpose': 'cross-resonance', 'type': 'control'}, 'u1': {'operates': {'qubits': [1, 0]}, 'purpose': 'cross-resonance', 'type': 'control'}, 'u2': {'operates': {'qubits': [1, 2]}, 'purpose': 'cross-resonance', 'type': 'control'}, 'u3': {'operates': {'qubits': [1, 3]}, 'purpose': 'cross-resonance', 'type': 'control'}, 'u4': {'operates': {'qubits': [2, 1]}, 'purpose': 'cross-resonance', 'type': 'control'}, 'u5': {'operates': {'qubits': [3, 1]}, 'purpose': 'cross-resonance', 'type': 'control'}, 'u6': {'operates': {'qubits': [3, 4]}, 'purpose': 'cross-resonance', 'type': 'control'}, 'u7': {'operates': {'qubits': [4, 3]}, 'purpose': 'cross-resonance', 'type': 'control'}}</td></tr><tr><td>dt</td><td>0.2222222222222222</td></tr><tr><td>u_channel_lo</td><td>[[{'q': 1, 'scale': (1+0j)}], [{'q': 0, 'scale': (1+0j)}], [{'q': 2, 'scale': (1+0j)}], [{'q': 3, 'scale': (1+0j)}], [{'q': 1, 'scale': (1+0j)}], [{'q': 1, 'scale': (1+0j)}], [{'q': 4, 'scale': (1+0j)}], [{'q': 3, 'scale': (1+0j)}]]</td></tr><tr><td>online_date</td><td>2021-01-08 05:00:00+00:00</td></tr><tr><td>hamiltonian</td><td>$$\\begin{align} \\mathcal{H}/\\hbar = & \\sum_{i=0}^{4}\\left(\\frac{\\omega_{q,i}}{2}(\\mathbb{I}-\\sigma_i^{z})+\\frac{\\Delta_{i}}{2}(O_i^2-O_i)+\\Omega_{d,i}D_i(t)\\sigma_i^{X}\\right) \\\\ & + J_{0,1}(\\sigma_{0}^{+}\\sigma_{1}^{-}+\\sigma_{0}^{-}\\sigma_{1}^{+}) + J_{1,2}(\\sigma_{1}^{+}\\sigma_{2}^{-}+\\sigma_{1}^{-}\\sigma_{2}^{+}) + J_{1,3}(\\sigma_{1}^{+}\\sigma_{3}^{-}+\\sigma_{1}^{-}\\sigma_{3}^{+}) + J_{3,4}(\\sigma_{3}^{+}\\sigma_{4}^{-}+\\sigma_{3}^{-}\\sigma_{4}^{+}) \\\\ & + \\Omega_{d,0}(U_{0}^{(0,1)}(t))\\sigma_{0}^{X} + \\Omega_{d,1}(U_{1}^{(1,0)}(t)+U_{3}^{(1,3)}(t)+U_{2}^{(1,2)}(t))\\sigma_{1}^{X} \\\\ & + \\Omega_{d,2}(U_{4}^{(2,1)}(t))\\sigma_{2}^{X} + \\Omega_{d,3}(U_{6}^{(3,4)}(t)+U_{5}^{(3,1)}(t))\\sigma_{3}^{X} \\\\ & + \\Omega_{d,4}(U_{7}^{(4,3)}(t))\\sigma_{4}^{X} \\\\ \\end{align}$$</td></tr><tr><td>conditional</td><td>False</td></tr><tr><td>coupling_map</td><td>[[0, 1], [1, 0], [1, 2], [1, 3], [2, 1], [3, 1], [3, 4], [4, 3]]</td></tr><tr><td>discriminators</td><td>['hw_centroid', 'quadratic_discriminator', 'linear_discriminator']</td></tr><tr><td>rep_delay_range</td><td>[0.0, 500.0]</td></tr><tr><td>qubit_channel_mapping</td><td>[['u1', 'd0', 'u0', 'm0'], ['u0', 'm1', 'u4', 'u3', 'u5', 'u2', 'd1', 'u1'], ['m2', 'u4', 'u2', 'd2'], ['m3', 'u7', 'u3', 'u5', 'u6', 'd3'], ['u7', 'u6', 'd4', 'm4']]</td></tr><tr><td>qubit_lo_range</td><td>[[4.800541040012398, 5.800541040012398], [4.580580828765353, 5.580580828765353], [4.822189923881474, 5.822189923881474], [4.6636068164653475, 5.6636068164653475], [4.552327895072668, 5.552327895072668]]</td></tr><tr><td>timing_constraints</td><td>{'acquire_alignment': 16, 'granularity': 16, 'min_length': 64, 'pulse_alignment': 1}</td></tr><tr><td>supported_features</td><td>['qobj']</td></tr><tr><td>sample_name</td><td>family: Falcon, revision: 4, segment: T</td></tr><tr><td>open_pulse</td><td>False</td></tr><tr><td>n_uchannels</td><td>8</td></tr><tr><td>processor_type</td><td>{'family': 'Falcon', 'revision': 4, 'segment': 'T'}</td></tr><tr><td>uchannels_enabled</td><td>True</td></tr><tr><td>conditional_latency</td><td>[]</td></tr><tr><td>supported_instructions</td><td>['reset', 'x', 'setf', 'play', 'shiftf', 'rz', 'measure', 'u3', 'cx', 'acquire', 'sx', 'u2', 'u1', 'delay', 'id']</td></tr><tr><td>input_allowed</td><td>['job', 'runtime']</td></tr><tr><td>allow_object_storage</td><td>True</td></tr><tr><td>live_data</td><td>False</td></tr><tr><td>meas_levels</td><td>[1, 2]</td></tr><tr><td>pulse_num_qubits</td><td>3</td></tr><tr><td>meas_kernels</td><td>['hw_boxcar']</td></tr><tr><td>dtm</td><td>0.2222222222222222</td></tr><tr><td>backend_name</td><td>ibmq_quito</td></tr><tr><td>pulse_num_channels</td><td>9</td></tr><tr><td>meas_map</td><td>[[0, 1, 2, 3, 4]]</td></tr><tr><td>parametric_pulses</td><td>['gaussian', 'gaussian_square', 'drag', 'constant']</td></tr></table>"
      }
     },
     "c4d2c5d2274e4a35b10f790293d9a7a1": {
      "model_module": "@jupyter-widgets/controls",
      "model_module_version": "1.5.0",
      "model_name": "HBoxModel",
      "state": {
       "children": [
        "IPY_MODEL_30e6004064e544a0a98f9ae20b6441bc",
        "IPY_MODEL_24ab0dad88f340b388b663db9dfc01b0",
        "IPY_MODEL_17339307abec448d93d8da2e63a2a5f4"
       ],
       "layout": "IPY_MODEL_d684bc16b64643cf8f604e2eabe497e3"
      }
     },
     "c4d603c972da41a6b67160bf85dfb709": {
      "model_module": "@jupyter-widgets/base",
      "model_module_version": "1.2.0",
      "model_name": "LayoutModel",
      "state": {
       "align_items": "center",
       "display": "inline-flex",
       "flex_flow": "column"
      }
     },
     "c4ea141ec6e645cd825bf73107230418": {
      "model_module": "@jupyter-widgets/controls",
      "model_module_version": "1.5.0",
      "model_name": "LabelModel",
      "state": {
       "layout": "IPY_MODEL_f303778c1e9a4e9a98b9bdd1404febb3",
       "style": "IPY_MODEL_9846854a40d84d71b51a8a861f104f98",
       "value": "Least Busy"
      }
     },
     "c57b28ad209a46aa8f236a3c98cd44f8": {
      "model_module": "@jupyter-widgets/base",
      "model_module_version": "1.2.0",
      "model_name": "LayoutModel",
      "state": {
       "justify_content": "center"
      }
     },
     "c60ab94d9c4c4b9ca92f998b4ad5d5ac": {
      "model_module": "@jupyter-widgets/base",
      "model_module_version": "1.2.0",
      "model_name": "LayoutModel",
      "state": {
       "justify_content": "center"
      }
     },
     "c6a7273efd3b454096319edac33820c9": {
      "model_module": "@jupyter-widgets/base",
      "model_module_version": "1.2.0",
      "model_name": "LayoutModel",
      "state": {
       "grid_area": "top"
      }
     },
     "c6e303d26a5c4b21adb1631145bc6c6f": {
      "model_module": "@jupyter-widgets/controls",
      "model_module_version": "1.5.0",
      "model_name": "DescriptionStyleModel",
      "state": {
       "description_width": ""
      }
     },
     "c709a27d4d684fe9a1f99328da0c48c3": {
      "model_module": "@jupyter-widgets/base",
      "model_module_version": "1.2.0",
      "model_name": "LayoutModel",
      "state": {
       "align_items": "center",
       "display": "inline-flex",
       "flex_flow": "column"
      }
     },
     "c753e4c88860416d8c23cfd9c88b4f03": {
      "model_module": "@jupyter-widgets/controls",
      "model_module_version": "1.5.0",
      "model_name": "DescriptionStyleModel",
      "state": {
       "description_width": ""
      }
     },
     "c79254c5123446d6aef783dd8798e45f": {
      "model_module": "@jupyter-widgets/controls",
      "model_module_version": "1.5.0",
      "model_name": "HTMLModel",
      "state": {
       "layout": "IPY_MODEL_4d308e458d004817ad9d2b5127495773",
       "style": "IPY_MODEL_0ef11122bb164ddcb4ded86498cfe0e2",
       "value": "<h4>ibmq_manila</h4>"
      }
     },
     "c7d446530f2c4e028e8eef23c7e63c11": {
      "model_module": "@jupyter-widgets/controls",
      "model_module_version": "1.5.0",
      "model_name": "DescriptionStyleModel",
      "state": {
       "description_width": ""
      }
     },
     "c80691dabfec4f34ba8803e3179678d1": {
      "model_module": "@jupyter-widgets/controls",
      "model_module_version": "1.5.0",
      "model_name": "VBoxModel",
      "state": {
       "children": [
        "IPY_MODEL_6a6ba974733a4d63977f0a0fb9262657",
        "IPY_MODEL_615f0e3ac7224330b5d5dc69105c84bb"
       ],
       "layout": "IPY_MODEL_9bf5f607deb0497083de085b8dcb2d2a"
      }
     },
     "c80901249eb24cc0b985af2fe3d07d93": {
      "model_module": "@jupyter-widgets/base",
      "model_module_version": "1.2.0",
      "model_name": "LayoutModel",
      "state": {
       "min_width": "auto"
      }
     },
     "c80af3e5252a407698681dce018baf5c": {
      "model_module": "@jupyter-widgets/base",
      "model_module_version": "1.2.0",
      "model_name": "LayoutModel",
      "state": {}
     },
     "c82aeb15861d4410b5a27b4f8fbba7c1": {
      "model_module": "@jupyter-widgets/controls",
      "model_module_version": "1.5.0",
      "model_name": "LabelModel",
      "state": {
       "layout": "IPY_MODEL_3a172278282a4dc38d7c27fc7ae314f5",
       "style": "IPY_MODEL_2769d76ac6d54574a1096af99ffd334e",
       "value": "Avg. Meas. Err."
      }
     },
     "c8356207363040659b16e666bf40dde6": {
      "model_module": "@jupyter-widgets/base",
      "model_module_version": "1.2.0",
      "model_name": "LayoutModel",
      "state": {
       "justify_content": "center"
      }
     },
     "c86561eafe074b2892b5861259ce8732": {
      "model_module": "@jupyter-widgets/controls",
      "model_module_version": "1.5.0",
      "model_name": "HTMLModel",
      "state": {
       "layout": "IPY_MODEL_b4b4200f2de340a98f93b49c8d2100d1",
       "style": "IPY_MODEL_de826d5e3a8b463b998d5bac2b29b767",
       "value": "<h5 style='color:#34bc6e'>True</h5>"
      }
     },
     "c89743c6704044debe40ae2f7c8d030a": {
      "model_module": "@jupyter-widgets/controls",
      "model_module_version": "1.5.0",
      "model_name": "HTMLModel",
      "state": {
       "layout": "IPY_MODEL_7c09db657dea486096369eeb7daf0c70",
       "style": "IPY_MODEL_0f91736a842a449185ba53d54cac4cf2",
       "value": "<h5><b>5</b></h5>"
      }
     },
     "c89ae420187c4cde985d1a4628ea16ac": {
      "model_module": "@jupyter-widgets/controls",
      "model_module_version": "1.5.0",
      "model_name": "DescriptionStyleModel",
      "state": {
       "description_width": ""
      }
     },
     "c8a6b39f3d784fcfbb4f5d4a1bcc2c87": {
      "model_module": "@jupyter-widgets/base",
      "model_module_version": "1.2.0",
      "model_name": "LayoutModel",
      "state": {
       "width": "95px"
      }
     },
     "c9841516a8cb464ea90c9a22f93c2fbb": {
      "model_module": "@jupyter-widgets/base",
      "model_module_version": "1.2.0",
      "model_name": "LayoutModel",
      "state": {
       "justify_content": "center"
      }
     },
     "c9a5a91ebf17446482208e398bba2036": {
      "model_module": "@jupyter-widgets/controls",
      "model_module_version": "1.5.0",
      "model_name": "DescriptionStyleModel",
      "state": {
       "description_width": ""
      }
     },
     "c9ac13b765734ab0a4412d21e9941048": {
      "model_module": "@jupyter-widgets/base",
      "model_module_version": "1.2.0",
      "model_name": "LayoutModel",
      "state": {
       "width": "95px"
      }
     },
     "c9c6de37ff684829b75fc8840541628d": {
      "model_module": "@jupyter-widgets/controls",
      "model_module_version": "1.5.0",
      "model_name": "HTMLModel",
      "state": {
       "layout": "IPY_MODEL_c9ac13b765734ab0a4412d21e9941048",
       "style": "IPY_MODEL_d6002c0f5a184b9e87dc3e2c98a03788",
       "value": "<font style='color:#DC267F'>ERROR</font>"
      }
     },
     "c9ca888733bf4719a7aa47306229f7d9": {
      "model_module": "@jupyter-widgets/base",
      "model_module_version": "1.2.0",
      "model_name": "LayoutModel",
      "state": {}
     },
     "c9eb1c6bcdbd45a8b763a70cab2e4cf0": {
      "model_module": "@jupyter-widgets/controls",
      "model_module_version": "1.5.0",
      "model_name": "ProgressStyleModel",
      "state": {
       "bar_color": "#71cddd",
       "description_width": ""
      }
     },
     "ca8e0a29c8974baf9a41d90cf55fe543": {
      "model_module": "@jupyter-widgets/controls",
      "model_module_version": "1.5.0",
      "model_name": "IntProgressModel",
      "state": {
       "layout": "IPY_MODEL_2850419524f24446bfd332dfbbde2800",
       "max": 326,
       "style": "IPY_MODEL_10a3aa0f59954c76a0107a9abd0a7b86",
       "value": 316
      }
     },
     "caba2af93cb543f4960f07fae933782b": {
      "model_module": "@jupyter-widgets/controls",
      "model_module_version": "1.5.0",
      "model_name": "HTMLModel",
      "state": {
       "layout": "IPY_MODEL_2f8379c2d2db4f94badd0dc66423973d",
       "style": "IPY_MODEL_b66d932b48ab486c815064d99f7350c2",
       "value": "<h5><b>5</b></h5>"
      }
     },
     "cac515fbb34e422f87d6d3f673e38b33": {
      "model_module": "@jupyter-widgets/base",
      "model_module_version": "1.2.0",
      "model_name": "LayoutModel",
      "state": {
       "min_width": "auto"
      }
     },
     "cacba346f6ea40d2a49e7bd341e4da8b": {
      "model_module": "@jupyter-widgets/base",
      "model_module_version": "1.2.0",
      "model_name": "LayoutModel",
      "state": {
       "max_width": "700px",
       "min_width": "700px"
      }
     },
     "caf13c204efc40cc893dea21108e2efb": {
      "model_module": "@jupyter-widgets/controls",
      "model_module_version": "1.5.0",
      "model_name": "DescriptionStyleModel",
      "state": {
       "description_width": ""
      }
     },
     "cb31a5df356c4492a83c934c6e30c05e": {
      "model_module": "@jupyter-widgets/controls",
      "model_module_version": "1.5.0",
      "model_name": "HTMLModel",
      "state": {
       "layout": "IPY_MODEL_58a946d532f746af9ce4355eb29b007e",
       "style": "IPY_MODEL_d260e0f6632d4416ba63b9b57eab37c0",
       "value": "<h5>0.0496</h5>"
      }
     },
     "cb351cd447a74c03b305679c4b2d8e51": {
      "model_module": "@jupyter-widgets/controls",
      "model_module_version": "1.5.0",
      "model_name": "HTMLModel",
      "state": {
       "layout": "IPY_MODEL_e97ccbd232d64f1b97b518c6cd751e92",
       "style": "IPY_MODEL_41cb4ace1706489bbf14f0464bde544c",
       "value": "<h4>ibmq_bogota</h4>"
      }
     },
     "cb5d2a5c167548199ecd13f5f487fcda": {
      "model_module": "@jupyter-widgets/base",
      "model_module_version": "1.2.0",
      "model_name": "LayoutModel",
      "state": {
       "min_width": "auto"
      }
     },
     "cb7f8102b01b4bf18da97d1687742095": {
      "model_module": "@jupyter-widgets/controls",
      "model_module_version": "1.5.0",
      "model_name": "DescriptionStyleModel",
      "state": {
       "description_width": ""
      }
     },
     "cbf6a56e1e8d42748c6e418f419f0978": {
      "model_module": "@jupyter-widgets/base",
      "model_module_version": "1.2.0",
      "model_name": "LayoutModel",
      "state": {
       "align_items": "center",
       "display": "inline-flex",
       "flex_flow": "column"
      }
     },
     "cbfb1af31e394790a91885d90be5208a": {
      "model_module": "@jupyter-widgets/controls",
      "model_module_version": "1.5.0",
      "model_name": "IntProgressModel",
      "state": {
       "layout": "IPY_MODEL_2484ff89500745e998cf69224c8d40c6",
       "max": 50,
       "style": "IPY_MODEL_db6b7c69620a4ce3a3763ca698a02f55"
      }
     },
     "cc11459d90bc42b8b429aa079a7a60c2": {
      "model_module": "@jupyter-widgets/controls",
      "model_module_version": "1.5.0",
      "model_name": "ProgressStyleModel",
      "state": {
       "bar_color": "#71cddd",
       "description_width": ""
      }
     },
     "cc15ada3e93d4afd814581238b331485": {
      "model_module": "@jupyter-widgets/controls",
      "model_module_version": "1.5.0",
      "model_name": "ButtonStyleModel",
      "state": {
       "button_color": "white"
      }
     },
     "cc408083d8d6425593a10431dd41f79f": {
      "model_module": "@jupyter-widgets/controls",
      "model_module_version": "1.5.0",
      "model_name": "DescriptionStyleModel",
      "state": {
       "description_width": ""
      }
     },
     "ccd1f87cf282426b8bc3ae0a7cc213e6": {
      "model_module": "@jupyter-widgets/base",
      "model_module_version": "1.2.0",
      "model_name": "LayoutModel",
      "state": {
       "grid_area": "left",
       "width": "100%"
      }
     },
     "ccd3febdd1fb481f8f291f5c52792327": {
      "model_module": "@jupyter-widgets/controls",
      "model_module_version": "1.5.0",
      "model_name": "DescriptionStyleModel",
      "state": {
       "description_width": ""
      }
     },
     "cce2e56ff9724c4988cf3bf0b45de631": {
      "model_module": "@jupyter-widgets/controls",
      "model_module_version": "1.5.0",
      "model_name": "DescriptionStyleModel",
      "state": {
       "description_width": ""
      }
     },
     "cce4cd2f39a446cab601477fb92cace1": {
      "model_module": "@jupyter-widgets/controls",
      "model_module_version": "1.5.0",
      "model_name": "VBoxModel",
      "state": {
       "children": [
        "IPY_MODEL_3e3300dca14f41e4902fd8b2bfa2b1e1",
        "IPY_MODEL_5a852662384d44ed891287f5ecfe38a5",
        "IPY_MODEL_9d0feec35c574d0f8bb818cb989c94a1",
        "IPY_MODEL_ee12e9ef8f75478cb3507bac6c595ecd",
        "IPY_MODEL_8bbf1f6031774b048d47bb4f9df2ed33",
        "IPY_MODEL_894bd405639e45d8a6321fcbc3e4ddfc",
        "IPY_MODEL_6901c1aebc5149cbaf4b3d7a6de095dc",
        "IPY_MODEL_17a9875a686c44b59b44b1bb8bbc4559",
        "IPY_MODEL_6b95637b38b94ec9a4f4141c1d85c758",
        "IPY_MODEL_174531e996424f5895f5cb286bb272d6"
       ],
       "layout": "IPY_MODEL_0205d590569f4f918fa0ae2912834ea1"
      }
     },
     "cd3195ad388046f08dde3f948b332411": {
      "model_module": "@jupyter-widgets/controls",
      "model_module_version": "1.5.0",
      "model_name": "DescriptionStyleModel",
      "state": {
       "description_width": ""
      }
     },
     "cdd9ae3c6a7b47afb24e79cc50893e2c": {
      "model_module": "@jupyter-widgets/base",
      "model_module_version": "1.2.0",
      "model_name": "LayoutModel",
      "state": {}
     },
     "cde622fd83f54afca2176e39a5074252": {
      "model_module": "@jupyter-widgets/controls",
      "model_module_version": "1.5.0",
      "model_name": "HTMLModel",
      "state": {
       "layout": "IPY_MODEL_c6a7273efd3b454096319edac33820c9",
       "style": "IPY_MODEL_a36efa8eacb548f095dfe4384aae9fe8",
       "value": "<div><font style='font-weight:bold'>last_update_date</font>: 2022-06-09 05:22:27+00:00</div>"
      }
     },
     "cdee68ecfd9f41268d10017fc6c7ea13": {
      "model_module": "@jupyter-widgets/controls",
      "model_module_version": "1.5.0",
      "model_name": "DescriptionStyleModel",
      "state": {
       "description_width": ""
      }
     },
     "ce6f214e6ca54507bd81deac5ae44dd2": {
      "model_module": "@jupyter-widgets/base",
      "model_module_version": "1.2.0",
      "model_name": "LayoutModel",
      "state": {
       "justify_content": "center"
      }
     },
     "ce8a222abf274cd59d8545226f5182b8": {
      "model_module": "@jupyter-widgets/base",
      "model_module_version": "1.2.0",
      "model_name": "LayoutModel",
      "state": {
       "width": "145px"
      }
     },
     "cf305b74a5c64ea4a14df06cc4b2339d": {
      "model_module": "@jupyter-widgets/base",
      "model_module_version": "1.2.0",
      "model_name": "LayoutModel",
      "state": {
       "width": "190px"
      }
     },
     "cf35f81d409f4fb1bf1300e490026689": {
      "model_module": "@jupyter-widgets/base",
      "model_module_version": "1.2.0",
      "model_name": "LayoutModel",
      "state": {
       "grid_gap": "0px 25px",
       "grid_template_columns": "250px 250px 250px 250px 250px 250px 250px ",
       "grid_template_rows": "auto"
      }
     },
     "cfcffc3e8dfc4b269355039f06420ee0": {
      "model_module": "@jupyter-widgets/controls",
      "model_module_version": "1.5.0",
      "model_name": "DescriptionStyleModel",
      "state": {
       "description_width": ""
      }
     },
     "cff296f3da9440ed9236bf5dd5c37c2f": {
      "model_module": "@jupyter-widgets/base",
      "model_module_version": "1.2.0",
      "model_name": "LayoutModel",
      "state": {}
     },
     "d10252aa80df4ce3a2092d58b7c23c1d": {
      "model_module": "@jupyter-widgets/controls",
      "model_module_version": "1.5.0",
      "model_name": "HTMLModel",
      "state": {
       "layout": "IPY_MODEL_7953f3a71ba84a4185e5db727b2f4eef",
       "style": "IPY_MODEL_a5aa2f033fee41908235256377a50e7e",
       "value": "<h5 style='color:#dc267f'>False</h5>"
      }
     },
     "d11e244f2ab144998974e2e8a8de2414": {
      "model_module": "@jupyter-widgets/controls",
      "model_module_version": "1.5.0",
      "model_name": "HTMLModel",
      "state": {
       "layout": "IPY_MODEL_2d81c9c555884d59a4104d12bb8232d4",
       "style": "IPY_MODEL_50d3da9bdeb447dbae008e2b383d002b",
       "value": "<h5>Queue</h5>"
      }
     },
     "d13da3864ef241cda4de959a43e03015": {
      "model_module": "@jupyter-widgets/base",
      "model_module_version": "1.2.0",
      "model_name": "LayoutModel",
      "state": {
       "border": "4px solid #000000",
       "max_height": "650px",
       "min_height": "650px",
       "overflow_y": "hidden"
      }
     },
     "d147c218d763493bb13c7796fe344bc9": {
      "model_module": "@jupyter-widgets/base",
      "model_module_version": "1.2.0",
      "model_name": "LayoutModel",
      "state": {
       "grid_area": "right"
      }
     },
     "d15cc5c83faf40fda1d29960f8e3272d": {
      "model_module": "@jupyter-widgets/base",
      "model_module_version": "1.2.0",
      "model_name": "LayoutModel",
      "state": {
       "justify_content": "center",
       "max_width": "250px",
       "min_width": "250px"
      }
     },
     "d1612601dc264b408d6f42dd8f83a775": {
      "model_module": "@jupyter-widgets/controls",
      "model_module_version": "1.5.0",
      "model_name": "DescriptionStyleModel",
      "state": {
       "description_width": ""
      }
     },
     "d17b6fe439074198bcab11109f073d68": {
      "model_module": "@jupyter-widgets/base",
      "model_module_version": "1.2.0",
      "model_name": "LayoutModel",
      "state": {
       "justify_content": "center"
      }
     },
     "d1a02aa0023a4d58a37505c7be9c0478": {
      "model_module": "@jupyter-widgets/controls",
      "model_module_version": "1.5.0",
      "model_name": "GridBoxModel",
      "state": {
       "children": [
        "IPY_MODEL_21653f1cb3234f6b9c9780149d9f1f44",
        "IPY_MODEL_e9ef4cce45a5410f811d2bea8fb60b28",
        "IPY_MODEL_8cf8e233eabd407791871aa8ce0abc90",
        "IPY_MODEL_46ee5efe264b4b5180d0fe9f69b8e963"
       ],
       "layout": "IPY_MODEL_384b21f89b4547c4979b8b5ce2215b83"
      }
     },
     "d1a44d1c4a134fd08ad0c0136abe1477": {
      "model_module": "@jupyter-widgets/base",
      "model_module_version": "1.2.0",
      "model_name": "LayoutModel",
      "state": {
       "justify_content": "center"
      }
     },
     "d1ccb5ac64994266b84eb434afd6836e": {
      "model_module": "@jupyter-widgets/controls",
      "model_module_version": "1.5.0",
      "model_name": "DescriptionStyleModel",
      "state": {
       "description_width": ""
      }
     },
     "d200cc2bdb334d098dfcfa974b0c2d05": {
      "model_module": "@jupyter-widgets/base",
      "model_module_version": "1.2.0",
      "model_name": "LayoutModel",
      "state": {
       "align_items": "center",
       "display": "inline-flex",
       "flex_flow": "column"
      }
     },
     "d21248a9c8664ee0ae3d5bc62959346c": {
      "model_module": "@jupyter-widgets/controls",
      "model_module_version": "1.5.0",
      "model_name": "DescriptionStyleModel",
      "state": {
       "description_width": ""
      }
     },
     "d260e0f6632d4416ba63b9b57eab37c0": {
      "model_module": "@jupyter-widgets/controls",
      "model_module_version": "1.5.0",
      "model_name": "DescriptionStyleModel",
      "state": {
       "description_width": ""
      }
     },
     "d297b962a105469b910876a627f44b72": {
      "model_module": "@jupyter-widgets/base",
      "model_module_version": "1.2.0",
      "model_name": "LayoutModel",
      "state": {
       "justify_content": "center"
      }
     },
     "d2c754f30c164db9b93c4564b95e18fe": {
      "model_module": "@jupyter-widgets/base",
      "model_module_version": "1.2.0",
      "model_name": "LayoutModel",
      "state": {
       "justify_content": "center"
      }
     },
     "d30f56093c394047a22436f44f34e744": {
      "model_module": "@jupyter-widgets/controls",
      "model_module_version": "1.5.0",
      "model_name": "HTMLModel",
      "state": {
       "layout": "IPY_MODEL_34e2c63d8c3e458eb2685470e380a634",
       "style": "IPY_MODEL_d9924072346a4fa7a1309df17a2902c9",
       "value": "<font style='color:#34BC6E'>DONE</font>"
      }
     },
     "d312dcb1888b4a1888a87125a68f7989": {
      "model_module": "@jupyter-widgets/controls",
      "model_module_version": "1.5.0",
      "model_name": "IntProgressModel",
      "state": {
       "layout": "IPY_MODEL_46ccf61e41384a83a3fcf432e559e50c",
       "max": 50,
       "style": "IPY_MODEL_5298cf61046c420faab7d8d92f46cc74",
       "value": 2
      }
     },
     "d33b6b009f1f488db930e8d5dab3c7ef": {
      "model_module": "@jupyter-widgets/controls",
      "model_module_version": "1.5.0",
      "model_name": "HTMLModel",
      "state": {
       "layout": "IPY_MODEL_a44a6fd28da84516bf96a1f72e7ad60c",
       "style": "IPY_MODEL_83c205da32b245c0b627f8ebf39ae6d6",
       "value": "<h5>0.0127</h5>"
      }
     },
     "d38ad854368047129d58484b5cab1bb6": {
      "model_module": "@jupyter-widgets/controls",
      "model_module_version": "1.5.0",
      "model_name": "HTMLModel",
      "state": {
       "layout": "IPY_MODEL_f569729a87774ff5aa800adb72f8097c",
       "style": "IPY_MODEL_8402e6131f82476292fd00756295c754",
       "value": "62a1b1ab7fc73d6b3e1cc159"
      }
     },
     "d3ce894aee8645ec80a9935060136624": {
      "model_module": "@jupyter-widgets/base",
      "model_module_version": "1.2.0",
      "model_name": "LayoutModel",
      "state": {
       "width": "70px"
      }
     },
     "d3e22a4b41274dd9ac1e64cdffa7371a": {
      "model_module": "@jupyter-widgets/base",
      "model_module_version": "1.2.0",
      "model_name": "LayoutModel",
      "state": {
       "overflow_x": "scroll"
      }
     },
     "d3e312d944284472bd60b8cc1958834c": {
      "model_module": "@jupyter-widgets/controls",
      "model_module_version": "1.5.0",
      "model_name": "DescriptionStyleModel",
      "state": {
       "description_width": ""
      }
     },
     "d40777be68eb4c75ad207b3966580515": {
      "model_module": "@jupyter-widgets/base",
      "model_module_version": "1.2.0",
      "model_name": "LayoutModel",
      "state": {
       "min_width": "auto"
      }
     },
     "d44dba63eaf0459e8671a67cd7316e02": {
      "model_module": "@jupyter-widgets/base",
      "model_module_version": "1.2.0",
      "model_name": "LayoutModel",
      "state": {}
     },
     "d44f6b48efcd4ccc9a7f6989cecc48e5": {
      "model_module": "@jupyter-widgets/base",
      "model_module_version": "1.2.0",
      "model_name": "LayoutModel",
      "state": {
       "justify_content": "center"
      }
     },
     "d45c9c9ca45847489d110c5e6ce6a840": {
      "model_module": "@jupyter-widgets/controls",
      "model_module_version": "1.5.0",
      "model_name": "DescriptionStyleModel",
      "state": {
       "description_width": ""
      }
     },
     "d49d400d42f84c8d91fe59c46d6ed2d6": {
      "model_module": "@jupyter-widgets/controls",
      "model_module_version": "1.5.0",
      "model_name": "HTMLModel",
      "state": {
       "layout": "IPY_MODEL_2a764a8645c143d59f005355057b6d2e",
       "style": "IPY_MODEL_a926f425bbd149bea4a9cdf0616cb633",
       "value": "<h5 style='color:#34bc6e'>True</h5>"
      }
     },
     "d49eec726cff4617867ca1845eb7fe8d": {
      "model_module": "@jupyter-widgets/controls",
      "model_module_version": "1.5.0",
      "model_name": "HTMLModel",
      "state": {
       "layout": "IPY_MODEL_e475f28435ef48758ca4cb689d8c8bb7",
       "style": "IPY_MODEL_5868f30e738e45dfa9bdaa47f9f18aef",
       "value": "<h5>NA</h5>"
      }
     },
     "d4b0b942a0bb4a41a82b6e70a7c660a3": {
      "model_module": "@jupyter-widgets/base",
      "model_module_version": "1.2.0",
      "model_name": "LayoutModel",
      "state": {
       "border": "4px solid #000000",
       "max_height": "650px",
       "min_height": "650px",
       "overflow_y": "hidden"
      }
     },
     "d4c8093a74154ad5afe04f49bd93e4b4": {
      "model_module": "@jupyter-widgets/base",
      "model_module_version": "1.2.0",
      "model_name": "LayoutModel",
      "state": {
       "justify_content": "center"
      }
     },
     "d53fda073a03469c9ab1be55793965df": {
      "model_module": "@jupyter-widgets/controls",
      "model_module_version": "1.5.0",
      "model_name": "LabelModel",
      "state": {
       "layout": "IPY_MODEL_5014d3d87a0d4c7fa9532370491d7528",
       "style": "IPY_MODEL_e3bb995fd9834358afec77b5808ee340",
       "value": "50"
      }
     },
     "d5587096429645ef9762150ee59f56e2": {
      "model_module": "@jupyter-widgets/controls",
      "model_module_version": "1.5.0",
      "model_name": "DescriptionStyleModel",
      "state": {
       "description_width": ""
      }
     },
     "d5634c2790674b5782e9f483761add2c": {
      "model_module": "@jupyter-widgets/base",
      "model_module_version": "1.2.0",
      "model_name": "LayoutModel",
      "state": {
       "justify_content": "center"
      }
     },
     "d6002c0f5a184b9e87dc3e2c98a03788": {
      "model_module": "@jupyter-widgets/controls",
      "model_module_version": "1.5.0",
      "model_name": "DescriptionStyleModel",
      "state": {
       "description_width": ""
      }
     },
     "d605f45bf03b47a5b4ad9c989b8e47fa": {
      "model_module": "@jupyter-widgets/base",
      "model_module_version": "1.2.0",
      "model_name": "LayoutModel",
      "state": {}
     },
     "d6069704c0d14cab9230e95cfbf3a088": {
      "model_module": "@jupyter-widgets/controls",
      "model_module_version": "1.5.0",
      "model_name": "HTMLModel",
      "state": {
       "layout": "IPY_MODEL_d147c218d763493bb13c7796fe344bc9",
       "style": "IPY_MODEL_0986f85909974451a2790ad8436b7fb8",
       "value": "<table><style>\ntable {\n    border-collapse: collapse;\n    width: auto;\n}\n\nth, td {\n    text-align: left;\n    padding: 8px;\n}\n\ntr:nth-child(even) {background-color: #f6f6f6;};\n</style><tr><th></th><th>Type</th><th>Gate error</th></tr><tr><td><font style='font-weight:bold'>cx3_1</font></td><td>cx</td><td>1</td></tr><tr><td><font style='font-weight:bold'>cx1_3</font></td><td>cx</td><td>1</td></tr></table>"
      }
     },
     "d61dfb534007467885ac0db16013e6ad": {
      "model_module": "@jupyter-widgets/controls",
      "model_module_version": "1.5.0",
      "model_name": "HTMLModel",
      "state": {
       "layout": "IPY_MODEL_45428a03a4114310b38047317c22e7d0",
       "style": "IPY_MODEL_bbecc3869af847369787241b32fb14c3",
       "value": "<h4>ibmq_armonk</h4>"
      }
     },
     "d669f6dc3ec645cfb1818b57374e5259": {
      "model_module": "@jupyter-widgets/controls",
      "model_module_version": "1.5.0",
      "model_name": "HTMLModel",
      "state": {
       "layout": "IPY_MODEL_57e2928e35cb458887c28d1c3c9d99ab",
       "style": "IPY_MODEL_80e0cf44fb8045a790dd96bbc5953cc1",
       "value": "<h5>0.0222</h5>"
      }
     },
     "d684bc16b64643cf8f604e2eabe497e3": {
      "model_module": "@jupyter-widgets/base",
      "model_module_version": "1.2.0",
      "model_name": "LayoutModel",
      "state": {
       "justify_content": "center",
       "max_width": "250px",
       "min_width": "250px"
      }
     },
     "d699726153404969bff939ad20337580": {
      "model_module": "@jupyter-widgets/controls",
      "model_module_version": "1.5.0",
      "model_name": "HTMLModel",
      "state": {
       "layout": "IPY_MODEL_11b7b5dd6edb4e0cb292b8fbd2318eef",
       "style": "IPY_MODEL_7b8f77ff544240e9ba61fadac10dbe44",
       "value": "<h5>32</h5>"
      }
     },
     "d6d3926dc43a4082b7f952c31380842f": {
      "model_module": "@jupyter-widgets/controls",
      "model_module_version": "1.5.0",
      "model_name": "DescriptionStyleModel",
      "state": {
       "description_width": ""
      }
     },
     "d75d12f7d4c24fa98402cbc686ae5e79": {
      "model_module": "@jupyter-widgets/controls",
      "model_module_version": "1.5.0",
      "model_name": "ButtonModel",
      "state": {
       "icon": "close",
       "layout": "IPY_MODEL_234d300dd77249a5b577c5bad9df2232",
       "style": "IPY_MODEL_fbd05998154b42f989ba3e45cc6732e0"
      }
     },
     "d79012a5364f44958755336c837df256": {
      "model_module": "@jupyter-widgets/controls",
      "model_module_version": "1.5.0",
      "model_name": "DescriptionStyleModel",
      "state": {
       "description_width": ""
      }
     },
     "d7a42bd25ceb4c558a5904f746c5938e": {
      "model_module": "@jupyter-widgets/controls",
      "model_module_version": "1.5.0",
      "model_name": "HTMLModel",
      "state": {
       "layout": "IPY_MODEL_c80af3e5252a407698681dce018baf5c",
       "style": "IPY_MODEL_4795e96fc91e4a219d4b47f4b7fe2b93",
       "value": "<h5>0.0071</h5>"
      }
     },
     "d7dccea68c04486a97b68345bff5e5de": {
      "model_module": "@jupyter-widgets/controls",
      "model_module_version": "1.5.0",
      "model_name": "HTMLModel",
      "state": {
       "layout": "IPY_MODEL_50c05ba9d03f4d99af76ba53357ba5b9",
       "style": "IPY_MODEL_f62a4ddd76204cc8b598da7f0d66eb32",
       "value": "<h5 style='color:#34bc6e'>True</h5>"
      }
     },
     "d7fb7cd201a7430aacc5df5ad867bc88": {
      "model_module": "@jupyter-widgets/controls",
      "model_module_version": "1.5.0",
      "model_name": "DescriptionStyleModel",
      "state": {
       "description_width": ""
      }
     },
     "d86a468244364d689faf73689fec0042": {
      "model_module": "@jupyter-widgets/controls",
      "model_module_version": "1.5.0",
      "model_name": "HTMLModel",
      "state": {
       "layout": "IPY_MODEL_a6316e96c21a440e909b2a78d859e124",
       "style": "IPY_MODEL_a03d00851e58475288ee5cafc5217345",
       "value": "62a1b3141e5d5e6aa3df95d9"
      }
     },
     "d888afa96b314d2881d6cecf849e96ae": {
      "model_module": "@jupyter-widgets/controls",
      "model_module_version": "1.5.0",
      "model_name": "DescriptionStyleModel",
      "state": {
       "description_width": ""
      }
     },
     "d91e856d842445d498a2ab63c985bcd0": {
      "model_module": "@jupyter-widgets/base",
      "model_module_version": "1.2.0",
      "model_name": "LayoutModel",
      "state": {
       "margin": "0px 0px 0px 0px"
      }
     },
     "d92a0f3818744c79a24680e44934eba9": {
      "model_module": "@jupyter-widgets/base",
      "model_module_version": "1.2.0",
      "model_name": "LayoutModel",
      "state": {
       "margin": "5px 0px 0px 0px"
      }
     },
     "d9924072346a4fa7a1309df17a2902c9": {
      "model_module": "@jupyter-widgets/controls",
      "model_module_version": "1.5.0",
      "model_name": "DescriptionStyleModel",
      "state": {
       "description_width": ""
      }
     },
     "d9959586c933416d87851c8f1d3bf6d7": {
      "model_module": "@jupyter-widgets/controls",
      "model_module_version": "1.5.0",
      "model_name": "DescriptionStyleModel",
      "state": {
       "description_width": ""
      }
     },
     "d9b9e8b5e2c44786a7d9fa1338ae0640": {
      "model_module": "@jupyter-widgets/base",
      "model_module_version": "1.2.0",
      "model_name": "LayoutModel",
      "state": {
       "align_items": "center",
       "display": "inline-flex",
       "flex_flow": "column"
      }
     },
     "d9e2f41d3263405cb70e9da68493cd24": {
      "model_module": "@jupyter-widgets/base",
      "model_module_version": "1.2.0",
      "model_name": "LayoutModel",
      "state": {
       "min_width": "auto"
      }
     },
     "da26c189ff3f4596bc40d94dec2b2026": {
      "model_module": "@jupyter-widgets/base",
      "model_module_version": "1.2.0",
      "model_name": "LayoutModel",
      "state": {}
     },
     "da2b4bfda0fa44ac87124a0f6414cb4c": {
      "model_module": "@jupyter-widgets/controls",
      "model_module_version": "1.5.0",
      "model_name": "LabelModel",
      "state": {
       "layout": "IPY_MODEL_57202847e40b4d92aa0a5f24c5c6f368",
       "style": "IPY_MODEL_129708e767434f83ba419905064b7ace",
       "value": "0"
      }
     },
     "da5c3ccce51e4169b46bf315ca93c165": {
      "model_module": "@jupyter-widgets/controls",
      "model_module_version": "1.5.0",
      "model_name": "DescriptionStyleModel",
      "state": {
       "description_width": ""
      }
     },
     "da6a270b02b64ee385712154c74f2281": {
      "model_module": "@jupyter-widgets/controls",
      "model_module_version": "1.5.0",
      "model_name": "GridBoxModel",
      "state": {
       "children": [
        "IPY_MODEL_77f2dd0ede8d4b23b6fc0901c82a4a6b"
       ],
       "layout": "IPY_MODEL_87d85ea714034f15b1055f4d0f0cac6d"
      }
     },
     "dae02cf6b5e440f0874e4d4d810612d5": {
      "model_module": "@jupyter-widgets/controls",
      "model_module_version": "1.5.0",
      "model_name": "DescriptionStyleModel",
      "state": {
       "description_width": ""
      }
     },
     "db079888188c4d0580c47612e0a2b74c": {
      "model_module": "@jupyter-widgets/base",
      "model_module_version": "1.2.0",
      "model_name": "LayoutModel",
      "state": {}
     },
     "db2af6b113604933b259f872343578e9": {
      "model_module": "@jupyter-widgets/controls",
      "model_module_version": "1.5.0",
      "model_name": "DescriptionStyleModel",
      "state": {
       "description_width": ""
      }
     },
     "db43171e427c44bc89419be33cb08b37": {
      "model_module": "@jupyter-widgets/controls",
      "model_module_version": "1.5.0",
      "model_name": "ProgressStyleModel",
      "state": {
       "bar_color": "#71cddd",
       "description_width": ""
      }
     },
     "db6b7c69620a4ce3a3763ca698a02f55": {
      "model_module": "@jupyter-widgets/controls",
      "model_module_version": "1.5.0",
      "model_name": "ProgressStyleModel",
      "state": {
       "bar_color": "#71cddd",
       "description_width": ""
      }
     },
     "dc069e6a47fd4dd498777f94ff3f1d70": {
      "model_module": "@jupyter-widgets/base",
      "model_module_version": "1.2.0",
      "model_name": "LayoutModel",
      "state": {
       "align_items": "center",
       "justify_content": "center",
       "margin": "0px 0px 0px 0px",
       "max_height": "250px",
       "max_width": "250px",
       "min_height": "250px",
       "min_width": "250px"
      }
     },
     "dc329da82e3a4ad2a15c486945807fae": {
      "model_module": "@jupyter-widgets/base",
      "model_module_version": "1.2.0",
      "model_name": "LayoutModel",
      "state": {
       "max_width": "180px"
      }
     },
     "dc53c054391c4f04a77db751b734bfd1": {
      "model_module": "@jupyter-widgets/controls",
      "model_module_version": "1.5.0",
      "model_name": "HTMLModel",
      "state": {
       "layout": "IPY_MODEL_eabd66bd09bb4c8bbbd085ca17d0f10d",
       "style": "IPY_MODEL_6e1c9cebdb194fd98493db8c635de900",
       "value": "<h5>16</h5>"
      }
     },
     "dc73c7812546495781dd152c12e280d2": {
      "model_module": "@jupyter-widgets/controls",
      "model_module_version": "1.5.0",
      "model_name": "VBoxModel",
      "state": {
       "children": [
        "IPY_MODEL_233df4021129499489b3291718592dee",
        "IPY_MODEL_4460d1d5955047a4becf5f54cecbfcd9",
        "IPY_MODEL_83e9d7096f18462583829f1f5e0c8473",
        "IPY_MODEL_57b351a674294dd58eac69448f7dbb87",
        "IPY_MODEL_b023a558ac59499d8d597d205b4146c3",
        "IPY_MODEL_d7dccea68c04486a97b68345bff5e5de",
        "IPY_MODEL_c0012dd5248e479887b2c940c2202805",
        "IPY_MODEL_5cde001092114e7aac498d1d080a072d",
        "IPY_MODEL_d669f6dc3ec645cfb1818b57374e5259",
        "IPY_MODEL_cb31a5df356c4492a83c934c6e30c05e"
       ],
       "layout": "IPY_MODEL_d9b9e8b5e2c44786a7d9fa1338ae0640"
      }
     },
     "dcaffd857ef44166af2b4e35754ecf10": {
      "model_module": "@jupyter-widgets/controls",
      "model_module_version": "1.5.0",
      "model_name": "VBoxModel",
      "state": {
       "children": [
        "IPY_MODEL_43c149b1828c42f3a51979ae106fffb2",
        "IPY_MODEL_3972797e89c141c4ab5c4e495a7ea90a",
        "IPY_MODEL_72b309f1f6f04543a1ae5cd0217a1c82",
        "IPY_MODEL_3974ab2475ee4637aeba13529d722a6e",
        "IPY_MODEL_1b8b2b8cb5224299b0e077b9ad6ad846",
        "IPY_MODEL_71c92aefff4046ac80f9d78c5e615480",
        "IPY_MODEL_79aaad93c0844a8fab28c6ffdc924fe2",
        "IPY_MODEL_a5d6ab8af86a4fd6abbf15fc35d66f91",
        "IPY_MODEL_4eedd96a0c234346877df57ddd7a46f4",
        "IPY_MODEL_ef7d99862eb9467ebb9b208b78fc56eb"
       ],
       "layout": "IPY_MODEL_a41a685e4ca64146b772d11b64094170"
      }
     },
     "dcdf03c741a14e769340c8e490ccc64d": {
      "model_module": "@jupyter-widgets/base",
      "model_module_version": "1.2.0",
      "model_name": "LayoutModel",
      "state": {
       "min_width": "auto"
      }
     },
     "dd2e46bd71e742b3ad800b21ef1c3351": {
      "model_module": "@jupyter-widgets/controls",
      "model_module_version": "1.5.0",
      "model_name": "IntProgressModel",
      "state": {
       "layout": "IPY_MODEL_dc329da82e3a4ad2a15c486945807fae",
       "max": 50,
       "style": "IPY_MODEL_a4003b1d02974f6ead6f2ec4c3c7916e",
       "value": 12
      }
     },
     "dd3df32e788a486d8a24553651fb8477": {
      "model_module": "@jupyter-widgets/base",
      "model_module_version": "1.2.0",
      "model_name": "LayoutModel",
      "state": {
       "width": "145px"
      }
     },
     "dd4e5783053949fe9c766df45abb142d": {
      "model_module": "@jupyter-widgets/controls",
      "model_module_version": "1.5.0",
      "model_name": "LabelModel",
      "state": {
       "layout": "IPY_MODEL_cb5d2a5c167548199ecd13f5f487fcda",
       "style": "IPY_MODEL_2d6651588569422da9ad9a2d132b86ea",
       "value": "242"
      }
     },
     "dd64c58b89064bfb889206dc5e629422": {
      "model_module": "@jupyter-widgets/base",
      "model_module_version": "1.2.0",
      "model_name": "LayoutModel",
      "state": {
       "max_width": "700px",
       "min_width": "700px"
      }
     },
     "dd7d11a2cca94e98bfa7c8c456e99f5b": {
      "model_module": "@jupyter-widgets/controls",
      "model_module_version": "1.5.0",
      "model_name": "HTMLModel",
      "state": {
       "layout": "IPY_MODEL_dda957b3f96f4d4dbe26fa5cb0535238",
       "style": "IPY_MODEL_e96cedd0ed714365a577fa2121f209da",
       "value": "<h4>ibmq_lima</h4>"
      }
     },
     "dda51aa798fa46a683c34d4b702f211e": {
      "model_module": "@jupyter-widgets/controls",
      "model_module_version": "1.5.0",
      "model_name": "LabelModel",
      "state": {
       "layout": "IPY_MODEL_5dd5150ebe2143c1994813a819eb37ba",
       "style": "IPY_MODEL_0d52fb2d7ef04f6ebe46f24c34fe5642",
       "value": "Pending Jobs"
      }
     },
     "dda957b3f96f4d4dbe26fa5cb0535238": {
      "model_module": "@jupyter-widgets/base",
      "model_module_version": "1.2.0",
      "model_name": "LayoutModel",
      "state": {}
     },
     "ddae0afddea74190b56497120310e62a": {
      "model_module": "@jupyter-widgets/controls",
      "model_module_version": "1.5.0",
      "model_name": "DescriptionStyleModel",
      "state": {
       "description_width": ""
      }
     },
     "ddf7edf1e6414c6d8683484c65b1d8d0": {
      "model_module": "@jupyter-widgets/controls",
      "model_module_version": "1.5.0",
      "model_name": "DescriptionStyleModel",
      "state": {
       "description_width": ""
      }
     },
     "de0783527e9b447f9e88f8265b43b806": {
      "model_module": "@jupyter-widgets/controls",
      "model_module_version": "1.5.0",
      "model_name": "HTMLModel",
      "state": {
       "layout": "IPY_MODEL_ad8767dcd4ad42e98667e7c1a5413e53",
       "style": "IPY_MODEL_e9794f86db6c42e8802f63928ec090a9",
       "value": "<h5>0.0215</h5>"
      }
     },
     "de40f35a94d04ba19df78af115ffb393": {
      "model_module": "@jupyter-widgets/controls",
      "model_module_version": "1.5.0",
      "model_name": "HTMLModel",
      "state": {
       "layout": "IPY_MODEL_98c2046f87d74186bfe3439c7286b17b",
       "style": "IPY_MODEL_e7964965ee604890aaaeae566d660c96",
       "value": "job incurred error"
      }
     },
     "de64c8ea2b2f446b92ff1714b545c412": {
      "model_module": "@jupyter-widgets/controls",
      "model_module_version": "1.5.0",
      "model_name": "DescriptionStyleModel",
      "state": {
       "description_width": ""
      }
     },
     "de826d5e3a8b463b998d5bac2b29b767": {
      "model_module": "@jupyter-widgets/controls",
      "model_module_version": "1.5.0",
      "model_name": "DescriptionStyleModel",
      "state": {
       "description_width": ""
      }
     },
     "dea3692bc82f4c9e8c049c62a462f293": {
      "model_module": "@jupyter-widgets/base",
      "model_module_version": "1.2.0",
      "model_name": "LayoutModel",
      "state": {}
     },
     "dee84de4580e475a9a8d2e8880d7b6e4": {
      "model_module": "@jupyter-widgets/base",
      "model_module_version": "1.2.0",
      "model_name": "LayoutModel",
      "state": {}
     },
     "df5d319e06c64c48afe04c153053a12b": {
      "model_module": "@jupyter-widgets/controls",
      "model_module_version": "1.5.0",
      "model_name": "HTMLModel",
      "state": {
       "layout": "IPY_MODEL_b2845fd95e1a43cfabc6d1a96890dd70",
       "style": "IPY_MODEL_bf234d59bcf949d091cb1d2580885d68",
       "value": "<table><style>\ntable {\n    border-collapse: collapse;\n    width: auto;\n}\n\nth, td {\n    text-align: left;\n    padding: 8px;\n}\n\ntr:nth-child(even) {background-color: #f6f6f6;};\n</style><tr><th></th><th>Type</th><th>Gate error</th></tr><tr><td><font style='font-weight:bold'>cx3_4</font></td><td>cx</td><td>0.01921</td></tr><tr><td><font style='font-weight:bold'>cx4_3</font></td><td>cx</td><td>0.01921</td></tr><tr><td><font style='font-weight:bold'>cx1_3</font></td><td>cx</td><td>0.0127</td></tr></table>"
      }
     },
     "df90c0010fd844bea08d71dd6b4455b4": {
      "model_module": "@jupyter-widgets/controls",
      "model_module_version": "1.5.0",
      "model_name": "DescriptionStyleModel",
      "state": {
       "description_width": ""
      }
     },
     "df92f4ffab614925bcd0b6b08287f141": {
      "model_module": "@jupyter-widgets/controls",
      "model_module_version": "1.5.0",
      "model_name": "HTMLModel",
      "state": {
       "layout": "IPY_MODEL_836026968aec4e5287b00c144cc260b5",
       "style": "IPY_MODEL_3667b29a18144b3fab1e97d978c4fd6b",
       "value": "<h5 style='color:#dc267f'>False</h5>"
      }
     },
     "dfeff05e6c7a4564a86b887117de7786": {
      "model_module": "@jupyter-widgets/controls",
      "model_module_version": "1.5.0",
      "model_name": "HTMLModel",
      "state": {
       "layout": "IPY_MODEL_cff296f3da9440ed9236bf5dd5c37c2f",
       "style": "IPY_MODEL_ff2def0b74e64aa9adf9cce6fdadc5e0",
       "value": "<h4>ibmq_santiago</h4>"
      }
     },
     "e000f6e8c7184be1b27534a88d3b210b": {
      "model_module": "@jupyter-widgets/base",
      "model_module_version": "1.2.0",
      "model_name": "LayoutModel",
      "state": {
       "align_items": "center",
       "justify_content": "center",
       "margin": "0px 0px 0px 0px",
       "max_height": "250px",
       "max_width": "250px",
       "min_height": "250px",
       "min_width": "250px"
      }
     },
     "e00d745571ce4635a276c2f48a7151b6": {
      "model_module": "@jupyter-widgets/base",
      "model_module_version": "1.2.0",
      "model_name": "LayoutModel",
      "state": {}
     },
     "e03d2c8e3503495ca6ad2fd245b0b423": {
      "model_module": "@jupyter-widgets/controls",
      "model_module_version": "1.5.0",
      "model_name": "VBoxModel",
      "state": {
       "children": [
        "IPY_MODEL_52ecfc4b747448e2a197e664fd888c3c",
        "IPY_MODEL_57f2e12b68bd4978944595fb617a9ac2"
       ],
       "layout": "IPY_MODEL_3804e7597c3a4f4ea6d3d9e3f395e6e3"
      }
     },
     "e085d025530e423a82c1ab3bbf67f299": {
      "model_module": "@jupyter-widgets/controls",
      "model_module_version": "1.5.0",
      "model_name": "HTMLModel",
      "state": {
       "layout": "IPY_MODEL_da26c189ff3f4596bc40d94dec2b2026",
       "style": "IPY_MODEL_6f439f897d1048828084ce3b6d52c836",
       "value": "<h4>ibmq_belem</h4>"
      }
     },
     "e0c8ce1cf3124accab9b325735646b01": {
      "model_module": "@jupyter-widgets/controls",
      "model_module_version": "1.5.0",
      "model_name": "DescriptionStyleModel",
      "state": {
       "description_width": ""
      }
     },
     "e0e8f6d4c2eb4b6d858a363fb1498880": {
      "model_module": "@jupyter-widgets/base",
      "model_module_version": "1.2.0",
      "model_name": "LayoutModel",
      "state": {
       "align_items": "center",
       "display": "inline-flex",
       "flex_flow": "column"
      }
     },
     "e18a29a0b345443a9a2dda410526dd67": {
      "model_module": "@jupyter-widgets/base",
      "model_module_version": "1.2.0",
      "model_name": "LayoutModel",
      "state": {}
     },
     "e1b64577d39141d4af5a3f2d3f0a6939": {
      "model_module": "@jupyter-widgets/base",
      "model_module_version": "1.2.0",
      "model_name": "LayoutModel",
      "state": {
       "grid_area": "middle"
      }
     },
     "e1bc0c054315459cb85a4b8d4bd8b65a": {
      "model_module": "@jupyter-widgets/controls",
      "model_module_version": "1.5.0",
      "model_name": "HTMLModel",
      "state": {
       "layout": "IPY_MODEL_11a714ff601b46f9a56de5a0db9145fe",
       "style": "IPY_MODEL_426efbd560c44c09a0d8e23775d9dd2b",
       "value": "<h5>0.0071</h5>"
      }
     },
     "e1c582ed192245558b4977adcc9064bd": {
      "model_module": "@jupyter-widgets/controls",
      "model_module_version": "1.5.0",
      "model_name": "DescriptionStyleModel",
      "state": {
       "description_width": ""
      }
     },
     "e1df4c2457234881884d63db68f344bf": {
      "model_module": "@jupyter-widgets/controls",
      "model_module_version": "1.5.0",
      "model_name": "ProgressStyleModel",
      "state": {
       "bar_color": "#71cddd",
       "description_width": ""
      }
     },
     "e1ee12a56d444452abe2eaeb8db2ef63": {
      "model_module": "@jupyter-widgets/base",
      "model_module_version": "1.2.0",
      "model_name": "LayoutModel",
      "state": {
       "max_width": "180px"
      }
     },
     "e1f3286b3d5e462c905546f5589bf433": {
      "model_module": "@jupyter-widgets/controls",
      "model_module_version": "1.5.0",
      "model_name": "DescriptionStyleModel",
      "state": {
       "description_width": ""
      }
     },
     "e2408e1e10294f9dba232222262e8ccb": {
      "model_module": "@jupyter-widgets/controls",
      "model_module_version": "1.5.0",
      "model_name": "DescriptionStyleModel",
      "state": {
       "description_width": ""
      }
     },
     "e282eabb5eea4bf1bdce8227ec0ab9ac": {
      "model_module": "@jupyter-widgets/base",
      "model_module_version": "1.2.0",
      "model_name": "LayoutModel",
      "state": {
       "border": "4px solid #000000",
       "max_height": "650px",
       "min_height": "650px",
       "overflow_y": "hidden"
      }
     },
     "e28891d5a4844c388a8725d010850634": {
      "model_module": "@jupyter-widgets/controls",
      "model_module_version": "1.5.0",
      "model_name": "DescriptionStyleModel",
      "state": {
       "description_width": ""
      }
     },
     "e2afd3758763422683a81662a1e24722": {
      "model_module": "@jupyter-widgets/controls",
      "model_module_version": "1.5.0",
      "model_name": "VBoxModel",
      "state": {
       "children": [
        "IPY_MODEL_0d596ef80549441599716d306e789c67",
        "IPY_MODEL_7a2556e7030e461b87e03a1721d4ee2b",
        "IPY_MODEL_caba2af93cb543f4960f07fae933782b",
        "IPY_MODEL_dc53c054391c4f04a77db751b734bfd1",
        "IPY_MODEL_92279c3237844164b0de10cee42151c4",
        "IPY_MODEL_1bc012ebb49d4a698b96398aabbd2d87",
        "IPY_MODEL_df92f4ffab614925bcd0b6b08287f141",
        "IPY_MODEL_eaccf39be6a84256a1d26d3621285542",
        "IPY_MODEL_d33b6b009f1f488db930e8d5dab3c7ef",
        "IPY_MODEL_37cfddc8af6a4780922776a6dea8234a"
       ],
       "layout": "IPY_MODEL_c709a27d4d684fe9a1f99328da0c48c3"
      }
     },
     "e2b9350579e147b69c78a3613a1a081d": {
      "model_module": "@jupyter-widgets/controls",
      "model_module_version": "1.5.0",
      "model_name": "ButtonModel",
      "state": {
       "icon": "close",
       "layout": "IPY_MODEL_8b7dbfc687584538b74f6a8af59a7c4e",
       "style": "IPY_MODEL_8e264560d5a74b4580508f9547620c50"
      }
     },
     "e2cb42170f3b4821a9ea29af7b8b21e1": {
      "model_module": "@jupyter-widgets/base",
      "model_module_version": "1.2.0",
      "model_name": "LayoutModel",
      "state": {
       "justify_content": "center"
      }
     },
     "e2cdfec2d8d847218431034f0299c46c": {
      "model_module": "@jupyter-widgets/controls",
      "model_module_version": "1.5.0",
      "model_name": "DescriptionStyleModel",
      "state": {
       "description_width": ""
      }
     },
     "e2d2368e89bf4effa3a1abf63c7c46c2": {
      "model_module": "@jupyter-widgets/controls",
      "model_module_version": "1.5.0",
      "model_name": "HTMLModel",
      "state": {
       "layout": "IPY_MODEL_b17dadfb5f2d4778b07a71a65340ed69",
       "style": "IPY_MODEL_edb83007a80a447c97f45032c2f6dd38",
       "value": "<table><style>\ntable {\n    border-collapse: collapse;\n    width: auto;\n}\n\nth, td {\n    text-align: left;\n    padding: 8px;\n}\n\ntr:nth-child(even) {background-color: #f6f6f6;};\n</style><tr><th></th><th>Type</th><th>Gate error</th></tr><tr><td><font style='font-weight:bold'>cx3_1</font></td><td>cx</td><td>0.0127</td></tr><tr><td><font style='font-weight:bold'>cx2_1</font></td><td>cx</td><td>0.0081</td></tr><tr><td><font style='font-weight:bold'>cx1_2</font></td><td>cx</td><td>0.0081</td></tr></table>"
      }
     },
     "e32b3fa3514645b09d5b0fb3f053d546": {
      "model_module": "@jupyter-widgets/base",
      "model_module_version": "1.2.0",
      "model_name": "LayoutModel",
      "state": {}
     },
     "e37dc193ee7c47fb9639b5475d1dcf9c": {
      "model_module": "@jupyter-widgets/controls",
      "model_module_version": "1.5.0",
      "model_name": "DescriptionStyleModel",
      "state": {
       "description_width": ""
      }
     },
     "e3afb618db2e456780bbcbbae8806dc8": {
      "model_module": "@jupyter-widgets/base",
      "model_module_version": "1.2.0",
      "model_name": "LayoutModel",
      "state": {}
     },
     "e3bb995fd9834358afec77b5808ee340": {
      "model_module": "@jupyter-widgets/controls",
      "model_module_version": "1.5.0",
      "model_name": "DescriptionStyleModel",
      "state": {
       "description_width": ""
      }
     },
     "e3dc175638044bb3b33798ce56750b75": {
      "model_module": "@jupyter-widgets/base",
      "model_module_version": "1.2.0",
      "model_name": "LayoutModel",
      "state": {
       "justify_content": "center"
      }
     },
     "e3ec97b56b0446f9be8248a0c3e00052": {
      "model_module": "@jupyter-widgets/base",
      "model_module_version": "1.2.0",
      "model_name": "LayoutModel",
      "state": {}
     },
     "e411edc2d50743e68010108b1a713d6d": {
      "model_module": "@jupyter-widgets/controls",
      "model_module_version": "1.5.0",
      "model_name": "HTMLModel",
      "state": {
       "layout": "IPY_MODEL_89ff84e7d25d43d18aaf85c14bf73c8b",
       "style": "IPY_MODEL_b4cd9ec88b15468db7f6ccdf011ca6cf",
       "value": "job has successfully run"
      }
     },
     "e41a1664a9e34deab1366078eccac7f9": {
      "model_module": "@jupyter-widgets/controls",
      "model_module_version": "1.5.0",
      "model_name": "DescriptionStyleModel",
      "state": {
       "description_width": ""
      }
     },
     "e41b4b5335bf4bdcb23467659979491e": {
      "model_module": "@jupyter-widgets/controls",
      "model_module_version": "1.5.0",
      "model_name": "DescriptionStyleModel",
      "state": {
       "description_width": ""
      }
     },
     "e4330e8646384ac390d9423008233944": {
      "model_module": "@jupyter-widgets/controls",
      "model_module_version": "1.5.0",
      "model_name": "HTMLModel",
      "state": {
       "layout": "IPY_MODEL_825dab2bfb1d4c449c7b1981322f17a3",
       "style": "IPY_MODEL_f2c1254a1a4647b89507b54c666f9bca",
       "value": "<h5><b>5</b></h5>"
      }
     },
     "e43c86dd85b6405ab87c2ebef6e7a99b": {
      "model_module": "@jupyter-widgets/controls",
      "model_module_version": "1.5.0",
      "model_name": "HTMLModel",
      "state": {
       "layout": "IPY_MODEL_6d46333e5db44e05b92e98b8312318c2",
       "style": "IPY_MODEL_285162842ff342668783e2aac63a53be",
       "value": "<h5><b>5</b></h5>"
      }
     },
     "e4744b8651a648d3a245c6c543636269": {
      "model_module": "@jupyter-widgets/output",
      "model_module_version": "1.0.0",
      "model_name": "OutputModel",
      "state": {
       "layout": "IPY_MODEL_aedc20ebd1824e2eaf6f2ec41751ab58",
       "outputs": [
        {
         "data": {
          "image/png": "iVBORw0KGgoAAAANSUhEUgAAAoQAAAIACAYAAAAbln2BAAAAOXRFWHRTb2Z0d2FyZQBNYXRwbG90bGliIHZlcnNpb24zLjUuMSwgaHR0cHM6Ly9tYXRwbG90bGliLm9yZy/YYfK9AAAACXBIWXMAAAsTAAALEwEAmpwYAABOIklEQVR4nO3deZgcZbn38e+dPWEPyKoGEBRQhy2iRkwQ3MAFPbgQkSijogkeEVEU3JAjeszBVyOQKGCOBiGi4IKIooIniHEhiIxsCgYiqyxDIMtkf94/qgY6k5nM1t3VNf39XFdf011d/dRdvdT8+qmqpyOlhCRJkprXsKILkCRJUrEMhJIkSU3OQChJktTkDISSJElNzkAoSZLU5AyEkiRJTc5AKEmS1OQMhJIkSU3OQChJktTkDISSJElNzkAoSZLU5AyEkiRJTc5AKEmS1OQMhJIkSU3OQChJktTkDISSJElNzkAoSZLU5AyEkiRJTc5AKEmS1OQMhJIkSU3OQChJktTkDISSJElNzkAoSZLU5AyEkiRJTc5AKEmS1OQMhJIkSU3OQChJktTkDISSJElNzkAoSZLU5AyEkiRJTc5AKEmS1OQMhJIkSU3OQChJktTkDISSJElNzkAoSZLU5AyEkiRJTc5AKEmS1OQMhJIkSU3OQChJktTkDISSJElNzkAoSZLU5AyEkiRJTc5AKEmS1OQMhJIkSU3OQChJktTkDISSJElNzkAoSZLU5AyEkiRJTc5AKEmS1OQMhJIkSU3OQChJktTkDISSJElNzkAoSZLU5AyEkiRJTc5AKEmS1OQMhJIkSU3OQChJktTkDISSJElNzkAoSZLU5AyEkiRJTc5AKEmS1OQMhJIkSU3OQChJktTkDISSJElNzkAoSZLU5AyEkiRJTc5AKEmS1OQMhJIkSU2uoQJhRKSI2KvoOuopIuZHxFsG8LjREXFnRDyrBmVJkqQm0msgjIh7I6IjIpZHxMMR8Z2I2LIexQ1URPxfRLx/M/fvnofP5V0u76xznS3A/sBP89v7R8RtEfFYRHysYr6REfGniHhO57SU0mpgLvCpetYsSZKGnr72EL4ppbQlcABwIHB6zSqqr21TSltWXC7rbqaIGN7l9oj+LGQz838QuCSllPLbXwY+ThYSPx0RO+fTPwZckVK6r8vjLwXeExGj+1OPJElSpX7tMk4pPQxcQxYMAYiIl0XEwohYGhG3RMRhFfedEBF3RMSyiFgcER+sbC8iPhERD0XEgxHR2uW+bSJiXkQ8GhFLIuIzETEsv+/MiPhexbydPX4jIuJs4JXAeXmv33n9Wce8ve9ExJyIuDoiVgCvyntKPxkRbcCKfFlvznv0lua9kvtWtLHJ/N0s6khgQcXtPYDrUkoPAHcBz42ICcAxwNe6PjildD/wBPCy/q6jJElSp34Fwoh4NlmIuTu/vRvwc+CLwHiy3q0rKo5rewR4I7A1cALwtYg4KH/s6/P5XwPsDby6y+LOBbYB9gSmANPyNjYrpfRp4HfAh/Nevw/3Zx0rvAs4G9gKuCGfNhV4A7BtXtd84KPAs4CrgZ9FxKiKNp6eP6W0rrLxiNiCLAD+vWLyrcBr8+d5d+CfwCzgEymltT3UeQdZj6IkSdKA9DUQ/iQilgH3kYW8z+fT3w1cnVK6OqW0IaX0a2ARcBRASunnKaV/pswC4FdkvXcA7wD+N6V0a0ppBXBm58LyXbTHAqenlJallO4FvgocP4h17c5jee9e52Xfivt+mlL6fb5eq/Jp30gp3ZdS6gDeCfw8pfTrPKydA4wFJlW0UTl/V9vmf5dVTPs4MB24EjgFeEV+/z0R8dOIWBARb+/SzrKKtiRJkvqtr8fCvSWl9JuImEJ23NoOwFJgAvD2iHhTxbwjgd8CRMSRZOHx+WThcxzwt3y+XYGbKh63pOL6Dnk7S7rcv1sf6+2rHbr23FXoerxe12m7UlFfSmlDRNzHxjV210anpfnfrYBVeRtLyMN0RIwD/gC8lqy39DKy3thbI+LalFJ7xeOXIkmSNED9PYZwAfAdst4wyALPxSmlbSsuW6SU/js/0eGKfN6dUkrbku1WjfyxDwHPqWj+uRXXHwPWkgXOyvsfyK+vIAuXnXZmY4nB666NymkPUlFfRATZ+jzQw/wbN5T1iv6TLCx353PAhSmlfwMvBhallJ4E7gcqh+bZF7il59WQJEnavIGMQ/h14DURsT/wPeBNEfG6iBgeEWMi4rD8GLhRwGjgUWBd3lv42op2fgC8NyL2y3vDOndDk1Jan99/dkRslZ9Y8bF8eQB/BSZHxHMjYhs2Pev532TH+NXSD4A3RMQRETESOBVYDSzsRxtXkx0fuZGI2A84DJiTT7oHODwidiI73vJf+Xy7kR27+ccBroMkSVL/A2FK6VFgHvC5fBiUo4EzyILffcAngGEppWXAR8iC0xNkJ2lcWdHOL8jC5XVkJ6lc12VR/0nWE7iY7KSOS8nG3SM/VvEyoI1st/NVXR47C3hbRDwREd/YzOos7TIO4cc2M2/X5+HvZMdQnkvWo/kmsuF51vS1DeAC4Li8d7HS+cDJeTCGLPB+BLgN+FJ+tjdkz+l38zEJJUmSBiSeGQJPRYiIS4EfpJR+0s/HjSbbVTw5pfRILWqTJEnNwUAoSZLU5Brqt4wlSZJUfwZCSZKkJmcglCRJanJ9HZh6MGp2kOLUqVMBmD9/fq0WUU9dzzSWJEmqC3sIJUmSmlw9zjKu2QLa27Nfbxs/fnytFlFP9hBKkqRClDoQDjEGQkmSVIhS7zK+/PLLufzyy4suQ5IkqdRKHQivuOIKrrjiiqLLkCRJKrVSB0JJkiQNnoFQkiSpyRkIJUmSmpyBUJIkqcmVetiZjo4OAMaOHVurRdSTw85IDaS9bVEAOwJbAWOA9UAH8Nj4lonLi6xNkqqt1IFwiDEQSgVqb1u0PTAFOASYDLyY7Oc91wEbyD6jAYwGHgH+DFwP3Aj8cXzLxPUFlC1JVVHqQHjxxRcDcPzxx9dqEfVkIJTqLO8FfClwKvBGYA2wJX0/nGYVsJas5/BrwEXjWyY+VoNSJammSh0Ip06dCsD8+fNrtYh6MhBKdZIHwWOBLwC7AmMZ/DHVHXkbVwGnj2+ZeNcg25OkuvGkEklNpb1t0W7AdcCFwN7AFlRnWziWbHfyW4Bb2tsWndretmh4FdqVpJozEEpqCu1ti6K9bdF7gTuBV5AFwVoYThYOvwAsam9btHeNliNJVWMglDTktbctGgX8CDiP7BjBkXVY7BZkJ6b8tb1t0ZvrsDxJGjADoaQhrb1t0VjgGuC11K5XsCfDgXHA99vbFr27zsuWpD4r9UklQ4wnlUhV1t62aCTwS+DlZLtxi9QBTBvfMvHyguuQpE3YQyhpKLsYeBnFh0HIavhue9uiKUUXIkldlbqH8MILLwTgAx/4QK0WUU/2EEpV1N626G3Ad6j/buLePAo8b3zLxGVFFyJJnUrdQ3jddddx3XXXFV2GpAbT3rZoR+AiGi8MQvZTeOcWXYQkVSp1IJSkHsylMXYTd2cM8Pb2tkWvLroQSepkIJQ0pLS3LToKOAwYVXApmzMOuCQ/6UWSCmcglDTUfIbG3FXc1VjgTUUXIUlQ8kA4ZswYxowZU3QZkhpEe9ui5wMHFl1HH20FfLLoIiQJSn6W8RDjWcbSILW3LToPOJH6/BJJNXQAB41vmXhn0YVIam6l7iGUpE7tbYvGAO+lPGEQYATw4aKLkKRSB8Jzzz2Xc8919AZJAOwPrC+6iH4aCRxZdBGSVOpAuHDhQhYuXFh0GZIaw0TK1TvY6Tl576YkFWZE0QVIUpUcSpXHHhy9w46M3m4Hho8ZS0TQ8e8H6fj3g9VcBGTHEbYAf652w5LUV6XuIZSkCi+rdoMjxm5BWr+eDWvXVLvpjRYDHFzLBUhSb+whlDRUPKfaDa647x4AtpzwPIaPGl3t5juNIzv+UZIKU+pAuO222xZdgqQG0N62aATl3uOxddEFSGpupQ6Ec+bMKboESY1hDNkZxmXdpo0rugBJza3M36glqdNayr09q+lBipLUmzJvQJk5cyYzZ84sugxJxVtDuX/tZ3nRBUhqbmXdvQLAzTffXHQJkhrA+JaJqb1t0RPA+Gq2O3r8DowYtyXDx2Z7dEduvS3DRo5izVNLWfvU0motZi2wuFqNSdJA9KuHMCLGR8SPI2JFRCyJiHfVqjBJ6qeqf0McMW5LRo/f4ekzjEeMHZeFxLFVPeRvJXBjNRuUpP7qbw/h+WS7ZnYCDgB+HhG3pJRuq3ZhktRPC4DJVPHXSlbcfy8r7r+3Ws31ZCxwU60XIkmb0+cewojYAjgG+GxKaXlK6QbgSuD4WhUnSf2wiKy3rWyWjW+Z+FjRRUhqbv3ZZfx8YF1K6R8V024BXth1xog4MSIWRcSiCy64YLA19mjnnXdm5513rln7kkrlRrLhZ8rGn6yTVLhIKfVtxohXAj9MKe1cMe0DwHEppcM289C+LUBlPkNSagjtbYuuBQ4vuo5+WAYcO75l4tVFFyKpufWnh3A5m46mvzXZBk2SGsH/UK4hXDqAa4ouQpL6Ewj/AYyIiL0rpu0PFHZCyVlnncVZZ51V1OIlNZ5fUZ5A2AF8bXzLxPVFFyJJfQ6EKaUVwI+AsyJii4h4BXA0cHGtiuvNHXfcwR133FHU4iU1mPEtEzcA/49ynFwSwEVFFyFJ0P9fKplBNkTCI8B8YLpDzkhqMOcDTxRdRC9WAF/x7GJJjaJfgTCl1J5SektKaYuU0nNTSpfWqjBJGojxLRNXAu8k2yXbiBJwP3B20YVIUqdS/5axJHVnfMvE3wNzU0qNGApXAW8f3zJxbdGFSFKnUgfCPfbYgz322KPoMiQ1oOXLOk5btXLN+g0bNhRdytPWrVnPE/9edun4lol/K7oWSarU53EIB8FxCPvGcQilKvnwlI8G8PXtdtjyIx/8+JGMGTuKYcOK/YitW7OOB+9+jD/89G/LgNdPn3/6wkILkqQKpe4hlKSuOsMg8JEnHlvO3Fm/Ys3qtRTZU7huzXoe+dcT/PHKWwG2An45Z+qXJxVWkCR1UeoewjPOOAOAL33pS7VaRD3ZQygNUmUYrJy+/Y5b8/5TXsvYcaM3DBsWdf0ivG7t+g0P3PXIsD9deRtdtrf2FEpqGKXuIbznnnu45557ii5DUgPoKQwCPP7IU3z3vGu/FsHvyIZ8qYcNQMe6NevO+uOVt97azZdvewolNYxSB0JJgs2HwdxZDz/wxKkR8ap8nuVALc/yXQH8DThw15e/4gskDgdu7WY+Q6GkhmAglFRqfQmDwJnnLfh6Gt8yMY1vmTgX2BdYQDYEzJoqlrOcLAyeCRw8vmXi3wGmzz/9UTAUSmpcBkJJpdWfMFg5cXzLxPvHt0x8DdACXEAW4gb6G8gb8sffBZwM7Di+ZeI5XX+j2FAoqZGVOhDuu+++7LvvvkWXIakAAw2Dlca3TLxrfMvE/wR2zNv5OfAw2e7kJ4FV69dnZyenlFi7bh0rV66C7ISQtcDtwIVkQe8F41smzs1/KaVbhkJJjarUZxkPMZ5lLPVRNcLg5rS3LdoWOAh40YXzrp41evRI1q/bwOo1a1n65HI+9dFjW4A7xrdMXDeQ9udM/fKzgOuAF3Vzt2cfS6o7A2HjMBBKfVDrMNhVy4Qpm7TTtmTBoD+vhkJJjaTUu4xPOeUUTjnllKLLkFQn9Q6DteTuY0mNpNSB8OGHH+bhhx8uugxJdTCUwmAnQ6GkRlHqQCipOQzFMNjJUCipERgIJTW0oRwGOxkKJRXNQCipYTVDGOxkKJRUpFIHwgMPPJADDzyw6DIk1UAzhcFOhkJJRXHYmcbhsDNSrpHCYK2Gndkch6SRVG+l7iGUNPQ0Uhgsij2Fkuqt1IFw+vTpTJ8+vegyJFWJYfAZhkJJ9VTqQLh06VKWLl1adBmSqsAwuClDoaR6KXUglDQ0GAZ7ZiiUVA8GQkmFMgz2zlAoqdYMhJIKYxjsO0OhpFoqdSCcNGkSkya5/ZPKyDDYf4ZCSbXiOISNw3EI1TTKFAaLGIewN45TKKnaSt1DKKl8yhQGG5U9hZKqrdSB8IQTTuCEE04ougxJfWQYrB5DoaRqKnUgXLVqFatWrSq6DEl9YBisPkOhpGopdSCUVA6GwdoxFEqqBgOhpJoyDNaeoVDSYBkIJdWMYbB+DIWSBqPUgfDwww/n8MMPL7oMSd0wDNafoVDSQDkOYeNwHEINGUMpDDbiOIS9cZxCSf1V6h5CSY1nKIXBsrKnUFJ/lToQTp06lalTpxZdhqScYbBxGAol9UepA6GkxmEYbDyGQkl9ZSCUNGiGwcZlKJTUFwZCSYOSh8E/YhhsWH0IhdfNmfrlE+tblaRGYiCUNGB5GPwLcEgPsxgGG0QvoXA08C1DodS8Sh0IjzrqKI466qiiy5CaUkUYPKCHWQyDDaaXUAiGQqlpOQ5h42jocc2kSnkY/D3w8h5m+SrwiaEQBss4DmFv8nEK/wrs2sMs75g+//Qf1q8iSUUrdQ9hR0cHHR0dRZchNZWKE0h6CoMLGCJhcKjKewpfDazuYZZve6KJ1FxKHQhbW1tpbW0tugypafThbOIFwKsMg41v+vzT7wAOpPtQ6NnHUpMpdSCUVD+GwaHHUCipk4FQUq/6EAa/gmGwlPJQ+EIcp1BqagZCSZvVx0GnTzcMltf0+af/EzgCQ6HUtAyEknrkL5A0j+nzT38EQ6HUtEodCI855hiOOeaYosuQhiTDYPMxFErNy3EIG0epxzXT0GIYfMZQHIewN3OmfnlH4FrgRd3cvQx4/fT5py+sb1WSaqnUPYTt7e20t7cXXYY0pBgGZU+h1HxKHQhPOukkTjrppKLLkIYMw6A6GQql5tKvQBgRH46IRRGxOiK+U6OaJBXAMKiuDIVS8+hvD+GDwBeBuTWoRVJBDIPqiaFQag79CoQppR+llH4CPF6bciTVm2FQvTEUSkNfqY8hlDQ4hkH1laFQGtpqEggj4sT8WMNFF1xwQS0WAcBxxx3HcccdV7P2paHMMKj+MhRKQ9eAxiGMiC8Cz04pvbcPs/vPpG+G9LhmaiyGwb5rxnEIe+M4hdLQU+pdxg8++CAPPvhg0WVIpWIY1GDZUygNPf0ddmZERIwBhgPDI2JMRIyoTWm9O/XUUzn11FOLWrxUOoZBVYuhUBpa+ttD+BmgA/gU8O78+meqXZSk6jMMqtoMhdLQ0d9hZ85MKUWXy5k1qk1SlRgGVSuGQmloKPUxhJJ6ZxhUrRkKpfIzEEpDmGFQ9WIolMqt1IHw/e9/P+9///uLLkNqSIZB1ZuhUCqvAY1D2E/+s+mbph7XTNVlGKwexyHsP8cplMqn1D2EixcvZvHixUWXITUUw6CKZk+hVD6lDoSf/vSn+fSnP110GVLDMAyqURgKpXIpdSCU9AzDoBqNoVAqDwOhNAQYBtWoDIVSORgIpZIzDKrRGQqlxmcglErMMKiyMBRKja3UgfCkk07ipJNOKroMqRCGQZWNoVBqXI5D2Dgc12wImjtt5mhgHDAaWAesAla2zjttw2DaNQzWR8uEKaOA1V2nOw7h4NRrnMLpk08eSfb5G0P2v6gDWDnn+lnrB9u2NNSUOhDefvvtAOy33361WkQ9+Q+m5OZOm7klcAhwMDAl/7sjWRBcT/YajwDWAncC1wN/BP7cOu+0Pg+oaRisjZYJU8YCLyF73Sbn13eh+z0pfwN+B/wBuBH4R9uSBT7f/VDtUDh98smjgIlkr98rgZcCu5F99jo/f8Pz2e8GbgAWAouA2+ZcP8vXT02t1IFw6tSpAMyfP79Wi6gnA2FJzZ0280XAR4F3AWuAscCoPjw0AcvJQuJdwFeAK1rnnbZJj1Qnw2D1tUyYsjfZ83kCWXAYnV960/n6DQfuB2YC89uWLFhZo1KHnGqEwumTT54AzAA+lE8aRdYj2BfLyba9jwP/A8ybc/2sp/r4WGlIMRA2DgNhicydNjOAo4HPAy8ARpIFu8FYlv/9FvDfrfNOe7zyTsNgdbVMmPJastfvILJQN3KQTXaGi+8CX2xbsuChQbbXFAYaCqdPPvlQ4AvAJLJe3L58CducFXk73wfOmnP9rHsH2Z5UKgbCxmEgLIm502buTPZP/xXAFjVYxGqyY53e2zrvtJ+CYbCaWiZM2Y4sdL+B7PiyaltL9hrOAL7nruTe9ScUTp988pZkn4Wp1Ob1W0fW0/8J4Jtzrp81qON9pbIwEDYOA2GDy3sFjyULE6MZfI9Eb1YC16zfsOEDt9z38OcwDA5ay4QpbwTm8cyJPrW0guwY0ePtLexdX0Jh2wMPjyLrwduGvu8WHqgVwG3AsXOun3VPjZclFa7Uw85I9TJ32syRwA+AC8mGx6h1GAQYl1I6Cnhg7KiRhsFBaJkwZVjLhCnfAi4DtqP2YRCy3uPJwN9bJkyZUoflldrmhqRJKW314JNP/Rb4JbATtQ+DkL1+BwN/mz755DfVYXlSoUrdQ3jTTTcBcPDBB9dqEfVkD2GDmjtt5ljg52RnLdZiF1Wv1m/YwN2PtLNi9ZrKyYbBPmiZMGUkWa/S6yno9SPr7X1H25IFPy9o+aXRtacwpcT9S59i6cqOIscw6wBOnHP9rO8VV4JUW6UOhEOMgbAB5T2D1wAvIzt7uDDrN2zgrn8/zso1a8Ew2CctE6YMI+vZPZLiwmCnDuDotiULfl1wHQ2vMxSmlF70wNKneKKjg9r/q+pVB/CeOdfP+mHRhUi1UOpdxjfddNPTvYRSteXHDM4n6xksNAwCDB82jL132p6txow6H8NgX51HY4RByN5DP2mZMOUlRRfS6Dp3Hz/05LJHGiQMQvb6fXf65JOPKLoQqRZKHQjPOecczjnnnKLL0ND1LordzbiJYRFprx23P+ygCbsO733u5tYyYcqRwHtooNePrJYr8kGwtRltDzy852MrVm7dIGGw01jgB9Mnn7xt0YVI1VbqQCjVytxpM3cB5lCbYWUGLDJ7AKcVXUsja5kwZRvgYhorDHbaHvjvootoZNMnnzyGbFd/PU4e6a9xZNsGaUgxEEpd5LuK59GY/4wg+4f0mbnTZg6J32yskdk0WJivMA74QMuEKS8vupAG9mWy4NyIxgBvnj755DcUXYhUTQZCaVP/Abycwf9yRS2NBi7Nw6sqtEyYchjwFho30EO26/H7LROmuOu/i+mTT94f+CCN2bvbaRzZ8YSN/B6T+sVAKG3q8zRu71KnYcBegCcobOqzNHaY6LQd8Lqii2hAn6I+43wO1mjg7UUXIVXLYH97tVCf/exniy5BQ8zcaTMPAJ5XdB19NBY4FXhn0YU0ipYJUyaQ/bZtGWxFdizo1UUX0iimTz55PFnvbhl6TrcEPkl2rKpUeqXuIdxvv/3Ybz8Po1JVnUI5eicg+/y+ee60mY16rFURZlCuMT1f2jJhyh5FF9FATgDK9NvBe0yffPJBRRchVUOpA+ENN9zADTfcUHQZGiLmTpu5NdkuoDL1nG8AWosuohHkv0jyIerzs3TVMgw4qegiGsH0yScH8DHKsbu/02iymqXSK3UgPP/88zn//POLLkNDx8uBtUUX0U/jgLcWXUSDaKFcvYOQ9Ub7O7mZ5wLbFl1EPw0HXlt0EVI1lDoQSlU2kQb4RZIBeLFnGwPZ61eGY8+62qNlwpSyHKZQSxOBdUUXMQDbTJ98sodtqPTKtGtMqrUpVHmomeEjh/OSYw9jj5fuw8gxo3j83n/z50t/y6OLH6rqYoDnAP+qZqMl9AqqvLvxzK98ggMmvpidd3kWa9as5W9/vYOvfemb3P2Pe6q5mA7gRcBfqtloCR1CdqJGVb3njOPY5+Dns8U2W7J65SqW/P0+fnLBz7j/rgeqtYgO4GDgV9VqUCqCPYTSMw6sdoMvPe4I9nvNwXQ8uZJ/3XQ3O+61G6/75DsYvWVVOyLXkv1DanZVH+j5P459I8ueWs4vrryOFctX8spXvYw582YyanRVO/SG4+sHMJka/E8av9N23PXXf/KHq//IiqdW8MKX7suHzn5/NRcxjqx3Uyo1ewglYO60mVtQ5eOXxmw1jr0nv5gNGzbwy/++jFXLVrJhwwb2esUL2e81B3Hzj39frUVtSdbD9ONqNVhSu1e7wXe+4QPcces/ANj12Tvzy99fxk677Mjz9p7AHbfeVa3FbEENvoyU0Atq0ejXTj7v6evPef6zOeOiT7Dds7Zl2PBhbFhflROaR5L1bkqlVupAePbZZxddgoaOLcl62qr2mdj22TswfMRwlj26lFXLVgLw2D0Ps9crXsj45+5YrcVA1quydTUbLJuWCVNGUIPtWWcYBBg5Mmt+3bp1PPrI49Ve1DbVbrCEavarH1P+45XsMmFn9jl4bwB+c9lvqxUGO21VzcakIpQ6EO65555Fl6ChYwxVHv9s7NbZ4WxrVz1z4vK61dn1sdtU/YdQGv2XVWptNNkJCTXZpo0dN5azzvkUABdf9EMee6S92oto9tcPavhTkQdN2Z/nH5iFwfZHnuCfty6u9iLKNFSO1K1SH0N47bXXcu211xZdhoaGdVR5yJKOp7JewZFjnvk/NyK/3vHkimouCmBNtRssmXXUaHu23fht+Pb3v86BE1/M5Zf+jK99+Zu1WEyzv34A62vV8NdOPo//fPWpzDnjQrbdfhtOPKuV8TttV81FlG24KmkTpe4hvOiiiwA44ogjCq5EQ0AHVR6yZOkDj7F+3Xq22H5rxmw9jlVPreRZe+wCQPu/HqnmogCWV7vBkllDDcYg3GW3nfjWxeew+/Oey0XnfY9v/M+F1V5Ep5W1arhE1lLlQcVHjhrJunXrSBsS69as4/Y/3cHqjtWM3XIsO+y6Pe3/fqJai/L1U+mVOhBKVfQkVe5hWvXUSu7+3a284FX7c+Sn3skT9z/GHofsw9qONdzxm6qOMNIBVHUcm7JpW7IgtUyY8iRVPjFo3o/OZ6edn8WD9z/MmLGjOe1zHwbg6p/+hltvubNai1kH3Futxkrscao87Mzu+02g9XPTuPuWf7Jy2Ur2ankeY7ccy7InlvGvf9xfzUXdW83GpCIYCCWgdd5p6+dOm3kXUNUfx/7j965lw/r17H7IPjz3oO145J8P8uf5v2XVso5qLmYtcFM1GyypNrKhS6pmp52fBWRnGL/7fW9/evqdt99dzUC4ArixWo2V2J+ACdVs8MnHnuSR+x5hn4kvYMy40SxfupybrruZq797DatWrKrWYpYDf6hWY1JRDITSMxZS5UC4fu06/jDvN/xh3m+q2WxX44BbarmAklgATKKK27WWCVOq1dTmjMFAD/A7sp/xq9ognY/c/+hGw87UkK+fSq/UJ5VIVbaQch6L90DrvNOq2uVYUjeS9baVTUfbkgUPF11EA7iJcp6cMQqoWnexVJRS9xB+9atfLboEDS1/pgYnJtRYAqo2wnXJ3UgNx7KroUVFF9AgbqGcr9+dc66fVcbfYJY2Uuoewl133ZVdd9216DI0dNwOPFh0Ef20AvhW0UU0gryXrWy/B7wMmFN0EY1gzvWzVgK/IPuSUxbLgfOLLkKqhlIHwquuuoqrrrqq6DI0RLTOOy0BX6Fcu40fJzv2SpmZZCGrLNYBVxZdRAM5h3Lt9h8GXFp0EVI1lDoQXnLJJVxyySVFl6GhZT7l+VysAP4nD7LKXEV5BnleBZzbtmSBuxuf8Xvg0aKL6KO1wMVzrp9Vpi+QUo/K8o9PqovWeaetBL5DOULFMODiootoJHm4+gbZ2Ixl4O7+CnOun5XIennL0Eu4DphVdBFStRgIpU39F7C66CJ6sQL4r9Z5pz1VdCENaBaN/8sRK4Fvti1ZULZjVuvhO8BjNPaxhKuAn8y5ftYdRRciVYuBUOqidd5pDwMfonF7KTYA95D1pKiLtiULngSOo7FD4ePA6UUX0YjmXD9rFfAOstDVqFYAM4ouQqomA6HUvflkxzM14rhoq4F3tM47bX3RhTSqtiULrgF+TGOGig7gHW1LFjRibQ1hzvWz/gx8k8YM9SuB4+dcP2tp0YVI1RQp1bxXvmYLaG9vB2D8+PG1WkQ9lW38uyFv7rSZOwN/B7YuupYKK4CzW+ed9uWiC2l0LROmbAPcBexA43y+VgIXtC1ZcErRhTS66ZNPHjN6zMgH1qxeO772/6b6rINsV/G7ii5EqrZS9xCOHz9+qIRBNaB81/GRNE4vxUrgZ2RD46gX+a7jI2icYYQ6gBuATxRdSBmcfd7x7/vwp94wfszYUUWX0mkVcCvwvqILkWqh1IHw8ssv5/LLLy+6DA1hrfNOWwi8leJD4Urgt8DxrfNO21BwLaXRtmTB34DXUnwo7ABuBo52mJnetbctOgk4b/wOW/GBj76W0WNGEsX28a4C7gZePef6WWU5g13ql1IHwiuuuIIrrrii6DI0xLXOO+1XwFFku2uL2Hm1kmzw4re0zjvNMNFPbUsW/BE4DHiS7IScelsJXA8c4XGDvesMg523d9p1O6Z//EjGjhtNRCGfvw6yn9WbNOf6WZ7VryGrz4EwIkZHxLcjYklELIuIv0bEkbUsTmoUrfNOWwBMAhZTv97CDWT/jM4GjjMMDlzbkgU3AS8BbqN+Z48nstfvfOCNhsHedQ2DnZ618zZ84JTX/SQl/kR9z/7vIBvr87A5188q0y/gSP02op/z3gdMAf5F1mPyg4h4cUrp3hrUJjWU1nmntc2dNnM/4PPAKcAYaneywkrgXuDtrfNOu71Gy2gqbUsW3NUyYcqBwMfJXsPR1G4vyUrgEeDtbUsWLKrRMoaUnsJgbv6OO28zDVgPfJDsJ+5G07//Yf3RASwFjp1z/azra7QMqaEM6izjiGgDvpBS2tx+25p18U+dOhWA+fPn12oR9dQoZ0GqD+ZOm3kg8H1gV2ALqvf6rczbOhv4ir2CtdEyYco+ZL9B+3xgLNULhh15W98APtu2ZEGjD3DeEHoLg8C08S0Tn/4sTJ988u5kPXcHAaOoXjBcRfb5+w5w6pzrZzXqWKRS1Q04EEbETsAS4ICU0p1d7jsROBHgW9/61sEnnnjiYOvsloFQRZo7bWYAk8l6nF5D9uVnzACaSmS7wZ4E/gf4buu805ZWqUz1oGXClAAOAU4F3kzW+zRugM0tIwuDXwO+3bZkQVl+j7dw/Q2DlaZPPvkAst76t5MdYrHFAMtYRvZTdOcC35pz/Sx/QUZNZ0CBMCJGAr8A/plS+mAvs9esh7CjIzvZa+zYsbVaRD0ZCEts7rSZu5B9CXoLsA9ZuNgAbMmmr+0qst9KHgv8G/gD2SC8v22dd1rjjLjWRFomTNmBbDiRY4AX5pPXAVux6eu3muw1HEf2E2s3kv0m8TVtSxY4WHg/DCYMVpo++eRtgPcC7wReDAwnG1R+Szbt/V1DFt7Hkn0Juwm4CLhyzvWzGnEgeqku+h0II2IY2a6WrYGjU0q9fYD8B9c3BsIhYu60mcOAvYCDgRcB25D9Y1pN1hO4hOyf0F9b551W9HAo6iLvOdyD7PV7MbAd2eu3lmz4mgfIXr+b87EONQDVCoNdTZ98cgDPIXv99gfGk71+G8h6Ah8C/gL8Zc71s9oHULo0JPUrEEZEAHOB3YGjUkp9GY+pZoHw4osvBuD444+v1SLqyUAoqSnUKgxKGrj+Hkg9B9gXeFMfw2BNXX311Vx99dVFlyFJ6iPDoNSY+jMO4QSy0/0PAB6OiOX55bhaFSdJGjoMg1Lj6vOp+imlJbhbU5I0AIZBqbGV+qfrJEmNzzAoNT4DoSSpZgyDUjkM6pdK+shhZ/rG3fGShhTDoFQe9hBKkqrOMCiVS6kD4YUXXsiFF15YdBmSpAqGQal8Sh0Ir7vuOq677rqiy5Ak5QyDUjmVOhBKkhqHYVAqLwOhJGnQDINSuRkIJUmDYhiUyq/Pv1TSiMaMGVN0CZLU1AyD0tDgOISNw3EIJZWKYVAaOtxlLEnqN8OgNLSUOhCee+65nHvuuUWXIUlNxTAoDT2lDoQLFy5k4cKFRZchSU3DMCgNTaUOhJKk+jEMSkOXgVCS1CvDoDS0GQglSZtlGJSGvlKPQ7jtttsWXYIkDWmGQak5OA5h43AcQkkNxTAoNQ93GUuSNmEYlJpLqQPhzJkzmTlzZtFlSNKQYhiUmk+pjyG8+eabiy5BkoYUw6DUnErdQyhJqh7DoNS8DISSJMOg1ORKvctYkjR47W2LLgHe1cPdhkGpCZQ6EO68885FlyBJpdbetugy4B093G0YlJqE4xA2DschlFRXhkFJnTyGUJKaUHvbonn0HAavxDAoNZVS9xCeddZZAHzuc5+r1SLqyR5CSXXRywkkS4AXjG+ZuLqOJUkqWKmPIbzjjjuKLkGSSsUwKKk77jKWpCZhGJTUEwOhJDWBXsLgjzEMSk3NQChJQ1wfBp1+h2FQam6lPoZwjz32KLoESWpo/gKJpL4o9VnGQ4xnGUuqKsOgpL5yl7EkDUGGQUn9UepAeMYZZ3DGGWcUXYYkNRTDoKT+KvUxhPfcc0/RJUhSQzEMShqIUvcQSpKeYRiUNFAGQkkaAgyDkgbDQChJJWcYlDRYpT6GcN999y26BEkqlGFQUjU4DmHjcBxCSf1iGJRULe4ylqQSMgxKqqZSB8JTTjmFU045pegyJKmuDIOSqq3UxxA+/PDDRZcgSXVlGJRUC6XuIZSkZmIYlFQrBkJJKgHDoKRaMhBKUoMzDEqqtVIfQ3jggQcWXYIk1ZRhUFI9OA5h43AcQkkbMQxKqhd3GUtSAzIMSqqnUgfC6dOnM3369KLLkKSqMgxKqrd+BcKI+F5EPBQRT0XEPyLi/bUqrC+WLl3K0qVLiyxBkqrKMCipCP3tIfwysHtKaWvgzcAXI+Lg6pclSc3HMCipKP0KhCml21JKqztv5pfnVb0qSWoyhkFJRer3MYQRMTsiVgJ3Ag8BV1e9KklqIoZBSUXrdyBMKc0AtgJeCfwIWN11nog4MSIWRcSiCy64YPBV9mDSpElMmjSpZu1LUq0ZBiU1gkGNQxgR3wRuTyl9YzOzOQ5h3zgOodRkDIOSGsVgh50ZgccQShriWifNGNE6aUZVh+kyDEpqJH3uIYyIHYHDgauADuDVZLuMp6aUrtzMQ2vWQ3jCCScA8L//+7+1WkQ92UMoFah10ozhwD7AwcDLgUPJvvCOJvt8BrAeWAr8FVgALAIWzV04+9H+LMswKKnR9Oe3jBMwHfgmWc/iEuCjvYTBmlq1alVRi5Y0RLROmrEjcCJwMjAmn7wF3X9JGw5sDxwBTAZWAmNaJ824CZgJ/HzuwtmbDXKGQUmNqM+BMKX0KDClhrVIUt20TpoxEfg08HqyL7xj+9nESGCb/Pok4GJgTeukGd8AvjF34eylXR9gGJTUqEr903WS1F+tk2aMa50041yyXb5vJusV7G8Y7M5WZL2HpwP/bJ0048jKOw2DkhpZf3YZS1KptU6a8QrgMmA7YFyNFjMmv1zeOmnGT4EZ53yz9TgMg5IaWKkD4eGHH150CZJKoHXSjADOAk6lOr2BfTEOeOuIEcPf/MC/Ht9it+du3908hkFJDWFQ4xD2keMQ9o1nGUs1kA8XMwc4juxkkbobNXoE7//wa9lz750rJxsGJTUMjyGUNGTlPYNzgHdTUBgEWLN6HRed+yuWLH6kc5JhUFJDKXUgnDp1KlOnTi26DEmN6yyynsFaHS/YZ2vWrOOCWddwz93//jmGQUkNptTHEEpST1onzXgl9T1msFerV69N55/z8+cDMXfhxKLLkaSnlbqHUJK60zppxjjg+zRQGMwFsCvw2aILkaRKBkJJQ9FXyYaWaURbAB9vnTRj/6ILkaROBkJJQ0rrpBkvBd5D4/UOVhoDXJaf9CJJhSv1MYRHHXVU0SVIajyf4ZnfJG5UnbuOXwVcV3AtkuQ4hA3EngJpkFonzdgFuAcYXXQtfZCAa+YunH1kr3NKUo2VepdxR0cHHR0dRZchqXF8kPJ8CQ3gsNZJM3YtuhBJKnUgbG1tpbW1tegyJDWA1kkzRgAfofF3F3c1vegCJKnUgVCSKryI8h0XPQY4pugiJMlAKGmoOJhybtP2yns3JakwZdx4SlJ3JlGj3yt+6WsmMnfhbOYunM3Uk99W7eZXAftVu1FJ6g8DoaShYlItGt3uWdvy7lOPZd269bVoHrKTSw6uVeOS1Bel3k1xzDEeeiPpac+rRaPv++w0lj62lPsXP8hLX12T3x/eEjgI+N9aNC5JfVHqQPi2t1V9142kEmqdNGM4MLLa7b7mnYezd8vz+OIH/ofXvONV1W6+0vhaNi5JvSn1LuP29nba29uLLkNS8cYA66rZ4G577sLbPnQ0P7noKu676/5qNt2dmhz7KEl9VeoewpNOOgmA+fPnF1yJpIKtp8q/9nPwYQcyfORwXnDA3jx//714zl7PBuCAQ1tYs3otV3zzp9Vc3NpqNiZJ/VXqQChJudVUeY9HRDBs2DBaJr1oo+nP2m0HnveiPaq5KIAV1W5Qkvqj1LuMJQlg7sLZCVhezTZ/+u2f0zppxtOXG37+BwB+fdl1zPzw16u5qPVAzfdJS9LmGAglDRV/K7qAAVoO3Fh0EZKam7uMJQ0VC4CXAsNr0fjcsy9m7tkX16Lp0cBNtWhYkvqq1IHwuOOOK7oESY3jRrJj8bYuupB+Wgs8UHQRkppbqQPhG9/4xqJLkNQ4bgRGFV3EANycHwMpSYUp9TGEDz74IA8++GDRZUhqAHMXzr4fuLPoOvppGfCtoouQpFIHwlNPPZVTTz216DIkNY6vkIWsMrmi6AIkqdSBUJK6+BFQlt2vq4Fvzl04e3XRhUiSgVDSkDF34ew1wByysNXoEnB+0UVIEhgIJQ09XwVWFV1ELzqA+XMXzl5SdCGSBAZCSUPM3IWzHwXeT2P/HNwy4OSii5CkTpFSzQ+3qdkCrr32WgCOOOKIWi2inqLoAqShpHXSjCuB19F4Q9GsBN48d+Hsa4suRJI6lXocwiESBCXVRitwN40VCDuAywyDkhpNqXcZL168mMWLFxddhqQGNHfh7MeAI8l65BrBKqANmFF0IZLUVal3GU+dOhWA+fPn12oR9eQuY6kGWifNeA3wE2BcgWWsIuutnDR34eyyjZMoqQmUuodQknozd+HsXwNvoLiTTDqAWzAMSmpgBkJJQ97chbP/D3gl8C/quwt5JfBD4DDDoKRGZiCU1BTmLpx9M/ACst8O7qjx4lYBjwJHz104+z1zF85u9HERJTU5A6GkpjF34exVcxfO/hhwGLCE6v/u8RqyMPgDYK+5C2f/psrtS1JNlPqkkhtuuAGAQw89tFaLqCdPKpHqqHXSjOHA64HTgEPIviAPdIia5fnfi4Dz5i6c/c/BVyhJ9VPqQDjEGAilgrROmrEH8GHgrcCzyXYpj6D7M5M3kAXAznFc28h+P/kH7hqWVFalDoS33347APvtt1+tFlFPBkKpAbROmjEGaAEOzi/bkQXDdWQniSwB/gzcBNw7d+Fsv/RKKr1SB0LHIZQkSRo8TyqRJElqcgZCSZKkJmcglCRJanIGQkmSpCZX6pNKbrrpJgAOPvjgWi2injypRJIkFaLUgXCIMRBKkqRClHqX8U033fR0L6EkSZIGptQ9hI5DKEmSNHgD6iGMiL0jYlVEfK/aBUmSJKm+BrrL+HzgxmoWIkmSpGL0OxBGxLHAUuDaqlcjSZKkuutXIIyIrYGzgI/1Mt+JEbEoIhZdcMEFg6lPkiRJNdavk0oiYhbwYErpKxFxJrBXSundvTysZieV3H777QDst99+tVpEPXlSiSRJKsSIvs4YEQcArwYOrFk1/TREgqAkSVKh+hwIgcOA3YF/RQTAlsDwiNgvpXRQ9Uvr3Q033ADAoYceWsTiJUmShoQ+7zKOiHHA1hWTPk4WEKenlB7dzEMdh7Bv3GUsSZIK0ecewpTSSmBl5+2IWA6s6iUMSpIkqcH1Z5fxRlJKZ1axDkmSJBWk1L9lLEmSpMEzEEqSJDW5fo1DOEA1W8DixYsB2HPPPWu1iHrypBJJklSIUgfCIcZAKEmSClHqXcbXXnst117rTypLkiQNxoDPMm4EF110EQBHHHFEwZVIkiSVV6l7CCVJkjR4BkJJkqQmZyCUJElqcgZCSZKkJlfqYWcefPBBAHbddddaLaKeHHZGkiQVotSBcIgxEEqSpEKUepfxVVddxVVXXVV0GZIkSaVW6nEIL7nkEgDe+MY3FlyJJElSeZW6h1CSJEmDZyCUJElqcgZCSZKkJmcglCRJanKlHnamvb0dgPHjx9dqEfXksDOSJKkQpQ6EQ4yBUJIkFaLUu4wvv/xyLr/88qLLkCRJKrVSB8IrrriCK664ougyJEmSSq3UgVCSJEmDZyCUJElqcgZCSZKkJmcglCRJanKlHnamo6MDgLFjx9ZqEfXksDOSJKkQpQ6EQ4yBUJIkFaLUu4wvvvhiLr744qLLkCRJKrVSB8Krr76aq6++uugyJEmSSq3UgVCSJEmDZyCUJElqcgZCSZKkJmcglCRJanI1H3YmIk5MKV1Q1vbrZaishyRJKp969BCeWPL262WorIckSSoZdxlLkiQ1OQOhJElSk6tHIKz1cXFD5bi7obIekiSpZOrxW8aSJElqYO4yliRJanIGQkmSpCY3qEAYEa+PiL9HxN0R8alu7h8dEZfl9/8pInavuO/0fPrfI+J13Tz2ORHx24i4PSJui4iTu5lnn4j4Q0SsjoiPd7nv3oj4W0T8NSIWDWY9Bysito2IyyPizoi4IyJe3uX+wyLiybzWv0bE5/LpL6iY9teIeCoiPlrISkiSpCFrxEAfGBHDgfOB1wD3AzdGxJUppdsrZnsf8ERKaa+IOBb4CvDOiNgPOBZ4IbAr8JuIeH5KaX3FY9cBp6aU/hIRWwE3RcSvu7TfDnwEeEsPZb4qpfTYQNeximYBv0wpvS0iRgHjupnndymlN1ZOSCn9HTgAnn6+HwB+XONaJUlSkxlMD+EhwN0ppcUppTXA94Gju8xzNPDd/PrlwBEREfn076eUVqeU7gHuztt7WkrpoZTSX/Lry4A7gN26zPNISulGYO0g1qOmImIbYDLwbYCU0pqU0tIBNHUE8M+U0pIqlidJkjSoQLgbcF/F7fvpEtgq50kprQOeBLbv42Oflu9qPhD4Uz/qS8CvIuKmiCjyV0D2AB4F/jcibo6IiyJii27me3lE3BIRv4iIF3Zz/7HA/JpWKkmSmlLDn1QSEVsCVwAfTSk91Y+HHppSOgg4EjgpIibXpMDejQAOAuaklA4EVgBdj7f8CzAhpbQ/cC7wk8o7893MbwZ+WPNqJUlS0xlMIHwAeE7F7Wfn07qdJyJGANsAj/fxsUTESLIweElK6Uf9KS6l9ED+9xGy4+4O2fwjauZ+4P6UUmfv5uVkAfFpKaWnUkrL8+tXAyMjYoeKWY4E/pJS+nc9CpYkSc1lMIHwRmDviNgj78E6FriyyzxXAu/Jr78NuC5lI2FfCRybn4W8B7A38OfKB+bHGn4buCOl9P/6U1hEbJGfiEK+e/a1wK39WrsqSSk9DNwXES/IJx0BVJ4YQ0TsnK8vEXEI2evyeMUsU3F3sSRJqpFB/VJJRBwFfB0YDsxNKZ0dEWcBi1JKV0bEGOBisuP/2oFjU0qL88d+GmglO5v4oymlX3Rp+1Dgd8DfgA355DOA5wKklL4ZETsDi4Ct83mWA/sBO/DM2bgjgEtTSmcPeEUHKSIOAC4CRgGLgROAd8LT6/FhYDrZc9EBfCyltDB/7BbAv4A9U0pP1r96SZI01PnTdZIkSU2u4U8qkSRJUm0ZCCVJkpqcgVCSJKnJGQglSZKanIFQkiSpyRkIJUmSmpyBUJIkqckZCCVJkpqcgVCSJKnJGQglSZKanIFQkiSpyRkIJUmSmpyBUJIkqckZCCVJkpqcgVCSJKnJGQglSZKanIFQkiSpyRkI1aOI2C8iFkVEDOCx/xkRX9nM/btHRIqI5RFx4uAqbW4R8b78eUwRsVfR9UhqHG7HyyEinp8/j+sj4v1F1NB0gTAi7o2IV3eZ9t6IuKGommohIs6MiO8Nspn/As5JKaW8za9HxBMR8YeIeHbFst4VEd/o8tgLgeMiYsdelrFtSumCLrXvEREbImLOIOuvuYg4JSIejoinImJuRIzezLxHRMSdEbEyIn4bERMq7psZEffl7SyJiDO6PPZNEXFrvsFYGBH7dd6XUvp2SmnL2qyh1H/5NmFR/n59KCJ+ERGH5vedmYeId1TMPyKftnvFtEkRcV1ELIuIJyPiZ53v+4g4Lm97eUR05NuLztvL677CNeJ2vPYi4kURcU1EPBYRqZd5nx8RP42IRyOiPX/cC7rMs2dEXJW/bx+LiJkV9+2bv6efjIi7I+KtnfellP6Rb8d/V/WV7KOmC4S1FhHDu9we0c/H9zp/f9sciIjYBXgV8JP89iHAwcDOwA3Ap/Lp2wCfAD5T+fiU0irgF8C0ASx+GvAE8M7NBayiRcTryJ6HI4AJwJ7AF3qYdwfgR8BngfHAIuCyilm+DeyTUtoamES2Ef6P/LF7A5cAHwK2BX4GXFmP94HUXxHxMeDrwJeAnYDnArOBoytmawe+0HV7WdHGy4FfAT8FdgX2AG4Bfh8Re6aULkkpbZn/Az0SeLDzdjW+HLkdzzTDdhxYC/wAeF8f5t0WuBJ4Adl7+89k71EAImIU8GvgOrLn+NnA9/L7RuTzXkX2P+BE4HsR8fwqrcfgpZSa6gLcC7y6y7T3Ajds5jH7kL3I7cDfgXdU3PcdYA5wNbACeHW+jE8CbcBqYATwZuA2YCnwf8C+XWraaP5uakjAScBdwD35tFnAfcBTwE3AK/PprwfWkL3RlwO35NO3IQseDwEPAF8EhvewztOA31Tcfifw5Yr2r86vnwe8q4c2jgN+28N9u+frNKLL9AD+CUwH/g28rWL5i7rMewpwZX59e7Kg9BRwY75uPb6mVXovXQp8qeL2EcDDPcx7IrCw4vYWQAdZCOw6727A34DT8tsfBn5ecf+w/LFHdPMe2avoz5iX5r3k25jlwNs3M8+ZZF9wbgHek08bkb9/d89v/w6Y3c1jfwHM6zLtMOD+PtTmdtzt+ObeH3sBqZ+PGZ+v//b57ROB3/Uw74vy1zEqpv0K+K8u8/0f8P56rHPXiz2EvYiILcg2IpcCOwLHArMrd9kB7wLOBrYi+9YFMBV4A9k3ij2B+cBHgWeRbXR+ln+boOv8KaV1PZTzFuClQOeybwQOIHtTXgr8MCLGpJR+Sfbt/LKUfWPeP5//O8A6sjf+gcBrgZ6OVXgx2Uaz023AKyNiLFnwuS0iJgIvSCld2kMbdwD793BfTw4l+1b1fbJvbe/Jp/8MeEHeW9bpXWTrDXA+2YZ85/wx76GPIuLQiFi6mcuhPTz0hWT/1DrdAuwUEdv3Nm9KaQXZBvOFFXV8Kt/ddT9ZYKx8XqPL9SDbwEiN5OXAGODHvcyXyHrLPx8RIyvviIhxZL3kP+zmcT8AXtPfotyOP83teHVNJusEeDy//TLg3vwQicci4v8i4sWbK5tG2o4XkUKLvJB9i1tO9g2v87KSHr6FkH2j+V2Xad8CPp9f/w6bfmO9F2ituP1Z4AcVt4eRfbM7rLv5e6gjAYf3Ms8TwP759TOB71XctxPZt9axFdOm0vM3vwuB/+4y7RSyUHMZ2QZxIbAv8BHgerJv/dtWzL83sL6H9nen+2+WFwE/ya+/nOzb8Y757e8Bn6toexkwDhiez/eCinbq0UP4T+D1FbdHUtHL0WXeb3fzfP4eeG+XaUG2kf8CsFU+bR+yjeRhwKj8/bQBOL2b94g9hF4Ku5D1JnXbS14xz9PbJuBPZL1IT/cQkgWJRPe9568H1naZdhi99BDidrxymtvx7telXz2E+fv0AWBqxbRf5etwZL6t/gSwOL8+Mr9+Wn79tWQ9wNd0aff/sIewrt6SUtq28wLM2My8E4CXVn7TINvo7Vwxz33dPK5y2q7Aks4bKaUN+f279dLG5tokIj4eEXfkB6guJduVsMNm1mMk8FDFenyL7Ntyd54g+6b8tJTS11JK+6eU3gm8g2zjMYysm/wIsm+Sn6p4yFbAk31Yr871GQu8nWyDRErpD8C/yL5BQvYtcmp+/V1kG5yVZBu1EWz8/PTl+Rys5cDWFbc7ry/rw7yd8280b8rcTLZL+Av5tDvJvimfR7abaAfgdrKeRKmRPA7s0I/j4z4DfJqsV7HTE2RfeHbpZv5dgMcGUJfb8Wfqdjs+SBHxLLLwNzulNL/irg6yAPuLlNIa4Byy3eD7ppTWkvUOvwF4GDiVrPe0YbbjzRoI++M+YEFlgExZ9/30inlSN4+rnPYg2QcZgIgI4Dlk3y4210aPbUbEK8m+abwD2C4Ptk/yzK7Fru3dR/bNcoeK9dg6pfRCutcGdHuwa0TsRLbxOIusu7stf7PfCLRUzLovG+9S7c1byULS7MjO3H2YbGPbudvg18CzIuIAsg1K526GR8l2oTy7oq3n9HWhEfHKqDhDsZvLK3t46G1svCtlf+Df6ZndBz3Om+/Cel4+vTsj8vsBSCldnlJ6UUppe+DzZN/Mb+zrOkp18gey7cxb+jJzSunXwN1UfClP2eEUfyALFV29A7h2AHW5He/C7fjARMR2ZGHwypTS2V3ubmMz74GUUltKaUpKafuU0uvIDkP4czXqqgYDYe+uAp4fEcdHxMj88pKI2LcfbfwAeENkw46MJPtmsJqsq36gtiL78DwKjIiIz7FxD9S/gd0jYhhASukhsjfxVyNi64gYFhHPi4gpPbT/a+CgiBjTzX3/Dzgz/1Z3D/CSiNiSbNfN4or5ppAdBN5X7wHmkh33ckB+eQWwf0S8ON9Y/RD4H7LjbX6dr9t6sjN4z4yIcRGxD/04Ky6l9LtUcYZiN5eehgGYB7wvsnG+tiXr7fhOD/P+GHhRRByTP6efI9sA35m/Fh+MiO0icwjZgedP/+OLiIMjYnj+zfQCso3RnX1dR6keUkpPkr23z4+It+Sfx5ERcWRUDL/RxafJQlGlTwHviYiPRMRW+Wfji2S7H7s9k78Xbsc35XacLNjnz8+o/PaY6OGs6IjYGrgG+H1K6VPdzPI94GUR8erIzlT/KFmP9h3541vy9sdFxMfJery/09d1rDUDYS9SSsvI9vUfS/YN8WHgK0CfT6NPKf0deDdwLtmb403Am/Iu5YG6Bvgl8A+y3Rir2Lh7vfOA7Mcj4i/59Wlkb/rbyXYlXE73u2VIKf2b7NT5oyunR8ThZMeX/Dif78/Az/Nlvwr473y+McBRwHf7sjIRsRvZ7oqvp5QerrjclK9n57fLS8nOAPxh2vig7Q+T7Wp5GLiY7ODv1RXt3xYRx/Wllr5K2UHfM4Hfku0SWULWe7fJMlNKjwLHkB20/gTZQeXHVjT3VrJjEpeRbVTOzS+dZpEd7/r3/PEfqOa6SNWSUvoq8DGyL0iPkm0bPkw+9Ek38/+eLr0kKaUbgNcB/0F2mMQSsmNrD00p3TWAmtyOV3A7vpEJZLt6O/fWdFBxIk5kJ4h0jgv7VuAlwAldeh+fCxu9R75J9tocDby54j1yPNn7+RGy5+k1KaWn169okVJferjVjCI7A++7wCGpn2+UiPhP4Dkppa7f/Dvvn0D2oVsFfCKldOFg6+3S/leAnVNK7+l15pKLiBOAr5Edh7VfSmlxLw+R1CTcjpdDZGde30gW9meklL5T9xoMhBoK8t0Lo8jG73sJ2ZAQ708p/aTIuiRJfeN2vFj+0oGGiq3Idi/sSnbczVepGEFektTw3I4XyB5CSZKkJudJJZIkSU3OQChJktTkan4M4VZjx6f1G9bmt575Odanr0U30ypuxSZ3Rp/m6zrXJnPHRrP30HZled0t9ZmZul9aPl+P69h9Td3NF90XvGl7Ed1Ojx4KjB4Wumm7m756PTw1XZ6bjadsel/Py+umwo3u6/kx3Tyqp5s9FNTTum08Q/S4PhtNjh7u7K6mPj2p3X9+up+3Yp02fVP1cVk9PeF9qSG45fY7rkkpvb6HR6vO3CazmXXsvqbu5nObvOl9Nd8m13F7vOkyh/42ueaBcP2Gtey9y8FZGTGMYZ1v3AiGxTDi6Q9LdvuZ+zqnD+tyu6f5Nm5vWMTTT1pf5xsW0c28PbURG7ex0X1s9Jin56PrY9iohs3d90wd9LGNZ+bL6nimpgg2WpeN2uiynK6Pq5wverxv4+mVbXa3Hp3Xu2tvk3q7Pm5Y723Qdb2GbX5ZndfzF22TOjuvE7HJ8ivvg4pldVvzM1v06KxxWJfb2Yv09GPo8pwyrMt8FTWx2TYCeqhj4+nRw7K6WU7FOlc8kWy//0t6+hkuFcBtstvk0m6Ta709zl6AimU31zbZXcaSJElNzkAoSZLU5AyEkiRJTc5AKEmS1OQMhJIkSU3OQChJktTkDISSJElNzkAoSZLU5AyEkiRJTc5AKEmS1OQMhJIkSU3OQChJktTkDISSJElNzkAoSZLU5AyEkiRJTc5AKEmS1OQipVTbBUT8Etihpgvpnx2Ax4ouomA+Bz4H9Vz/x1JKr6/TstSLBtwm96ZZPqvNsJ7NsI7Q+OvZ7Ta55oGw0UTEopTSxKLrKJLPgc9Bs6+/yqNZ3qvNsJ7NsI5Q3vV0l7EkSVKTMxBKkiQ1uWYMhBcUXUAD8DnwOWj29Vd5NMt7tRnWsxnWEUq6nk13DKEkSZI21ow9hJIkSapQ6kAYEa+PiL9HxN0R8alu7h8dEZfl9/8pInbPpx8SEX/NL7dExFvz6c+JiN9GxO0RcVtEnFznVeq3gT4HFfc/NyKWR8TH+9pmo6nRc3BK/h64NSLmR8SYOqzKgA3is7B7RHRUfB6+WfGYURFxQUT8IyLujIhj6rhKGuIiYm5EPBIRt/Zwf0TEN/L3bFtEHFRx33si4q788p76Vd1/fVjP4/L1+1tELIyI/Svuuzef/teIWFS/qvunD+t4WEQ8WbGd+VzFfaX5f9OH9fxExTreGhHrI2J8fl/jv5YppVJegOHAP4E9gVHALcB+XeaZAXwzv34scFl+fRwwIr++C/AIMCK/flA+fSvgH13bbKTLYJ6DivsvB34IfLyvbTbSpUbPwW7APcDY/PYPgPcWva61eA6A3YFbe2j3C8AX8+vDgB2KXlcvQ+cCTAYO2sz77yjgF0AALwP+lE8fDyzO/26XX9+u6PUZxHpO6qwfOLJzPfPb95bhc9eHdTwMuKqb6WX7f7PZ9ewy75uA68r0Wpa5h/AQ4O6U0uKU0hrg+8DRXeY5Gvhufv1y4IiIiJTSypTSunz6GCABpJQeSin9Jb++DLiDLBw0qgE/BwAR8Ray4HNbP9tsJLV4DiD7gjA2IkaQfYF4sDblV8WgnoPNaAW+DJBS2pBSauSBVlUyKaXrgfbNzHI0MC9l/ghsGxG7AK8Dfp1Sak8pPQH8GmjYgc97W8+U0sJ8PQD+CDy7LoVVUR9ey56U6v9NP9dzKjC/huVUXZkD4W7AfRW372fT8Pb0PHkAfBLYHiAiXhoRtwF/Az5UERDJ798dOBD4Uy2Kr5IBPwcRsSXwSbJeoP622Uiq/hyklB4AzgH+BTwEPJlS+lVNqq+OQX0WgD0i4uaIWBARrwSIiG3z+/4rIv4SET+MiJ1qtQJSN3p6X5dtG9Uf7yPrFe2UgF9FxE0RcWJBNVXLyyM7ROsXEfHCfNqQfC0jYhzZl5QrKiY3/GtZ5kA4KCmlP6WUXgi8BDi98hixPChcAXw0pfRUUTXW2JnA11JKy4supEBn0s1zEBHbkX1L3QPYFdgiIt5d//Lq4iHguSmlA4GPAZdGxNZkPaTPBhamlA4C/kAWkiXVQES8iiwQfrJi8qH55+9I4KSImFxIcYP3F2BCSml/4FzgJ8WWU3NvAn6fUqrsTWz417LMgfAB4DkVt5+dT+t2nnzX3zbA45UzpJTuAJYDL8rnG0kWBi9JKf2oJpVXz2Ceg5cCMyPiXuCjwBkR8eE+ttlIavEcvBq4J6X0aEppLfAjsuN8GtWAn4OU0uqU0uMAKaWbyI7neT7Z87OSbN0hO8byIKT66el9XbZtVK8iogW4CDi68/MIT++tIKX0CPBjsl2spZNSeqrzi3dK6WpgZETswBB8LXPH0mV3cRleyzIHwhuBvSNij4gYRfYCXNllniuBzjPQ3kZ2gGfKHzMCICImAPsA9+bHVH0buCOl9P/qshaDM+DnIKX0ypTS7iml3YGvA19KKZ3XxzYbSS2eg38BL4uIcfl74giy40kb1WA+C8+KiOEAEbEnsDewOKWUgJ+RHQwO2XNwe21XQ9rIlcC0yLyM7NCNh4BrgNdGxHZ5b/5r82mlFBHPJfvidXxK6R8V07eIiK06r5OtZ7dntza6iNi54rjtQ8iyx+OU7/9NryJiG2AK8NOKaaV4LUcUXcBApZTW5b0515CdqTQ3pXRbRJwFLEopXUkW7i6OiLvJDgQ9Nn/4ocCnImItsAGYkVJ6LCIOBY4H/hYRf83nPSP/RtNwBvkc9KvNmq7IINToOfhTRFxOtptjHXAzDTzy/CCfg8nAWRWfhQ9V7Ob4ZP6YrwOPAifUbaU05EXEfLIvHDtExP3A54GRACmlbwJXk51pfDdZb/UJ+X3tEfFfZGEC4Kwuu+YaSh/W83Nkx/POzjPTupTSRGAn4Mf5tBHApSmlX9Z9BfqgD+v4NmB6RKwDOoBj8y+dpfp/04f1BHgr8KuU0oqKh5bitfSXSiRJkppcmXcZS5IkqQoMhJIkSU3OQChJktTkDISSJElNzkAoSZLU5AyEkiRJTc5AKEmS1OQMhJIkSU3u/wNFGk7bjm4DcgAAAABJRU5ErkJggg==\n",
          "text/plain": "<Figure size 792x648 with 5 Axes>"
         },
         "metadata": {},
         "output_type": "display_data"
        }
       ]
      }
     },
     "e475f28435ef48758ca4cb689d8c8bb7": {
      "model_module": "@jupyter-widgets/base",
      "model_module_version": "1.2.0",
      "model_name": "LayoutModel",
      "state": {}
     },
     "e49535d545f5414a948be7a7d3a31033": {
      "model_module": "@jupyter-widgets/controls",
      "model_module_version": "1.5.0",
      "model_name": "HTMLModel",
      "state": {
       "layout": "IPY_MODEL_d4c8093a74154ad5afe04f49bd93e4b4",
       "style": "IPY_MODEL_6d9639549d7940a3bba3597bbf93cc5f",
       "value": "<h5><b>5</b></h5>"
      }
     },
     "e4a7b04587d34654812d8fa6bee939be": {
      "model_module": "@jupyter-widgets/controls",
      "model_module_version": "1.5.0",
      "model_name": "DescriptionStyleModel",
      "state": {
       "description_width": ""
      }
     },
     "e4c1aa6cec4d41df93a5b59d0a46bd44": {
      "model_module": "@jupyter-widgets/base",
      "model_module_version": "1.2.0",
      "model_name": "LayoutModel",
      "state": {
       "justify_content": "center"
      }
     },
     "e4cee4d2a1084a7ca9d66e8e424eee64": {
      "model_module": "@jupyter-widgets/base",
      "model_module_version": "1.2.0",
      "model_name": "LayoutModel",
      "state": {
       "justify_content": "center"
      }
     },
     "e57b03a5367046a0bf0ca79f7692f632": {
      "model_module": "@jupyter-widgets/controls",
      "model_module_version": "1.5.0",
      "model_name": "DescriptionStyleModel",
      "state": {
       "description_width": ""
      }
     },
     "e58b65f0ce7047e5a3c1d590a4426a56": {
      "model_module": "@jupyter-widgets/base",
      "model_module_version": "1.2.0",
      "model_name": "LayoutModel",
      "state": {}
     },
     "e5ad56a704254512a256a3af4810f944": {
      "model_module": "@jupyter-widgets/controls",
      "model_module_version": "1.5.0",
      "model_name": "DescriptionStyleModel",
      "state": {
       "description_width": ""
      }
     },
     "e5b2cfc2f24c4b8fbc9ea0b5cfb10905": {
      "model_module": "@jupyter-widgets/base",
      "model_module_version": "1.2.0",
      "model_name": "LayoutModel",
      "state": {
       "grid_gap": "0px 0px",
       "grid_template_areas": "\n                               \"left right right right\"\n                               \"bottom bottom bottom bottom\"\n                               ",
       "grid_template_columns": "31% 23% 23% 23%",
       "grid_template_rows": "auto auto"
      }
     },
     "e5cf130587fc4cfea1697c98034cf8f8": {
      "model_module": "@jupyter-widgets/base",
      "model_module_version": "1.2.0",
      "model_name": "LayoutModel",
      "state": {
       "min_width": "auto"
      }
     },
     "e5ebd6dea4bd43b795d5f1837a4e8d6a": {
      "model_module": "@jupyter-widgets/controls",
      "model_module_version": "1.5.0",
      "model_name": "HTMLModel",
      "state": {
       "layout": "IPY_MODEL_0b2e0b1f29024b1db097eb37e7b16ca7",
       "style": "IPY_MODEL_8192878194de420a8bc1a43bf5eb7cf0",
       "value": "<h5 style='color:#34bc6e'>True</h5>"
      }
     },
     "e621a6b4afa64765bbe518c601711f48": {
      "model_module": "@jupyter-widgets/controls",
      "model_module_version": "1.5.0",
      "model_name": "DescriptionStyleModel",
      "state": {
       "description_width": ""
      }
     },
     "e68c926ef9c84118b6b0b5385f3ae8d4": {
      "model_module": "@jupyter-widgets/controls",
      "model_module_version": "1.5.0",
      "model_name": "HTMLModel",
      "state": {
       "layout": "IPY_MODEL_e3dc175638044bb3b33798ce56750b75",
       "style": "IPY_MODEL_0ef1c10381744ee0a6b5e307404c64ba",
       "value": "<h5>16</h5>"
      }
     },
     "e767f8dbe5e94860a488e7c5bd30f771": {
      "model_module": "@jupyter-widgets/base",
      "model_module_version": "1.2.0",
      "model_name": "LayoutModel",
      "state": {}
     },
     "e7964965ee604890aaaeae566d660c96": {
      "model_module": "@jupyter-widgets/controls",
      "model_module_version": "1.5.0",
      "model_name": "DescriptionStyleModel",
      "state": {
       "description_width": ""
      }
     },
     "e803cc120f874ac7b92498d1e2f5db46": {
      "model_module": "@jupyter-widgets/controls",
      "model_module_version": "1.5.0",
      "model_name": "HTMLModel",
      "state": {
       "layout": "IPY_MODEL_c1bd9de2b0ca4e39b5c535e104353671",
       "style": "IPY_MODEL_578506af13784f71aeb305e8b9267f8a",
       "value": "<h5><b>5</b></h5>"
      }
     },
     "e8476248745744c9847c6227f0c3af80": {
      "model_module": "@jupyter-widgets/base",
      "model_module_version": "1.2.0",
      "model_name": "LayoutModel",
      "state": {
       "justify_content": "center"
      }
     },
     "e89a06cb0070445e94fcd75b0144b3d9": {
      "model_module": "@jupyter-widgets/controls",
      "model_module_version": "1.5.0",
      "model_name": "DescriptionStyleModel",
      "state": {
       "description_width": ""
      }
     },
     "e8eaaa65990f447b816d2d02483450ca": {
      "model_module": "@jupyter-widgets/base",
      "model_module_version": "1.2.0",
      "model_name": "LayoutModel",
      "state": {
       "width": "190px"
      }
     },
     "e96cedd0ed714365a577fa2121f209da": {
      "model_module": "@jupyter-widgets/controls",
      "model_module_version": "1.5.0",
      "model_name": "DescriptionStyleModel",
      "state": {
       "description_width": ""
      }
     },
     "e9794f86db6c42e8802f63928ec090a9": {
      "model_module": "@jupyter-widgets/controls",
      "model_module_version": "1.5.0",
      "model_name": "DescriptionStyleModel",
      "state": {
       "description_width": ""
      }
     },
     "e97ccbd232d64f1b97b518c6cd751e92": {
      "model_module": "@jupyter-widgets/base",
      "model_module_version": "1.2.0",
      "model_name": "LayoutModel",
      "state": {}
     },
     "e98d1f549e4f4bb7bbd631fb06816d84": {
      "model_module": "@jupyter-widgets/base",
      "model_module_version": "1.2.0",
      "model_name": "LayoutModel",
      "state": {
       "align_items": "center",
       "justify_content": "center",
       "margin": "0px 0px 0px 0px",
       "max_height": "250px",
       "max_width": "250px",
       "min_height": "250px",
       "min_width": "250px"
      }
     },
     "e9ef4cce45a5410f811d2bea8fb60b28": {
      "model_module": "@jupyter-widgets/controls",
      "model_module_version": "1.5.0",
      "model_name": "HTMLModel",
      "state": {
       "layout": "IPY_MODEL_92ff5531121c44d4ac6b5de1e3d137d9",
       "style": "IPY_MODEL_7611ea3babe54e6bb59363247360bc56",
       "value": "<table><style>\ntable {\n    border-collapse: collapse;\n    width: auto;\n}\n\nth, td {\n    text-align: left;\n    padding: 8px;\n}\n\ntr:nth-child(even) {background-color: #f6f6f6;};\n</style><tr><th></th><th>Type</th><th>Gate error</th></tr><tr><td><font style='font-weight:bold'>cx3_4</font></td><td>cx</td><td>0.01921</td></tr><tr><td><font style='font-weight:bold'>cx4_3</font></td><td>cx</td><td>0.01921</td></tr><tr><td><font style='font-weight:bold'>cx1_3</font></td><td>cx</td><td>0.0127</td></tr></table>"
      }
     },
     "ea17b16507444ce78142c91860ca1306": {
      "model_module": "@jupyter-widgets/controls",
      "model_module_version": "1.5.0",
      "model_name": "GridBoxModel",
      "state": {
       "children": [
        "IPY_MODEL_56b981bdf24d42e9b0114f9f8c4b101e",
        "IPY_MODEL_32b3de84c5ad43d7a04e8fb3b31eca21",
        "IPY_MODEL_c4ae4650b4b2466593837742e29f01bb"
       ],
       "layout": "IPY_MODEL_8b5885a8c6064a06bff1d12b45d09439"
      }
     },
     "ea38c662d82442b2a9055589f668b0db": {
      "model_module": "@jupyter-widgets/controls",
      "model_module_version": "1.5.0",
      "model_name": "IntProgressModel",
      "state": {
       "layout": "IPY_MODEL_8644bcf413da469fb0b2c382a823111a",
       "max": 242,
       "style": "IPY_MODEL_41d4b004d3464e6fada91937fc36b31d",
       "value": 230
      }
     },
     "eabd66bd09bb4c8bbbd085ca17d0f10d": {
      "model_module": "@jupyter-widgets/base",
      "model_module_version": "1.2.0",
      "model_name": "LayoutModel",
      "state": {
       "justify_content": "center"
      }
     },
     "eaccf39be6a84256a1d26d3621285542": {
      "model_module": "@jupyter-widgets/controls",
      "model_module_version": "1.5.0",
      "model_name": "HTMLModel",
      "state": {
       "layout": "IPY_MODEL_9c070c56a4504cbca4a40c16306bf738",
       "style": "IPY_MODEL_9e91304cbf07445eb3a2d542c87b18c8",
       "value": "<h5>84.2 / 88.6 us</h5>"
      }
     },
     "eaf677c3e13f4e7fb26fde4945b65150": {
      "model_module": "@jupyter-widgets/controls",
      "model_module_version": "1.5.0",
      "model_name": "DescriptionStyleModel",
      "state": {
       "description_width": ""
      }
     },
     "eb30351e778a4e4592b7079e14d88587": {
      "model_module": "@jupyter-widgets/base",
      "model_module_version": "1.2.0",
      "model_name": "LayoutModel",
      "state": {
       "max_width": "180px"
      }
     },
     "eb62d7713b0e4b9f94047a479fe83021": {
      "model_module": "@jupyter-widgets/base",
      "model_module_version": "1.2.0",
      "model_name": "LayoutModel",
      "state": {
       "margin": "5px 0px 0px 0px"
      }
     },
     "eb7549b96c4f4ba2ae929890b8866a79": {
      "model_module": "@jupyter-widgets/controls",
      "model_module_version": "1.5.0",
      "model_name": "DescriptionStyleModel",
      "state": {
       "description_width": ""
      }
     },
     "eb9ca7c6193440959e46779cc45b4e6e": {
      "model_module": "@jupyter-widgets/base",
      "model_module_version": "1.2.0",
      "model_name": "LayoutModel",
      "state": {
       "min_width": "auto"
      }
     },
     "ebaae5ef71f340859adebcd2f73ec0c6": {
      "model_module": "@jupyter-widgets/controls",
      "model_module_version": "1.5.0",
      "model_name": "HTMLModel",
      "state": {
       "layout": "IPY_MODEL_1288950027854af6b7c078d1d9e5f76c",
       "style": "IPY_MODEL_beea09b4914a42b1aa21319d704eb4ff",
       "value": "<div><font style='font-weight:bold'>last_update_date</font>: Thu 09 June 2022 at 05:22 UTC</div>"
      }
     },
     "ebcd2e6109a34165917bb7917a2c02c7": {
      "model_module": "@jupyter-widgets/base",
      "model_module_version": "1.2.0",
      "model_name": "LayoutModel",
      "state": {
       "grid_area": "right"
      }
     },
     "ec61d212e1e94962a9b8a9b99b9badd5": {
      "model_module": "@jupyter-widgets/base",
      "model_module_version": "1.2.0",
      "model_name": "LayoutModel",
      "state": {
       "margin": "8px 0px 0px 0px"
      }
     },
     "ed197e8a29734dc8af15d5a71950ff91": {
      "model_module": "@jupyter-widgets/controls",
      "model_module_version": "1.5.0",
      "model_name": "HTMLModel",
      "state": {
       "layout": "IPY_MODEL_89cb7c01fb6c4fa7a335df5608a6f0ba",
       "style": "IPY_MODEL_924c392980ba4141843298f48b89624c",
       "value": "<table><style>\ntable {\n    border-collapse: collapse;\n    width: auto;\n}\n\nth, td {\n    text-align: left;\n    padding: 8px;\n}\n\ntr:nth-child(even) {background-color: #f6f6f6;};\n</style><tr><th></th><th>Type</th><th>Gate error</th></tr><tr><td><font style='font-weight:bold'>cx4_3</font></td><td>cx</td><td>0.01532</td></tr><tr><td><font style='font-weight:bold'>cx3_4</font></td><td>cx</td><td>0.01532</td></tr><tr><td><font style='font-weight:bold'>cx2_1</font></td><td>cx</td><td>0.04137</td></tr></table>"
      }
     },
     "ed1bc63968a94882ad88cd50a6a23084": {
      "model_module": "@jupyter-widgets/base",
      "model_module_version": "1.2.0",
      "model_name": "LayoutModel",
      "state": {}
     },
     "ed231069f3454defa00f3fbb0afe226a": {
      "model_module": "@jupyter-widgets/output",
      "model_module_version": "1.0.0",
      "model_name": "OutputModel",
      "state": {
       "layout": "IPY_MODEL_96b211b15ce241f19104ac4ec6c3a083",
       "outputs": [
        {
         "data": {
          "image/png": "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\n",
          "text/plain": "<Figure size 360x360 with 1 Axes>"
         },
         "metadata": {},
         "output_type": "display_data"
        }
       ]
      }
     },
     "ed49ce5b115944f19d19cf225d634d86": {
      "model_module": "@jupyter-widgets/base",
      "model_module_version": "1.2.0",
      "model_name": "LayoutModel",
      "state": {
       "align_items": "center",
       "display": "inline-flex",
       "flex_flow": "column"
      }
     },
     "edb83007a80a447c97f45032c2f6dd38": {
      "model_module": "@jupyter-widgets/controls",
      "model_module_version": "1.5.0",
      "model_name": "DescriptionStyleModel",
      "state": {
       "description_width": ""
      }
     },
     "ee12e9ef8f75478cb3507bac6c595ecd": {
      "model_module": "@jupyter-widgets/controls",
      "model_module_version": "1.5.0",
      "model_name": "HTMLModel",
      "state": {
       "layout": "IPY_MODEL_670d373d587c498abbe9200010f8d15a",
       "style": "IPY_MODEL_eaf677c3e13f4e7fb26fde4945b65150",
       "value": "<h5>1</h5>"
      }
     },
     "ee2522a9ace449519ee8e9d05a29a9b8": {
      "model_module": "@jupyter-widgets/controls",
      "model_module_version": "1.5.0",
      "model_name": "HTMLModel",
      "state": {
       "layout": "IPY_MODEL_8a672d77305c4402883a859e6d8e1862",
       "style": "IPY_MODEL_bab3412f51b64ca398e0bc6d577fb8cf",
       "value": "<h5>0.0264</h5>"
      }
     },
     "eeaaefa3273a4b71810a65e4bc5530a4": {
      "model_module": "@jupyter-widgets/controls",
      "model_module_version": "1.5.0",
      "model_name": "IntProgressModel",
      "state": {
       "layout": "IPY_MODEL_09a77e17b6fb41d4a1da3c89d12edc22",
       "max": 50,
       "style": "IPY_MODEL_7883709be2b84016ab440fd3df8e10b6",
       "value": 1
      }
     },
     "ef11afdab89e4e719ed34f2674339a4e": {
      "model_module": "@jupyter-widgets/controls",
      "model_module_version": "1.5.0",
      "model_name": "HTMLModel",
      "state": {
       "layout": "IPY_MODEL_0881c85a5bf64c78bffe7a6630875d43",
       "style": "IPY_MODEL_afff69e30ac14ea9a33998c1ddf9291e",
       "value": "<h5>0.0429</h5>"
      }
     },
     "ef1890dc8aae4cef82c567517dd0a47c": {
      "model_module": "@jupyter-widgets/base",
      "model_module_version": "1.2.0",
      "model_name": "LayoutModel",
      "state": {
       "min_width": "auto"
      }
     },
     "ef7d99862eb9467ebb9b208b78fc56eb": {
      "model_module": "@jupyter-widgets/controls",
      "model_module_version": "1.5.0",
      "model_name": "HTMLModel",
      "state": {
       "layout": "IPY_MODEL_d44dba63eaf0459e8671a67cd7316e02",
       "style": "IPY_MODEL_0ba098a9b69440369d6f0841b691234c",
       "value": "<h5>0.0496</h5>"
      }
     },
     "ef900865a57441b09fc3c23564bca372": {
      "model_module": "@jupyter-widgets/controls",
      "model_module_version": "1.5.0",
      "model_name": "DescriptionStyleModel",
      "state": {
       "description_width": ""
      }
     },
     "ef924fe4d9964ed2a31d2f1fc1a887ec": {
      "model_module": "@jupyter-widgets/base",
      "model_module_version": "1.2.0",
      "model_name": "LayoutModel",
      "state": {
       "justify_content": "center"
      }
     },
     "efa8c8797b194624a26c94874eefe99f": {
      "model_module": "@jupyter-widgets/controls",
      "model_module_version": "1.5.0",
      "model_name": "HTMLModel",
      "state": {
       "layout": "IPY_MODEL_55a864146f344db9b8c4327df8de2ba6",
       "style": "IPY_MODEL_0f01677465d6478a9daa713949c55872",
       "value": "<h5><b>5</b></h5>"
      }
     },
     "effc87c8d1d246fca6f9310d1ff64ab1": {
      "model_module": "@jupyter-widgets/controls",
      "model_module_version": "1.5.0",
      "model_name": "DescriptionStyleModel",
      "state": {
       "description_width": ""
      }
     },
     "f042345bdbcc49e09dfa7368cca9f210": {
      "model_module": "@jupyter-widgets/controls",
      "model_module_version": "1.5.0",
      "model_name": "VBoxModel",
      "state": {
       "children": [
        "IPY_MODEL_3ae343a21678452986a9d0641b4e3cc2",
        "IPY_MODEL_3c820910cec2484b971188cb92159ac0",
        "IPY_MODEL_54956e3476dc47c28d69325033b8f705",
        "IPY_MODEL_33be807f54e34149a88e91d814f37a3d",
        "IPY_MODEL_7e7591510a124b6c990b084f5e5e1691",
        "IPY_MODEL_168f8bc2978f487c91c150ae5ed0b5f9",
        "IPY_MODEL_b148b93dd12c4dc69df204ca93b7949f",
        "IPY_MODEL_0fb5c183c7914026b4f574c32e942d5c",
        "IPY_MODEL_889e9a5f95864b23bbb54599b5f6e821",
        "IPY_MODEL_53f179f242e84cdbbcdff428acb63e1b"
       ],
       "layout": "IPY_MODEL_0f590fffb2324710a7b19030736d9843"
      }
     },
     "f05d91ced3984a9189b93924dbb4dc20": {
      "model_module": "@jupyter-widgets/controls",
      "model_module_version": "1.5.0",
      "model_name": "LabelModel",
      "state": {
       "layout": "IPY_MODEL_98ca76c324b64b3cae38a06514f80ac1",
       "style": "IPY_MODEL_e57b03a5367046a0bf0ca79f7692f632",
       "value": "316"
      }
     },
     "f0795e25d2fd49c3b98ef0157d69ba68": {
      "model_module": "@jupyter-widgets/base",
      "model_module_version": "1.2.0",
      "model_name": "LayoutModel",
      "state": {}
     },
     "f0804c9b6955446a997989a62b3dd3db": {
      "model_module": "@jupyter-widgets/controls",
      "model_module_version": "1.5.0",
      "model_name": "VBoxModel",
      "state": {
       "children": [
        "IPY_MODEL_78e0a8e814ad483cb9ef807a885e13e5",
        "IPY_MODEL_77433a4344cc49a9a24477567c79842f",
        "IPY_MODEL_0d4cd2e2578b48a683d54d1d0ea3722e",
        "IPY_MODEL_57aeff20a28841e591ce92c9f6c1418d",
        "IPY_MODEL_b67f454b593c40c395a302db4bfb76eb",
        "IPY_MODEL_f32b26dc2fad4881ae1bd07445713896",
        "IPY_MODEL_4f3f97a379c44bc18b49bc80a8032a26",
        "IPY_MODEL_0dd88a1526ae4c67875660d781469d62"
       ],
       "layout": "IPY_MODEL_a73e70dfc21e4d2398512971bc136420"
      }
     },
     "f0ce2190ae80461bb0e586e996304368": {
      "model_module": "@jupyter-widgets/base",
      "model_module_version": "1.2.0",
      "model_name": "LayoutModel",
      "state": {
       "grid_gap": "0px 0px",
       "grid_template_areas": "\n                                                   \"top top top\"\n                                                   \"left middle right\"\n                                                   ",
       "grid_template_columns": "33% 33% 33%",
       "grid_template_rows": "auto auto"
      }
     },
     "f12274a9db9c4429a7069195b5a7b78b": {
      "model_module": "@jupyter-widgets/base",
      "model_module_version": "1.2.0",
      "model_name": "LayoutModel",
      "state": {
       "grid_area": "bottom",
       "width": "auto"
      }
     },
     "f1f0763edc0742689e98ca574d1a9bd0": {
      "model_module": "@jupyter-widgets/controls",
      "model_module_version": "1.5.0",
      "model_name": "DescriptionStyleModel",
      "state": {
       "description_width": ""
      }
     },
     "f21c818cef9049c7b93a12c30f51e8cc": {
      "model_module": "@jupyter-widgets/output",
      "model_module_version": "1.0.0",
      "model_name": "OutputModel",
      "state": {
       "layout": "IPY_MODEL_53d3aaf13c1b4991824ad3e6e6aad3ec",
       "outputs": [
        {
         "data": {
          "image/png": "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\n",
          "text/plain": "<Figure size 360x360 with 1 Axes>"
         },
         "metadata": {},
         "output_type": "display_data"
        }
       ]
      }
     },
     "f2547c47ad89498684f6561f36a4b729": {
      "model_module": "@jupyter-widgets/base",
      "model_module_version": "1.2.0",
      "model_name": "LayoutModel",
      "state": {
       "min_width": "auto"
      }
     },
     "f264b15a7e0f49c5ac172ce3884a932d": {
      "model_module": "@jupyter-widgets/controls",
      "model_module_version": "1.5.0",
      "model_name": "DescriptionStyleModel",
      "state": {
       "description_width": ""
      }
     },
     "f2a98307c1df46adba01815174b70bb5": {
      "model_module": "@jupyter-widgets/base",
      "model_module_version": "1.2.0",
      "model_name": "LayoutModel",
      "state": {
       "min_width": "auto"
      }
     },
     "f2c1254a1a4647b89507b54c666f9bca": {
      "model_module": "@jupyter-widgets/controls",
      "model_module_version": "1.5.0",
      "model_name": "DescriptionStyleModel",
      "state": {
       "description_width": ""
      }
     },
     "f2f85a8be312433a95dc342e77e068b6": {
      "model_module": "@jupyter-widgets/controls",
      "model_module_version": "1.5.0",
      "model_name": "DescriptionStyleModel",
      "state": {
       "description_width": ""
      }
     },
     "f303778c1e9a4e9a98b9bdd1404febb3": {
      "model_module": "@jupyter-widgets/base",
      "model_module_version": "1.2.0",
      "model_name": "LayoutModel",
      "state": {
       "margin": "10px 0px 0px 0px"
      }
     },
     "f32b26dc2fad4881ae1bd07445713896": {
      "model_module": "@jupyter-widgets/controls",
      "model_module_version": "1.5.0",
      "model_name": "LabelModel",
      "state": {
       "layout": "IPY_MODEL_8cc7eee036bf4b85a06aa8dc4cc014f4",
       "style": "IPY_MODEL_caf13c204efc40cc893dea21108e2efb",
       "value": "Avg. T1 / T2"
      }
     },
     "f337aabccb7b4b0d83025828cdd54af3": {
      "model_module": "@jupyter-widgets/controls",
      "model_module_version": "1.5.0",
      "model_name": "IntProgressModel",
      "state": {
       "layout": "IPY_MODEL_500c88eec144439787b486b60fc38932",
       "max": 50,
       "style": "IPY_MODEL_1b365a7f057049b29edb283bfa766670"
      }
     },
     "f340c12612d946cb8023272a80059009": {
      "model_module": "@jupyter-widgets/controls",
      "model_module_version": "1.5.0",
      "model_name": "HTMLModel",
      "state": {
       "layout": "IPY_MODEL_6bac8d12f6b84339b7b126e65c07ef79",
       "style": "IPY_MODEL_0d92b4efa66244f18c761b683a0efcc8",
       "value": "<h5 style='color:#34bc6e'>True</h5>"
      }
     },
     "f351c0bf69d44ab786f8e8d9eeb014a6": {
      "model_module": "@jupyter-widgets/controls",
      "model_module_version": "1.5.0",
      "model_name": "TabModel",
      "state": {
       "layout": "IPY_MODEL_3970c43f5f5f4c5f9ea2d4229d2a0aae"
      }
     },
     "f3f1b474d63840efbef1cfbbf3994f8e": {
      "model_module": "@jupyter-widgets/base",
      "model_module_version": "1.2.0",
      "model_name": "LayoutModel",
      "state": {
       "justify_content": "center"
      }
     },
     "f44380a9691048c8b3997858c9785ec1": {
      "model_module": "@jupyter-widgets/base",
      "model_module_version": "1.2.0",
      "model_name": "LayoutModel",
      "state": {}
     },
     "f44a776803e749c6a554472676ad262b": {
      "model_module": "@jupyter-widgets/controls",
      "model_module_version": "1.5.0",
      "model_name": "DescriptionStyleModel",
      "state": {
       "description_width": ""
      }
     },
     "f48e33ed6de244a2922bd0b1db6c1e1a": {
      "model_module": "@jupyter-widgets/controls",
      "model_module_version": "1.5.0",
      "model_name": "HBoxModel",
      "state": {
       "children": [
        "IPY_MODEL_2b85139b78b1491584d3a35147165338",
        "IPY_MODEL_56020ba8091340a6b33487f85cd394bb",
        "IPY_MODEL_bc740da34d704d67ab5fa6427e922a45"
       ],
       "layout": "IPY_MODEL_2b078bbc0b6743a094bd6e1b767676de"
      }
     },
     "f4e94489a3fa4c91bf8f583eeec29e2c": {
      "model_module": "@jupyter-widgets/controls",
      "model_module_version": "1.5.0",
      "model_name": "DescriptionStyleModel",
      "state": {
       "description_width": ""
      }
     },
     "f50881f137544b48ae8490d71fff93f9": {
      "model_module": "@jupyter-widgets/controls",
      "model_module_version": "1.5.0",
      "model_name": "HTMLModel",
      "state": {
       "layout": "IPY_MODEL_53c55d380a73458eb08dbd3e28e42275",
       "style": "IPY_MODEL_da5c3ccce51e4169b46bf315ca93c165",
       "value": "<h5>8</h5>"
      }
     },
     "f5678e3db1b440b3a930fb5858546451": {
      "model_module": "@jupyter-widgets/controls",
      "model_module_version": "1.5.0",
      "model_name": "DescriptionStyleModel",
      "state": {
       "description_width": ""
      }
     },
     "f569729a87774ff5aa800adb72f8097c": {
      "model_module": "@jupyter-widgets/base",
      "model_module_version": "1.2.0",
      "model_name": "LayoutModel",
      "state": {
       "width": "190px"
      }
     },
     "f56e7d75cb0f4b40ac0e58e2e8265c53": {
      "model_module": "@jupyter-widgets/controls",
      "model_module_version": "1.5.0",
      "model_name": "HTMLModel",
      "state": {
       "layout": "IPY_MODEL_4f24e3d6d5754cd99a3d4286dbd7c491",
       "style": "IPY_MODEL_1c53a32991f6465bbf2313bd02c230f6",
       "value": "<font style='color:#DC267F'>ERROR</font>"
      }
     },
     "f627f55859eb4f508583df7bbf0c3541": {
      "model_module": "@jupyter-widgets/controls",
      "model_module_version": "1.5.0",
      "model_name": "GridBoxModel",
      "state": {
       "children": [
        "IPY_MODEL_7b10e6ccff8c46ec82b3e290ce01d099",
        "IPY_MODEL_e2afd3758763422683a81662a1e24722",
        "IPY_MODEL_72f78f5ab5214c899fc4595a019111b9",
        "IPY_MODEL_93efaee22ff1445d8a5ad6612daf7e16",
        "IPY_MODEL_67ab894129cb4926b8bb9e9b2464d92e",
        "IPY_MODEL_dcaffd857ef44166af2b4e35754ecf10",
        "IPY_MODEL_72d215716830410b98fcf49a2ad8db58"
       ],
       "layout": "IPY_MODEL_4a3b4365219d459b981bebfb9bde305c"
      }
     },
     "f62a4ddd76204cc8b598da7f0d66eb32": {
      "model_module": "@jupyter-widgets/controls",
      "model_module_version": "1.5.0",
      "model_name": "DescriptionStyleModel",
      "state": {
       "description_width": ""
      }
     },
     "f63b2d3ed50c46b19e90d5ab17210bad": {
      "model_module": "@jupyter-widgets/base",
      "model_module_version": "1.2.0",
      "model_name": "LayoutModel",
      "state": {}
     },
     "f68b9955b73f4df38d202495b5295cc3": {
      "model_module": "@jupyter-widgets/base",
      "model_module_version": "1.2.0",
      "model_name": "LayoutModel",
      "state": {
       "justify_content": "center",
       "max_width": "250px",
       "min_width": "250px"
      }
     },
     "f6b06bb967c142fb93d6316c9dd6dd0e": {
      "model_module": "@jupyter-widgets/controls",
      "model_module_version": "1.5.0",
      "model_name": "LabelModel",
      "state": {
       "layout": "IPY_MODEL_f63b2d3ed50c46b19e90d5ab17210bad",
       "style": "IPY_MODEL_effc87c8d1d246fca6f9310d1ff64ab1",
       "value": "Quantum Vol."
      }
     },
     "f75d5a2525ba4f25a8b09f8c6263f626": {
      "model_module": "@jupyter-widgets/controls",
      "model_module_version": "1.5.0",
      "model_name": "DescriptionStyleModel",
      "state": {
       "description_width": ""
      }
     },
     "f78da227947145748698cdbe42cca795": {
      "model_module": "@jupyter-widgets/controls",
      "model_module_version": "1.5.0",
      "model_name": "DescriptionStyleModel",
      "state": {
       "description_width": ""
      }
     },
     "f7b60fd7f2bf4fff85cd37bd38b6eb8e": {
      "model_module": "@jupyter-widgets/controls",
      "model_module_version": "1.5.0",
      "model_name": "DescriptionStyleModel",
      "state": {
       "description_width": ""
      }
     },
     "f7fd41b056784d7f9a2664e5ff5cc02a": {
      "model_module": "@jupyter-widgets/controls",
      "model_module_version": "1.5.0",
      "model_name": "DescriptionStyleModel",
      "state": {
       "description_width": ""
      }
     },
     "f808d15f61d54e8095607fa4c8316145": {
      "model_module": "@jupyter-widgets/controls",
      "model_module_version": "1.5.0",
      "model_name": "HTMLModel",
      "state": {
       "layout": "IPY_MODEL_7501a82421aa4460a0badbe61a79f181",
       "style": "IPY_MODEL_f2f85a8be312433a95dc342e77e068b6",
       "value": "<h5>0.0121</h5>"
      }
     },
     "f8465cd720234c74b585f1dc96434c1a": {
      "model_module": "@jupyter-widgets/base",
      "model_module_version": "1.2.0",
      "model_name": "LayoutModel",
      "state": {
       "justify_content": "center"
      }
     },
     "f86a867c5c8b4ee38f69d4cc986e94d3": {
      "model_module": "@jupyter-widgets/controls",
      "model_module_version": "1.5.0",
      "model_name": "HTMLModel",
      "state": {
       "layout": "IPY_MODEL_64dd02fce6e842eb88cc937924067f5d",
       "style": "IPY_MODEL_7109efcb801448e8b8d9cfa08e3d283f",
       "value": "<h5>Status</h5>"
      }
     },
     "f8a5c176b36f434c9781522f351fd30e": {
      "model_module": "@jupyter-widgets/base",
      "model_module_version": "1.2.0",
      "model_name": "LayoutModel",
      "state": {
       "max_width": "700px",
       "min_width": "700px"
      }
     },
     "f9b4712764f4423fae9f090b0494a85f": {
      "model_module": "@jupyter-widgets/base",
      "model_module_version": "1.2.0",
      "model_name": "LayoutModel",
      "state": {
       "justify_content": "center"
      }
     },
     "f9b6efef32b449fdbc9e1959ff92ed60": {
      "model_module": "@jupyter-widgets/base",
      "model_module_version": "1.2.0",
      "model_name": "LayoutModel",
      "state": {
       "min_width": "auto"
      }
     },
     "fa0179e471ad41f2ada44f650293384f": {
      "model_module": "@jupyter-widgets/controls",
      "model_module_version": "1.5.0",
      "model_name": "LabelModel",
      "state": {
       "layout": "IPY_MODEL_4e853e189dc64d71acc748348cad4264",
       "style": "IPY_MODEL_c2320c9b508c43f2a74ef5f37c3a4f6a",
       "value": "111"
      }
     },
     "fa2e9d114d3e4421a3ea770cdf696d3e": {
      "model_module": "@jupyter-widgets/controls",
      "model_module_version": "1.5.0",
      "model_name": "DescriptionStyleModel",
      "state": {
       "description_width": ""
      }
     },
     "fa4fd6a3e6cf4e1cb8628e2ff26c6189": {
      "model_module": "@jupyter-widgets/base",
      "model_module_version": "1.2.0",
      "model_name": "LayoutModel",
      "state": {
       "justify_content": "center"
      }
     },
     "fa9b329c93e9418f9940a82dd7ea8998": {
      "model_module": "@jupyter-widgets/base",
      "model_module_version": "1.2.0",
      "model_name": "LayoutModel",
      "state": {
       "grid_area": "right",
       "padding": "0px 0px 0px 0px",
       "width": "70px"
      }
     },
     "fa9d1f3196f043878b94f59d2dc771f0": {
      "model_module": "@jupyter-widgets/controls",
      "model_module_version": "1.5.0",
      "model_name": "HTMLModel",
      "state": {
       "layout": "IPY_MODEL_59b3652c689b403a9a80a48c635d319f",
       "style": "IPY_MODEL_40eb719f531a4c21abd21cff8c6e0f66",
       "value": "-"
      }
     },
     "fab139664ed446fb8f9c84fc1f97f398": {
      "model_module": "@jupyter-widgets/controls",
      "model_module_version": "1.5.0",
      "model_name": "HTMLModel",
      "state": {
       "layout": "IPY_MODEL_7b3c0ddff7884c22bff6a543f5f06c2f",
       "style": "IPY_MODEL_1bbe73be8c6545fda601e394216b3654",
       "value": "<h5>16</h5>"
      }
     },
     "fac73e16810b4b16b469e9ceda23f0ef": {
      "model_module": "@jupyter-widgets/controls",
      "model_module_version": "1.5.0",
      "model_name": "HTMLModel",
      "state": {
       "layout": "IPY_MODEL_a59f2a781aef48f4aab811d4e9d9fe05",
       "style": "IPY_MODEL_fe0dabac47364b46a385a98e2cfa3948",
       "value": "<h5 style='color:#dc267f'>False</h5>"
      }
     },
     "fb14e1dd242341a89e67a41154f910d6": {
      "model_module": "@jupyter-widgets/controls",
      "model_module_version": "1.5.0",
      "model_name": "DescriptionStyleModel",
      "state": {
       "description_width": ""
      }
     },
     "fbd05998154b42f989ba3e45cc6732e0": {
      "model_module": "@jupyter-widgets/controls",
      "model_module_version": "1.5.0",
      "model_name": "ButtonStyleModel",
      "state": {
       "button_color": "white"
      }
     },
     "fc13df7c47a84e64ad9da243c76d97e8": {
      "model_module": "@jupyter-widgets/controls",
      "model_module_version": "1.5.0",
      "model_name": "DescriptionStyleModel",
      "state": {
       "description_width": ""
      }
     },
     "fc24127e631b4085915ff5ec46e9d126": {
      "model_module": "@jupyter-widgets/controls",
      "model_module_version": "1.5.0",
      "model_name": "LabelModel",
      "state": {
       "layout": "IPY_MODEL_1c5d7aad0d2c41bda105edf05746e923",
       "style": "IPY_MODEL_5dd10501045e4655b0a4d5e839742b9a",
       "value": "12"
      }
     },
     "fc8733b26b4a49cd9909ead50b3cb2e1": {
      "model_module": "@jupyter-widgets/controls",
      "model_module_version": "1.5.0",
      "model_name": "HTMLModel",
      "state": {
       "layout": "IPY_MODEL_397519139ad241648071d793b31d921a",
       "style": "IPY_MODEL_b8585213134f4f119463a5f64fc4be0a",
       "value": "<h5>0.0429</h5>"
      }
     },
     "fc88a80f2eca4dbe9a0c7da0ee79370c": {
      "model_module": "@jupyter-widgets/base",
      "model_module_version": "1.2.0",
      "model_name": "LayoutModel",
      "state": {
       "justify_content": "center"
      }
     },
     "fce965f0a0f5495699dfacd7d958d3a7": {
      "model_module": "@jupyter-widgets/controls",
      "model_module_version": "1.5.0",
      "model_name": "DescriptionStyleModel",
      "state": {
       "description_width": ""
      }
     },
     "fd32d2ff4dfc473ebd4a01034b2339e9": {
      "model_module": "@jupyter-widgets/controls",
      "model_module_version": "1.5.0",
      "model_name": "HTMLModel",
      "state": {
       "layout": "IPY_MODEL_dea3692bc82f4c9e8c049c62a462f293",
       "style": "IPY_MODEL_ae7f0fe871074446b5843dcc1e558bfb",
       "value": "<div><font style='font-weight:bold'>last_update_date</font>: Wed 08 June 2022 at 06:00 UTC</div>"
      }
     },
     "fd7c606a8b6e46bbaee35c24008e1224": {
      "model_module": "@jupyter-widgets/base",
      "model_module_version": "1.2.0",
      "model_name": "LayoutModel",
      "state": {
       "grid_area": "left",
       "width": "100%"
      }
     },
     "fdb16ef2bf2f4df586dc34b238ddb81a": {
      "model_module": "@jupyter-widgets/controls",
      "model_module_version": "1.5.0",
      "model_name": "GridBoxModel",
      "state": {
       "children": [
        "IPY_MODEL_52e4c4d78ece4ecd87dcf852174893a7",
        "IPY_MODEL_f21c818cef9049c7b93a12c30f51e8cc",
        "IPY_MODEL_272809cd72da445daddc284810ead8d8"
       ],
       "layout": "IPY_MODEL_e5b2cfc2f24c4b8fbc9ea0b5cfb10905"
      }
     },
     "fe0dabac47364b46a385a98e2cfa3948": {
      "model_module": "@jupyter-widgets/controls",
      "model_module_version": "1.5.0",
      "model_name": "DescriptionStyleModel",
      "state": {
       "description_width": ""
      }
     },
     "fe2279c61ece4800ad19ad2d59d5f122": {
      "model_module": "@jupyter-widgets/base",
      "model_module_version": "1.2.0",
      "model_name": "LayoutModel",
      "state": {
       "min_width": "auto"
      }
     },
     "fe328fc9d71f4f1ca09bc2ef9d52b49b": {
      "model_module": "@jupyter-widgets/controls",
      "model_module_version": "1.5.0",
      "model_name": "HTMLModel",
      "state": {
       "layout": "IPY_MODEL_3d5755130cf74f1ea77e09769b12505d",
       "style": "IPY_MODEL_a1c771f8103f44c185db6c61aeccb175",
       "value": "<h4>ibmq_manila</h4>"
      }
     },
     "fe5dc0a364ba47938fe4bc05e89036f6": {
      "model_module": "@jupyter-widgets/base",
      "model_module_version": "1.2.0",
      "model_name": "LayoutModel",
      "state": {
       "min_width": "auto"
      }
     },
     "fe9912bfc0f94ee69d49059d8f1c012b": {
      "model_module": "@jupyter-widgets/controls",
      "model_module_version": "1.5.0",
      "model_name": "DescriptionStyleModel",
      "state": {
       "description_width": ""
      }
     },
     "fefbc40ca4da45eeb2228a7e239f8c9d": {
      "model_module": "@jupyter-widgets/base",
      "model_module_version": "1.2.0",
      "model_name": "LayoutModel",
      "state": {
       "width": "70px"
      }
     },
     "ff2def0b74e64aa9adf9cce6fdadc5e0": {
      "model_module": "@jupyter-widgets/controls",
      "model_module_version": "1.5.0",
      "model_name": "DescriptionStyleModel",
      "state": {
       "description_width": ""
      }
     },
     "ff5b416f8e2c42a59464fb24eb72b1d9": {
      "model_module": "@jupyter-widgets/base",
      "model_module_version": "1.2.0",
      "model_name": "LayoutModel",
      "state": {
       "min_width": "auto"
      }
     },
     "ff7f1e60a1c3476ca87514f48909edfc": {
      "model_module": "@jupyter-widgets/base",
      "model_module_version": "1.2.0",
      "model_name": "LayoutModel",
      "state": {
       "min_width": "auto"
      }
     },
     "ff96269a34f44f15a02975a2d3bc91bf": {
      "model_module": "@jupyter-widgets/base",
      "model_module_version": "1.2.0",
      "model_name": "LayoutModel",
      "state": {
       "width": "145px"
      }
     },
     "ff992788371f467bb169ae5e58c35fb2": {
      "model_module": "@jupyter-widgets/base",
      "model_module_version": "1.2.0",
      "model_name": "LayoutModel",
      "state": {
       "min_width": "auto"
      }
     },
     "ffa54154967c440d9092c9b76f0e8cd8": {
      "model_module": "@jupyter-widgets/controls",
      "model_module_version": "1.5.0",
      "model_name": "HTMLModel",
      "state": {
       "layout": "IPY_MODEL_0c6bbe6eb0824c10855da1ca53664f6c",
       "style": "IPY_MODEL_e2cdfec2d8d847218431034f0299c46c",
       "value": "job has successfully run"
      }
     }
    },
    "version_major": 2,
    "version_minor": 0
   }
  }
 },
 "nbformat": 4,
 "nbformat_minor": 4
}
